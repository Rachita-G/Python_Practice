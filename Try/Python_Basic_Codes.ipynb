{
  "cells": [
    {
      "cell_type": "markdown",
      "metadata": {
        "id": "view-in-github",
        "colab_type": "text"
      },
      "source": [
        "<a href=\"https://colab.research.google.com/github/Rachita-G/Python_Practice/blob/main/Try/Python_Basic_Codes.ipynb\" target=\"_parent\"><img src=\"https://colab.research.google.com/assets/colab-badge.svg\" alt=\"Open In Colab\"/></a>"
      ]
    },
    {
      "cell_type": "markdown",
      "source": [
        "# Introduction To Python"
      ],
      "metadata": {
        "id": "doormsJcCv81"
      }
    },
    {
      "cell_type": "markdown",
      "source": [
        "Python is a full fledged programming language that is mostly object oriented but can used in powerful and efficient ways without OOP. It is used in multiple applications including (but not limited to)\n",
        "1. Web Development \n",
        "2. Database access \n",
        "3. Scientific and Numeric computing \n",
        "4. Game Development \n",
        "\n",
        "Python for Data Science has developed rapidly and is now the preferred language of choice for Data Scientists (along with R) the world over because of \n",
        "1. The package system\n",
        "2. The libraries developed for Machine Learning \n",
        "3. Ability to do other tasks apart from Data Science and the convenience in Integration\n",
        "4. Of course - Open Source"
      ],
      "metadata": {
        "id": "ekX9xpvsCr2e"
      }
    },
    {
      "cell_type": "markdown",
      "metadata": {
        "id": "YPHHRmJ5BNBY"
      },
      "source": [
        "# ARTIHMETIC"
      ]
    },
    {
      "cell_type": "code",
      "source": [
        "#Enables multiple outputs from each cell \n",
        "from IPython.core.interactiveshell import InteractiveShell\n",
        "InteractiveShell.ast_node_interactivity = \"all\""
      ],
      "metadata": {
        "id": "qRs2pwm1DQcF"
      },
      "execution_count": null,
      "outputs": []
    },
    {
      "cell_type": "code",
      "execution_count": null,
      "metadata": {
        "colab": {
          "base_uri": "https://localhost:8080/"
        },
        "id": "spnLKe--BNBj",
        "outputId": "98f6220b-3daa-4cf4-cbd7-93aae67c7e98"
      },
      "outputs": [
        {
          "output_type": "execute_result",
          "data": {
            "text/plain": [
              "3.3000000000000003"
            ]
          },
          "metadata": {},
          "execution_count": 7
        }
      ],
      "source": [
        "# order of opertaions is PEMDAS - Parentheses, Exponents, Multiplication/Division, Addition/Subtraction.\n",
        "1.1+2.2"
      ]
    },
    {
      "cell_type": "code",
      "execution_count": null,
      "metadata": {
        "colab": {
          "base_uri": "https://localhost:8080/"
        },
        "id": "PCfcDLpeBNBu",
        "outputId": "1d4fb8b4-9082-47ce-a3d5-82771f57fef0"
      },
      "outputs": [
        {
          "name": "stdout",
          "output_type": "stream",
          "text": [
            "write a number : 23\n"
          ]
        }
      ],
      "source": [
        "x=int(input('write a number : '))"
      ]
    },
    {
      "cell_type": "code",
      "source": [
        "y = input('your name: ')"
      ],
      "metadata": {
        "colab": {
          "base_uri": "https://localhost:8080/"
        },
        "id": "W2m1OTnVHyMk",
        "outputId": "98d124fa-1992-49cb-933e-655caab17c2e"
      },
      "execution_count": null,
      "outputs": [
        {
          "name": "stdout",
          "output_type": "stream",
          "text": [
            "your name: rachita\n"
          ]
        }
      ]
    },
    {
      "cell_type": "code",
      "execution_count": null,
      "metadata": {
        "colab": {
          "base_uri": "https://localhost:8080/",
          "height": 35
        },
        "id": "rGfxTKmrBNBy",
        "outputId": "8521bb6b-0428-4a39-c49b-a80d6c975ba1"
      },
      "outputs": [
        {
          "output_type": "execute_result",
          "data": {
            "application/vnd.google.colaboratory.intrinsic+json": {
              "type": "string"
            },
            "text/plain": [
              "'so..so..so..'"
            ]
          },
          "metadata": {},
          "execution_count": 11
        }
      ],
      "source": [
        "\"so..\" * 3"
      ]
    },
    {
      "cell_type": "code",
      "execution_count": 1,
      "metadata": {
        "colab": {
          "base_uri": "https://localhost:8080/"
        },
        "id": "Xh8FGmNsBNB1",
        "outputId": "8e029521-c97b-4e7f-dafb-90a57a733955"
      },
      "outputs": [
        {
          "output_type": "stream",
          "name": "stdout",
          "text": [
            "2.5\n",
            "2\n",
            "125\n",
            "2\n",
            "7\n",
            "1\n",
            "3\n",
            "3\n",
            "10.0\n"
          ]
        }
      ],
      "source": [
        "print(5/2)\n",
        "print(5//2) # integer value round off\n",
        "print(5**3) #2^3\n",
        "print(5%3) # modulus=- remainder when divided\n",
        "# order of opertaions is PEMDAS - Parentheses, Exponents, Multiplication/Division, Addition/Subtraction.\n",
        "print(8 - 3 + 2)\n",
        "print(7-2*3)\n",
        "print(abs(-3))\n",
        "print(int(3.44))\n",
        "print(float(10))"
      ]
    },
    {
      "cell_type": "code",
      "source": [
        "4 * 3.75 - 1 # Integers are converted to floating point (when mixed operands)"
      ],
      "metadata": {
        "colab": {
          "base_uri": "https://localhost:8080/"
        },
        "id": "9Kdrh3h0IWg-",
        "outputId": "953a6d89-168e-4ce2-abdc-6220a21de845"
      },
      "execution_count": null,
      "outputs": [
        {
          "output_type": "execute_result",
          "data": {
            "text/plain": [
              "14.0"
            ]
          },
          "metadata": {},
          "execution_count": 13
        }
      ]
    },
    {
      "cell_type": "code",
      "execution_count": null,
      "metadata": {
        "id": "wPu5At9EBNB3",
        "outputId": "e0b622a7-df3b-4ebf-b4fb-6a152f674fcd"
      },
      "outputs": [
        {
          "data": {
            "text/plain": [
              "(7, 2)"
            ]
          },
          "execution_count": 1,
          "metadata": {},
          "output_type": "execute_result"
        }
      ],
      "source": [
        "# method of float objects returns a numerator and a denominator in the form of a tuple\n",
        "x=3.5\n",
        "x.as_integer_ratio()"
      ]
    },
    {
      "cell_type": "code",
      "execution_count": null,
      "metadata": {
        "id": "u8GnCYubBNB9",
        "outputId": "b8cf16ee-8fd1-4166-9f14-1e19595a20d9"
      },
      "outputs": [
        {
          "name": "stdout",
          "output_type": "stream",
          "text": [
            "3.5\n"
          ]
        }
      ],
      "source": [
        "num,den=x.as_integer_ratio()\n",
        "print(num/den)"
      ]
    },
    {
      "cell_type": "code",
      "execution_count": null,
      "metadata": {
        "id": "-YST1xZOBNCD",
        "outputId": "46285f53-7d36-4018-bd28-9c7d280b6403"
      },
      "outputs": [
        {
          "name": "stdout",
          "output_type": "stream",
          "text": [
            "1 0\n"
          ]
        }
      ],
      "source": [
        "#swapping two variables!\n",
        "a=0\n",
        "b=1\n",
        "a,b=b,a\n",
        "print(a,b)"
      ]
    },
    {
      "cell_type": "code",
      "execution_count": null,
      "metadata": {
        "id": "nt9MABwUBNCI",
        "outputId": "b9c82b09-413d-4807-cbcc-07e989ab6a36"
      },
      "outputs": [
        {
          "name": "stdout",
          "output_type": "stream",
          "text": [
            "0 1\n"
          ]
        }
      ],
      "source": [
        "# or another method for swapping\n",
        "t=a\n",
        "a=b\n",
        "b=t\n",
        "print(a,b)"
      ]
    },
    {
      "cell_type": "code",
      "execution_count": null,
      "metadata": {
        "colab": {
          "base_uri": "https://localhost:8080/"
        },
        "id": "bkCdkOtmBNCT",
        "outputId": "44d4869f-b583-4fb1-c08d-6c5794bf6923"
      },
      "outputs": [
        {
          "output_type": "stream",
          "name": "stdout",
          "text": [
            "12\n",
            "0\n",
            "12\n",
            "(1+5j)\n",
            "5\n",
            "1.0\n",
            "(1-5j)\n"
          ]
        }
      ],
      "source": [
        "#interlude objects\n",
        "real=12\n",
        "print(real)\n",
        "print(real.imag) # as it is real its imaginary part is 0\n",
        "print(real.real)\n",
        "\n",
        "complex = 1 + 5j # you can use j only, not i\n",
        "print(complex)\n",
        "print(int(complex.imag))\n",
        "print(complex.real)\n",
        "print(complex.conjugate())"
      ]
    },
    {
      "cell_type": "code",
      "execution_count": null,
      "metadata": {
        "id": "IF3SkJxgBNCm",
        "outputId": "da54c0ed-a9f4-4a6e-a496-0add33cac543"
      },
      "outputs": [
        {
          "name": "stdout",
          "output_type": "stream",
          "text": [
            "Help on built-in function bit_length:\n",
            "\n",
            "bit_length() method of builtins.int instance\n",
            "    Number of bits necessary to represent self in binary.\n",
            "    \n",
            "    >>> bin(37)\n",
            "    '0b100101'\n",
            "    >>> (37).bit_length()\n",
            "    6\n",
            "\n",
            "None\n",
            "<built-in method bit_length of int object at 0x00007FFCEEAAA210>\n",
            "3\n"
          ]
        }
      ],
      "source": [
        "x=5\n",
        "print(help(x.bit_length))\n",
        "print(x.bit_length)\n",
        "print(x.bit_length())"
      ]
    },
    {
      "cell_type": "code",
      "execution_count": null,
      "metadata": {
        "id": "ketre5NiBNCo",
        "outputId": "73763849-3c88-41e5-e694-6403c86a8593"
      },
      "outputs": [
        {
          "name": "stdout",
          "output_type": "stream",
          "text": [
            "1<2<3\n"
          ]
        }
      ],
      "source": [
        "print(1,2,3,sep=\"<\")"
      ]
    },
    {
      "cell_type": "code",
      "execution_count": null,
      "metadata": {
        "id": "bBVgUc8nBNC1",
        "outputId": "aa0931de-9014-4093-eadb-cfca5962ff6c"
      },
      "outputs": [
        {
          "data": {
            "text/plain": [
              "2.6"
            ]
          },
          "execution_count": 9,
          "metadata": {},
          "output_type": "execute_result"
        }
      ],
      "source": [
        "round(2.56,1)"
      ]
    },
    {
      "cell_type": "code",
      "execution_count": null,
      "metadata": {
        "id": "M4-q9oHSBNC5",
        "outputId": "10b17ae4-16f1-4967-bbba-63ce0efcdec2"
      },
      "outputs": [
        {
          "data": {
            "text/plain": [
              "110000"
            ]
          },
          "execution_count": 10,
          "metadata": {},
          "output_type": "execute_result"
        }
      ],
      "source": [
        "round(109999,-4) # mainly used in rpunhd off currencies"
      ]
    },
    {
      "cell_type": "markdown",
      "metadata": {
        "id": "233-3Eu-BNDD"
      },
      "source": [
        "# STRINGS"
      ]
    },
    {
      "cell_type": "code",
      "execution_count": null,
      "metadata": {
        "colab": {
          "base_uri": "https://localhost:8080/"
        },
        "id": "XbeMozgWBNDH",
        "outputId": "e21a6f2e-e891-4ae0-c05c-935b67266ab4"
      },
      "outputs": [
        {
          "output_type": "stream",
          "name": "stdout",
          "text": [
            "['e', 'l', 'e', 'p', 'h', 'a', 'n', 't']\n",
            "e a\n",
            "el\n",
            "eehn\n",
            "lpat\n",
            "nt\n",
            "elnt\n"
          ]
        }
      ],
      "source": [
        "a=\"elephant\"\n",
        "print(list(a))\n",
        "print(a[2],a[-3])\n",
        "print(a[:2])\n",
        "print(a[::2])\n",
        "print(a[1::2])\n",
        "print(a[-2:])\n",
        "print(a[:2]+a[-2:])"
      ]
    },
    {
      "cell_type": "code",
      "source": [
        "print(set(a))\n",
        "print(list(a))\n",
        "print(a.split())\n",
        "print(sorted(a))\n",
        "print(list(reversed(a)))"
      ],
      "metadata": {
        "colab": {
          "base_uri": "https://localhost:8080/"
        },
        "id": "2QUkSlCgqlBL",
        "outputId": "24f85fae-1f04-484d-cbd4-c146e8c082bf"
      },
      "execution_count": null,
      "outputs": [
        {
          "output_type": "stream",
          "name": "stdout",
          "text": [
            "{'e', 't', 'l', 'p', 'a', 'h', 'n'}\n",
            "['e', 'l', 'e', 'p', 'h', 'a', 'n', 't']\n",
            "['elephant']\n",
            "['a', 'e', 'e', 'h', 'l', 'n', 'p', 't']\n",
            "['t', 'n', 'a', 'h', 'p', 'e', 'l', 'e']\n"
          ]
        }
      ]
    },
    {
      "cell_type": "code",
      "source": [
        "# s[:i] + s[i:] is always equal to s\n",
        "\n",
        "a[:2] + a[2:]"
      ],
      "metadata": {
        "colab": {
          "base_uri": "https://localhost:8080/",
          "height": 35
        },
        "id": "_jvFzENu5HPu",
        "outputId": "3d3e984b-66bb-4380-fd35-44dd7676f3d2"
      },
      "execution_count": null,
      "outputs": [
        {
          "output_type": "execute_result",
          "data": {
            "application/vnd.google.colaboratory.intrinsic+json": {
              "type": "string"
            },
            "text/plain": [
              "'elephant'"
            ]
          },
          "metadata": {},
          "execution_count": 68
        }
      ]
    },
    {
      "cell_type": "code",
      "source": [
        "# Python strings are immutable. Cannot be changed\n",
        "\n",
        "# word[0] = 'J'  # gives error\n",
        "'J' + a[1:]"
      ],
      "metadata": {
        "colab": {
          "base_uri": "https://localhost:8080/",
          "height": 35
        },
        "id": "QOptb_bY5M3y",
        "outputId": "065a9c00-2612-4569-a5a7-67f28c2fe891"
      },
      "execution_count": null,
      "outputs": [
        {
          "output_type": "execute_result",
          "data": {
            "application/vnd.google.colaboratory.intrinsic+json": {
              "type": "string"
            },
            "text/plain": [
              "'Jlephant'"
            ]
          },
          "metadata": {},
          "execution_count": 73
        }
      ]
    },
    {
      "cell_type": "code",
      "source": [
        "s = 'supercalifragilisticexpialidocious'\n",
        "len(s)"
      ],
      "metadata": {
        "colab": {
          "base_uri": "https://localhost:8080/"
        },
        "id": "HB-Val7k5M8q",
        "outputId": "c29044ce-4a64-4caa-967e-68a464850733"
      },
      "execution_count": null,
      "outputs": [
        {
          "output_type": "execute_result",
          "data": {
            "text/plain": [
              "34"
            ]
          },
          "metadata": {},
          "execution_count": 74
        }
      ]
    },
    {
      "cell_type": "code",
      "source": [
        "'does\\'nt' #escape characters"
      ],
      "metadata": {
        "colab": {
          "base_uri": "https://localhost:8080/",
          "height": 35
        },
        "id": "5pX4NiAPLdr0",
        "outputId": "ec00af2e-87d4-4cd3-9675-058f607535da"
      },
      "execution_count": null,
      "outputs": [
        {
          "output_type": "execute_result",
          "data": {
            "application/vnd.google.colaboratory.intrinsic+json": {
              "type": "string"
            },
            "text/plain": [
              "\"does'nt\""
            ]
          },
          "metadata": {},
          "execution_count": 41
        }
      ]
    },
    {
      "cell_type": "code",
      "source": [
        "a = 'restart'\n",
        "a[0]+a[1:].replace('r','$')"
      ],
      "metadata": {
        "colab": {
          "base_uri": "https://localhost:8080/",
          "height": 35
        },
        "id": "a_tF3aUhMY2l",
        "outputId": "74555d5a-8b87-4559-a2d5-b96d56b0927a"
      },
      "execution_count": null,
      "outputs": [
        {
          "output_type": "execute_result",
          "data": {
            "application/vnd.google.colaboratory.intrinsic+json": {
              "type": "string"
            },
            "text/plain": [
              "'resta$t'"
            ]
          },
          "metadata": {},
          "execution_count": 42
        }
      ]
    },
    {
      "cell_type": "code",
      "execution_count": null,
      "metadata": {
        "colab": {
          "base_uri": "https://localhost:8080/"
        },
        "id": "kBE5ezj-BNDM",
        "outputId": "a854e326-08ba-42ea-bb4f-1a9e6f935479"
      },
      "outputs": [
        {
          "output_type": "execute_result",
          "data": {
            "text/plain": [
              "['hey', 'i', 'am', 'i', 'am', 'you', 'too', 'too', 'you']"
            ]
          },
          "metadata": {},
          "execution_count": 80
        },
        {
          "output_type": "stream",
          "name": "stdout",
          "text": [
            "{'hey', 'i', 'am', 'you', 'too'}\n",
            "/n\n",
            "2\n",
            "<class 'str'>\n",
            "14\n",
            "4\n",
            "11\n",
            "4\n"
          ]
        }
      ],
      "source": [
        "a=\"hey i am i am you too too you\"\n",
        "a.split()\n",
        "print(set(a.split()))\n",
        "print(\"/n\")\n",
        "print(a.count(\"i\"))\n",
        "print(type(a))\n",
        "print(a.find('you'))\n",
        "print(a.index('i')) # first occurence\n",
        "print(a.rfind('a')) # last occurence"
      ]
    },
    {
      "cell_type": "code",
      "source": [
        "# Python strings are immutable. Cannot be changed\n",
        "\n",
        "word = 'rachita'\n",
        "# word[0] = 'J'\n",
        "# word[2:] = 'py'"
      ],
      "metadata": {
        "id": "UWOLyZLjM03C"
      },
      "execution_count": null,
      "outputs": []
    },
    {
      "cell_type": "code",
      "execution_count": null,
      "metadata": {
        "id": "SCQFns9oBNDO",
        "outputId": "50420a48-c9a6-4565-b047-d674eb7a0318"
      },
      "outputs": [
        {
          "name": "stdout",
          "output_type": "stream",
          "text": [
            "hey : 1\n",
            "am : 2\n",
            "i : 2\n",
            "you : 2\n",
            "too : 2\n"
          ]
        }
      ],
      "source": [
        "k={}\n",
        "for i in set(a.split()):\n",
        "    k[i]=a.split().count(i)\n",
        "for item in k:\n",
        "    print(item,':',k[item])"
      ]
    },
    {
      "cell_type": "code",
      "execution_count": null,
      "metadata": {
        "colab": {
          "base_uri": "https://localhost:8080/"
        },
        "id": "BShcY8IdBNDP",
        "outputId": "a6caa517-5b14-45d0-934a-39adc3cbde41"
      },
      "outputs": [
        {
          "output_type": "stream",
          "name": "stdout",
          "text": [
            "False\n",
            "HEY HOW DO YOU HABAH\n",
            "hEY hOW dO yoU HABAH\n"
          ]
        }
      ],
      "source": [
        "str=\"Hey How Do YOu habah\"\n",
        "print(str.isupper())\n",
        "print(str.upper())\n",
        "print(str.swapcase())"
      ]
    },
    {
      "cell_type": "code",
      "source": [
        "print('{name} - One ABI - Make IT Happen - {name}'.format(name=\"Vivek\"))\n",
        "name=\"Vivek\"\n",
        "print(f'{name} - One ABI - Make IT Happen - {name}')"
      ],
      "metadata": {
        "colab": {
          "base_uri": "https://localhost:8080/"
        },
        "id": "Nfsr5VFTPswn",
        "outputId": "bbe26a7a-d60c-45e0-aabe-88eb84772f72"
      },
      "execution_count": null,
      "outputs": [
        {
          "output_type": "stream",
          "name": "stdout",
          "text": [
            "Vivek - One ABI - Make IT Happen - Vivek\n",
            "Vivek - One ABI - Make IT Happen - Vivek\n"
          ]
        }
      ]
    },
    {
      "cell_type": "code",
      "execution_count": null,
      "metadata": {
        "id": "bMRrxu06BNDR",
        "outputId": "1848b192-740e-4ca7-d30d-037e27123bb9"
      },
      "outputs": [
        {
          "name": "stdout",
          "output_type": "stream",
          "text": [
            "5\n"
          ]
        }
      ],
      "source": [
        "count=0\n",
        "for var in x:\n",
        "    if var.isupper()==True:\n",
        "        count=count+1\n",
        "    else:\n",
        "        count=count\n",
        "print(count)"
      ]
    },
    {
      "cell_type": "code",
      "execution_count": null,
      "metadata": {
        "id": "H6PNgO21BNDY",
        "outputId": "e0e401ab-2b53-47ec-8fac-bf709e6656f2"
      },
      "outputs": [
        {
          "name": "stdout",
          "output_type": "stream",
          "text": [
            "2\n"
          ]
        }
      ],
      "source": [
        "vowels=['a','e','i','o','u']\n",
        "count=0\n",
        "for var in x:\n",
        "    if var in vowels:\n",
        "        count=count+1\n",
        "    else:\n",
        "        count=count\n",
        "            \n",
        "print(count) # a and e"
      ]
    },
    {
      "cell_type": "code",
      "execution_count": null,
      "metadata": {
        "id": "-IL5wmXrBNDa",
        "outputId": "229ba00a-610b-4f40-cea6-ce685431ef92"
      },
      "outputs": [
        {
          "data": {
            "text/plain": [
              "\" wrap lot's of other quotes\""
            ]
          },
          "execution_count": 2,
          "metadata": {},
          "output_type": "execute_result"
        }
      ],
      "source": [
        "string=\" wrap lot's of other quotes\"\n",
        "string"
      ]
    },
    {
      "cell_type": "code",
      "execution_count": null,
      "metadata": {
        "id": "Z6smxzY9BNDd",
        "outputId": "e7ee376b-3662-4baa-bdf2-be0875328af8"
      },
      "outputs": [
        {
          "name": "stdout",
          "output_type": "stream",
          "text": [
            "My number is: 12, and my name is: Sam\n",
            "My number is: 13, and my name is: Sam\n"
          ]
        }
      ],
      "source": [
        "num = 12\n",
        "name = 'Sam'\n",
        "print('My number is: {one}, and my name is: {two}'.format(one=num,two=name))\n",
        "print('My number is: {}, and my name is: {}'.format(num,name))"
      ]
    },
    {
      "cell_type": "code",
      "execution_count": null,
      "metadata": {
        "id": "_NqTktvSBNDe",
        "outputId": "11e063cd-2186-4343-b5e3-5f3619473e2f"
      },
      "outputs": [
        {
          "name": "stdout",
          "output_type": "stream",
          "text": [
            "hello my name is sam\n",
            "HELLO MY NAME IS SAM\n",
            "['hello', 'my', 'name', 'is', 'Sam']\n"
          ]
        }
      ],
      "source": [
        "st = 'hello my name is Sam'\n",
        "print(st.lower())\n",
        "print(st.upper())\n",
        "print(st.split())"
      ]
    },
    {
      "cell_type": "code",
      "execution_count": null,
      "metadata": {
        "id": "GuufMXOuBNDg",
        "outputId": "fc3b1446-5d4d-410b-c22e-a06a60243fbe"
      },
      "outputs": [
        {
          "name": "stdout",
          "output_type": "stream",
          "text": [
            "['good morning ', ' chilled ', 'out', ' day']\n",
            " chilled \n"
          ]
        }
      ],
      "source": [
        "tweet= \"good morning # chilled #out# day\"\n",
        "print(tweet.split('#'))\n",
        "print(tweet.split('#')[1])"
      ]
    },
    {
      "cell_type": "code",
      "execution_count": null,
      "metadata": {
        "id": "ik0DR70hBNDg",
        "outputId": "08e2edcc-489b-4ef5-9866-c632e48f9ba6"
      },
      "outputs": [
        {
          "data": {
            "text/plain": [
              "'gmail.com'"
            ]
          },
          "execution_count": 40,
          "metadata": {},
          "output_type": "execute_result"
        }
      ],
      "source": [
        "def domainGet(email):\n",
        "    return email.split('@')[-1]\n",
        "domainGet('rachita@gmail.com')"
      ]
    },
    {
      "cell_type": "code",
      "execution_count": null,
      "metadata": {
        "id": "_W_uFGysBNDh",
        "outputId": "781d12b9-5f11-4b2a-9ba2-2d87293b3de0"
      },
      "outputs": [
        {
          "data": {
            "text/plain": [
              "True"
            ]
          },
          "execution_count": 41,
          "metadata": {},
          "output_type": "execute_result"
        }
      ],
      "source": [
        "def findDog(st):\n",
        "    return 'dog' in st.lower().split()\n",
        "findDog('Is there a dog here?')"
      ]
    },
    {
      "cell_type": "code",
      "execution_count": null,
      "metadata": {
        "id": "cI0ilrsPBNDi",
        "outputId": "4d90a709-9f8c-4f91-aee3-c44a7e268f30"
      },
      "outputs": [
        {
          "data": {
            "text/plain": [
              "2"
            ]
          },
          "execution_count": 43,
          "metadata": {},
          "output_type": "execute_result"
        }
      ],
      "source": [
        "def countDog(st):\n",
        "    count = 0\n",
        "    for word in st.lower().split():\n",
        "        if word == 'dog':\n",
        "            count += 1\n",
        "    return count\n",
        "countDog('This dog runs faster than the other dog dude!')"
      ]
    },
    {
      "cell_type": "markdown",
      "metadata": {
        "id": "ASZQNsCuBNDk"
      },
      "source": [
        "# BOOLEAN"
      ]
    },
    {
      "cell_type": "code",
      "execution_count": null,
      "metadata": {
        "id": "ZyNKHVNnBNDk",
        "outputId": "86537caa-2045-4d5b-f6e7-afcad7e1c0ca"
      },
      "outputs": [
        {
          "name": "stdout",
          "output_type": "stream",
          "text": [
            "False\n",
            "False\n",
            "True\n"
          ]
        }
      ],
      "source": [
        "print(bool())\n",
        "print(bool(0))\n",
        "print(bool(1))"
      ]
    },
    {
      "cell_type": "code",
      "execution_count": null,
      "metadata": {
        "id": "SOOz_LzxBNDn",
        "outputId": "53dcbddf-bf89-47ba-e3d8-9302d0a5a99e"
      },
      "outputs": [
        {
          "name": "stdout",
          "output_type": "stream",
          "text": [
            "<class 'bool'>\n"
          ]
        }
      ],
      "source": [
        "x=True\n",
        "print(type(x))"
      ]
    },
    {
      "cell_type": "code",
      "execution_count": null,
      "metadata": {
        "id": "e8kwAGujBNDo",
        "outputId": "c196f8a1-4a90-40a1-ad4b-598ea8fb6ced"
      },
      "outputs": [
        {
          "name": "stdout",
          "output_type": "stream",
          "text": [
            "True\n",
            "False\n"
          ]
        }
      ],
      "source": [
        "print(True or True and False)\n",
        "print((True or True) and False) # use poarenthesis/"
      ]
    },
    {
      "cell_type": "code",
      "execution_count": null,
      "metadata": {
        "id": "g1Ep28HBBNDp",
        "outputId": "bbb06bc6-7793-4836-9930-83f4d33d7a5a"
      },
      "outputs": [
        {
          "name": "stdout",
          "output_type": "stream",
          "text": [
            "True\n",
            "False\n"
          ]
        }
      ],
      "source": [
        "print(bool(\"asf\")) # all strings are treated as true, except the empty string \"\"\n",
        "print(bool(\"\"))\n",
        "# Generally empty sequences (strings, lists, and other types we've yet to see like lists and tuples)\n",
        "# are \"falsey\" and the rest are \"truthy\""
      ]
    },
    {
      "cell_type": "markdown",
      "metadata": {
        "id": "rN--coTKBNDq"
      },
      "source": [
        "# FUNCTIONS"
      ]
    },
    {
      "cell_type": "code",
      "execution_count": null,
      "metadata": {
        "id": "hBjILz4xBNDs",
        "outputId": "68cc3397-2135-47ec-88e9-0981a000aae0"
      },
      "outputs": [
        {
          "name": "stdout",
          "output_type": "stream",
          "text": [
            "Help on built-in function round in module builtins:\n",
            "\n",
            "round(number, ndigits=None)\n",
            "    Round a number to a given precision in decimal digits.\n",
            "    \n",
            "    The return value is an integer if ndigits is omitted or None.  Otherwise\n",
            "    the return value has the same type as the number.  ndigits may be negative.\n",
            "\n"
          ]
        }
      ],
      "source": [
        "help(round)"
      ]
    },
    {
      "cell_type": "code",
      "execution_count": null,
      "metadata": {
        "id": "50B7m2jKBNDs"
      },
      "outputs": [],
      "source": [
        "def least_difference(a, b, c):\n",
        "    diff1 = abs(a - b)\n",
        "    diff2 = abs(b - c)\n",
        "    diff3 = abs(a - c)\n",
        "    return min(diff1, diff2, diff3)\n",
        "least_difference(1,10,100)"
      ]
    },
    {
      "cell_type": "code",
      "execution_count": null,
      "metadata": {
        "id": "-Wr-jx3zBNDt",
        "outputId": "1fb9090b-1b52-44be-9534-edf6c62833d6"
      },
      "outputs": [
        {
          "ename": "NameError",
          "evalue": "name 'least_difference' is not defined",
          "output_type": "error",
          "traceback": [
            "\u001b[1;31m---------------------------------------------------------------------------\u001b[0m",
            "\u001b[1;31mNameError\u001b[0m                                 Traceback (most recent call last)",
            "\u001b[1;32m<ipython-input-17-28ccf4c64952>\u001b[0m in \u001b[0;36m<module>\u001b[1;34m\u001b[0m\n\u001b[1;32m----> 1\u001b[1;33m \u001b[0mhelp\u001b[0m\u001b[1;33m(\u001b[0m\u001b[0mleast_difference\u001b[0m\u001b[1;33m)\u001b[0m\u001b[1;33m\u001b[0m\u001b[1;33m\u001b[0m\u001b[0m\n\u001b[0m",
            "\u001b[1;31mNameError\u001b[0m: name 'least_difference' is not defined"
          ]
        }
      ],
      "source": [
        "help(least_difference)"
      ]
    },
    {
      "cell_type": "code",
      "execution_count": null,
      "metadata": {
        "id": "wVUBB9rYBNDt",
        "outputId": "fde03c5e-6eaf-417e-f516-6fb525b91cb8"
      },
      "outputs": [
        {
          "name": "stdout",
          "output_type": "stream",
          "text": [
            "Help on function least_difference in module __main__:\n",
            "\n",
            "least_difference(a, b, c)\n",
            "    Return the smallest difference between any two numbers\n",
            "    among a, b and c\n",
            "\n"
          ]
        }
      ],
      "source": [
        "def least_difference(a,b,c):\n",
        "    \"\"\"\n",
        "    Return the smallest difference between any two numbers\n",
        "    among a, b and c \n",
        "    \"\"\"\n",
        "    # this is docstring\n",
        "    diff1 = abs(a - b)\n",
        "    diff2 = abs(b - c)\n",
        "    diff3 = abs(a - c)\n",
        "    return min(diff1, diff2, diff3) # using return is imp beacuse if not used will not return a value when called\n",
        "\n",
        "help(least_difference)"
      ]
    },
    {
      "cell_type": "code",
      "execution_count": null,
      "metadata": {
        "id": "QHpQTGh9BNDu",
        "outputId": "767ee0eb-614d-4faf-82de-12b6f1252b49"
      },
      "outputs": [
        {
          "name": "stdout",
          "output_type": "stream",
          "text": [
            "hello  rachita\n"
          ]
        }
      ],
      "source": [
        "def greet(name=\"rachita\"):\n",
        "    print(\"hello \",name)\n",
        "greet()"
      ]
    },
    {
      "cell_type": "code",
      "execution_count": null,
      "metadata": {
        "id": "z_zaHqBHBNDv",
        "outputId": "b7d7678c-ae67-4613-f3ac-d4c3edf73319"
      },
      "outputs": [
        {
          "name": "stdout",
          "output_type": "stream",
          "text": [
            "hello  sanjana\n"
          ]
        }
      ],
      "source": [
        "greet(\"sanjana\")"
      ]
    },
    {
      "cell_type": "code",
      "execution_count": null,
      "metadata": {
        "id": "OlovjZw9BNDv",
        "outputId": "ec3ef177-94c0-4ee8-ea4d-6e030b6313b0"
      },
      "outputs": [
        {
          "name": "stdout",
          "output_type": "stream",
          "text": [
            "Small Ticket\n",
            "Big Ticket\n"
          ]
        }
      ],
      "source": [
        "def caught_speeding(speed, is_birthday):\n",
        "    \n",
        "    if is_birthday:\n",
        "        speeding = speed - 5\n",
        "    else:\n",
        "        speeding = speed\n",
        "    \n",
        "    if speeding > 80:\n",
        "        return 'Big Ticket'\n",
        "    elif speeding > 60:\n",
        "        return 'Small Ticket'\n",
        "    else:\n",
        "        return 'No Ticket'\n",
        "\n",
        "print(caught_speeding(81,True))\n",
        "print(caught_speeding(81,False))"
      ]
    },
    {
      "cell_type": "markdown",
      "metadata": {
        "id": "Y8Oi26SsBNDw"
      },
      "source": [
        "# MAP AND FILTER"
      ]
    },
    {
      "cell_type": "code",
      "source": [
        "seq=[1,2,3,4,5]\n",
        "list(map(float,seq))"
      ],
      "metadata": {
        "colab": {
          "base_uri": "https://localhost:8080/"
        },
        "id": "w-M-h5dDnGYL",
        "outputId": "9c7ac538-2815-429b-fef3-a13ee5f0b3a8"
      },
      "execution_count": null,
      "outputs": [
        {
          "output_type": "execute_result",
          "data": {
            "text/plain": [
              "[1.0, 2.0, 3.0, 4.0, 5.0]"
            ]
          },
          "metadata": {},
          "execution_count": 21
        }
      ]
    },
    {
      "cell_type": "code",
      "execution_count": null,
      "metadata": {
        "id": "Vquyf5b-BNDw",
        "outputId": "c2ae9001-ddb7-4596-f69c-92c35aeacdf0"
      },
      "outputs": [
        {
          "name": "stdout",
          "output_type": "stream",
          "text": [
            "<map object at 0x000001C073FB3F08>\n",
            "[2, 4, 6, 8, 10]\n"
          ]
        }
      ],
      "source": [
        "seq=[1,2,3,4,5]\n",
        "print(map(lambda x: x*2, seq))\n",
        "print(list(map(lambda x: x*2, seq)))"
      ]
    },
    {
      "cell_type": "code",
      "source": [
        "print(list(map(lambda item: item%2 == 0, seq)))"
      ],
      "metadata": {
        "colab": {
          "base_uri": "https://localhost:8080/"
        },
        "id": "qAiNpZtVnOwk",
        "outputId": "ec98ea94-435e-4993-92cb-d037ca4b857b"
      },
      "execution_count": null,
      "outputs": [
        {
          "output_type": "stream",
          "name": "stdout",
          "text": [
            "[False, True, False, True, False]\n"
          ]
        }
      ]
    },
    {
      "cell_type": "code",
      "execution_count": null,
      "metadata": {
        "id": "x7xt5UZUBNDx",
        "outputId": "04642485-ed94-4806-9023-aa77dc001a17"
      },
      "outputs": [
        {
          "name": "stdout",
          "output_type": "stream",
          "text": [
            "<filter object at 0x000001C073FA21C8>\n",
            "[2, 4]\n"
          ]
        }
      ],
      "source": [
        "# returns where condition is true\n",
        "print(filter(lambda item: item%2 == 0,seq))\n",
        "print(list(filter(lambda item: item%2 == 0,seq)))"
      ]
    },
    {
      "cell_type": "code",
      "execution_count": null,
      "metadata": {
        "colab": {
          "base_uri": "https://localhost:8080/"
        },
        "id": "nHMbLkOABNDx",
        "outputId": "f30d16b4-33a0-4f6c-8dea-1df4f8837101"
      },
      "outputs": [
        {
          "output_type": "execute_result",
          "data": {
            "text/plain": [
              "['soup', 'salad']"
            ]
          },
          "metadata": {},
          "execution_count": 26
        }
      ],
      "source": [
        "seq = ['soup','dog','salad','cat','great']\n",
        "list(filter(lambda word: word[0]=='s',seq))"
      ]
    },
    {
      "cell_type": "code",
      "source": [
        "x= lambda word: word[0]=='s'\n",
        "x(seq)"
      ],
      "metadata": {
        "colab": {
          "base_uri": "https://localhost:8080/"
        },
        "id": "GxsAZDie0_Hq",
        "outputId": "9cf8d67d-ea76-4084-b5fa-5024f81501b1"
      },
      "execution_count": null,
      "outputs": [
        {
          "output_type": "execute_result",
          "data": {
            "text/plain": [
              "False"
            ]
          },
          "metadata": {},
          "execution_count": 32
        }
      ]
    },
    {
      "cell_type": "markdown",
      "metadata": {
        "id": "CYbmSoX9BNDy"
      },
      "source": [
        "# range() function"
      ]
    },
    {
      "cell_type": "code",
      "execution_count": null,
      "metadata": {
        "id": "uTBVBv-LBND3",
        "outputId": "eaac0a7d-120d-4305-d807-bfce31d52dbe"
      },
      "outputs": [
        {
          "name": "stdout",
          "output_type": "stream",
          "text": [
            "10\n",
            "[0, 1, 2, 3, 4, 5, 6, 7]\n",
            "[0, 1, 2, 3, 4, 5, 6, 7, 8, 9]\n",
            "[0, 2, 4, 6, 8]\n",
            "[-10, -30, -50, -70, -90]\n"
          ]
        }
      ],
      "source": [
        "# range\n",
        "print(sum(range(5))) # 4+3+2+1\n",
        "print(list(range(8)))\n",
        "print(list(range(0,10)))\n",
        "print(list(range(0,10,2)))\n",
        "print(list(range(-10,-100,-20)))"
      ]
    },
    {
      "cell_type": "code",
      "execution_count": null,
      "metadata": {
        "id": "bVxe7Jd3BND5",
        "outputId": "8da20db5-74a1-4083-8b5d-fe0e699438ea"
      },
      "outputs": [
        {
          "data": {
            "text/plain": [
              "[4, 3, 2, 1, 0]"
            ]
          },
          "execution_count": 233,
          "metadata": {},
          "output_type": "execute_result"
        }
      ],
      "source": [
        "list(reversed(range(5)))"
      ]
    },
    {
      "cell_type": "code",
      "execution_count": null,
      "metadata": {
        "id": "9Z4eagNuBND5",
        "outputId": "664f4a52-fc08-4710-9105-a5e019b15f90"
      },
      "outputs": [
        {
          "data": {
            "text/plain": [
              "['a', 'b', 'k', 'l']"
            ]
          },
          "execution_count": 234,
          "metadata": {},
          "output_type": "execute_result"
        }
      ],
      "source": [
        "x=['a','l','b','k']\n",
        "sorted(x)"
      ]
    },
    {
      "cell_type": "code",
      "execution_count": null,
      "metadata": {
        "id": "L2-wVrVEBND6",
        "outputId": "35a89cd2-e2c5-4702-ef58-9ddd2e02a9cb"
      },
      "outputs": [
        {
          "name": "stdout",
          "output_type": "stream",
          "text": [
            "a\n",
            "b\n",
            "k\n",
            "l\n"
          ]
        }
      ],
      "source": [
        "for i in sorted(x):\n",
        "    print(i)"
      ]
    },
    {
      "cell_type": "code",
      "execution_count": null,
      "metadata": {
        "id": "b8riBO-kBND7",
        "outputId": "abeefe76-9f22-4e69-8555-bccd1b8e60c8"
      },
      "outputs": [
        {
          "name": "stdout",
          "output_type": "stream",
          "text": [
            "0 a\n",
            "1 l\n",
            "2 b\n",
            "3 k\n"
          ]
        }
      ],
      "source": [
        "x=['a','l','b','k']\n",
        "for i in range(len(x)):\n",
        "    print(i,x[i])  "
      ]
    },
    {
      "cell_type": "code",
      "execution_count": null,
      "metadata": {
        "id": "QvfIVXXtBND8",
        "outputId": "61fd7bec-2e83-43aa-ce64-7ecb5f54d627"
      },
      "outputs": [
        {
          "name": "stdout",
          "output_type": "stream",
          "text": [
            "0 a\n",
            "1 b\n",
            "2 c\n"
          ]
        }
      ],
      "source": [
        "for i, v in enumerate(['a','b','c']):\n",
        "    print(i,v)"
      ]
    },
    {
      "cell_type": "code",
      "execution_count": null,
      "metadata": {
        "id": "llIeQxaTBND9",
        "outputId": "4fe4badc-c520-4834-e671-1541fee5cc15"
      },
      "outputs": [
        {
          "name": "stdout",
          "output_type": "stream",
          "text": [
            "4."
          ]
        }
      ],
      "source": [
        "print(4,end='.')"
      ]
    },
    {
      "cell_type": "markdown",
      "metadata": {
        "id": "fDW8Hi3TBND9"
      },
      "source": [
        "# Loops and Conditional Statements"
      ]
    },
    {
      "cell_type": "code",
      "execution_count": null,
      "metadata": {
        "id": "v6640z3GBND-"
      },
      "outputs": [],
      "source": [
        "# function\n",
        "def func(param1='default'):\n",
        "    \"\"\"\n",
        "    Docstring goes here.\n",
        "    \"\"\"\n",
        "    print(param1)"
      ]
    },
    {
      "cell_type": "code",
      "execution_count": null,
      "metadata": {
        "id": "M1F9ouh4BND-",
        "outputId": "9c025827-48e0-47dd-c324-b75a3537a3fa",
        "colab": {
          "base_uri": "https://localhost:8080/"
        }
      },
      "outputs": [
        {
          "output_type": "stream",
          "name": "stdout",
          "text": [
            "<function func at 0x7f94496567a0>\n",
            "default\n",
            "None\n",
            "2\n",
            "None\n",
            "hey\n",
            "None\n"
          ]
        }
      ],
      "source": [
        "print(func)\n",
        "print(func())\n",
        "print(func(2))\n",
        "print(func(\"hey\"))"
      ]
    },
    {
      "cell_type": "code",
      "execution_count": null,
      "metadata": {
        "id": "jWDWXYaeBND_",
        "outputId": "9d3dc738-5462-4e85-d482-fe21cf5f46e7",
        "colab": {
          "base_uri": "https://localhost:8080/"
        }
      },
      "outputs": [
        {
          "output_type": "stream",
          "name": "stdout",
          "text": [
            "enter an integer:2\n",
            "x is positive\n"
          ]
        }
      ],
      "source": [
        "x=int(input('enter an integer:'))\n",
        "if x>0:\n",
        "    print('x is positive')\n",
        "else:\n",
        "    print('x is negative')"
      ]
    },
    {
      "cell_type": "code",
      "execution_count": null,
      "metadata": {
        "id": "OUy9gNBCBNEA",
        "outputId": "8dfc35d4-d35f-4e36-f782-bda65a9ca23a",
        "colab": {
          "base_uri": "https://localhost:8080/"
        }
      },
      "outputs": [
        {
          "output_type": "stream",
          "name": "stdout",
          "text": [
            "2 is an even number\n",
            "3  is a number\n",
            "4 is an even number\n",
            "5  is a number\n",
            "6 is an even number\n",
            "7  is a number\n",
            "8 is an even number\n",
            "9  is a number\n"
          ]
        }
      ],
      "source": [
        "for num in range(2,10):\n",
        "    if num%2==0:\n",
        "        print(num, 'is an even number')\n",
        "        continue\n",
        "    print(num, ' is a number')"
      ]
    },
    {
      "cell_type": "code",
      "execution_count": null,
      "metadata": {
        "id": "5zitzlaXBNEA",
        "outputId": "731d7234-7c9d-480d-fddd-77cbf42b7ac4",
        "colab": {
          "base_uri": "https://localhost:8080/"
        }
      },
      "outputs": [
        {
          "output_type": "stream",
          "name": "stdout",
          "text": [
            "2 is a prime number\n",
            "3 is a prime number\n",
            "4 equals 2 * 2\n",
            "5 is a prime number\n",
            "6 equals 2 * 3\n",
            "7 is a prime number\n",
            "8 equals 2 * 4\n",
            "9 equals 3 * 3\n"
          ]
        }
      ],
      "source": [
        "for n in range(2,10):\n",
        "    for x in range(2,n):\n",
        "        if n%x==0:\n",
        "            print(n, 'equals', x ,'*', n//x)\n",
        "            break\n",
        "    else:\n",
        "        print(n , 'is a prime number')"
      ]
    },
    {
      "cell_type": "code",
      "execution_count": null,
      "metadata": {
        "id": "Sz15h9tvBNEB",
        "outputId": "fb48d457-3256-491d-cd2d-79604572f106",
        "colab": {
          "base_uri": "https://localhost:8080/"
        }
      },
      "outputs": [
        {
          "output_type": "stream",
          "name": "stdout",
          "text": [
            "prime\n",
            "prime\n",
            "prime\n",
            "prime\n",
            "prime\n"
          ]
        }
      ],
      "source": [
        "#checking the prime numbers-- check divisibility by each numner except one and itself\n",
        "n=7\n",
        "for i in range(2,n):\n",
        "    if n%i==0:\n",
        "        print(\"not prime\")\n",
        "    else:\n",
        "        print(\"prime\")"
      ]
    },
    {
      "cell_type": "code",
      "execution_count": null,
      "metadata": {
        "id": "iw48dpqJBNEC",
        "outputId": "56f7bbbf-0256-402e-e6cf-f3c49c073992",
        "colab": {
          "base_uri": "https://localhost:8080/"
        }
      },
      "outputs": [
        {
          "output_type": "stream",
          "name": "stdout",
          "text": [
            "not prime\n"
          ]
        }
      ],
      "source": [
        "#print onvce only\n",
        "#checking the prime numbers-- check divisibility by each numner except one and itself\n",
        "n=10\n",
        "for i in range(2,n):\n",
        "    if n%i==0:\n",
        "        print(\"not prime\")\n",
        "        break\n",
        "else:\n",
        "        print(\"prime\")"
      ]
    },
    {
      "cell_type": "code",
      "execution_count": null,
      "metadata": {
        "id": "D5t_qqgWBNEE",
        "outputId": "07210e98-26f0-4e6d-b58c-303e9cdff7b4",
        "colab": {
          "base_uri": "https://localhost:8080/"
        }
      },
      "outputs": [
        {
          "output_type": "stream",
          "name": "stdout",
          "text": [
            "array('i', [1, 2, 3, 4])\n"
          ]
        }
      ],
      "source": [
        "import array as a\n",
        "v=a.array('i',[1,2,3,4])\n",
        "print(v)"
      ]
    },
    {
      "cell_type": "code",
      "execution_count": null,
      "metadata": {
        "id": "ObX_B_y5BNEH",
        "outputId": "d38ccd32-94b2-43aa-876c-d83d3be792b0",
        "colab": {
          "base_uri": "https://localhost:8080/"
        }
      },
      "outputs": [
        {
          "output_type": "stream",
          "name": "stdout",
          "text": [
            "enter the value of array2\n",
            "enter number1\n",
            "enter number2\n",
            "array('i', [1, 2])\n"
          ]
        }
      ],
      "source": [
        "ar=a.array('i',[])\n",
        "n=int(input(\"enter the value of array\"))\n",
        "for e in range(n):\n",
        "    x=int(input(\"enter number\"))\n",
        "    ar.append(x)\n",
        "    \n",
        "print(ar)"
      ]
    },
    {
      "cell_type": "code",
      "execution_count": null,
      "metadata": {
        "id": "xfHMQT0JBNEJ",
        "outputId": "307305b8-c086-449a-9fa2-35ebf5046798",
        "colab": {
          "base_uri": "https://localhost:8080/"
        }
      },
      "outputs": [
        {
          "output_type": "stream",
          "name": "stdout",
          "text": [
            "enter the value of array2\n",
            "enter number4\n",
            "enter number5\n",
            "array('i', [4, 5])\n",
            "enter the value to search4\n",
            "0\n"
          ]
        }
      ],
      "source": [
        "ar=a.array('i',[])\n",
        "n=int(input(\"enter the value of array \" ))\n",
        "for e in range(n):\n",
        "    x=int(input(\"enter number \"))\n",
        "    ar.append(x)\n",
        "    \n",
        "print(ar)\n",
        "val=int(input(\"enter the value to search \"))\n",
        "k=0\n",
        "for i in ar:\n",
        "    if val==i:\n",
        "        print(k)\n",
        "    k+=1;"
      ]
    },
    {
      "cell_type": "code",
      "execution_count": null,
      "metadata": {
        "id": "vI0HNU6wBNEM",
        "outputId": "5f1df4d8-af6d-4526-86aa-ec611c98d35c",
        "colab": {
          "base_uri": "https://localhost:8080/"
        }
      },
      "outputs": [
        {
          "output_type": "stream",
          "name": "stdout",
          "text": [
            "enter the value of array4\n",
            "enter number5\n",
            "enter number6\n",
            "enter number3\n",
            "enter number7\n",
            "array('i', [5, 6, 3, 7])\n",
            "enter the value to search3\n",
            "2\n"
          ]
        }
      ],
      "source": [
        "ar=a.array('i',[])\n",
        "n=int(input(\"enter the value of array\"))\n",
        "for e in range(n):\n",
        "    x=int(input(\"enter number\"))\n",
        "    ar.append(x)\n",
        "    \n",
        "print(ar)\n",
        "val=int(input(\"enter the value to searc5h\"))\n",
        "print(ar.index(val))"
      ]
    },
    {
      "cell_type": "code",
      "execution_count": null,
      "metadata": {
        "id": "qhJ1UIaWBNEN",
        "outputId": "911030bc-8bb7-44cf-f1b3-ca0009610ec5",
        "colab": {
          "base_uri": "https://localhost:8080/"
        }
      },
      "outputs": [
        {
          "output_type": "stream",
          "name": "stdout",
          "text": [
            "1\n",
            "2\n",
            "4\n",
            "5\n"
          ]
        }
      ],
      "source": [
        "b=a.array('i',[1,2,3,4,5])\n",
        "for i in b:\n",
        "    if i==b[2]:\n",
        "        continue #skip\n",
        "    print(i)"
      ]
    },
    {
      "cell_type": "code",
      "execution_count": null,
      "metadata": {
        "id": "gXW6SL0DBNEO"
      },
      "outputs": [],
      "source": [
        "def sum(*b):\n",
        "    c=0\n",
        "    for i in b:\n",
        "        c=c+i\n",
        "    print(c)"
      ]
    },
    {
      "cell_type": "code",
      "execution_count": null,
      "metadata": {
        "id": "yUG1tdytBNEP",
        "outputId": "92a3bc02-bbda-48d5-ef3b-4edf9c5a2381",
        "colab": {
          "base_uri": "https://localhost:8080/"
        }
      },
      "outputs": [
        {
          "output_type": "stream",
          "name": "stdout",
          "text": [
            "10\n"
          ]
        }
      ],
      "source": [
        "sum(1,2,3,4)"
      ]
    },
    {
      "cell_type": "code",
      "execution_count": null,
      "metadata": {
        "id": "OPgV-73ABNEP",
        "outputId": "ee78d4be-c912-405b-9d0b-ba9eef187c4f",
        "colab": {
          "base_uri": "https://localhost:8080/"
        }
      },
      "outputs": [
        {
          "output_type": "stream",
          "name": "stdout",
          "text": [
            "enter the value of n 7\n",
            "5040\n"
          ]
        }
      ],
      "source": [
        "#factorial\n",
        "n=int(input(\"enter the value of n \"))\n",
        "def fact(x):\n",
        "    f=1\n",
        "    for i in range(1,n+1):\n",
        "        f=f*i\n",
        "    print(f)\n",
        "fact(n)"
      ]
    },
    {
      "cell_type": "code",
      "source": [
        "num=int(input(\"Enter the number: \"))\n",
        "def fact(num):\n",
        "    if num==0:\n",
        "        return 1\n",
        "    elif num>0:\n",
        "        return num*fact(num-1)\n",
        "    else:\n",
        "        return \"Invalid Number Entered\"\n",
        "fact(num)"
      ],
      "metadata": {
        "colab": {
          "base_uri": "https://localhost:8080/"
        },
        "id": "NOSh6WSxveba",
        "outputId": "fce5f93c-e4f7-49b3-ead4-74186960b06b"
      },
      "execution_count": null,
      "outputs": [
        {
          "name": "stdout",
          "output_type": "stream",
          "text": [
            "Enter the number: 5\n"
          ]
        },
        {
          "output_type": "execute_result",
          "data": {
            "text/plain": [
              "120"
            ]
          },
          "metadata": {},
          "execution_count": 47
        }
      ]
    },
    {
      "cell_type": "code",
      "execution_count": null,
      "metadata": {
        "id": "qePwYCDdBNEQ",
        "outputId": "80988cf1-60fc-4743-f083-78c38ea44471",
        "colab": {
          "base_uri": "https://localhost:8080/"
        }
      },
      "outputs": [
        {
          "output_type": "stream",
          "name": "stdout",
          "text": [
            "entr the number of finconacci series8\n",
            "0\n",
            "1\n",
            "1\n",
            "2\n",
            "3\n",
            "5\n",
            "8\n",
            "13\n"
          ]
        }
      ],
      "source": [
        "#fibonacci\n",
        "n=int(input(\"entr the number of finconacci series\"))\n",
        "def fib(x):\n",
        "    x=0\n",
        "    y=1\n",
        "    print(x)\n",
        "    print(y)\n",
        "    for i in range(2,n):\n",
        "        z=x+y\n",
        "        x=y\n",
        "        y=z\n",
        "        print(z)\n",
        "fib(n)"
      ]
    },
    {
      "cell_type": "code",
      "execution_count": null,
      "metadata": {
        "id": "en-IHonuBNER"
      },
      "outputs": [],
      "source": [
        "#fibonacci series\n",
        "def fib(n):\n",
        "    \"\"\"fibonacci series\"\"\"\n",
        "    l=[]\n",
        "    a,b=0,1\n",
        "    while a<n:\n",
        "        l.append(a)\n",
        "        a,b=b,a+b\n",
        "    print(l)"
      ]
    },
    {
      "cell_type": "code",
      "execution_count": null,
      "metadata": {
        "id": "xvcAd2_KBNER",
        "outputId": "82a1c0f2-2fb8-4e24-9241-b78d25ac1e94",
        "colab": {
          "base_uri": "https://localhost:8080/"
        }
      },
      "outputs": [
        {
          "output_type": "stream",
          "name": "stdout",
          "text": [
            "[0, 1, 1, 2, 3, 5, 8]\n"
          ]
        }
      ],
      "source": [
        "fib(10)"
      ]
    },
    {
      "cell_type": "code",
      "execution_count": null,
      "metadata": {
        "id": "Er03lyYoBNES",
        "outputId": "bc84f966-ab18-477b-a651-e43b3e8b4fa1",
        "colab": {
          "base_uri": "https://localhost:8080/"
        }
      },
      "outputs": [
        {
          "output_type": "stream",
          "name": "stdout",
          "text": [
            "Help on function fib in module __main__:\n",
            "\n",
            "fib(n)\n",
            "    fibonacci series\n",
            "\n"
          ]
        }
      ],
      "source": [
        "help(fib)"
      ]
    },
    {
      "cell_type": "code",
      "execution_count": null,
      "metadata": {
        "id": "w8wJ5a7cBNET",
        "outputId": "9e5aa4b5-08b6-45d0-e63d-e256c0130ea7",
        "colab": {
          "base_uri": "https://localhost:8080/"
        }
      },
      "outputs": [
        {
          "output_type": "stream",
          "name": "stdout",
          "text": [
            "[0, 1, 1, 2, 3, 5, 8]\n",
            "None\n"
          ]
        }
      ],
      "source": [
        "f=fib\n",
        "print(f(10))"
      ]
    },
    {
      "cell_type": "code",
      "execution_count": null,
      "metadata": {
        "id": "Jti8YIxkBNET",
        "outputId": "53c8a771-2741-4a63-ead9-e71f833b6572",
        "colab": {
          "base_uri": "https://localhost:8080/"
        }
      },
      "outputs": [
        {
          "output_type": "stream",
          "name": "stdout",
          "text": [
            "# # # # \n",
            "\n",
            "# # # # \n",
            "\n",
            "# # # # \n",
            "\n",
            "# # # # \n",
            "\n"
          ]
        }
      ],
      "source": [
        "for i in range(4):\n",
        "    for j in range(4):\n",
        "        print(\"#\",end=\" \")\n",
        "    print('\\n')"
      ]
    },
    {
      "cell_type": "code",
      "source": [
        "for i in range(4):\n",
        "    for j in range(i):\n",
        "        print(\"#\",end=\" \")\n",
        "    print('\\n')"
      ],
      "metadata": {
        "colab": {
          "base_uri": "https://localhost:8080/"
        },
        "id": "TTSQ7YxtqgTT",
        "outputId": "e2ba3cd9-cec5-4120-b52b-c055102a60e7"
      },
      "execution_count": null,
      "outputs": [
        {
          "output_type": "stream",
          "name": "stdout",
          "text": [
            "\n",
            "\n",
            "# \n",
            "\n",
            "# # \n",
            "\n",
            "# # # \n",
            "\n"
          ]
        }
      ]
    },
    {
      "cell_type": "code",
      "execution_count": null,
      "metadata": {
        "id": "O5t-1X5uBNEV"
      },
      "outputs": [],
      "source": [
        "l=[]\n",
        "def series(n):\n",
        "    i=1\n",
        "    while i <= n:\n",
        "        l.append(i)\n",
        "        i+=1\n",
        "        print(l)"
      ]
    },
    {
      "cell_type": "code",
      "execution_count": null,
      "metadata": {
        "id": "zO4rdQn7BNEX",
        "outputId": "503a6223-50c0-4a9c-8b7a-a05d1c014020",
        "colab": {
          "base_uri": "https://localhost:8080/"
        }
      },
      "outputs": [
        {
          "output_type": "stream",
          "name": "stdout",
          "text": [
            "[1]\n",
            "[1, 2]\n",
            "[1, 2, 3]\n",
            "[1, 2, 3, 4]\n",
            "[1, 2, 3, 4, 5]\n",
            "[1, 2, 3, 4, 5, 6]\n",
            "[1, 2, 3, 4, 5, 6, 7]\n",
            "[1, 2, 3, 4, 5, 6, 7, 8]\n",
            "[1, 2, 3, 4, 5, 6, 7, 8, 9]\n",
            "[1, 2, 3, 4, 5, 6, 7, 8, 9, 10]\n"
          ]
        }
      ],
      "source": [
        "series(10)"
      ]
    },
    {
      "cell_type": "code",
      "execution_count": null,
      "metadata": {
        "id": "HXELOtDtBNEY",
        "outputId": "08442a4e-3815-4580-ee17-2ceb34a2760c",
        "colab": {
          "base_uri": "https://localhost:8080/"
        }
      },
      "outputs": [
        {
          "output_type": "stream",
          "name": "stdout",
          "text": [
            "1 2 3 4  \n",
            "2 3 4  \n",
            "3 4  \n",
            "4  \n"
          ]
        }
      ],
      "source": [
        "for i in range(1,5):\n",
        "    for j in range(i,5):\n",
        "        print(j,end=\" \")\n",
        "    print(\" \")"
      ]
    },
    {
      "cell_type": "code",
      "execution_count": null,
      "metadata": {
        "id": "fZlQbD7_BNEY",
        "outputId": "ca016052-24d6-4ce1-9395-bd0f7ae87388",
        "colab": {
          "base_uri": "https://localhost:8080/"
        }
      },
      "outputs": [
        {
          "output_type": "stream",
          "name": "stdout",
          "text": [
            "1  \n",
            "1 2  \n",
            "1 2 3  \n",
            "1 2 3 4  \n"
          ]
        }
      ],
      "source": [
        "for i in range(1,5):\n",
        "    for j in range(1,i+1):\n",
        "        print(j,end=\" \")\n",
        "    print(\" \")"
      ]
    },
    {
      "cell_type": "code",
      "execution_count": null,
      "metadata": {
        "id": "pppZ0IbuBNEZ",
        "outputId": "c18a0f14-28a2-42f0-97ed-f38c603bf6bf",
        "colab": {
          "base_uri": "https://localhost:8080/"
        }
      },
      "outputs": [
        {
          "output_type": "stream",
          "name": "stdout",
          "text": [
            "l  \n",
            "l l  \n",
            "l l l  \n"
          ]
        }
      ],
      "source": [
        "for i in range(1,4):\n",
        "    for j in range(i):\n",
        "        print(\"l\",end=\" \")\n",
        "    print(' ')"
      ]
    },
    {
      "cell_type": "code",
      "execution_count": null,
      "metadata": {
        "id": "uvXNpP9ZBNEa",
        "outputId": "5c3cadd6-c1d3-4a57-ad35-2548a10ed864",
        "colab": {
          "base_uri": "https://localhost:8080/"
        }
      },
      "outputs": [
        {
          "output_type": "stream",
          "name": "stdout",
          "text": [
            "\n",
            "*\n",
            "**\n",
            "***\n",
            "****\n",
            "*****\n",
            "******\n",
            "*******\n",
            "********\n",
            "*********\n",
            "**********\n"
          ]
        }
      ],
      "source": [
        "def series(n):\n",
        "    i=0\n",
        "    while i <= n:\n",
        "        print('*'*i)\n",
        "        i+=1\n",
        "        \n",
        "series(10)"
      ]
    },
    {
      "cell_type": "code",
      "execution_count": null,
      "metadata": {
        "id": "xT21qW53BNEb"
      },
      "outputs": [],
      "source": [
        "def funct(kind, *arguments,**keywords):\n",
        "    print('first arg is ', kind)\n",
        "    print('this is fixed value constant - see::', kind)\n",
        "    print('-'*30)\n",
        "    print('arguments: ', '\\n\\n')\n",
        "    for arg in arguments: \n",
        "        print(arg)\n",
        "    print('-'*30)\n",
        "    print('keywords: ', '\\n\\n')\n",
        "    for kw in keywords:\n",
        "        print(kw , ':' ,keywords[kw])"
      ]
    },
    {
      "cell_type": "code",
      "execution_count": null,
      "metadata": {
        "id": "Xfy07WbkBNEc",
        "outputId": "601d0b42-a5d2-46ad-d0a7-c41307b57992",
        "colab": {
          "base_uri": "https://localhost:8080/"
        }
      },
      "outputs": [
        {
          "output_type": "stream",
          "name": "stdout",
          "text": [
            "first arg is  bubble\n",
            "this is fixed value constant - see:: bubble\n",
            "------------------------------\n",
            "arguments:  \n",
            "\n",
            "\n",
            "arg1\n",
            "arg2\n",
            "------------------------------\n",
            "keywords:  \n",
            "\n",
            "\n",
            "kw1 : key1\n",
            "kw2 : key2\n"
          ]
        }
      ],
      "source": [
        "funct('bubble', 'arg1','arg2',kw1='key1',kw2='key2')"
      ]
    },
    {
      "cell_type": "code",
      "execution_count": null,
      "metadata": {
        "id": "OMKxRoT2BNEd",
        "outputId": "9ce50d1f-bb81-4c0a-daa6-10d40e33941a",
        "colab": {
          "base_uri": "https://localhost:8080/"
        }
      },
      "outputs": [
        {
          "output_type": "execute_result",
          "data": {
            "text/plain": [
              "['2002',\n",
              " '2009',\n",
              " '2016',\n",
              " '2023',\n",
              " '2037',\n",
              " '2044',\n",
              " '2051',\n",
              " '2058',\n",
              " '2072',\n",
              " '2079',\n",
              " '2086',\n",
              " '2093',\n",
              " '2107',\n",
              " '2114',\n",
              " '2121',\n",
              " '2128',\n",
              " '2142',\n",
              " '2149',\n",
              " '2156',\n",
              " '2163',\n",
              " '2177',\n",
              " '2184',\n",
              " '2191',\n",
              " '2198',\n",
              " '2212',\n",
              " '2219',\n",
              " '2226',\n",
              " '2233',\n",
              " '2247',\n",
              " '2254',\n",
              " '2261',\n",
              " '2268',\n",
              " '2282',\n",
              " '2289',\n",
              " '2296',\n",
              " '2303',\n",
              " '2317',\n",
              " '2324',\n",
              " '2331',\n",
              " '2338',\n",
              " '2352',\n",
              " '2359',\n",
              " '2366',\n",
              " '2373',\n",
              " '2387',\n",
              " '2394',\n",
              " '2401',\n",
              " '2408',\n",
              " '2422',\n",
              " '2429',\n",
              " '2436',\n",
              " '2443',\n",
              " '2457',\n",
              " '2464',\n",
              " '2471',\n",
              " '2478',\n",
              " '2492',\n",
              " '2499',\n",
              " '2506',\n",
              " '2513',\n",
              " '2527',\n",
              " '2534',\n",
              " '2541',\n",
              " '2548',\n",
              " '2562',\n",
              " '2569',\n",
              " '2576',\n",
              " '2583',\n",
              " '2597',\n",
              " '2604',\n",
              " '2611',\n",
              " '2618',\n",
              " '2632',\n",
              " '2639',\n",
              " '2646',\n",
              " '2653',\n",
              " '2667',\n",
              " '2674',\n",
              " '2681',\n",
              " '2688',\n",
              " '2702',\n",
              " '2709',\n",
              " '2716',\n",
              " '2723',\n",
              " '2737',\n",
              " '2744',\n",
              " '2751',\n",
              " '2758',\n",
              " '2772',\n",
              " '2779',\n",
              " '2786',\n",
              " '2793',\n",
              " '2807',\n",
              " '2814',\n",
              " '2821',\n",
              " '2828',\n",
              " '2842',\n",
              " '2849',\n",
              " '2856',\n",
              " '2863',\n",
              " '2877',\n",
              " '2884',\n",
              " '2891',\n",
              " '2898',\n",
              " '2912',\n",
              " '2919',\n",
              " '2926',\n",
              " '2933',\n",
              " '2947',\n",
              " '2954',\n",
              " '2961',\n",
              " '2968',\n",
              " '2982',\n",
              " '2989',\n",
              " '2996',\n",
              " '3003',\n",
              " '3017',\n",
              " '3024',\n",
              " '3031',\n",
              " '3038',\n",
              " '3052',\n",
              " '3059',\n",
              " '3066',\n",
              " '3073',\n",
              " '3087',\n",
              " '3094',\n",
              " '3101',\n",
              " '3108',\n",
              " '3122',\n",
              " '3129',\n",
              " '3136',\n",
              " '3143',\n",
              " '3157',\n",
              " '3164',\n",
              " '3171',\n",
              " '3178',\n",
              " '3192',\n",
              " '3199']"
            ]
          },
          "metadata": {},
          "execution_count": 66
        }
      ],
      "source": [
        "l=[]\n",
        "for i in range(2000,3201):\n",
        "    if (i%7==0) and (i%5!=0):\n",
        "        l.append(str(i))\n",
        "l"
      ]
    },
    {
      "cell_type": "code",
      "source": [],
      "metadata": {
        "id": "FUM_HjBWsNOD"
      },
      "execution_count": null,
      "outputs": []
    },
    {
      "cell_type": "code",
      "source": [],
      "metadata": {
        "id": "e3l2kKHjsNQ6"
      },
      "execution_count": null,
      "outputs": []
    },
    {
      "cell_type": "code",
      "execution_count": null,
      "metadata": {
        "id": "SiDoAE6pBNEe"
      },
      "outputs": [],
      "source": [
        "def fact(n):\n",
        "    if n==0:\n",
        "        return 1\n",
        "    else:\n",
        "        return n*fact(n-1)"
      ]
    },
    {
      "cell_type": "code",
      "execution_count": null,
      "metadata": {
        "id": "Koac1GxmBNEe",
        "outputId": "b405b09b-1dad-42fa-b064-0d016c04e2eb",
        "colab": {
          "base_uri": "https://localhost:8080/"
        }
      },
      "outputs": [
        {
          "output_type": "execute_result",
          "data": {
            "text/plain": [
              "40320"
            ]
          },
          "metadata": {},
          "execution_count": 68
        }
      ],
      "source": [
        "fact(8)"
      ]
    },
    {
      "cell_type": "code",
      "execution_count": null,
      "metadata": {
        "id": "mdQm0xbRBNEf",
        "outputId": "93b1bc4d-4952-4ed7-cc89-8b08e5ca80aa",
        "colab": {
          "base_uri": "https://localhost:8080/"
        }
      },
      "outputs": [
        {
          "output_type": "execute_result",
          "data": {
            "text/plain": [
              "{'k': '9'}"
            ]
          },
          "metadata": {},
          "execution_count": 69
        }
      ],
      "source": [
        "i=dict({'k':'9'})\n",
        "i"
      ]
    },
    {
      "cell_type": "code",
      "execution_count": null,
      "metadata": {
        "id": "HFAiLV4WBNEg"
      },
      "outputs": [],
      "source": [
        "d=dict()\n",
        "def squares(n):\n",
        "    for i in range(1,n+1):\n",
        "        d[i]=i*i\n",
        "    print(d)"
      ]
    },
    {
      "cell_type": "code",
      "execution_count": null,
      "metadata": {
        "id": "f87f6lv7BNEg",
        "outputId": "449a37c3-8ff9-47dd-8b50-610735893273",
        "colab": {
          "base_uri": "https://localhost:8080/"
        }
      },
      "outputs": [
        {
          "output_type": "stream",
          "name": "stdout",
          "text": [
            "{1: 1, 2: 4, 3: 9, 4: 16, 5: 25, 6: 36, 7: 49, 8: 64}\n"
          ]
        }
      ],
      "source": [
        "squares(8)"
      ]
    },
    {
      "cell_type": "code",
      "execution_count": null,
      "metadata": {
        "id": "vme-ovG-BNEg"
      },
      "outputs": [],
      "source": [
        "def list_tup(values):\n",
        "    l=values.split(\",\")\n",
        "    print(l)"
      ]
    },
    {
      "cell_type": "code",
      "source": [
        "# Python function that takes a list of words and returns the length of the longest one.\n",
        "l1= [\"PHP\", \"Exercises\", \"Backend\"]\n",
        "for x in l1:\n",
        "    if len(x)==(max(len(a) for a in l1)):\n",
        "        print(x)"
      ],
      "metadata": {
        "colab": {
          "base_uri": "https://localhost:8080/"
        },
        "id": "8YRDlk0WsPLB",
        "outputId": "3cbac3bb-5fce-4487-e038-652d488c694d"
      },
      "execution_count": null,
      "outputs": [
        {
          "output_type": "stream",
          "name": "stdout",
          "text": [
            "Exercises\n"
          ]
        }
      ]
    },
    {
      "cell_type": "code",
      "source": [
        "# Python program to remove the characters which have odd index values of a given string.\n",
        "z=[x for x in list(\"python\") if list(\"python\").index(x)%2==0]\n",
        "\"\".join(z)"
      ],
      "metadata": {
        "colab": {
          "base_uri": "https://localhost:8080/",
          "height": 35
        },
        "id": "6PkGEDVtsPUx",
        "outputId": "6299dd7d-672e-4494-e0d3-079e0583fe5f"
      },
      "execution_count": null,
      "outputs": [
        {
          "output_type": "execute_result",
          "data": {
            "application/vnd.google.colaboratory.intrinsic+json": {
              "type": "string"
            },
            "text/plain": [
              "'pto'"
            ]
          },
          "metadata": {},
          "execution_count": 82
        }
      ]
    },
    {
      "cell_type": "code",
      "source": [],
      "metadata": {
        "id": "XS3MU_TnsPXs"
      },
      "execution_count": null,
      "outputs": []
    },
    {
      "cell_type": "markdown",
      "metadata": {
        "id": "xiTrcQHYBNEh"
      },
      "source": [
        "# Lambda Expressions\n",
        "\n",
        "lambda arguments: expression\n",
        "\n",
        "It can have any number of arguments but one expression only. and doesnot have any return function"
      ]
    },
    {
      "cell_type": "code",
      "execution_count": null,
      "metadata": {
        "id": "Nhg0meQqBNEh",
        "outputId": "ffbc1033-04f7-4e32-8961-feba31e722c8",
        "colab": {
          "base_uri": "https://localhost:8080/"
        }
      },
      "outputs": [
        {
          "output_type": "execute_result",
          "data": {
            "text/plain": [
              "25"
            ]
          },
          "metadata": {},
          "execution_count": 73
        }
      ],
      "source": [
        "l=lambda x: x**2\n",
        "l(5)"
      ]
    },
    {
      "cell_type": "code",
      "execution_count": null,
      "metadata": {
        "id": "3fT3ENqyBNEi",
        "outputId": "ec2f8eda-bd47-4cd2-cb8a-5cb5f13a18a8",
        "colab": {
          "base_uri": "https://localhost:8080/"
        }
      },
      "outputs": [
        {
          "output_type": "execute_result",
          "data": {
            "text/plain": [
              "25"
            ]
          },
          "metadata": {},
          "execution_count": 74
        }
      ],
      "source": [
        "def square(x):\n",
        "    return x**2\n",
        "square(5)"
      ]
    },
    {
      "cell_type": "code",
      "execution_count": null,
      "metadata": {
        "id": "GpsPwwQZBNEk",
        "outputId": "06bb6cc1-f818-4d55-a4df-2f8529c50631",
        "colab": {
          "base_uri": "https://localhost:8080/"
        }
      },
      "outputs": [
        {
          "output_type": "execute_result",
          "data": {
            "text/plain": [
              "[67, 99, 43]"
            ]
          },
          "metadata": {},
          "execution_count": 75
        }
      ],
      "source": [
        "x=[22,34,56,67,99,12,43]\n",
        "l=[]\n",
        "for i in x:\n",
        "    if i%2!=0:\n",
        "        l.append(i)\n",
        "l"
      ]
    },
    {
      "cell_type": "code",
      "execution_count": null,
      "metadata": {
        "id": "At1MIYLXBNEl",
        "outputId": "39b2c994-0be3-409e-971f-4d1f8e7d9b64",
        "colab": {
          "base_uri": "https://localhost:8080/"
        }
      },
      "outputs": [
        {
          "output_type": "execute_result",
          "data": {
            "text/plain": [
              "[67, 99, 43]"
            ]
          },
          "metadata": {},
          "execution_count": 76
        }
      ],
      "source": [
        "list(filter(lambda x : (x%2!=0),x))"
      ]
    },
    {
      "cell_type": "code",
      "execution_count": null,
      "metadata": {
        "id": "Q4CZwxPfBNEn",
        "outputId": "fc354f11-a72b-49c7-f81a-d5b1534a1377",
        "colab": {
          "base_uri": "https://localhost:8080/"
        }
      },
      "outputs": [
        {
          "output_type": "execute_result",
          "data": {
            "text/plain": [
              "[44, 68, 112, 134, 198, 24, 86]"
            ]
          },
          "metadata": {},
          "execution_count": 77
        }
      ],
      "source": [
        "x=[22,34,56,67,99,12,43]\n",
        "l=[]\n",
        "for i in x:\n",
        "    l.append(i*2)\n",
        "    \n",
        "l"
      ]
    },
    {
      "cell_type": "code",
      "execution_count": null,
      "metadata": {
        "id": "M-H-8kTvBNEq",
        "outputId": "825e0959-ebb7-4add-d3ae-57c1f9dce015",
        "colab": {
          "base_uri": "https://localhost:8080/"
        }
      },
      "outputs": [
        {
          "output_type": "execute_result",
          "data": {
            "text/plain": [
              "[44, 68, 112, 134, 198, 24, 86]"
            ]
          },
          "metadata": {},
          "execution_count": 78
        }
      ],
      "source": [
        "list(map(lambda x : x*2,x))"
      ]
    },
    {
      "cell_type": "code",
      "execution_count": null,
      "metadata": {
        "id": "N0j4ec6vBNEr",
        "outputId": "b7066172-299c-4c67-bd98-ce1f1a7a27b1",
        "colab": {
          "base_uri": "https://localhost:8080/"
        }
      },
      "outputs": [
        {
          "output_type": "execute_result",
          "data": {
            "text/plain": [
              "[44, 68, 112, 134, 198, 24, 86]"
            ]
          },
          "metadata": {},
          "execution_count": 79
        }
      ],
      "source": [
        "x=[22,34,56,67,99,12,43]\n",
        "[i*2 for i in x]"
      ]
    },
    {
      "cell_type": "code",
      "execution_count": null,
      "metadata": {
        "id": "3WBMcFL0BNEs",
        "outputId": "204d4395-c7f1-4061-eb3a-a4c1e825cdac",
        "colab": {
          "base_uri": "https://localhost:8080/"
        }
      },
      "outputs": [
        {
          "output_type": "execute_result",
          "data": {
            "text/plain": [
              "21"
            ]
          },
          "metadata": {},
          "execution_count": 80
        }
      ],
      "source": [
        "from functools import reduce\n",
        "li=[10,4,3,1,3]\n",
        "reduce((lambda x,y :x+y),li) # repeated operation over the pairs- like fibonacci its is giving the last sum"
      ]
    },
    {
      "cell_type": "markdown",
      "metadata": {
        "id": "ZCorRVguBNEs"
      },
      "source": [
        "# LISTS"
      ]
    },
    {
      "cell_type": "code",
      "source": [
        "#Enables multiple outputs from each cell \n",
        "from IPython.core.interactiveshell import InteractiveShell\n",
        "InteractiveShell.ast_node_interactivity = \"all\""
      ],
      "metadata": {
        "id": "P_jGnTWk2_RU"
      },
      "execution_count": null,
      "outputs": []
    },
    {
      "cell_type": "code",
      "source": [
        "x=['a','g','b','d','e','l','k']\n",
        "x.sort()\n",
        "print(x)\n",
        "x.reverse()\n",
        "print(x)\n",
        "sorted(x)"
      ],
      "metadata": {
        "colab": {
          "base_uri": "https://localhost:8080/"
        },
        "id": "axdW7dz3w5b4",
        "outputId": "8dd6645c-6f75-4a41-98cb-34ca6a13587c"
      },
      "execution_count": null,
      "outputs": [
        {
          "output_type": "stream",
          "name": "stdout",
          "text": [
            "['a', 'b', 'd', 'e', 'g', 'k', 'l']\n",
            "['l', 'k', 'g', 'e', 'd', 'b', 'a']\n"
          ]
        },
        {
          "output_type": "execute_result",
          "data": {
            "text/plain": [
              "['a', 'b', 'd', 'e', 'g', 'k', 'l']"
            ]
          },
          "metadata": {},
          "execution_count": 8
        }
      ]
    },
    {
      "cell_type": "code",
      "source": [
        "l1=['a', 2,'x', 3,4]\n",
        "print(l1.pop())\n",
        "print(l1)\n",
        "l1.append('r')\n",
        "print(l1)\n",
        "l1.extend([6,7])\n",
        "print(l1)\n",
        "l1.append([6,7])\n",
        "print(l1)\n",
        "print(l1.index([6,7]))\n",
        "print(l1.count(2))"
      ],
      "metadata": {
        "colab": {
          "base_uri": "https://localhost:8080/"
        },
        "id": "aWkrqgas22V6",
        "outputId": "fc2c1ed4-4d70-4f7d-bde8-a846da43df54"
      },
      "execution_count": null,
      "outputs": [
        {
          "output_type": "stream",
          "name": "stdout",
          "text": [
            "4\n",
            "['a', 2, 'x', 3]\n",
            "['a', 2, 'x', 3, 'r']\n",
            "['a', 2, 'x', 3, 'r', 6, 7]\n",
            "['a', 2, 'x', 3, 'r', 6, 7, [6, 7]]\n",
            "7\n",
            "1\n"
          ]
        }
      ]
    },
    {
      "cell_type": "code",
      "execution_count": null,
      "metadata": {
        "colab": {
          "base_uri": "https://localhost:8080/"
        },
        "id": "cAWqTJGcBNEt",
        "outputId": "1603e56f-7db9-46f5-a5ec-72a542e33447"
      },
      "outputs": [
        {
          "output_type": "stream",
          "name": "stdout",
          "text": [
            "['rach', 24, True, 'hey', 90, False, 'hey']\n",
            "hey\n"
          ]
        }
      ],
      "source": [
        "list1=['rach',24,True,'hey',90,False,'hey']\n",
        "print(list1)\n",
        "print(list1[3])"
      ]
    },
    {
      "cell_type": "code",
      "source": [
        "list1[-3:-2]"
      ],
      "metadata": {
        "colab": {
          "base_uri": "https://localhost:8080/"
        },
        "id": "4eBjCb7xxTdM",
        "outputId": "6fe26b89-c510-4cf4-c0f9-86fb654b7cbe"
      },
      "execution_count": null,
      "outputs": [
        {
          "output_type": "execute_result",
          "data": {
            "text/plain": [
              "[90]"
            ]
          },
          "metadata": {},
          "execution_count": 7
        }
      ]
    },
    {
      "cell_type": "code",
      "execution_count": null,
      "metadata": {
        "id": "ZLxSuUtFBNEt",
        "outputId": "87b49396-5731-4d78-d890-0fb9ceb4b3ab"
      },
      "outputs": [
        {
          "name": "stdout",
          "output_type": "stream",
          "text": [
            "['rach', 24, True, 'hey', 90, False, 'hey']\n",
            "[24, True]\n",
            "['hey']\n",
            "['rach', 24, True, 'hey', 90, False]\n",
            "['rach', 24]\n",
            "['rach', True, 90, 'hey']\n"
          ]
        }
      ],
      "source": [
        "#slicing\n",
        "print(list1[:]) # all\n",
        "print(list1[1:3]) # except 3rd from 1st\n",
        "print(list1[-1:]) # counting from end.. give 1st elt\n",
        "print(list1[:-1]) # except the last one.\n",
        "print(list1[:2]) # first 2\n",
        "print(list1[::2]) # skipping every 2nd one . step value=2"
      ]
    },
    {
      "cell_type": "code",
      "execution_count": null,
      "metadata": {
        "id": "Fjlhdy-cBNEu",
        "outputId": "647ae7e7-6476-42c3-e7df-5413a3bb1116"
      },
      "outputs": [
        {
          "name": "stdout",
          "output_type": "stream",
          "text": [
            "2\n",
            "3\n",
            "6\n"
          ]
        }
      ],
      "source": [
        "print(list1.count('hey'))\n",
        "print(list1.index('hey'))\n",
        "print(list1.index('hey',5)) # count from 5th position"
      ]
    },
    {
      "cell_type": "code",
      "execution_count": null,
      "metadata": {
        "id": "lWl0Gi7RBNEv",
        "outputId": "23f276e8-0c82-41cb-c67b-98fe830e352d"
      },
      "outputs": [
        {
          "name": "stdout",
          "output_type": "stream",
          "text": [
            "['rach', 24, True, 'hey', 90, False, 'hey']\n",
            "['hey', False, 90, 'hey', True, 24, 'rach']\n"
          ]
        }
      ],
      "source": [
        "print(list1)\n",
        "list1.reverse()\n",
        "print(list1)"
      ]
    },
    {
      "cell_type": "code",
      "execution_count": null,
      "metadata": {
        "id": "MaT0AhjvBNE3",
        "outputId": "d0aa0d2f-51ce-43a3-fc25-a53b7dcfd78b"
      },
      "outputs": [
        {
          "name": "stdout",
          "output_type": "stream",
          "text": [
            "['hey', False, 90, 'hey', True, 24, 'rach', 56565]\n"
          ]
        }
      ],
      "source": [
        "list1.append(56565)\n",
        "print(list1)"
      ]
    },
    {
      "cell_type": "code",
      "execution_count": null,
      "metadata": {
        "id": "GLRfvVK8BNE4",
        "outputId": "585e8dfd-fa8a-45cc-e902-c4c3c4c4ae0a"
      },
      "outputs": [
        {
          "data": {
            "text/plain": [
              "['hey', False, 90, 'hey', True, 24, 'rach', 56565, 32, 'ktkt', 65, True]"
            ]
          },
          "execution_count": 343,
          "metadata": {},
          "output_type": "execute_result"
        }
      ],
      "source": [
        "list1.extend([32,'ktkt',65,True])\n",
        "list1"
      ]
    },
    {
      "cell_type": "code",
      "execution_count": null,
      "metadata": {
        "id": "em8dxwX_BNE5",
        "outputId": "1e23f727-107e-4d26-ecb5-b6211a2fc228"
      },
      "outputs": [
        {
          "data": {
            "text/plain": [
              "['hey', True, False, 90, 'hey', True, 24, 'rach', 56565, 32, 'ktkt', 65, True]"
            ]
          },
          "execution_count": 344,
          "metadata": {},
          "output_type": "execute_result"
        }
      ],
      "source": [
        "list1.insert(1,True)\n",
        "list1"
      ]
    },
    {
      "cell_type": "code",
      "execution_count": null,
      "metadata": {
        "id": "xhgHvKhcBNE6",
        "outputId": "246257b2-084c-408d-a8dd-4cf7ce7379cc"
      },
      "outputs": [
        {
          "data": {
            "text/plain": [
              "['hey', True, False, 'hey', True, 24, 'rach', 56565, 32, 'ktkt', 65, True]"
            ]
          },
          "execution_count": 346,
          "metadata": {},
          "output_type": "execute_result"
        }
      ],
      "source": [
        "list1.pop(3) # removes 3rd element in list\n",
        "list1"
      ]
    },
    {
      "cell_type": "code",
      "execution_count": null,
      "metadata": {
        "id": "PHb5PcZqBNE7",
        "outputId": "f85e4a08-8169-47f8-cd12-74ffa0e5b218"
      },
      "outputs": [
        {
          "data": {
            "text/plain": [
              "[]"
            ]
          },
          "execution_count": 334,
          "metadata": {},
          "output_type": "execute_result"
        }
      ],
      "source": [
        "list1.clear()\n",
        "list1"
      ]
    },
    {
      "cell_type": "code",
      "execution_count": null,
      "metadata": {
        "id": "7B3lgFI3BNE8",
        "outputId": "ee3832e6-5388-4d06-931a-4747648bae50"
      },
      "outputs": [
        {
          "data": {
            "text/plain": [
              "[23,\n",
              " 'h',\n",
              " Type help() for interactive help, or help(object) for help about object.,\n",
              " False,\n",
              " list]"
            ]
          },
          "execution_count": 28,
          "metadata": {},
          "output_type": "execute_result"
        }
      ],
      "source": [
        "l=[23,\"h\",help,bool(),type(list1)] # can contain different types of variables\n",
        "l"
      ]
    },
    {
      "cell_type": "code",
      "execution_count": null,
      "metadata": {
        "id": "K1wSsCpJBNE8",
        "outputId": "87a7d1b9-aac9-421c-bf2c-24b391e66728"
      },
      "outputs": [
        {
          "name": "stdout",
          "output_type": "stream",
          "text": [
            "target\n"
          ]
        }
      ],
      "source": [
        "nest = [1,2,3,[4,5,['target']]]\n",
        "print(nest[3][2][0])"
      ]
    },
    {
      "cell_type": "code",
      "execution_count": null,
      "metadata": {
        "id": "UTI6shzSBNE9",
        "outputId": "cc582d5d-54ef-4556-ab58-573ae7f1aadd"
      },
      "outputs": [
        {
          "name": "stdout",
          "output_type": "stream",
          "text": [
            "[3, 5, True]\n",
            "True\n",
            "[1, 3, 'j']\n",
            "['j']\n"
          ]
        }
      ],
      "source": [
        "# list of lists can be obtained and used as follows:\n",
        "list_of_lists=[[1,3,\"j\"],[3,5,True]]\n",
        "print(list_of_lists[1])\n",
        "print(list_of_lists[1][2])\n",
        "print(list_of_lists[0][:])\n",
        "print(list_of_lists[0][-1:])"
      ]
    },
    {
      "cell_type": "code",
      "execution_count": null,
      "metadata": {
        "id": "TZPbxuHyBNE9",
        "outputId": "3ad6db3a-6599-4074-f449-2d2424e1e812"
      },
      "outputs": [
        {
          "name": "stdout",
          "output_type": "stream",
          "text": [
            "['mercury', 'venus', 'Earth', 'mars', 'jupiter']\n",
            "['mercury', 'venus']\n",
            "['m', 'v', 'Earth', 'mars', 'jupiter']\n"
          ]
        }
      ],
      "source": [
        "# lists are mutable\n",
        "planets=[\"mercury\",\"venus\",\"earth\",\"mars\",\"jupiter\"]\n",
        "planets[2]=\"Earth\"\n",
        "print(planets)\n",
        "print(planets[:2])\n",
        "planets[:2]=[\"m\",\"v\"]\n",
        "print(planets)"
      ]
    },
    {
      "cell_type": "code",
      "execution_count": null,
      "metadata": {
        "id": "d8tS57BYBNE-",
        "outputId": "2cfc0a5c-ee3e-4096-cfc8-8d7ef7bee3c6"
      },
      "outputs": [
        {
          "name": "stdout",
          "output_type": "stream",
          "text": [
            "['m', 'v', 'Earth', 'mars', 'jupiter']\n",
            "5\n",
            "['Earth', 'jupiter', 'm', 'mars', 'v']\n"
          ]
        }
      ],
      "source": [
        "# some built in functions for lists\n",
        "print(planets)\n",
        "print(len(planets))\n",
        "print(sorted(planets))"
      ]
    },
    {
      "cell_type": "code",
      "execution_count": null,
      "metadata": {
        "id": "lsTAu5e4BNE-",
        "outputId": "ecf3f987-defb-467c-878b-18bfd31a7dea"
      },
      "outputs": [
        {
          "name": "stdout",
          "output_type": "stream",
          "text": [
            "[1, 2, 3]\n",
            "6\n",
            "3\n",
            "1\n"
          ]
        }
      ],
      "source": [
        "# some others\n",
        "a=[1,2,3]\n",
        "print(a)\n",
        "print(sum(a))\n",
        "print(max(a))\n",
        "print(min(a))"
      ]
    },
    {
      "cell_type": "code",
      "execution_count": null,
      "metadata": {
        "id": "yr9g7zATBNE_",
        "outputId": "edb62de7-ba6b-41d1-b43f-936367f50c90"
      },
      "outputs": [
        {
          "name": "stdout",
          "output_type": "stream",
          "text": [
            "[5, 6, 7] [1, 2, 3]\n"
          ]
        }
      ],
      "source": [
        "a=[1,2,3]\n",
        "b=[5,6,7]\n",
        "a,b=b,a\n",
        "print(a,b)"
      ]
    },
    {
      "cell_type": "code",
      "execution_count": null,
      "metadata": {
        "id": "EWqkBOQ7BNFA",
        "outputId": "90a99a64-df4c-4ea4-fdab-5f9982314a9c"
      },
      "outputs": [
        {
          "data": {
            "text/plain": [
              "['apple', 'banana', 'orange']"
            ]
          },
          "execution_count": 311,
          "metadata": {},
          "output_type": "execute_result"
        }
      ],
      "source": [
        "fruits=['orange', 'banana', 'apple']\n",
        "fruits.sort()\n",
        "fruits"
      ]
    },
    {
      "cell_type": "code",
      "execution_count": null,
      "metadata": {
        "id": "tfnvZCzfBNFB",
        "outputId": "ab6f7e93-ff26-424b-b47b-09c06f01823f"
      },
      "outputs": [
        {
          "data": {
            "text/plain": [
              "'orange'"
            ]
          },
          "execution_count": 312,
          "metadata": {},
          "output_type": "execute_result"
        }
      ],
      "source": [
        "fruits.pop() #last one"
      ]
    },
    {
      "cell_type": "code",
      "execution_count": null,
      "metadata": {
        "id": "eX6YescUBNFG",
        "outputId": "5444153e-c720-4d5f-da4f-7b4a2d8f6d48"
      },
      "outputs": [
        {
          "data": {
            "text/plain": [
              "['apple', 'banana']"
            ]
          },
          "execution_count": 313,
          "metadata": {},
          "output_type": "execute_result"
        }
      ],
      "source": [
        "fruits # gone"
      ]
    },
    {
      "cell_type": "code",
      "execution_count": null,
      "metadata": {
        "id": "U8MoYqkGBNFM",
        "outputId": "e429ef63-ea68-4cc7-b06d-6bb4cd7f0868"
      },
      "outputs": [
        {
          "data": {
            "text/plain": [
              "deque(['sanj', 'mom', 'dad', 'sev'])"
            ]
          },
          "execution_count": 317,
          "metadata": {},
          "output_type": "execute_result"
        }
      ],
      "source": [
        "# Lists as Queues\n",
        "from collections import deque\n",
        "queue=deque(['rach','sanj','mom','dad'])\n",
        "queue.append('sev')\n",
        "queue.append('avi')\n",
        "queue.popleft()\n",
        "queue.pop()\n",
        "queue"
      ]
    },
    {
      "cell_type": "code",
      "execution_count": null,
      "metadata": {
        "id": "Fs0rudB5BNFN",
        "outputId": "d2341402-960a-464a-9ab4-1fcfe7a641cc"
      },
      "outputs": [
        {
          "data": {
            "text/plain": [
              "[(1, 3), (1, 4), (2, 3), (2, 1), (2, 4), (3, 1), (3, 4)]"
            ]
          },
          "execution_count": 318,
          "metadata": {},
          "output_type": "execute_result"
        }
      ],
      "source": [
        "[(x, y) for x in [1,2,3] for y in [3,1,4] if x != y]"
      ]
    },
    {
      "cell_type": "code",
      "execution_count": null,
      "metadata": {
        "id": "dQhOp0hNBNFO",
        "outputId": "55a2a012-fb95-495c-f061-44e0c3079a19"
      },
      "outputs": [
        {
          "data": {
            "text/plain": [
              "[(1, 3), (1, 4), (2, 3), (2, 1), (2, 4), (3, 1), (3, 4)]"
            ]
          },
          "execution_count": 321,
          "metadata": {},
          "output_type": "execute_result"
        }
      ],
      "source": [
        "c=[]\n",
        "for x in [1,2,3]:\n",
        "    for y in [3,1,4]:\n",
        "        if x!=y:\n",
        "            c.append((x,y))\n",
        "c\n",
        "#Note how the order of the for and if statements is the same in both these snippets."
      ]
    },
    {
      "cell_type": "code",
      "execution_count": null,
      "metadata": {
        "id": "k8qdUhNKBNFP",
        "outputId": "6c99e570-1ba8-4fbc-c86b-f64d20a94c97"
      },
      "outputs": [
        {
          "name": "stdout",
          "output_type": "stream",
          "text": [
            "[1, 2, 3]\n"
          ]
        }
      ],
      "source": [
        "vec=[-1,-4,-5,0,1,2,3]\n",
        "print([x for x in vec if x>0])\n",
        "print([abs(x) for x in vec])\n"
      ]
    },
    {
      "cell_type": "code",
      "execution_count": null,
      "metadata": {
        "id": "mxQt5FbEBNFR",
        "outputId": "efc13b03-b1c5-4814-9128-2688a17bcf08"
      },
      "outputs": [
        {
          "name": "stdout",
          "output_type": "stream",
          "text": [
            "['i', 'am', 'good']\n"
          ]
        }
      ],
      "source": [
        "vec=[' i','am ', 'good ']\n",
        "print([word.strip() for word in vec])"
      ]
    },
    {
      "cell_type": "code",
      "execution_count": null,
      "metadata": {
        "id": "55IIq-VNBNFS",
        "outputId": "f2916143-375d-4f16-add0-1041ae72ea0d"
      },
      "outputs": [
        {
          "data": {
            "text/plain": [
              "[(1, 1), (2, 4), (3, 9), (4, 16), (5, 25), (6, 36), (7, 49), (8, 64), (9, 81)]"
            ]
          },
          "execution_count": 326,
          "metadata": {},
          "output_type": "execute_result"
        }
      ],
      "source": [
        "[(i,i**2) for i in range(1,10)]"
      ]
    },
    {
      "cell_type": "code",
      "execution_count": null,
      "metadata": {
        "id": "4CgHlp4xBNFT",
        "outputId": "6c21f751-a79e-4df6-fb93-0a5849780b2c"
      },
      "outputs": [
        {
          "data": {
            "text/plain": [
              "[1, 2, 3, 4, 5, 6, 7, 8, 9]"
            ]
          },
          "execution_count": 327,
          "metadata": {},
          "output_type": "execute_result"
        }
      ],
      "source": [
        "vec = [[1,2,3], [4,5,6], [7,8,9]]\n",
        "[num for elem in vec for num in elem]"
      ]
    },
    {
      "cell_type": "code",
      "execution_count": null,
      "metadata": {
        "id": "5eYwfXlFBNFU",
        "outputId": "ef2a6355-2fc4-4b97-f239-33d0cf3a74f8"
      },
      "outputs": [
        {
          "data": {
            "text/plain": [
              "['3.0', '3.1', '3.14', '3.142', '3.1416', '3.14159', '3.141593', '3.1415927']"
            ]
          },
          "execution_count": 328,
          "metadata": {},
          "output_type": "execute_result"
        }
      ],
      "source": [
        "from math import pi\n",
        "[str(round(pi,i)) for i in range(8)]"
      ]
    },
    {
      "cell_type": "code",
      "execution_count": null,
      "metadata": {
        "id": "-a1tU48WBNFV",
        "outputId": "a2f60c67-f309-4807-f147-403ed219b89e"
      },
      "outputs": [
        {
          "data": {
            "text/plain": [
              "[[1, 4, 7], [2, 5, 8], [3, 6, 9]]"
            ]
          },
          "execution_count": 332,
          "metadata": {},
          "output_type": "execute_result"
        }
      ],
      "source": [
        "matrix=[[1,2,3],\n",
        "       [4,5,6],[7,8,9]]\n",
        "[[row[i] for row in matrix] for i in range(3)]"
      ]
    },
    {
      "cell_type": "code",
      "execution_count": null,
      "metadata": {
        "id": "jtB6mEtIBNFX",
        "outputId": "1c30559a-593a-4dc3-9764-a6d5340da187"
      },
      "outputs": [
        {
          "data": {
            "text/plain": [
              "[(1, 4, 7), (2, 5, 8), (3, 6, 9)]"
            ]
          },
          "execution_count": 333,
          "metadata": {},
          "output_type": "execute_result"
        }
      ],
      "source": [
        "list(zip(*matrix))"
      ]
    },
    {
      "cell_type": "code",
      "execution_count": null,
      "metadata": {
        "colab": {
          "base_uri": "https://localhost:8080/"
        },
        "id": "VXtt1MfgBNFX",
        "outputId": "6cdb767f-5687-447d-dbfe-fabd552264cf"
      },
      "outputs": [
        {
          "output_type": "stream",
          "name": "stdout",
          "text": [
            "['motor', 'home-building', 'liability', 'Workerscomp', 'motor']\n",
            "4\n",
            "motor\n",
            "motor\n",
            "['home-building', 'liability', 'Workerscomp']\n"
          ]
        }
      ],
      "source": []
    },
    {
      "cell_type": "markdown",
      "metadata": {
        "id": "41A_dgFZBNFZ"
      },
      "source": [
        "# TUPLES \n",
        "\n",
        "* Tuples are sequence data types like lists\n",
        "* They are immutable \n",
        "* They just consists of values separated by commas\n",
        "* Whereas a list (usually) consists of homogenous data type elements, tuples are (usually) used to store heterogenous data types "
      ]
    },
    {
      "cell_type": "code",
      "execution_count": null,
      "metadata": {
        "colab": {
          "base_uri": "https://localhost:8080/"
        },
        "id": "uEIijxtKBNFb",
        "outputId": "5fbaa76e-d307-4731-88df-353c845e59b6"
      },
      "outputs": [
        {
          "output_type": "stream",
          "name": "stdout",
          "text": [
            "(0, 'rach', True)\n",
            "True\n"
          ]
        }
      ],
      "source": [
        "t=0,'rach',True\n",
        "print(t)\n",
        "print(t[2])"
      ]
    },
    {
      "cell_type": "code",
      "execution_count": null,
      "metadata": {
        "colab": {
          "base_uri": "https://localhost:8080/",
          "height": 166
        },
        "id": "ALjlharcBNFc",
        "outputId": "273c2c07-5427-46ee-b898-f1e6cca6bdfb"
      },
      "outputs": [
        {
          "output_type": "error",
          "ename": "TypeError",
          "evalue": "ignored",
          "traceback": [
            "\u001b[0;31m---------------------------------------------------------------------------\u001b[0m",
            "\u001b[0;31mTypeError\u001b[0m                                 Traceback (most recent call last)",
            "\u001b[0;32m<ipython-input-18-1f0b4793a45b>\u001b[0m in \u001b[0;36m<module>\u001b[0;34m()\u001b[0m\n\u001b[0;32m----> 1\u001b[0;31m \u001b[0mt\u001b[0m\u001b[0;34m[\u001b[0m\u001b[0;36m2\u001b[0m\u001b[0;34m]\u001b[0m\u001b[0;34m=\u001b[0m\u001b[0;36m22\u001b[0m \u001b[0;31m# immutable\u001b[0m\u001b[0;34m\u001b[0m\u001b[0;34m\u001b[0m\u001b[0m\n\u001b[0m",
            "\u001b[0;31mTypeError\u001b[0m: 'tuple' object does not support item assignment"
          ]
        }
      ],
      "source": [
        "t[2]=22 # immutable"
      ]
    },
    {
      "cell_type": "code",
      "execution_count": null,
      "metadata": {
        "colab": {
          "base_uri": "https://localhost:8080/"
        },
        "id": "lul2qCKOBNFd",
        "outputId": "6beb271b-3d02-4634-c673-3fea2fa0e6e8"
      },
      "outputs": [
        {
          "output_type": "stream",
          "name": "stdout",
          "text": [
            "((0, 'rach', True), (1, 2, 3))\n"
          ]
        }
      ],
      "source": [
        "u=t,(1,2,3)\n",
        "print(u)"
      ]
    },
    {
      "cell_type": "code",
      "execution_count": null,
      "metadata": {
        "colab": {
          "base_uri": "https://localhost:8080/"
        },
        "id": "5yO970naBNFe",
        "outputId": "3f4a7eee-6866-46ad-c80d-874283815d2d"
      },
      "outputs": [
        {
          "output_type": "execute_result",
          "data": {
            "text/plain": [
              "('hehe',)"
            ]
          },
          "metadata": {},
          "execution_count": 20
        }
      ],
      "source": [
        "single='hehe',\n",
        "single"
      ]
    },
    {
      "cell_type": "code",
      "execution_count": null,
      "metadata": {
        "colab": {
          "base_uri": "https://localhost:8080/"
        },
        "id": "qRTDcm0UBNFf",
        "outputId": "cb87f777-a5ce-4ade-c7e1-6389f846e5a3"
      },
      "outputs": [
        {
          "output_type": "stream",
          "name": "stdout",
          "text": [
            "(0, 'rach', True)\n",
            "0 True rach\n"
          ]
        }
      ],
      "source": [
        "print(t)\n",
        "x,y,z=t\n",
        "print(x,z,y)"
      ]
    },
    {
      "cell_type": "code",
      "source": [
        "v = ([1, 2, 3], [3, 2, 1])\n",
        "v[0][1]"
      ],
      "metadata": {
        "colab": {
          "base_uri": "https://localhost:8080/"
        },
        "id": "MFC10YBD6USR",
        "outputId": "48b035a9-32bd-4682-d825-749b8d3f87c7"
      },
      "execution_count": null,
      "outputs": [
        {
          "output_type": "execute_result",
          "data": {
            "text/plain": [
              "2"
            ]
          },
          "metadata": {},
          "execution_count": 81
        }
      ]
    },
    {
      "cell_type": "markdown",
      "metadata": {
        "id": "MPCXZA1gBNFg"
      },
      "source": [
        "# SETS"
      ]
    },
    {
      "cell_type": "code",
      "execution_count": null,
      "metadata": {
        "id": "mZ5RLmhrBNFh",
        "outputId": "bca99b49-f975-4a5b-8306-e551c1798056",
        "colab": {
          "base_uri": "https://localhost:8080/"
        }
      },
      "outputs": [
        {
          "output_type": "execute_result",
          "data": {
            "text/plain": [
              "{3, 'a', 'k', 'l', 'm'}"
            ]
          },
          "metadata": {},
          "execution_count": 6
        }
      ],
      "source": [
        "set1={'a','l','m','k',3,'a','k'}\n",
        "set1 # duplicates removed"
      ]
    },
    {
      "cell_type": "code",
      "source": [
        "set1.add((1,2,3))\n",
        "set1.update((2,3))\n",
        "set1"
      ],
      "metadata": {
        "colab": {
          "base_uri": "https://localhost:8080/"
        },
        "id": "OlldWv7QxGjY",
        "outputId": "a907f850-a3f7-403b-b343-5f9f4a6a1594"
      },
      "execution_count": null,
      "outputs": [
        {
          "output_type": "execute_result",
          "data": {
            "text/plain": [
              "{(1, 2, 3), 2, 3, 'a', 'k', 'l', 'm'}"
            ]
          },
          "metadata": {},
          "execution_count": 10
        }
      ]
    },
    {
      "cell_type": "code",
      "execution_count": null,
      "metadata": {
        "id": "Dof_F_paBNFk",
        "outputId": "a7069aef-3917-44ad-baf0-e6d7ad3f3ca5",
        "colab": {
          "base_uri": "https://localhost:8080/"
        }
      },
      "outputs": [
        {
          "output_type": "execute_result",
          "data": {
            "text/plain": [
              "{'a', 'k', 'l', 'm'}"
            ]
          },
          "metadata": {},
          "execution_count": 9
        }
      ],
      "source": [
        "set2=set(['a','k','m','l','l','k'])\n",
        "set2"
      ]
    },
    {
      "cell_type": "code",
      "execution_count": null,
      "metadata": {
        "id": "igChMYExBNFl",
        "outputId": "ec484b57-04ad-4381-eff8-b7ed23dfcbf5",
        "colab": {
          "base_uri": "https://localhost:8080/"
        }
      },
      "outputs": [
        {
          "output_type": "execute_result",
          "data": {
            "text/plain": [
              "True"
            ]
          },
          "metadata": {},
          "execution_count": 10
        }
      ],
      "source": [
        "'a' in set1"
      ]
    },
    {
      "cell_type": "code",
      "execution_count": null,
      "metadata": {
        "id": "TS8VIelDBNFl",
        "outputId": "ed0bff59-4ea2-4665-ca28-0d133704138d",
        "colab": {
          "base_uri": "https://localhost:8080/"
        }
      },
      "outputs": [
        {
          "output_type": "execute_result",
          "data": {
            "text/plain": [
              "{3, 4}"
            ]
          },
          "metadata": {},
          "execution_count": 11
        }
      ],
      "source": [
        "# If that value is not present, discard() does nothing, but remove() will raise a KeyError exception.\n",
        "a={12,3,3,4}\n",
        "a.remove(12)\n",
        "a"
      ]
    },
    {
      "cell_type": "code",
      "execution_count": null,
      "metadata": {
        "id": "Azp8vdYaBNFn",
        "outputId": "3c9c3ae3-ee8c-476a-97bb-208be9dcdf0c",
        "colab": {
          "base_uri": "https://localhost:8080/"
        }
      },
      "outputs": [
        {
          "output_type": "execute_result",
          "data": {
            "text/plain": [
              "{4, 12}"
            ]
          },
          "metadata": {},
          "execution_count": 12
        }
      ],
      "source": [
        "a={12,3,3,4}\n",
        "a.discard(3)\n",
        "a"
      ]
    },
    {
      "cell_type": "code",
      "execution_count": null,
      "metadata": {
        "id": "u1uyGXg0BNFo",
        "outputId": "e99c8a6e-069e-4881-c8eb-bcc643928c75",
        "colab": {
          "base_uri": "https://localhost:8080/"
        }
      },
      "outputs": [
        {
          "output_type": "execute_result",
          "data": {
            "text/plain": [
              "{2, 3, 4, 11, 12, 13, 22}"
            ]
          },
          "metadata": {},
          "execution_count": 13
        }
      ],
      "source": [
        "a={12,3,3,4}\n",
        "a.union({11,2,22,13})"
      ]
    },
    {
      "cell_type": "code",
      "execution_count": null,
      "metadata": {
        "id": "foSH_4ynBNFs",
        "outputId": "ec93708c-ed75-4297-fa05-f0d6ad00444f",
        "colab": {
          "base_uri": "https://localhost:8080/"
        }
      },
      "outputs": [
        {
          "output_type": "execute_result",
          "data": {
            "text/plain": [
              "({'a', 'b', 'c', 'd', 'e', 'f'}, {'a', 'b', 'x', 'y', 'z'})"
            ]
          },
          "metadata": {},
          "execution_count": 21
        }
      ],
      "source": [
        "set3=set('abcdef')\n",
        "set4=set('abxyz')\n",
        "set3,set4"
      ]
    },
    {
      "cell_type": "code",
      "source": [
        "set3&set4"
      ],
      "metadata": {
        "colab": {
          "base_uri": "https://localhost:8080/"
        },
        "id": "jTjogkB3zKJa",
        "outputId": "411814cf-f6fe-4224-a245-70d95dc0f83c"
      },
      "execution_count": null,
      "outputs": [
        {
          "output_type": "execute_result",
          "data": {
            "text/plain": [
              "{'a', 'b'}"
            ]
          },
          "metadata": {},
          "execution_count": 22
        }
      ]
    },
    {
      "cell_type": "code",
      "source": [
        "set3.intersection(set4) # or set3&set4"
      ],
      "metadata": {
        "colab": {
          "base_uri": "https://localhost:8080/"
        },
        "id": "5qGN05aOp5Gs",
        "outputId": "bf330537-0387-453e-8e45-93f3bc21e132"
      },
      "execution_count": null,
      "outputs": [
        {
          "output_type": "execute_result",
          "data": {
            "text/plain": [
              "{'a', 'b'}"
            ]
          },
          "metadata": {},
          "execution_count": 23
        }
      ]
    },
    {
      "cell_type": "code",
      "execution_count": null,
      "metadata": {
        "id": "b8vc1bAqBNFt",
        "outputId": "73df8e8f-881c-4250-b6d5-978afa2cf55e",
        "colab": {
          "base_uri": "https://localhost:8080/"
        }
      },
      "outputs": [
        {
          "output_type": "execute_result",
          "data": {
            "text/plain": [
              "{'c', 'd', 'e', 'f'}"
            ]
          },
          "metadata": {},
          "execution_count": 24
        }
      ],
      "source": [
        "set3-set4"
      ]
    },
    {
      "cell_type": "code",
      "source": [
        "set3.difference(set4) # or set3-set4"
      ],
      "metadata": {
        "colab": {
          "base_uri": "https://localhost:8080/"
        },
        "id": "bfUCjMsOzD1U",
        "outputId": "073298cf-1eb9-47b7-9fb1-643a93540db1"
      },
      "execution_count": null,
      "outputs": [
        {
          "output_type": "execute_result",
          "data": {
            "text/plain": [
              "{'c', 'd', 'e', 'f'}"
            ]
          },
          "metadata": {},
          "execution_count": 25
        }
      ]
    },
    {
      "cell_type": "code",
      "execution_count": null,
      "metadata": {
        "id": "UMecZ0t0BNFv",
        "outputId": "5a4191ac-37a3-492b-d0a6-23011608a53f",
        "colab": {
          "base_uri": "https://localhost:8080/"
        }
      },
      "outputs": [
        {
          "output_type": "execute_result",
          "data": {
            "text/plain": [
              "{'a', 'b', 'c', 'd', 'e', 'f', 'x', 'y', 'z'}"
            ]
          },
          "metadata": {},
          "execution_count": 26
        }
      ],
      "source": [
        "set3|set4"
      ]
    },
    {
      "cell_type": "code",
      "source": [
        "set3.symmetric_difference(set4)"
      ],
      "metadata": {
        "colab": {
          "base_uri": "https://localhost:8080/"
        },
        "id": "tXXm1Rm0EGw_",
        "outputId": "faaf507a-0925-43b4-af8b-93fb787d73ea"
      },
      "execution_count": null,
      "outputs": [
        {
          "output_type": "execute_result",
          "data": {
            "text/plain": [
              "{'c', 'd', 'e', 'f', 'x', 'y', 'z'}"
            ]
          },
          "metadata": {},
          "execution_count": 27
        }
      ]
    },
    {
      "cell_type": "code",
      "execution_count": null,
      "metadata": {
        "id": "sv5pgDs6BNFx",
        "outputId": "a363f987-43e5-47a6-f7b1-5e8cfa09e89e",
        "colab": {
          "base_uri": "https://localhost:8080/"
        }
      },
      "outputs": [
        {
          "output_type": "execute_result",
          "data": {
            "text/plain": [
              "{'c', 'd', 'e', 'f', 'x', 'y', 'z'}"
            ]
          },
          "metadata": {},
          "execution_count": 28
        }
      ],
      "source": [
        "set3^set4 # elts in set3 and set4 but not both"
      ]
    },
    {
      "cell_type": "code",
      "execution_count": null,
      "metadata": {
        "id": "tQNo0vz0BNFy"
      },
      "outputs": [],
      "source": [
        "# {x for x in 'absfeirbsnfk' if x not in set2}"
      ]
    },
    {
      "cell_type": "code",
      "source": [
        "# Update section\n",
        "set5 = set()\n",
        "set5.update(set3)\n",
        "set5"
      ],
      "metadata": {
        "colab": {
          "base_uri": "https://localhost:8080/"
        },
        "id": "d9m_uk-dEdkA",
        "outputId": "cf6f160b-3ce2-4b9f-a6f3-fae7874365dd"
      },
      "execution_count": null,
      "outputs": [
        {
          "output_type": "execute_result",
          "data": {
            "text/plain": [
              "{'a', 'b', 'c', 'd', 'e', 'f'}"
            ]
          },
          "metadata": {},
          "execution_count": 39
        }
      ]
    },
    {
      "cell_type": "code",
      "source": [
        "set5.intersection_update(['e','a','f','x'])\n",
        "set5"
      ],
      "metadata": {
        "colab": {
          "base_uri": "https://localhost:8080/"
        },
        "id": "6R9mNUdOEdme",
        "outputId": "d143e31f-fe80-4bc0-ef1b-bb6be7f4daec"
      },
      "execution_count": null,
      "outputs": [
        {
          "output_type": "execute_result",
          "data": {
            "text/plain": [
              "{'a', 'e', 'f'}"
            ]
          },
          "metadata": {},
          "execution_count": 40
        }
      ]
    },
    {
      "cell_type": "code",
      "source": [
        "set5.symmetric_difference_update(['f','x'])\n",
        "set5"
      ],
      "metadata": {
        "colab": {
          "base_uri": "https://localhost:8080/"
        },
        "id": "4T24fwz8Edpx",
        "outputId": "80ed4662-172e-43c2-eb75-4fbc13f1afbb"
      },
      "execution_count": null,
      "outputs": [
        {
          "output_type": "execute_result",
          "data": {
            "text/plain": [
              "{'a', 'e', 'x'}"
            ]
          },
          "metadata": {},
          "execution_count": 41
        }
      ]
    },
    {
      "cell_type": "markdown",
      "metadata": {
        "id": "-fkKfr7oBNF0"
      },
      "source": [
        "# Dictionary\n",
        "\n",
        "dictionary is a set of key: value pairs, with the requirement that the keys are unique (within one dictionary). A pair of braces creates an empty dictionary: {}. Placing a comma-separated list of key:value pairs within the braces adds initial key:value pairs to the dictionary;\n",
        "\n",
        "* Unlike lists that are indexed by integers, dictionaires are indexed using keys\n",
        "* Keys can be any immutable data type. Strings and numbers are good keys\n",
        "* Dictionaries can be thought of as an unordered set of key:value pairs\n",
        "* Primary purpose of a dictionary is to extract value corresponding to a key and storing the value of a key"
      ]
    },
    {
      "cell_type": "code",
      "execution_count": null,
      "metadata": {
        "colab": {
          "base_uri": "https://localhost:8080/"
        },
        "id": "X_lie1KyBNF2",
        "outputId": "03b7a5f7-0f9e-40ad-ffe8-2f2e855fb30f"
      },
      "outputs": [
        {
          "output_type": "execute_result",
          "data": {
            "text/plain": [
              "{'me': 22, 'mom': 50, 'sanj': 28}"
            ]
          },
          "metadata": {},
          "execution_count": 47
        }
      ],
      "source": [
        "dic={'sanj':28,'me':22,'mom':50}\n",
        "dic"
      ]
    },
    {
      "cell_type": "code",
      "execution_count": null,
      "metadata": {
        "colab": {
          "base_uri": "https://localhost:8080/"
        },
        "id": "TsDq_7uhBNF3",
        "outputId": "7de610b8-11f4-4d29-ac60-0f6a82f1094a"
      },
      "outputs": [
        {
          "output_type": "execute_result",
          "data": {
            "text/plain": [
              "{'dad': 55, 'me': 22, 'mom': 50, 'sanj': 28}"
            ]
          },
          "metadata": {},
          "execution_count": 48
        }
      ],
      "source": [
        "dic['dad']=55\n",
        "dic"
      ]
    },
    {
      "cell_type": "code",
      "execution_count": null,
      "metadata": {
        "colab": {
          "base_uri": "https://localhost:8080/"
        },
        "id": "HHpOWlsgBNF4",
        "outputId": "cb290bd0-cd31-4a42-9ee7-6db451206114"
      },
      "outputs": [
        {
          "output_type": "execute_result",
          "data": {
            "text/plain": [
              "{'dad': 55, 'me': 22, 'mom': 51, 'sanj': 28}"
            ]
          },
          "metadata": {},
          "execution_count": 49
        }
      ],
      "source": [
        "dic['mom']=51\n",
        "dic"
      ]
    },
    {
      "cell_type": "code",
      "execution_count": null,
      "metadata": {
        "colab": {
          "base_uri": "https://localhost:8080/"
        },
        "id": "7UKhPI_SBNF_",
        "outputId": "28b9860a-a994-4562-fb3c-a3c0b21ec0d7"
      },
      "outputs": [
        {
          "output_type": "execute_result",
          "data": {
            "text/plain": [
              "51"
            ]
          },
          "metadata": {},
          "execution_count": 50
        }
      ],
      "source": [
        "dic['mom']"
      ]
    },
    {
      "cell_type": "code",
      "execution_count": null,
      "metadata": {
        "colab": {
          "base_uri": "https://localhost:8080/"
        },
        "id": "mJiD0L4DBNGC",
        "outputId": "87ceb427-e358-472e-bb82-6887b4fce41c"
      },
      "outputs": [
        {
          "output_type": "execute_result",
          "data": {
            "text/plain": [
              "{'dad': 55, 'me': 22, 'mom': 51, 'sanj': 28, 'sev': 20}"
            ]
          },
          "metadata": {},
          "execution_count": 51
        }
      ],
      "source": [
        "dic['sev']=20\n",
        "dic"
      ]
    },
    {
      "cell_type": "code",
      "execution_count": null,
      "metadata": {
        "id": "9QYGR2EeBNGD"
      },
      "outputs": [],
      "source": [
        "del dic['sev']"
      ]
    },
    {
      "cell_type": "code",
      "execution_count": null,
      "metadata": {
        "colab": {
          "base_uri": "https://localhost:8080/"
        },
        "id": "zdZaAof-BNGE",
        "outputId": "d3baa376-eeec-4a4c-b5b2-aec05fa7686f"
      },
      "outputs": [
        {
          "output_type": "execute_result",
          "data": {
            "text/plain": [
              "['sanj', 'me', 'mom', 'dad']"
            ]
          },
          "metadata": {},
          "execution_count": 53
        }
      ],
      "source": [
        "list(dic)"
      ]
    },
    {
      "cell_type": "code",
      "execution_count": null,
      "metadata": {
        "colab": {
          "base_uri": "https://localhost:8080/"
        },
        "id": "Ig7a1LoxBNGF",
        "outputId": "9773e680-d59e-482e-cdd8-7b2f224b3d1d"
      },
      "outputs": [
        {
          "output_type": "execute_result",
          "data": {
            "text/plain": [
              "['dad', 'me', 'mom', 'sanj']"
            ]
          },
          "metadata": {},
          "execution_count": 54
        }
      ],
      "source": [
        "sorted(dic)"
      ]
    },
    {
      "cell_type": "code",
      "execution_count": null,
      "metadata": {
        "colab": {
          "base_uri": "https://localhost:8080/"
        },
        "id": "Z_qxD8gJBNGF",
        "outputId": "500b778c-8fdc-48a3-86f9-5fc1ce7c1471"
      },
      "outputs": [
        {
          "output_type": "execute_result",
          "data": {
            "text/plain": [
              "True"
            ]
          },
          "metadata": {},
          "execution_count": 55
        }
      ],
      "source": [
        "'mom' in dic"
      ]
    },
    {
      "cell_type": "code",
      "execution_count": null,
      "metadata": {
        "colab": {
          "base_uri": "https://localhost:8080/"
        },
        "id": "Tk9S0e6eBNGG",
        "outputId": "455deda9-5085-4a1b-8248-f5b8b92aea5c"
      },
      "outputs": [
        {
          "output_type": "execute_result",
          "data": {
            "text/plain": [
              "False"
            ]
          },
          "metadata": {},
          "execution_count": 56
        }
      ],
      "source": [
        "'sev' in dic"
      ]
    },
    {
      "cell_type": "code",
      "execution_count": null,
      "metadata": {
        "colab": {
          "base_uri": "https://localhost:8080/"
        },
        "id": "T_1vRaEGBNGG",
        "outputId": "01eb7aa1-8561-48a8-ed3d-b9547f9124a1"
      },
      "outputs": [
        {
          "output_type": "execute_result",
          "data": {
            "text/plain": [
              "True"
            ]
          },
          "metadata": {},
          "execution_count": 57
        }
      ],
      "source": [
        "'sev' not in dic"
      ]
    },
    {
      "cell_type": "code",
      "execution_count": null,
      "metadata": {
        "colab": {
          "base_uri": "https://localhost:8080/"
        },
        "id": "TlbER8gQBNGH",
        "outputId": "8cce16ec-8b53-4439-fe67-92b8f4821225"
      },
      "outputs": [
        {
          "output_type": "execute_result",
          "data": {
            "text/plain": [
              "{'guido': 4127, 'jack': 4098, 'sape': 4139}"
            ]
          },
          "metadata": {},
          "execution_count": 58
        }
      ],
      "source": [
        "dict([('sape', 4139), ('guido', 4127), ('jack', 4098)])"
      ]
    },
    {
      "cell_type": "code",
      "execution_count": null,
      "metadata": {
        "colab": {
          "base_uri": "https://localhost:8080/"
        },
        "id": "lazBiPl4BNGI",
        "outputId": "d143e0b1-b584-493e-8552-a7a6a905b715"
      },
      "outputs": [
        {
          "output_type": "execute_result",
          "data": {
            "text/plain": [
              "{2: 4, 4: 16, 6: 36}"
            ]
          },
          "metadata": {},
          "execution_count": 59
        }
      ],
      "source": [
        "{x: x**2 for x in (2, 4, 6)}"
      ]
    },
    {
      "cell_type": "code",
      "source": [
        "dict([('sape', 4139), ('guido', 4127), ('jack', 4098)])\n",
        "dict(sape=4139, guido=4127, jack=4098)"
      ],
      "metadata": {
        "colab": {
          "base_uri": "https://localhost:8080/"
        },
        "id": "1xaE9_3B0VOU",
        "outputId": "df4699da-68c0-46e8-c390-aace1c32f346"
      },
      "execution_count": null,
      "outputs": [
        {
          "output_type": "execute_result",
          "data": {
            "text/plain": [
              "{'guido': 4127, 'jack': 4098, 'sape': 4139}"
            ]
          },
          "metadata": {},
          "execution_count": 60
        },
        {
          "output_type": "execute_result",
          "data": {
            "text/plain": [
              "{'guido': 4127, 'jack': 4098, 'sape': 4139}"
            ]
          },
          "metadata": {},
          "execution_count": 60
        }
      ]
    },
    {
      "cell_type": "code",
      "source": [
        "tel = {'jack': 4098, 'sape': 4139}\n",
        "tel.get('jack')"
      ],
      "metadata": {
        "colab": {
          "base_uri": "https://localhost:8080/"
        },
        "id": "CXAcyefW4KtP",
        "outputId": "341e78fe-a9b5-44e2-81bc-a9150e1106b5"
      },
      "execution_count": null,
      "outputs": [
        {
          "output_type": "execute_result",
          "data": {
            "text/plain": [
              "4098"
            ]
          },
          "metadata": {},
          "execution_count": 63
        }
      ]
    },
    {
      "cell_type": "code",
      "source": [
        "tel.update({'zoe':3232})\n",
        "tel"
      ],
      "metadata": {
        "colab": {
          "base_uri": "https://localhost:8080/"
        },
        "id": "W0oC6mWb4TaF",
        "outputId": "5642b2cc-4148-4411-af03-ebbb3312ad3b"
      },
      "execution_count": null,
      "outputs": [
        {
          "output_type": "execute_result",
          "data": {
            "text/plain": [
              "{'jack': 4098, 'joe': 3232, 'sape': 4139, 'zoe': 3232}"
            ]
          },
          "metadata": {},
          "execution_count": 66
        }
      ]
    },
    {
      "cell_type": "code",
      "source": [
        "tel = {'jack': 4098, 'sape': 4139}\n",
        "tel['guido'] = 4127\n",
        "print(tel)\n",
        "print(list(tel.items()))\n",
        "a = dict(sorted(tel.items(),key=lambda x: x[0]))\n",
        "a"
      ],
      "metadata": {
        "colab": {
          "base_uri": "https://localhost:8080/"
        },
        "id": "fwboaFsz0F0r",
        "outputId": "11398e7d-42b9-48c8-cc7e-181f76c2c9ee"
      },
      "execution_count": null,
      "outputs": [
        {
          "output_type": "stream",
          "name": "stdout",
          "text": [
            "{'jack': 4098, 'sape': 4139, 'guido': 4127}\n",
            "[('jack', 4098), ('sape', 4139), ('guido', 4127)]\n"
          ]
        },
        {
          "output_type": "execute_result",
          "data": {
            "text/plain": [
              "{'guido': 4127, 'jack': 4098, 'sape': 4139}"
            ]
          },
          "metadata": {},
          "execution_count": 83
        }
      ]
    },
    {
      "cell_type": "code",
      "source": [
        "#Arithmetic operations can be performed on dictionaries with the same keys\n",
        "from collections import Counter\n",
        "d1 = {'a': 100, 'b': 200, 'c':300}\n",
        "d2 = {'a': 300, 'b': 200, 'd':400}\n",
        "d = dict(Counter(d1) + Counter(d2))\n",
        "d"
      ],
      "metadata": {
        "colab": {
          "base_uri": "https://localhost:8080/"
        },
        "id": "ISJBnaL90bQq",
        "outputId": "e5b63956-18e7-4305-c13b-93919c2f5707"
      },
      "execution_count": null,
      "outputs": [
        {
          "output_type": "execute_result",
          "data": {
            "text/plain": [
              "{'a': 400, 'b': 400, 'c': 300, 'd': 400}"
            ]
          },
          "metadata": {},
          "execution_count": 62
        }
      ]
    },
    {
      "cell_type": "markdown",
      "metadata": {
        "id": "qf-AIRXnBNGJ"
      },
      "source": [
        "# LOOPING TECHNIQUES"
      ]
    },
    {
      "cell_type": "code",
      "execution_count": null,
      "metadata": {
        "id": "8jywEwTtBNGO",
        "outputId": "0295356c-10be-45e7-c699-dd9d8f4ab53c"
      },
      "outputs": [
        {
          "name": "stdout",
          "output_type": "stream",
          "text": [
            "a.. b.. c.. d.. "
          ]
        }
      ],
      "source": [
        "# Loops are a way to repeatedly execute some code\n",
        "a=[\"a\",\"b\",\"c\",\"d\"]\n",
        "for i in a:\n",
        "    print(i,end='.. ') # print all on same line"
      ]
    },
    {
      "cell_type": "code",
      "execution_count": null,
      "metadata": {
        "id": "cBVPHBfDBNGQ",
        "outputId": "558b6499-f6e3-41e8-8815-485f42ec2e57"
      },
      "outputs": [
        {
          "data": {
            "text/plain": [
              "{'sanj': 28, 'me': 22, 'mom': 51, 'dad': 55}"
            ]
          },
          "execution_count": 223,
          "metadata": {},
          "output_type": "execute_result"
        }
      ],
      "source": [
        "dic"
      ]
    },
    {
      "cell_type": "code",
      "execution_count": null,
      "metadata": {
        "id": "QuiPv2FCBNGS",
        "outputId": "7e426bc2-9716-4f19-bf7b-3d7ee16d995f"
      },
      "outputs": [
        {
          "name": "stdout",
          "output_type": "stream",
          "text": [
            "sanj : 28\n",
            "me : 22\n",
            "mom : 51\n",
            "dad : 55\n"
          ]
        }
      ],
      "source": [
        "for (k,v) in dic.items():\n",
        "    print(k,':', v)"
      ]
    },
    {
      "cell_type": "code",
      "execution_count": null,
      "metadata": {
        "id": "c3RjsIH1BNGS",
        "outputId": "0b3efa43-48a0-471c-ba72-6015d270dcda"
      },
      "outputs": [
        {
          "data": {
            "text/plain": [
              "[('a', 'x'), ('b', 'y')]"
            ]
          },
          "execution_count": 227,
          "metadata": {},
          "output_type": "execute_result"
        }
      ],
      "source": [
        "list(zip('abcd','xy'))"
      ]
    },
    {
      "cell_type": "code",
      "source": [
        "l1 = [\"eat\",\"sleep\",\"repeat\"]\n",
        "for ele in enumerate(l1):\n",
        "    print (ele)"
      ],
      "metadata": {
        "colab": {
          "base_uri": "https://localhost:8080/"
        },
        "id": "msowjVgxZ1TB",
        "outputId": "0cdb8c60-1e2f-409e-c2c7-1071f8672fe4"
      },
      "execution_count": null,
      "outputs": [
        {
          "output_type": "stream",
          "name": "stdout",
          "text": [
            "(0, 'eat')\n",
            "(1, 'sleep')\n",
            "(2, 'repeat')\n"
          ]
        }
      ]
    },
    {
      "cell_type": "code",
      "source": [
        "for count,ele in enumerate(l1,100):\n",
        "    print (count,ele)"
      ],
      "metadata": {
        "colab": {
          "base_uri": "https://localhost:8080/"
        },
        "id": "B_V_oMC0Z_42",
        "outputId": "cbff2359-eab5-44a1-ef69-9e8c4b3d0be8"
      },
      "execution_count": null,
      "outputs": [
        {
          "output_type": "stream",
          "name": "stdout",
          "text": [
            "100 eat\n",
            "101 sleep\n",
            "102 repeat\n"
          ]
        }
      ]
    },
    {
      "cell_type": "code",
      "source": [
        "print(list(enumerate(l1)))"
      ],
      "metadata": {
        "colab": {
          "base_uri": "https://localhost:8080/"
        },
        "id": "FebTwLF2aOvH",
        "outputId": "2296cbc7-2f41-46c4-f69a-4efb6165bc02"
      },
      "execution_count": null,
      "outputs": [
        {
          "output_type": "stream",
          "name": "stdout",
          "text": [
            "[(0, 'eat'), (1, 'sleep'), (2, 'repeat')]\n"
          ]
        }
      ]
    },
    {
      "cell_type": "code",
      "source": [
        "s1='geek'\n",
        "print(list(enumerate(s1,2)))"
      ],
      "metadata": {
        "colab": {
          "base_uri": "https://localhost:8080/"
        },
        "id": "Cl4xrpIAadaz",
        "outputId": "6ce0c816-712d-4085-d64f-f721b32433f9"
      },
      "execution_count": null,
      "outputs": [
        {
          "output_type": "stream",
          "name": "stdout",
          "text": [
            "[(2, 'g'), (3, 'e'), (4, 'e'), (5, 'k')]\n"
          ]
        }
      ]
    },
    {
      "cell_type": "code",
      "execution_count": null,
      "metadata": {
        "id": "8vYPV_P1BNGT",
        "outputId": "1105d2b3-2750-47a8-b4f7-3869e220fdab",
        "colab": {
          "base_uri": "https://localhost:8080/"
        }
      },
      "outputs": [
        {
          "output_type": "stream",
          "name": "stdout",
          "text": [
            "what is your name? I'm rach\n",
            "what is your age? I'm 22\n",
            "what is your occupation? I'm student\n"
          ]
        }
      ],
      "source": [
        "ques=['name','age','occupation']\n",
        "ans=['rach',22,'student']\n",
        "for (q,a) in zip(ques,ans):\n",
        "    print('what is your {0}? I\\'m {1}'.format(q,a))"
      ]
    },
    {
      "cell_type": "code",
      "execution_count": null,
      "metadata": {
        "id": "Busc_6gtBNGU",
        "outputId": "14b6052d-8486-46bb-a10c-1d7853c108b2"
      },
      "outputs": [
        {
          "data": {
            "text/plain": [
              "[34, 23, 12, 34]"
            ]
          },
          "execution_count": 242,
          "metadata": {},
          "output_type": "execute_result"
        }
      ],
      "source": [
        "import math\n",
        "raw=[34,float('NaN'),23,float('NaN'),12,34]\n",
        "filtered=[]\n",
        "for i in raw:\n",
        "    if not math.isnan(i): # note that raw must contain real number not a str so not 'NaN' but float('NaN')\n",
        "        filtered.append(i)\n",
        "filtered"
      ]
    },
    {
      "cell_type": "code",
      "execution_count": null,
      "metadata": {
        "id": "7_GbOucmBNGU",
        "outputId": "cb72a306-02c3-452e-8b81-33fb36a0f744",
        "colab": {
          "base_uri": "https://localhost:8080/",
          "height": 35
        }
      },
      "outputs": [
        {
          "output_type": "execute_result",
          "data": {
            "application/vnd.google.colaboratory.intrinsic+json": {
              "type": "string"
            },
            "text/plain": [
              "'hey'"
            ]
          },
          "metadata": {},
          "execution_count": 18
        }
      ],
      "source": [
        "str1,str2,str3='','hey','hey you'\n",
        "not_null=str1 or str2 or str3\n",
        "not_null # not null means no spaces"
      ]
    },
    {
      "cell_type": "code",
      "execution_count": null,
      "metadata": {
        "id": "BiWYQDfRBNGV",
        "outputId": "b485f390-d885-421b-bb0c-f43cedac88ed"
      },
      "outputs": [
        {
          "name": "stdout",
          "output_type": "stream",
          "text": [
            "i is: 1\n",
            "i is: 2\n",
            "i is: 3\n",
            "i is: 4\n"
          ]
        }
      ],
      "source": [
        "# while loop\n",
        "i = 1\n",
        "while i < 5:\n",
        "    print('i is: {}'.format(i))\n",
        "    i = i+1"
      ]
    },
    {
      "cell_type": "code",
      "source": [
        "# Define isPrime function\n",
        "num = int(input(\"Provide an integer: \"))\n",
        "if num not in (1,2):\n",
        "    for i in range(2, int(num/2)+1):\n",
        "        # If num is divisible by any number between\n",
        "        # 2 and n / 2, it is not prime\n",
        "        if (num%i == 0):\n",
        "            print(f'{num} is not a prime number')\n",
        "            break\n",
        "        else:\n",
        "            print(f'{num} is a prime number')\n",
        "elif num==1:\n",
        "    print(f'{num} is not a prime number')\n",
        "elif num ==2:\n",
        "    print(f'{num} is a prime number')\n"
      ],
      "metadata": {
        "colab": {
          "base_uri": "https://localhost:8080/"
        },
        "id": "_XUwOlQziNVp",
        "outputId": "7281143c-88ab-4a4b-fdb0-32094ac16b5c"
      },
      "execution_count": null,
      "outputs": [
        {
          "output_type": "stream",
          "name": "stdout",
          "text": [
            "Provide an integer: 10\n",
            "10 is not a prime number\n"
          ]
        }
      ]
    },
    {
      "cell_type": "code",
      "source": [
        "s=\"The lyrics is not that poor\"\n",
        "s_not=s.find(\"not\")\n",
        "s_poor=s.find(\"poor\")\n",
        "if s_poor>s_not and s_poor>0 and s_not>0:\n",
        "    st=s.replace(s[s_not:s_poor+10],\"good\")\n",
        "    print(st)"
      ],
      "metadata": {
        "colab": {
          "base_uri": "https://localhost:8080/"
        },
        "id": "u6VRJ7jKjY2a",
        "outputId": "96774e81-56a8-4e15-9d75-a7932332759b"
      },
      "execution_count": null,
      "outputs": [
        {
          "output_type": "stream",
          "name": "stdout",
          "text": [
            "The lyrics is good\n"
          ]
        }
      ]
    },
    {
      "cell_type": "markdown",
      "metadata": {
        "id": "iskg46olBNGW"
      },
      "source": [
        "# COMPARISONS"
      ]
    },
    {
      "cell_type": "code",
      "execution_count": null,
      "metadata": {
        "id": "KV6PGGWKBNGW",
        "outputId": "a87774eb-0a57-43be-abba-7f121f5f47fc"
      },
      "outputs": [
        {
          "data": {
            "text/plain": [
              "True"
            ]
          },
          "execution_count": 246,
          "metadata": {},
          "output_type": "execute_result"
        }
      ],
      "source": [
        "'n'>'b'"
      ]
    },
    {
      "cell_type": "code",
      "execution_count": null,
      "metadata": {
        "id": "piPfEAIUBNGW",
        "outputId": "3611f6e1-10ef-45ca-ff1f-2fe161f44a33",
        "colab": {
          "base_uri": "https://localhost:8080/"
        }
      },
      "outputs": [
        {
          "output_type": "execute_result",
          "data": {
            "text/plain": [
              "False"
            ]
          },
          "metadata": {},
          "execution_count": 1
        }
      ],
      "source": [
        "'abc'>'a' # first 2 items are compared. if false then false, ow, true"
      ]
    },
    {
      "cell_type": "code",
      "execution_count": null,
      "metadata": {
        "id": "ncyHm4Z7BNGX",
        "outputId": "69118ffa-8410-4904-837a-c50ff2af24aa"
      },
      "outputs": [
        {
          "data": {
            "text/plain": [
              "True"
            ]
          },
          "execution_count": 257,
          "metadata": {},
          "output_type": "execute_result"
        }
      ],
      "source": [
        "'python'>'g'"
      ]
    },
    {
      "cell_type": "code",
      "execution_count": null,
      "metadata": {
        "id": "D5hPHFZRBNGY",
        "outputId": "a5e1e7f6-16f3-4305-af21-2b3d8fb07b31"
      },
      "outputs": [
        {
          "data": {
            "text/plain": [
              "False"
            ]
          },
          "execution_count": 253,
          "metadata": {},
          "output_type": "execute_result"
        }
      ],
      "source": [
        "'c'>'python'"
      ]
    },
    {
      "cell_type": "code",
      "execution_count": null,
      "metadata": {
        "id": "sRoLVBrnBNGY",
        "outputId": "5ad450cd-0660-444c-905e-0fae4e5a53e1"
      },
      "outputs": [
        {
          "data": {
            "text/plain": [
              "True"
            ]
          },
          "execution_count": 250,
          "metadata": {},
          "output_type": "execute_result"
        }
      ],
      "source": [
        "(1, 2, 3) == (1.0, 2.0, 3.0)"
      ]
    },
    {
      "cell_type": "code",
      "execution_count": null,
      "metadata": {
        "id": "644nALN5BNGY",
        "outputId": "11c69ae3-30c7-4a88-9774-000889129f8f"
      },
      "outputs": [
        {
          "data": {
            "text/plain": [
              "True"
            ]
          },
          "execution_count": 252,
          "metadata": {},
          "output_type": "execute_result"
        }
      ],
      "source": [
        "[1, 2, 3] < [1, 2, 4]"
      ]
    },
    {
      "cell_type": "code",
      "execution_count": null,
      "metadata": {
        "id": "wgnIYklnBNGZ",
        "outputId": "d0639d98-1acc-42a1-8d89-8c2fdbee4eee"
      },
      "outputs": [
        {
          "data": {
            "text/plain": [
              "False"
            ]
          },
          "execution_count": 10,
          "metadata": {},
          "output_type": "execute_result"
        }
      ],
      "source": [
        "\"hey\"==\"bye\""
      ]
    },
    {
      "cell_type": "code",
      "execution_count": null,
      "metadata": {
        "id": "5hK5UgTnBNGZ",
        "outputId": "25b29a67-0435-47a3-e3ee-191d6373bc7b"
      },
      "outputs": [
        {
          "data": {
            "text/plain": [
              "False"
            ]
          },
          "execution_count": 11,
          "metadata": {},
          "output_type": "execute_result"
        }
      ],
      "source": [
        "(1 > 2) and (2 < 3)"
      ]
    },
    {
      "cell_type": "code",
      "execution_count": null,
      "metadata": {
        "id": "YxnSGZOYBNGZ",
        "outputId": "5d74470f-41b7-437f-ae46-6658a888d45c"
      },
      "outputs": [
        {
          "data": {
            "text/plain": [
              "True"
            ]
          },
          "execution_count": 12,
          "metadata": {},
          "output_type": "execute_result"
        }
      ],
      "source": [
        "(1 > 2) or (2 < 3)"
      ]
    },
    {
      "cell_type": "code",
      "source": [],
      "metadata": {
        "id": "MYlaieD5icJz"
      },
      "execution_count": null,
      "outputs": []
    },
    {
      "cell_type": "markdown",
      "source": [
        "Random"
      ],
      "metadata": {
        "id": "StU3cr0micgL"
      }
    },
    {
      "cell_type": "code",
      "source": [
        "#to shuffle list\n",
        "import random\n",
        "l7=['Red', 'Green', 'White', 'Black', 'Pink', 'Yellow']\n",
        "random.shuffle(l7)\n",
        "print(l7)"
      ],
      "metadata": {
        "colab": {
          "base_uri": "https://localhost:8080/"
        },
        "id": "AhM1Iv4FibCs",
        "outputId": "59f79ddf-ffe0-442c-986c-d6d2c5297561"
      },
      "execution_count": null,
      "outputs": [
        {
          "output_type": "stream",
          "name": "stdout",
          "text": [
            "['Yellow', 'Green', 'Pink', 'Red', 'Black', 'White']\n"
          ]
        }
      ]
    },
    {
      "cell_type": "code",
      "source": [
        "import itertools\n",
        "l8=[1,2,3]\n",
        "list(itertools.permutations(l8,3))"
      ],
      "metadata": {
        "colab": {
          "base_uri": "https://localhost:8080/"
        },
        "id": "2nD7Z_SnifKb",
        "outputId": "3db92b13-a0ee-42fb-dbd3-854c636397a5"
      },
      "execution_count": null,
      "outputs": [
        {
          "output_type": "execute_result",
          "data": {
            "text/plain": [
              "[(1, 2, 3), (1, 3, 2), (2, 1, 3), (2, 3, 1), (3, 1, 2), (3, 2, 1)]"
            ]
          },
          "metadata": {},
          "execution_count": 2
        }
      ]
    },
    {
      "cell_type": "code",
      "source": [
        "l9=['T', 'h', 'e', 'M','a','t','h','C','o','m','p','a','n','y']\n",
        "''.join(l9)"
      ],
      "metadata": {
        "colab": {
          "base_uri": "https://localhost:8080/",
          "height": 35
        },
        "id": "4jm8A_ecig_b",
        "outputId": "92e8bd84-76c6-43ac-b259-56bc3270d97d"
      },
      "execution_count": null,
      "outputs": [
        {
          "output_type": "execute_result",
          "data": {
            "application/vnd.google.colaboratory.intrinsic+json": {
              "type": "string"
            },
            "text/plain": [
              "'TheMathCompany'"
            ]
          },
          "metadata": {},
          "execution_count": 3
        }
      ]
    },
    {
      "cell_type": "code",
      "source": [
        "#  find the highest 3 values in a dictionary.\n",
        "from collections import Counter\n",
        "dict1={'a':500, 'b':5874, 'c': 560,'d':400, 'e':5874, 'f': 20} \n",
        "k=Counter(dict1) \n",
        "high=k.most_common(3)\n",
        "res=[]\n",
        "for i in high: \n",
        "    res.extend(list(i[0]))\n",
        "print(res)"
      ],
      "metadata": {
        "colab": {
          "base_uri": "https://localhost:8080/"
        },
        "id": "xvs4PLeYijW4",
        "outputId": "5682482e-fbf3-4c22-f206-322eff873a04"
      },
      "execution_count": null,
      "outputs": [
        {
          "output_type": "stream",
          "name": "stdout",
          "text": [
            "['b', 'e', 'c']\n"
          ]
        }
      ]
    },
    {
      "cell_type": "code",
      "source": [
        "#  sort a tuple by its float element.\n",
        "tup=[('item1', '12.20'), ('item2', '15.10'), ('item3', '24.5')]\n",
        "sorted(tup, key = lambda x: float(x[1]), reverse = True)"
      ],
      "metadata": {
        "colab": {
          "base_uri": "https://localhost:8080/"
        },
        "id": "CWw4eSH7oniO",
        "outputId": "914c5f2f-7746-411e-9cb8-b16f57baf1af"
      },
      "execution_count": null,
      "outputs": [
        {
          "output_type": "execute_result",
          "data": {
            "text/plain": [
              "[('item3', '24.5'), ('item2', '15.10'), ('item1', '12.20')]"
            ]
          },
          "metadata": {},
          "execution_count": 6
        }
      ]
    },
    {
      "cell_type": "code",
      "source": [
        "for i in range(7):\n",
        "    if i==3 or i==6:\n",
        "        continue\n",
        "    print(i)"
      ],
      "metadata": {
        "colab": {
          "base_uri": "https://localhost:8080/"
        },
        "id": "i9wr9BoxplVE",
        "outputId": "1dc6c0a8-3c9f-4b7d-82d8-a9865660f342"
      },
      "execution_count": null,
      "outputs": [
        {
          "output_type": "stream",
          "name": "stdout",
          "text": [
            "0\n",
            "1\n",
            "2\n",
            "4\n",
            "5\n"
          ]
        }
      ]
    },
    {
      "cell_type": "code",
      "source": [
        "# Python program that accepts a string and calculate the number of digits and letters\n",
        "st=input(\"Enter the sample string: \")\n",
        "digits=0\n",
        "letters=0\n",
        "for i in st:\n",
        "    if i.isdigit():\n",
        "        digits+=1\n",
        "    elif i.isalpha():\n",
        "        letters+=1\n",
        "    else:\n",
        "        pass\n",
        "print(\"Letters \",letters)\n",
        "print(\"Digits \",digits)"
      ],
      "metadata": {
        "colab": {
          "base_uri": "https://localhost:8080/"
        },
        "id": "LfGTsRsxq-3i",
        "outputId": "27c0aff5-a401-46d6-c5d5-6b0c1cd3b95e"
      },
      "execution_count": null,
      "outputs": [
        {
          "output_type": "stream",
          "name": "stdout",
          "text": [
            "Enter the sample string: rachita 2.0\n",
            "Letters  7\n",
            "Digits  2\n"
          ]
        }
      ]
    },
    {
      "cell_type": "code",
      "source": [
        "'ra'.isalpha()"
      ],
      "metadata": {
        "colab": {
          "base_uri": "https://localhost:8080/"
        },
        "id": "8ala1tcGrIsz",
        "outputId": "ec821024-fb97-4695-f9ab-8b2e57438f15"
      },
      "execution_count": null,
      "outputs": [
        {
          "output_type": "execute_result",
          "data": {
            "text/plain": [
              "True"
            ]
          },
          "metadata": {},
          "execution_count": 35
        }
      ]
    },
    {
      "cell_type": "code",
      "source": [
        "'ra'.isdigit()"
      ],
      "metadata": {
        "colab": {
          "base_uri": "https://localhost:8080/"
        },
        "id": "PZHnSvoSrNi6",
        "outputId": "766b86e6-a696-4bad-93c2-c9dce16ff326"
      },
      "execution_count": null,
      "outputs": [
        {
          "output_type": "execute_result",
          "data": {
            "text/plain": [
              "False"
            ]
          },
          "metadata": {},
          "execution_count": 36
        }
      ]
    },
    {
      "cell_type": "code",
      "source": [
        "'0'.isdigit()"
      ],
      "metadata": {
        "colab": {
          "base_uri": "https://localhost:8080/"
        },
        "id": "w0XF-zV1rUOk",
        "outputId": "9c85e790-281d-4aca-83b4-bb1adce5bfa2"
      },
      "execution_count": null,
      "outputs": [
        {
          "output_type": "execute_result",
          "data": {
            "text/plain": [
              "True"
            ]
          },
          "metadata": {},
          "execution_count": 42
        }
      ]
    },
    {
      "cell_type": "code",
      "source": [
        "'2'.isPrime()"
      ],
      "metadata": {
        "colab": {
          "base_uri": "https://localhost:8080/",
          "height": 166
        },
        "id": "tu3xOHn8rY-9",
        "outputId": "401df09e-532e-4e0e-a20a-cfe8f5ae36e3"
      },
      "execution_count": null,
      "outputs": [
        {
          "output_type": "error",
          "ename": "AttributeError",
          "evalue": "ignored",
          "traceback": [
            "\u001b[0;31m---------------------------------------------------------------------------\u001b[0m",
            "\u001b[0;31mAttributeError\u001b[0m                            Traceback (most recent call last)",
            "\u001b[0;32m<ipython-input-44-af4bf68d06c7>\u001b[0m in \u001b[0;36m<module>\u001b[0;34m()\u001b[0m\n\u001b[0;32m----> 1\u001b[0;31m \u001b[0;34m'2'\u001b[0m\u001b[0;34m.\u001b[0m\u001b[0misPrime\u001b[0m\u001b[0;34m(\u001b[0m\u001b[0;34m)\u001b[0m\u001b[0;34m\u001b[0m\u001b[0;34m\u001b[0m\u001b[0m\n\u001b[0m",
            "\u001b[0;31mAttributeError\u001b[0m: 'str' object has no attribute 'isPrime'"
          ]
        }
      ]
    },
    {
      "cell_type": "code",
      "source": [
        "'a'.isupper(), 'A'.isupper()"
      ],
      "metadata": {
        "colab": {
          "base_uri": "https://localhost:8080/"
        },
        "id": "pB3ZzV-IryPW",
        "outputId": "8f93cf3f-5857-4ce1-d6d7-9295cc6ac7f8"
      },
      "execution_count": null,
      "outputs": [
        {
          "output_type": "execute_result",
          "data": {
            "text/plain": [
              "(False, True)"
            ]
          },
          "metadata": {},
          "execution_count": 50
        }
      ]
    },
    {
      "cell_type": "code",
      "source": [
        "'A'.islower()"
      ],
      "metadata": {
        "colab": {
          "base_uri": "https://localhost:8080/"
        },
        "id": "tcBYJiXnr3QJ",
        "outputId": "4291626b-5b56-4825-ef12-23b34bad07df"
      },
      "execution_count": null,
      "outputs": [
        {
          "output_type": "execute_result",
          "data": {
            "text/plain": [
              "False"
            ]
          },
          "metadata": {},
          "execution_count": 49
        }
      ]
    },
    {
      "cell_type": "code",
      "source": [
        "li=[{'name': 'john', 'age': 50}, {'name': 'kyle', 'points': 30}]\n",
        "print(list(map((lambda x: x[\"name\"]),li))) \n",
        "e=[]\n",
        "list(map(lambda x: e.extend(list(x.values())) ,li))\n",
        "print(e)\n",
        "for i in e:\n",
        "    if isinstance(i,str):\n",
        "        e.remove(i) \n",
        "e1=[]\n",
        "list(map(lambda x: e1.append(x*10)  ,e)) \n",
        "print(e1)\n",
        "print(list(map((lambda x: True if x[\"name\"]==\"john\" else False),li))) "
      ],
      "metadata": {
        "colab": {
          "base_uri": "https://localhost:8080/"
        },
        "id": "tEztfeMIwCWS",
        "outputId": "bf0ce7a2-4962-47c3-e24e-b263b754b5d0"
      },
      "execution_count": null,
      "outputs": [
        {
          "output_type": "stream",
          "name": "stdout",
          "text": [
            "['john', 'kyle']\n",
            "['john', 50, 'kyle', 30]\n",
            "[500, 300]\n",
            "[True, False]\n"
          ]
        }
      ]
    },
    {
      "cell_type": "code",
      "source": [
        "# 6. Write a python program to filter list of dictionaries (use filter and lambda)\n",
        "# Sample Input: [{'name': 'python', 'points': 10}, {'name': 'java', 'points': 8}]\n",
        "# Expected Output: [{'name': 'python', 'points': 10}]\n",
        "lis=[{'name': 'python', 'points': 10}, {'name': 'java', 'points': 8}]\n",
        "list(filter((lambda x: x[\"name\"]==\"python\"),lis))\n",
        "    \n",
        "# 7. Write a python program to add two lists (use map and lambda)\n",
        "# Sample Input: list_a = [1, 2, 3]\n",
        "#               list_b = [10, 20, 30]\n",
        "# Expected Output: [11, 22, 33]\n",
        "\n",
        "list_a = [1, 2, 3]\n",
        "list_b = [10, 20, 30]\n",
        "list(map(lambda x, y : (x+y) , list_a, list_b))"
      ],
      "metadata": {
        "id": "roPHki42wD8d",
        "outputId": "938999b5-e99e-4eeb-fca4-c5cecf8fbd3e",
        "colab": {
          "base_uri": "https://localhost:8080/"
        }
      },
      "execution_count": null,
      "outputs": [
        {
          "output_type": "execute_result",
          "data": {
            "text/plain": [
              "[11, 22, 33]"
            ]
          },
          "metadata": {},
          "execution_count": 2
        }
      ]
    },
    {
      "cell_type": "code",
      "source": [
        "cmp(3,1) # Returns a random float number between two given parameters"
      ],
      "metadata": {
        "id": "HDrQ052TwGB1",
        "colab": {
          "base_uri": "https://localhost:8080/",
          "height": 166
        },
        "outputId": "67300af5-80a8-43a7-e4b1-9262de161796"
      },
      "execution_count": null,
      "outputs": [
        {
          "output_type": "error",
          "ename": "NameError",
          "evalue": "ignored",
          "traceback": [
            "\u001b[0;31m---------------------------------------------------------------------------\u001b[0m",
            "\u001b[0;31mNameError\u001b[0m                                 Traceback (most recent call last)",
            "\u001b[0;32m<ipython-input-1-2dadf293bad4>\u001b[0m in \u001b[0;36m<module>\u001b[0;34m()\u001b[0m\n\u001b[0;32m----> 1\u001b[0;31m \u001b[0mcmp\u001b[0m\u001b[0;34m(\u001b[0m\u001b[0;36m3\u001b[0m\u001b[0;34m,\u001b[0m\u001b[0;36m1\u001b[0m\u001b[0;34m)\u001b[0m \u001b[0;31m# Returns a random float number between two given parameters\u001b[0m\u001b[0;34m\u001b[0m\u001b[0;34m\u001b[0m\u001b[0m\n\u001b[0m",
            "\u001b[0;31mNameError\u001b[0m: name 'cmp' is not defined"
          ]
        }
      ]
    },
    {
      "cell_type": "code",
      "source": [
        "bool('sa')"
      ],
      "metadata": {
        "colab": {
          "base_uri": "https://localhost:8080/"
        },
        "id": "rKfFu96GQNz5",
        "outputId": "485479a0-db81-4481-fead-892e0096f431"
      },
      "execution_count": null,
      "outputs": [
        {
          "output_type": "execute_result",
          "data": {
            "text/plain": [
              "True"
            ]
          },
          "metadata": {},
          "execution_count": 2
        }
      ]
    },
    {
      "cell_type": "code",
      "source": [
        "['p','t'][bool('ra')] "
      ],
      "metadata": {
        "colab": {
          "base_uri": "https://localhost:8080/",
          "height": 35
        },
        "id": "jupKdzPFQXTH",
        "outputId": "5dd399e6-e80c-4846-bee3-a4528e21d96e"
      },
      "execution_count": null,
      "outputs": [
        {
          "output_type": "execute_result",
          "data": {
            "application/vnd.google.colaboratory.intrinsic+json": {
              "type": "string"
            },
            "text/plain": [
              "'t'"
            ]
          },
          "metadata": {},
          "execution_count": 8
        }
      ]
    },
    {
      "cell_type": "code",
      "source": [
        "['p','t'][bool(3<1)] # if false first elemebnt"
      ],
      "metadata": {
        "colab": {
          "base_uri": "https://localhost:8080/",
          "height": 35
        },
        "id": "ullgv7d9QlNR",
        "outputId": "41ece46f-92c3-400b-c7ec-e1987823aba8"
      },
      "execution_count": null,
      "outputs": [
        {
          "output_type": "execute_result",
          "data": {
            "application/vnd.google.colaboratory.intrinsic+json": {
              "type": "string"
            },
            "text/plain": [
              "'p'"
            ]
          },
          "metadata": {},
          "execution_count": 9
        }
      ]
    },
    {
      "cell_type": "code",
      "source": [
        "{} or []"
      ],
      "metadata": {
        "colab": {
          "base_uri": "https://localhost:8080/"
        },
        "id": "CF7ENLBoRJAp",
        "outputId": "5e7ab5f3-ad90-4584-8869-479746d29a47"
      },
      "execution_count": null,
      "outputs": [
        {
          "output_type": "execute_result",
          "data": {
            "text/plain": [
              "[]"
            ]
          },
          "metadata": {},
          "execution_count": 13
        }
      ]
    },
    {
      "cell_type": "code",
      "source": [
        "a = 90\n",
        "b = 20\n",
        " \n",
        "if(a<b):\n",
        "  pass\n",
        "else:\n",
        "  print(\"b<a\")"
      ],
      "metadata": {
        "colab": {
          "base_uri": "https://localhost:8080/"
        },
        "id": "TBn5mRnoRKLj",
        "outputId": "5a414661-96ea-4d88-d399-05491874743a"
      },
      "execution_count": null,
      "outputs": [
        {
          "output_type": "stream",
          "name": "stdout",
          "text": [
            "b<a\n"
          ]
        }
      ]
    },
    {
      "cell_type": "code",
      "source": [
        "li =['a', 'b', 'c', 'd']\n",
        " \n",
        "for i in li:\n",
        "    if(i =='a'):\n",
        "        pass\n",
        "    else:\n",
        "        print(i)"
      ],
      "metadata": {
        "colab": {
          "base_uri": "https://localhost:8080/"
        },
        "id": "x3pkN6f0d4kG",
        "outputId": "3ce4325a-687c-4c0b-ad25-b6c653a82bbc"
      },
      "execution_count": null,
      "outputs": [
        {
          "output_type": "stream",
          "name": "stdout",
          "text": [
            "b\n",
            "c\n",
            "d\n"
          ]
        }
      ]
    },
    {
      "cell_type": "code",
      "source": [
        "li =['a', 'b', 'c', 'd']\n",
        " \n",
        "for i in li:\n",
        "    if(i =='c'):\n",
        "        continue\n",
        "    else:\n",
        "        print(i)"
      ],
      "metadata": {
        "colab": {
          "base_uri": "https://localhost:8080/"
        },
        "id": "9Kzj5cB6d_uZ",
        "outputId": "38a24076-a154-45b0-a276-a6763f70369f"
      },
      "execution_count": null,
      "outputs": [
        {
          "output_type": "stream",
          "name": "stdout",
          "text": [
            "a\n",
            "b\n",
            "d\n"
          ]
        }
      ]
    },
    {
      "cell_type": "code",
      "source": [
        "li =['a', 'b', 'c', 'd']\n",
        " \n",
        "for i in li:\n",
        "    if(i =='c'):\n",
        "        break\n",
        "    else:\n",
        "        print(i)"
      ],
      "metadata": {
        "colab": {
          "base_uri": "https://localhost:8080/"
        },
        "id": "HA-2VIdzeHQ6",
        "outputId": "52e9edd6-3809-4c63-90d9-70208c420978"
      },
      "execution_count": null,
      "outputs": [
        {
          "output_type": "stream",
          "name": "stdout",
          "text": [
            "a\n",
            "b\n"
          ]
        }
      ]
    },
    {
      "cell_type": "code",
      "source": [
        "li =['a', 'b', 'c', 'd']\n",
        " \n",
        "for i in li:\n",
        "    if(i =='c'):\n",
        "        pass # you don't know what you want to do when it is true, so for now you pass\n",
        "    else:\n",
        "        print(i)"
      ],
      "metadata": {
        "colab": {
          "base_uri": "https://localhost:8080/"
        },
        "id": "JS2MF6_WeYJP",
        "outputId": "fa36bb36-2a5e-4a51-ad3a-9cf82e5011b3"
      },
      "execution_count": null,
      "outputs": [
        {
          "output_type": "stream",
          "name": "stdout",
          "text": [
            "a\n",
            "b\n",
            "d\n"
          ]
        }
      ]
    },
    {
      "cell_type": "code",
      "source": [
        "def fn():\n",
        "  # i am creating it but not sure on it's use it so will pass\n",
        "  pass"
      ],
      "metadata": {
        "id": "e6dboMRseZDB"
      },
      "execution_count": null,
      "outputs": []
    },
    {
      "cell_type": "code",
      "source": [],
      "metadata": {
        "id": "mpdndsndeuor"
      },
      "execution_count": null,
      "outputs": []
    }
  ],
  "metadata": {
    "kernelspec": {
      "display_name": "Python 3",
      "language": "python",
      "name": "python3"
    },
    "language_info": {
      "codemirror_mode": {
        "name": "ipython",
        "version": 3
      },
      "file_extension": ".py",
      "mimetype": "text/x-python",
      "name": "python",
      "nbconvert_exporter": "python",
      "pygments_lexer": "ipython3",
      "version": "3.7.4"
    },
    "colab": {
      "provenance": [],
      "include_colab_link": true
    }
  },
  "nbformat": 4,
  "nbformat_minor": 0
}