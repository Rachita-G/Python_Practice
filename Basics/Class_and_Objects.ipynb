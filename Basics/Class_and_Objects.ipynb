{
  "nbformat": 4,
  "nbformat_minor": 0,
  "metadata": {
    "colab": {
      "provenance": [],
      "collapsed_sections": [],
      "authorship_tag": "ABX9TyOpdzvKWEmgfNHk7RnS/Bec",
      "include_colab_link": true
    },
    "kernelspec": {
      "name": "python3",
      "display_name": "Python 3"
    },
    "language_info": {
      "name": "python"
    }
  },
  "cells": [
    {
      "cell_type": "markdown",
      "metadata": {
        "id": "view-in-github",
        "colab_type": "text"
      },
      "source": [
        "<a href=\"https://colab.research.google.com/github/Rachita-G/Python_Practice/blob/main/Basics/Class_and_Objects.ipynb\" target=\"_parent\"><img src=\"https://colab.research.google.com/assets/colab-badge.svg\" alt=\"Open In Colab\"/></a>"
      ]
    },
    {
      "cell_type": "markdown",
      "source": [
        "# OOPS\n",
        "\n",
        "If human is object. name, age of person is attrubute.  actions of person like speaking talking is behavior. where you can store the data. to save something to object - we define variables. if we need to define behavior we need to define methods. (functions in OOP is called functions).\n",
        "\n",
        "The place where object is designed/made a blueprint is called a class. ex: a phone is designed once and then manufactured multiple times.\n"
      ],
      "metadata": {
        "id": "0K07-droaJeW"
      }
    },
    {
      "cell_type": "markdown",
      "source": [
        "# Properties of OOPS\n",
        "1. Encapsulation - Encapsulation is the mechanism of hiding of data implementation by restricting access to public methods. Instance variables are kept private and accessor methods are made public to achieve this.\n",
        "2. Abstraction - Abstract means a concept or an Idea which is not associated with any particular instance. Using abstract class/Interface we express the intent of the class rather than the actual implementation. In a way, one class should not know the inner details of another in order to use it, just knowing the interfaces should be good enough.\n",
        "3. Inheritance - Inheritances expresses “is-a” and/or “has-a” relationship between two objects. Using Inheritance, In derived classes we can reuse the code of existing super classes.\n",
        "4. Polymorphism - It means one name many forms. It is further of two types — static and dynamic. Static polymorphism is achieved using method overloading and dynamic polymorphism using method overriding. It is closely related to inheritance. We can write a code that works on the superclass, and it will work with any subclass type as well."
      ],
      "metadata": {
        "id": "vmkT1USVPRnv"
      }
    },
    {
      "cell_type": "code",
      "source": [
        "class Comp:\n",
        "    def config(self): # function under a class is a method\n",
        "        print('i5','1tb')\n",
        "r1=Comp() # default python constructor\n",
        "print(type(r1)) # module name is __main__ in a class called comp"
      ],
      "metadata": {
        "colab": {
          "base_uri": "https://localhost:8080/"
        },
        "id": "O1TlM_E0cSN1",
        "outputId": "5ca97e49-614f-4cc1-8a37-607676906113"
      },
      "execution_count": 3,
      "outputs": [
        {
          "output_type": "stream",
          "name": "stdout",
          "text": [
            "<class '__main__.Comp'>\n"
          ]
        }
      ]
    },
    {
      "cell_type": "code",
      "source": [
        "a = 'string'\n",
        "print(type(a)) # just that this is inbuilt"
      ],
      "metadata": {
        "colab": {
          "base_uri": "https://localhost:8080/"
        },
        "id": "v35M2u4oc3L1",
        "outputId": "f57687a7-61b2-4a40-ec22-1aa16e1a69dd"
      },
      "execution_count": 4,
      "outputs": [
        {
          "output_type": "stream",
          "name": "stdout",
          "text": [
            "<class 'str'>\n"
          ]
        }
      ]
    },
    {
      "cell_type": "code",
      "source": [
        "class Comp:\n",
        "    def config(self): # function under a class is a method. This will change it's behavior based on the object\n",
        "        print('i5','1tb')\n",
        "# config() # gives error! - it is under class\n",
        "# Comp.config() # gives error! - one lass can have multiple objects\n",
        "com = Comp() # you need to specify for which object you want to know the behavior\n",
        "com.config()\n",
        "Comp.config(com) # another way than above\n",
        "Comp().config()  # another way than above"
      ],
      "metadata": {
        "colab": {
          "base_uri": "https://localhost:8080/"
        },
        "id": "XKAS8qrkfR-u",
        "outputId": "143de619-55c9-4067-ef38-95362bf48489"
      },
      "execution_count": 2,
      "outputs": [
        {
          "output_type": "stream",
          "name": "stdout",
          "text": [
            "i5 1tb\n",
            "i5 1tb\n",
            "i5 1tb\n"
          ]
        }
      ]
    },
    {
      "cell_type": "code",
      "source": [
        "# __name__ is a special variable and __init__ is a special methods.\n",
        "# __init__ is used to initialise the variables\n",
        "# __init__ is called automatically as opposed to other functions in a class"
      ],
      "metadata": {
        "id": "We9d9_7sg4js"
      },
      "execution_count": 6,
      "outputs": []
    },
    {
      "cell_type": "code",
      "execution_count": 8,
      "metadata": {
        "colab": {
          "base_uri": "https://localhost:8080/"
        },
        "id": "HlMy2yQ8EkSy",
        "outputId": "5e3e60c3-4f07-42ab-be80-57868f1afbf4"
      },
      "outputs": [
        {
          "output_type": "stream",
          "name": "stdout",
          "text": [
            "My name is Tom\n",
            "My fav color is red\n"
          ]
        }
      ],
      "source": [
        "class Robot:\n",
        "    def introduce(self): # function under a class is a method\n",
        "        print('My name is '+self.name)\n",
        "        print('My fav color is '+ self.color)\n",
        "r1=Robot() # default python constructor\n",
        "r1.name='Tom' \n",
        "\n",
        "r1.color='red' # setting attributes\n",
        "r1.introduce() # calling a method. "
      ]
    },
    {
      "cell_type": "code",
      "source": [
        "r2= Robot()\n",
        "r2.namee='Cat'\n",
        "# r2.introduce() # gives error"
      ],
      "metadata": {
        "id": "6HzKNl4MElN0"
      },
      "execution_count": 9,
      "outputs": []
    },
    {
      "cell_type": "code",
      "source": [
        "# Fixing the issue by making the constructor and removing repititive coding\n",
        "class Robot:\n",
        "    def __init__(self,name,color): # custom constructor #self is our object which is assigned as r1 after\n",
        "        self.name=name\n",
        "        self.color=color\n",
        "        print('robot init')\n",
        "    def introduce(self): # function under a class is a method\n",
        "        print('My name is '+self.name)  \n",
        "r1=Robot('Tom','red') # creates a new object. \n",
        "r1.introduce() # same as Robot.introduce(r1, name, color)\n",
        "r2=Robot('Cat','blue')\n",
        "r2.introduce()"
      ],
      "metadata": {
        "colab": {
          "base_uri": "https://localhost:8080/"
        },
        "id": "z7YPESOAEwMm",
        "outputId": "0895b5da-3e78-4435-b83b-8d411f3b4000"
      },
      "execution_count": null,
      "outputs": [
        {
          "output_type": "stream",
          "name": "stdout",
          "text": [
            "robot init\n",
            "My name is Tom\n",
            "robot init\n",
            "My name is Cat\n"
          ]
        }
      ]
    },
    {
      "cell_type": "code",
      "source": [
        "class Robot:\n",
        "    def __init__(self): # custom constructor #self is our object which is assigned as r1 after\n",
        "        self.name='rachita'\n",
        "        self.color='green'\n",
        "    def introduce(self): # function under a class is a method\n",
        "        print('My name is '+self.name +' and my fav color is '+ self.color)  \n",
        "    def update(self):\n",
        "      self.color = 'red'\n",
        "    def compare(self, other): # to compare the two objects one is self and other is \"other\"\n",
        "        if self.color == other.color:\n",
        "          return True\n",
        "        else:\n",
        "          return False\n",
        "r1=Robot() # creates a new object. \n",
        "r1.name = 'sanjana'\n",
        "r1.introduce() \n",
        "r2=Robot()\n",
        "r2.update()\n",
        "r2.introduce()\n",
        "r2.compare(r1)"
      ],
      "metadata": {
        "colab": {
          "base_uri": "https://localhost:8080/"
        },
        "id": "YViI3mEf0GoT",
        "outputId": "5f427df8-13df-492e-a745-21c0ebbf0ec5"
      },
      "execution_count": null,
      "outputs": [
        {
          "output_type": "stream",
          "name": "stdout",
          "text": [
            "My name is sanjana and my fav color is green\n",
            "My name is rachita and my fav color is red\n"
          ]
        },
        {
          "output_type": "execute_result",
          "data": {
            "text/plain": [
              "False"
            ]
          },
          "metadata": {},
          "execution_count": 101
        }
      ]
    },
    {
      "cell_type": "markdown",
      "source": [
        "# Instance vs Class/Static Variable\n",
        "\n",
        "variables inside init function are instance variables and outside init after class defined is class variable\n",
        "\n",
        "instance variable can be changed for each object differently but for class object once changed will be reflected for all its objects\n",
        "\n",
        "Namespace is an area where you create and sttore object or variable\n",
        "it can be class namespace or object/instance namespace where you place the respective namespaces\n"
      ],
      "metadata": {
        "id": "sBDUGKpX3Jrx"
      }
    },
    {
      "cell_type": "code",
      "source": [
        "class Cars:\n",
        "    wheels = 4 \n",
        "    def __init__(self): # custom constructor #self is our object which is assigned as r1 after\n",
        "        self.mil=10\n",
        "        self.color='green'\n",
        "c1= Cars()\n",
        "c2 = Cars()\n",
        "c1.mil = 11\n",
        "print(c1.mil, c1.color, c1.wheels)\n",
        "print(c2.mil, c2.color, c2.wheels)\n",
        "\n",
        "Cars.wheels = 5\n",
        "print(c1.mil, c1.color, c1.wheels)\n",
        "print(c2.mil, c2.color, c2.wheels)"
      ],
      "metadata": {
        "colab": {
          "base_uri": "https://localhost:8080/"
        },
        "id": "t5VEFCf_3T7J",
        "outputId": "7951bab1-decb-465c-a614-5993391c6409"
      },
      "execution_count": null,
      "outputs": [
        {
          "output_type": "stream",
          "name": "stdout",
          "text": [
            "11 green 4\n",
            "10 green 4\n",
            "11 green 5\n",
            "10 green 5\n"
          ]
        }
      ]
    },
    {
      "cell_type": "code",
      "source": [
        "class computer:\n",
        "  pass\n",
        "c = computer()\n",
        "print(id(c)) # address of the class in the heap memory\n",
        "d = computer()\n",
        "print(id(d))\n",
        "# size of object depends on the number of variables and size of an object\n",
        "# constructor allocates the size of the memory"
      ],
      "metadata": {
        "colab": {
          "base_uri": "https://localhost:8080/"
        },
        "id": "x7xwaRDcu7vm",
        "outputId": "2a6ceaa2-db44-46e7-96d1-29bc748d1898"
      },
      "execution_count": null,
      "outputs": [
        {
          "output_type": "stream",
          "name": "stdout",
          "text": [
            "140257229424016\n",
            "140257229424912\n"
          ]
        }
      ]
    },
    {
      "cell_type": "markdown",
      "source": [
        "# Type of Methods\n",
        "1. Instance Method\n",
        "2. Class Method\n",
        "3. Static Method"
      ],
      "metadata": {
        "id": "OaFTqn396lEZ"
      }
    },
    {
      "cell_type": "code",
      "source": [
        "class Person:\n",
        "    def __init__(self,n,p,i):\n",
        "        self.name=n\n",
        "        self.personality=p\n",
        "        self.is_sitting=i\n",
        "    def sit_down(self): # this is a instance method as self and belongs to a specific object\n",
        "        self.is_sitting=True\n",
        "    def stand_up(self):\n",
        "        self.is_sitting=False\n",
        "p1=Person('Alice','aggressive',False)\n",
        "p2=Person('Becky','talkative',True)\n",
        "p1.robot_owned=r2 # defining interactivity\n",
        "p2.robot_owned=r1\n",
        "p1.robot_owned.introduce()\n",
        "\n",
        "# fetch value fo instance is accesses /getters  and change the value is mutator/setters methods"
      ],
      "metadata": {
        "colab": {
          "base_uri": "https://localhost:8080/"
        },
        "id": "y5wEXDRYFHmQ",
        "outputId": "e66d6cd0-41e8-43f4-f82d-eb60dc2c1afc"
      },
      "execution_count": null,
      "outputs": [
        {
          "output_type": "stream",
          "name": "stdout",
          "text": [
            "My name is Cat\n"
          ]
        }
      ]
    },
    {
      "cell_type": "code",
      "source": [
        "class Cars:\n",
        "    wheels = 4 \n",
        "    def __init__(self): # custom constructor #self is our object which is assigned as r1 after\n",
        "        self.mil=10\n",
        "        self.color='green'\n",
        "    def tot(cls): # class method\n",
        "        print(cls.wheels)\n",
        "c1= Cars()\n",
        "print(c1.mil, c1.color, c1.wheels)\n",
        "c1.tot()"
      ],
      "metadata": {
        "colab": {
          "base_uri": "https://localhost:8080/"
        },
        "id": "flF21KKv6HjZ",
        "outputId": "cc600a21-e029-411e-dce0-ad1adc86cde2"
      },
      "execution_count": null,
      "outputs": [
        {
          "output_type": "stream",
          "name": "stdout",
          "text": [
            "10 green 4\n",
            "4\n"
          ]
        }
      ]
    },
    {
      "cell_type": "code",
      "source": [
        "class Cars:\n",
        "    wheels = 4 \n",
        "    def __init__(self): # custom constructor #self is our object which is assigned as r1 after\n",
        "        self.mil=10\n",
        "        self.color='green'\n",
        "    @classmethod\n",
        "    def tot(cls): # class method\n",
        "        print(cls.wheels)\n",
        "c1= Cars()\n",
        "Cars.tot()"
      ],
      "metadata": {
        "colab": {
          "base_uri": "https://localhost:8080/"
        },
        "id": "OSCLcU6r7DGy",
        "outputId": "f4d30bf5-41a9-4d78-be65-fc492b5eb819"
      },
      "execution_count": null,
      "outputs": [
        {
          "output_type": "stream",
          "name": "stdout",
          "text": [
            "4\n"
          ]
        }
      ]
    },
    {
      "cell_type": "code",
      "source": [
        "class Cars:\n",
        "    wheels = 4 \n",
        "    def __init__(self): # custom constructor #self is our object which is assigned as r1 after\n",
        "        self.mil=10\n",
        "        self.color='green'\n",
        "    @staticmethod\n",
        "    def static(): # static method\n",
        "        print('This is a class named as Cars')\n",
        "c1= Cars()\n",
        "Cars.static()"
      ],
      "metadata": {
        "colab": {
          "base_uri": "https://localhost:8080/"
        },
        "id": "yNbYh-Bi7n2E",
        "outputId": "4d243cd9-755b-4b4f-cb27-7c4694c45d65"
      },
      "execution_count": null,
      "outputs": [
        {
          "output_type": "stream",
          "name": "stdout",
          "text": [
            "This is a class named as Cars\n"
          ]
        }
      ]
    },
    {
      "cell_type": "markdown",
      "source": [
        "## Inner Class"
      ],
      "metadata": {
        "id": "_MjYszE88AIV"
      }
    },
    {
      "cell_type": "code",
      "source": [
        "class student:\n",
        "  def __init__(self, name, age):\n",
        "    self.name = name\n",
        "    self.age = age\n",
        "\n",
        "  def show(self):\n",
        "    print(self.name, self.age)\n",
        "\n",
        "s1= student('rachita', 22)\n",
        "s1.show()"
      ],
      "metadata": {
        "colab": {
          "base_uri": "https://localhost:8080/"
        },
        "id": "ugM0_veY8MK9",
        "outputId": "58170bcc-cb1e-4f72-f862-c024e88b1012"
      },
      "execution_count": null,
      "outputs": [
        {
          "output_type": "stream",
          "name": "stdout",
          "text": [
            "rachita 22\n"
          ]
        }
      ]
    },
    {
      "cell_type": "code",
      "source": [
        "class Student:\n",
        "  def __init__(self, name, age):\n",
        "    self.name = name\n",
        "    self.age = age\n",
        "    # self.subject = Subjects()\n",
        "\n",
        "  def show(self):\n",
        "    print(self.name, self.age)\n",
        "    # print(self.subject)\n",
        "\n",
        "  \n",
        "  class Subjects:\n",
        "    def __init__(self, subject, marks):\n",
        "      self.subject = subject\n",
        "      self.marks = marks\n",
        "\n",
        "    def show(self):\n",
        "      print(self.subject, self.marks)\n",
        "\n",
        "s1= Student('rachita', 22)\n",
        "s1.show()\n",
        "s2 = Student.Subjects('maths', 90)\n",
        "s2.show()"
      ],
      "metadata": {
        "colab": {
          "base_uri": "https://localhost:8080/"
        },
        "id": "SBE8xmiy9Pn7",
        "outputId": "332707b8-f3d2-42bf-e97f-f63a647fe3e6"
      },
      "execution_count": null,
      "outputs": [
        {
          "output_type": "stream",
          "name": "stdout",
          "text": [
            "rachita 22\n",
            "maths 90\n"
          ]
        }
      ]
    },
    {
      "cell_type": "code",
      "source": [
        "class Student:\n",
        "  def __init__(self, name, age):\n",
        "    self.name = name\n",
        "    self.age = age\n",
        "    self.subject = self.Subjects()\n",
        "\n",
        "  def show(self):\n",
        "    print(self.name, self.age)\n",
        "    self.subject.show()\n",
        "\n",
        "  class Subjects:\n",
        "    def __init__(self):\n",
        "      self.subject = 'maths'\n",
        "      self.marks = 90\n",
        "\n",
        "    def show(self):\n",
        "      print(self.subject, self.marks)\n",
        "\n",
        "s1= Student('rachita', 22)\n",
        "s1.show()"
      ],
      "metadata": {
        "colab": {
          "base_uri": "https://localhost:8080/"
        },
        "id": "mVF5C7WM-Ske",
        "outputId": "d84a7874-20d7-409a-fa0a-e162eb1d3f68"
      },
      "execution_count": null,
      "outputs": [
        {
          "output_type": "stream",
          "name": "stdout",
          "text": [
            "rachita 22\n",
            "maths 90\n"
          ]
        }
      ]
    },
    {
      "cell_type": "markdown",
      "source": [
        "## Inheritance"
      ],
      "metadata": {
        "id": "gSTHlyNcK5uK"
      }
    },
    {
      "cell_type": "markdown",
      "source": [
        "Single inheritance: When a child class inherits from only one parent class, it is called single inheritance"
      ],
      "metadata": {
        "id": "HUdJGloQMmJZ"
      }
    },
    {
      "cell_type": "code",
      "source": [
        "# single level inheritance\n",
        "class grandparent():\n",
        "  def f1(self):\n",
        "    print('this is function 1')\n",
        "  def f2(self):\n",
        "    print('this is function 2')\n",
        "\n",
        "class parent(grandparent): # parent is inheriting functions from grandparent\n",
        "  def f3(self):\n",
        "    print('this is function 3')\n",
        "  def f4(self):\n",
        "    print('this is function 4')"
      ],
      "metadata": {
        "id": "gR07-CW8JAyz"
      },
      "execution_count": null,
      "outputs": []
    },
    {
      "cell_type": "code",
      "source": [
        "# create object\n",
        "constructor1 = parent()\n",
        "constructor1.f1()"
      ],
      "metadata": {
        "colab": {
          "base_uri": "https://localhost:8080/"
        },
        "id": "mxgsLidpJi1X",
        "outputId": "0f76028e-e71f-42f9-8151-1b2860ea4ef3"
      },
      "execution_count": null,
      "outputs": [
        {
          "output_type": "stream",
          "name": "stdout",
          "text": [
            "this is function 1\n"
          ]
        }
      ]
    },
    {
      "cell_type": "markdown",
      "source": [
        "When we have a child and grandchild relationship."
      ],
      "metadata": {
        "id": "2jJdXa6aMxB8"
      }
    },
    {
      "cell_type": "code",
      "source": [
        "# multi level inheritance\n",
        "class grandparent():\n",
        "  def f1(self):\n",
        "    print('this is function 1')\n",
        "  def f2(self):\n",
        "    print('this is function 2')\n",
        "\n",
        "class parent(grandparent): \n",
        "  def f3(self):\n",
        "    print('this is function 3')\n",
        "  def f4(self):\n",
        "    print('this is function 4')\n",
        "\n",
        "class child(parent):\n",
        "  def f5(self):\n",
        "    print('this is function 5')\n",
        "  def f6(self):\n",
        "    print('this is function 6')"
      ],
      "metadata": {
        "id": "Ak7cSFOyKF7f"
      },
      "execution_count": null,
      "outputs": []
    },
    {
      "cell_type": "code",
      "source": [
        "# create object\n",
        "constructor2 = parent()\n",
        "constructor2.f1()\n",
        "# constructor2.f5() # gives error"
      ],
      "metadata": {
        "colab": {
          "base_uri": "https://localhost:8080/"
        },
        "id": "9in-7KQEKGDa",
        "outputId": "a7592618-f294-45cf-80e9-3de309840b90"
      },
      "execution_count": null,
      "outputs": [
        {
          "output_type": "stream",
          "name": "stdout",
          "text": [
            "this is function 1\n"
          ]
        }
      ]
    },
    {
      "cell_type": "markdown",
      "source": [
        "When a child class inherits from multiple parent classes, it is called multiple inheritance. "
      ],
      "metadata": {
        "id": "8HVS5L0NMq1Q"
      }
    },
    {
      "cell_type": "code",
      "source": [
        "# multiple inheritance\n",
        "class grandparent():\n",
        "  def f1(self):\n",
        "    print('this is function 1')\n",
        "  def f2(self):\n",
        "    print('this is function 2')\n",
        "\n",
        "class parent(): \n",
        "  def f3(self):\n",
        "    print('this is function 3')\n",
        "  def f4(self):\n",
        "    print('this is function 4')\n",
        "\n",
        "class child(parent,grandparent):\n",
        "  def f5(self):\n",
        "    print('this is function 5')\n",
        "  def f6(self):\n",
        "    print('this is function 6')"
      ],
      "metadata": {
        "id": "jSVZdLFBKfNv"
      },
      "execution_count": null,
      "outputs": []
    },
    {
      "cell_type": "code",
      "source": [
        "# create object\n",
        "constructor3 = child()\n",
        "constructor3.f1()\n",
        "constructor3.f3()"
      ],
      "metadata": {
        "colab": {
          "base_uri": "https://localhost:8080/"
        },
        "id": "TisPP1c3N8tG",
        "outputId": "10882fc8-edf4-415d-da98-ae9138004ef7"
      },
      "execution_count": null,
      "outputs": [
        {
          "output_type": "stream",
          "name": "stdout",
          "text": [
            "this is function 1\n",
            "this is function 3\n"
          ]
        }
      ]
    },
    {
      "cell_type": "markdown",
      "source": [
        "# Constructor in Inheritance\n",
        "\n",
        "If yu create a object of subclass it will first try to find init of subclass and if not found checks and calls from parent class\n",
        "To access all features of the parent class in init -- use super().init"
      ],
      "metadata": {
        "id": "npnel_-TOEY-"
      }
    },
    {
      "cell_type": "code",
      "source": [
        "# multiple inheritance\n",
        "class grandparent():\n",
        "  def __init__(self):\n",
        "    print('in a init')\n",
        "  def f1(self):\n",
        "    print('this is function 1')\n",
        "  def f2(self):\n",
        "    print('this is function 2')\n",
        "\n",
        "class parent(grandparent): \n",
        "  def f3(self):\n",
        "    print('this is function 3')\n",
        "  def f4(self):\n",
        "    print('this is function 4')"
      ],
      "metadata": {
        "id": "viLlONiGKmeP"
      },
      "execution_count": null,
      "outputs": []
    },
    {
      "cell_type": "code",
      "source": [
        "# create object\n",
        "constructor3 = parent()"
      ],
      "metadata": {
        "colab": {
          "base_uri": "https://localhost:8080/"
        },
        "id": "KJ8QFNd-Nk09",
        "outputId": "55697b57-a87f-4306-9948-222d858c301a"
      },
      "execution_count": null,
      "outputs": [
        {
          "output_type": "stream",
          "name": "stdout",
          "text": [
            "in a init\n"
          ]
        }
      ]
    },
    {
      "cell_type": "code",
      "source": [
        "class grandparent():\n",
        "  def __init__(self):\n",
        "    print('in a init')\n",
        "  def f1(self):\n",
        "    print('this is function 1')\n",
        "  def f2(self):\n",
        "    print('this is function 2')\n",
        "\n",
        "class parent(grandparent):\n",
        "  def __init__(self):\n",
        "    print('in b init') \n",
        "  def f3(self):\n",
        "    print('this is function 3')\n",
        "  def f4(self):\n",
        "    print('this is function 4')"
      ],
      "metadata": {
        "id": "F7ZUjntENnE1"
      },
      "execution_count": null,
      "outputs": []
    },
    {
      "cell_type": "code",
      "source": [
        "# create object\n",
        "constructor3 = parent()"
      ],
      "metadata": {
        "colab": {
          "base_uri": "https://localhost:8080/"
        },
        "id": "Au4Ihz8zNx4s",
        "outputId": "4d39049f-1f8b-4741-f2e2-7f4abd307a82"
      },
      "execution_count": null,
      "outputs": [
        {
          "output_type": "stream",
          "name": "stdout",
          "text": [
            "in b init\n"
          ]
        }
      ]
    },
    {
      "cell_type": "code",
      "source": [
        "# to access the init of superclass as well\n",
        "class grandparent():\n",
        "  def __init__(self):\n",
        "    print('in a init')\n",
        "  def f1(self):\n",
        "    print('this is function 1')\n",
        "  def f2(self):\n",
        "    print('this is function 2')\n",
        "\n",
        "class parent(grandparent):\n",
        "  def __init__(self):\n",
        "    super().__init__()\n",
        "    print('in b init') \n",
        "  def f3(self):\n",
        "    print('this is function 3')\n",
        "  def f4(self):\n",
        "    print('this is function 4')"
      ],
      "metadata": {
        "id": "oB2jiQr7NzAF"
      },
      "execution_count": null,
      "outputs": []
    },
    {
      "cell_type": "code",
      "source": [
        "# create object\n",
        "constructor3 = parent()"
      ],
      "metadata": {
        "colab": {
          "base_uri": "https://localhost:8080/"
        },
        "id": "POFQQ56OPdjP",
        "outputId": "8c011ad9-38fc-46cf-abcc-4d819640383b"
      },
      "execution_count": null,
      "outputs": [
        {
          "output_type": "stream",
          "name": "stdout",
          "text": [
            "in a init\n",
            "in b init\n"
          ]
        }
      ]
    },
    {
      "cell_type": "code",
      "source": [
        "class grandparent():\n",
        "  def __init__(self):\n",
        "    print('in a init')\n",
        "  def f1(self):\n",
        "    print('this is function 1')\n",
        "  def f2(self):\n",
        "    print('this is function 2')\n",
        "\n",
        "class parent(): \n",
        "  def __init__(self):\n",
        "    print('in b init')\n",
        "  def f3(self):\n",
        "    print('this is function 3')\n",
        "  def f4(self):\n",
        "    print('this is function 4')\n",
        "\n",
        "class child(parent,grandparent):\n",
        "  def __init__(self):\n",
        "    print('in c init')\n",
        "  def f5(self):\n",
        "    print('this is function 5')\n",
        "  def f6(self):\n",
        "    print('this is function 6')\n",
        "\n",
        "# create object\n",
        "x = child()"
      ],
      "metadata": {
        "colab": {
          "base_uri": "https://localhost:8080/"
        },
        "id": "I-GWRRgdPeE2",
        "outputId": "8ed2e55d-bc07-407b-ddde-9cd4b2d5eee4"
      },
      "execution_count": null,
      "outputs": [
        {
          "output_type": "stream",
          "name": "stdout",
          "text": [
            "in c init\n"
          ]
        }
      ]
    },
    {
      "cell_type": "code",
      "source": [
        "class grandparent():\n",
        "  def __init__(self):\n",
        "    print('in a init')\n",
        "  def f1(self):\n",
        "    print('this is function 1a')\n",
        "  def f2(self):\n",
        "    print('this is function 2')\n",
        "\n",
        "class parent(): \n",
        "  def __init__(self):\n",
        "    print('in b init')\n",
        "  def f1(self):\n",
        "    print('this is function 1b')\n",
        "  def f4(self):\n",
        "    print('this is function 4')\n",
        "\n",
        "class child(grandparent, parent):\n",
        "  def __init__(self):\n",
        "    super().__init__() # method resolution order (MRO) fild the class from left to right\n",
        "    print('in c init')\n",
        "  def f5(self):\n",
        "    print('this is function 5')\n",
        "  def f6(self):\n",
        "    print('this is function 6')\n",
        "\n",
        "# create object\n",
        "x = child()\n",
        "x.f1() # will call from left class called first\n",
        "x.f4()"
      ],
      "metadata": {
        "colab": {
          "base_uri": "https://localhost:8080/"
        },
        "id": "lPhDfwpgP9X1",
        "outputId": "b3be6acd-9e6f-4a8a-e8df-e10dc467ee0f"
      },
      "execution_count": null,
      "outputs": [
        {
          "output_type": "stream",
          "name": "stdout",
          "text": [
            "in a init\n",
            "in c init\n",
            "this is function 1a\n",
            "this is function 4\n"
          ]
        }
      ]
    },
    {
      "cell_type": "code",
      "source": [
        "# to access the init of superclass as well\n",
        "class grandparent():\n",
        "  def __init__(self):\n",
        "    print('in a init')\n",
        "  def f1(self):\n",
        "    print('this is function 1')\n",
        "  def f2(self):\n",
        "    print('this is function 2')\n",
        "\n",
        "class parent(grandparent):\n",
        "  def __init__(self):\n",
        "    super().__init__()\n",
        "    print('in b init') \n",
        "  def f3(self):\n",
        "    print('this is function 3')\n",
        "  def f4(self):\n",
        "    super().f2() # can also call super functions in super class\n",
        "    print('this is function 4')\n",
        "\n",
        "x = parent()\n",
        "x.f4()"
      ],
      "metadata": {
        "colab": {
          "base_uri": "https://localhost:8080/"
        },
        "id": "v4Ouur5SQF9_",
        "outputId": "9faf8730-b9ad-40ae-dff5-695def6fd94a"
      },
      "execution_count": null,
      "outputs": [
        {
          "output_type": "stream",
          "name": "stdout",
          "text": [
            "in a init\n",
            "in b init\n",
            "this is function 2\n",
            "this is function 4\n"
          ]
        }
      ]
    },
    {
      "cell_type": "code",
      "source": [
        "tors"
      ],
      "metadata": {
        "id": "Lwv2wWkoSJ-e"
      },
      "execution_count": null,
      "outputs": []
    },
    {
      "cell_type": "markdown",
      "source": [
        "# Decorators\n",
        "\n",
        "Changing the behavior of already existing function at the compile time itself"
      ],
      "metadata": {
        "id": "0vceyom7SJHR"
      }
    },
    {
      "cell_type": "code",
      "source": [
        "def div(a,b):\n",
        "  print(a/b)\n",
        "div(4,2)\n",
        "div(2,4) # we want function to take higher vale and then divide"
      ],
      "metadata": {
        "colab": {
          "base_uri": "https://localhost:8080/"
        },
        "id": "92ZCN95sSTWi",
        "outputId": "3f04f9e8-f734-4956-d114-959d71edc43f"
      },
      "execution_count": null,
      "outputs": [
        {
          "output_type": "stream",
          "name": "stdout",
          "text": [
            "2.0\n",
            "0.5\n"
          ]
        }
      ]
    },
    {
      "cell_type": "code",
      "source": [
        "def smart_div(func):\n",
        "  def inner(a,b):\n",
        "    if a<b:\n",
        "      a,b = b,a\n",
        "    return func(a,b)\n",
        "  return inner\n",
        "div1 = smart_div(div)\n",
        "div1(2,4)"
      ],
      "metadata": {
        "colab": {
          "base_uri": "https://localhost:8080/"
        },
        "id": "SdvtwYrBSZUk",
        "outputId": "41526160-935e-40e3-bbb2-695f7082713a"
      },
      "execution_count": null,
      "outputs": [
        {
          "output_type": "stream",
          "name": "stdout",
          "text": [
            "2.0\n"
          ]
        }
      ]
    },
    {
      "cell_type": "markdown",
      "source": [
        "# Modules\n",
        "\n",
        "Modules are simply files with the “. py” extension containing Python code that can be imported inside another Python Program. In simple terms, we can consider a module to be the same as a code library or a file that contains a set of functions that you want to include in your application.\n",
        "\n",
        "See video 45, 46 from Telusco!\n",
        "\n",
        " "
      ],
      "metadata": {
        "id": "PZtJj7loUcNU"
      }
    },
    {
      "cell_type": "code",
      "source": [
        "# you can import the whole file as 'import module1' and then use module.add() if we want to call add function in module1\n",
        "# or else use 'from module1 import add' to import add function only, or for all - 'from module1 import *'"
      ],
      "metadata": {
        "id": "s_my4RD5X9Oi"
      },
      "execution_count": null,
      "outputs": []
    },
    {
      "cell_type": "code",
      "source": [
        "# '__name__' when printed in standalone code is  __main__ but if imported from other function gives name of module\n",
        "# so, if we want to run module1 which is imported in module2 but donot want to run in module1, we say if __name__ == '__main__' in module1"
      ],
      "metadata": {
        "id": "klcHBianUjC1"
      },
      "execution_count": null,
      "outputs": []
    },
    {
      "cell_type": "markdown",
      "source": [
        "# MultiThreading\n",
        "\n"
      ],
      "metadata": {
        "id": "mwaGZ4UNJWWb"
      }
    },
    {
      "cell_type": "code",
      "source": [
        "class Hello():\n",
        "  def run(self):\n",
        "    for i in range(5):\n",
        "      print('hello')\n",
        "class Hi():\n",
        "  def run(self):\n",
        "    for i in range(5):\n",
        "      print('Hi')\n",
        "h1 = Hello()\n",
        "h2 = Hi()\n",
        "h1.run()\n",
        "h2.run()\n",
        "# this is sequential processing - we want to run in paralel assigning different threads"
      ],
      "metadata": {
        "colab": {
          "base_uri": "https://localhost:8080/"
        },
        "id": "GngxVCn0J15q",
        "outputId": "cf31dae6-5393-4f59-ae53-e13f0b26250f"
      },
      "execution_count": null,
      "outputs": [
        {
          "output_type": "stream",
          "name": "stdout",
          "text": [
            "hello\n",
            "hello\n",
            "hello\n",
            "hello\n",
            "hello\n",
            "Hi\n",
            "Hi\n",
            "Hi\n",
            "Hi\n",
            "Hi\n"
          ]
        }
      ]
    },
    {
      "cell_type": "code",
      "source": [
        "from threading import *\n",
        "class Hello(Thread):\n",
        "  def run(self):\n",
        "    for i in range(5):\n",
        "      print('hello')\n",
        "class Hi(Thread):\n",
        "  def run(self):\n",
        "    for i in range(5):\n",
        "      print('Hi')\n",
        "h1 = Hello()\n",
        "h2 = Hi()\n",
        "h1.start()\n",
        "h2.start()\n",
        "# still same output - they are running simultaneously..."
      ],
      "metadata": {
        "colab": {
          "base_uri": "https://localhost:8080/"
        },
        "id": "wXDJPn8mJcMH",
        "outputId": "689a0995-d572-4e62-ffd4-f6095e4be70b"
      },
      "execution_count": null,
      "outputs": [
        {
          "output_type": "stream",
          "name": "stdout",
          "text": [
            "hello\n",
            "hello\n",
            "hello\n",
            "hello\n",
            "hello\n",
            "Hi\n",
            "Hi\n",
            "Hi\n",
            "Hi\n",
            "Hi\n"
          ]
        }
      ]
    },
    {
      "cell_type": "code",
      "source": [
        "from time import sleep\n",
        "from threading import *\n",
        "class Hello(Thread):\n",
        "  def run(self):\n",
        "    for i in range(20):\n",
        "      print('Hello')\n",
        "      sleep(0.5)\n",
        "class Hi(Thread):\n",
        "  def run(self):\n",
        "    for i in range(20):\n",
        "      print('Hi')\n",
        "      sleep(0.5)\n",
        "h1 = Hello()\n",
        "h2 = Hi()\n",
        "h1.start()\n",
        "h2.start()\n",
        "# still same output - they are running simultaneously... Can create a collision..  \n",
        "# h1 and h2 are still under the main thread and if sleep is over for both, both will execute"
      ],
      "metadata": {
        "colab": {
          "base_uri": "https://localhost:8080/"
        },
        "id": "7eA_O_kbJwYD",
        "outputId": "acfba368-0d9d-41c4-d7f9-d174771a7d3c"
      },
      "execution_count": null,
      "outputs": [
        {
          "output_type": "stream",
          "name": "stdout",
          "text": [
            "Hello\n",
            "Hi\n"
          ]
        }
      ]
    },
    {
      "cell_type": "code",
      "source": [
        "from time import sleep\n",
        "from threading import *\n",
        "class Hello(Thread):\n",
        "  def run(self):\n",
        "    for i in range(20):\n",
        "      print('Hello')\n",
        "      sleep(1)\n",
        "class Hi(Thread):\n",
        "  def run(self):\n",
        "    for i in range(20):\n",
        "      print('Hi')\n",
        "      sleep(1)\n",
        "h1 = Hello()\n",
        "h2 = Hi()\n",
        "h1.start()\n",
        "sleep(0.5)\n",
        "h2.start()\n",
        "# still same output - they are running simultaneously... Can create a collision..  \n",
        "# h1 and h2 are still under the main thread and if sleep is over for both, both will execute"
      ],
      "metadata": {
        "colab": {
          "base_uri": "https://localhost:8080/"
        },
        "id": "cToY7bRyKTut",
        "outputId": "e0cd7f70-12f6-4905-e7a9-05791975b98c"
      },
      "execution_count": null,
      "outputs": [
        {
          "output_type": "stream",
          "name": "stdout",
          "text": [
            "Hello\n",
            "Hi\n",
            "Hello\n"
          ]
        }
      ]
    },
    {
      "cell_type": "code",
      "source": [
        "from time import sleep\n",
        "from threading import *\n",
        "class Hello(Thread):\n",
        "  def run(self):\n",
        "    for i in range(20):\n",
        "      print('Hello')\n",
        "      sleep(1)\n",
        "class Hi(Thread):\n",
        "  def run(self):\n",
        "    for i in range(20):\n",
        "      print('Hi')\n",
        "      sleep(1)\n",
        "h1 = Hello()\n",
        "h2 = Hi()\n",
        "h1.start()\n",
        "sleep(0.5)\n",
        "h2.start()\n",
        "print('Bye')\n",
        "# bye is in main and when h1 and h2 are sleep, main executes. we want main to execute only when h1 and h2 are done"
      ],
      "metadata": {
        "colab": {
          "base_uri": "https://localhost:8080/"
        },
        "id": "xta5MPk4LDXs",
        "outputId": "19856d15-8a05-4b0b-9b18-8ba33f33ed50"
      },
      "execution_count": null,
      "outputs": [
        {
          "output_type": "stream",
          "name": "stdout",
          "text": [
            "Hello\n",
            "HiBye\n",
            "\n",
            "Hello\n"
          ]
        }
      ]
    },
    {
      "cell_type": "code",
      "source": [
        "from time import sleep\n",
        "from threading import *\n",
        "class Hello(Thread):\n",
        "  def run(self):\n",
        "    for i in range(5):\n",
        "      print('Hello')\n",
        "      sleep(1)\n",
        "class Hi(Thread):\n",
        "  def run(self):\n",
        "    for i in range(5):\n",
        "      print('Hi')\n",
        "      sleep(1)\n",
        "h1 = Hello()\n",
        "h2 = Hi()\n",
        "h1.start()\n",
        "sleep(0.5)\n",
        "h2.start()\n",
        "h1.join()\n",
        "h2.join()\n",
        "print('Bye')\n",
        "# bye is in main and when h1 and h2 are sleep, main executes. we want main to execute only when h1 and h2 are done"
      ],
      "metadata": {
        "colab": {
          "base_uri": "https://localhost:8080/"
        },
        "id": "2bZZLYx3LM_T",
        "outputId": "daffcc5b-9d52-4d8a-dbaf-8dde1bccb70f"
      },
      "execution_count": null,
      "outputs": [
        {
          "output_type": "stream",
          "name": "stdout",
          "text": [
            "Hello\n",
            "Hi\n",
            "Hi\n",
            "Hello\n",
            "Hello\n",
            "Hi\n",
            "Hi\n",
            "Hello\n",
            "Hello\n",
            "Hi\n",
            "Hi\n",
            "Hello\n",
            "Hi\n",
            "Hello\n",
            "Hi\n",
            "Bye\n"
          ]
        }
      ]
    }
  ]
}