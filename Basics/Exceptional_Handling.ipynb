{
  "nbformat": 4,
  "nbformat_minor": 0,
  "metadata": {
    "colab": {
      "provenance": [],
      "collapsed_sections": [],
      "authorship_tag": "ABX9TyNOYvDjwIAj10l69XNKU+NP",
      "include_colab_link": true
    },
    "kernelspec": {
      "name": "python3",
      "display_name": "Python 3"
    },
    "language_info": {
      "name": "python"
    }
  },
  "cells": [
    {
      "cell_type": "markdown",
      "metadata": {
        "id": "view-in-github",
        "colab_type": "text"
      },
      "source": [
        "<a href=\"https://colab.research.google.com/github/Rachita-G/Python_Practice/blob/main/Basics/Exceptional_Handling.ipynb\" target=\"_parent\"><img src=\"https://colab.research.google.com/assets/colab-badge.svg\" alt=\"Open In Colab\"/></a>"
      ]
    },
    {
      "cell_type": "code",
      "execution_count": null,
      "metadata": {
        "colab": {
          "base_uri": "https://localhost:8080/",
          "height": 166
        },
        "id": "HC0R44tDtKuQ",
        "outputId": "4dba51c5-8e9d-4ab4-c5b2-a93c970a79da"
      },
      "outputs": [
        {
          "output_type": "error",
          "ename": "NameError",
          "evalue": "ignored",
          "traceback": [
            "\u001b[0;31m---------------------------------------------------------------------------\u001b[0m",
            "\u001b[0;31mNameError\u001b[0m                                 Traceback (most recent call last)",
            "\u001b[0;32m<ipython-input-10-d5a0535f545b>\u001b[0m in \u001b[0;36m<module>\u001b[0;34m()\u001b[0m\n\u001b[0;32m----> 1\u001b[0;31m \u001b[0mvar\u001b[0m\u001b[0;34m=\u001b[0m \u001b[0mwrong_string\u001b[0m\u001b[0;34m\u001b[0m\u001b[0;34m\u001b[0m\u001b[0m\n\u001b[0m",
            "\u001b[0;31mNameError\u001b[0m: name 'wrong_string' is not defined"
          ]
        }
      ],
      "source": [
        "var= wrong_string"
      ]
    },
    {
      "cell_type": "code",
      "source": [
        "# for all errors in try block. if any exist, print in except block\n",
        "try:\n",
        "    print(var)\n",
        "except Exception: \n",
        "    print('var not defined correctly')"
      ],
      "metadata": {
        "colab": {
          "base_uri": "https://localhost:8080/"
        },
        "id": "_XcJsRKLtchB",
        "outputId": "a53266f4-a6a8-4663-bbee-841ffaec2c8e"
      },
      "execution_count": null,
      "outputs": [
        {
          "output_type": "stream",
          "name": "stdout",
          "text": [
            "var not defined correctly\n"
          ]
        }
      ]
    },
    {
      "cell_type": "code",
      "source": [
        "try:\n",
        "    print(var)\n",
        "except NameError as e: \n",
        "    print(e) ## printing the last error message directly"
      ],
      "metadata": {
        "colab": {
          "base_uri": "https://localhost:8080/"
        },
        "id": "alNssSXbtce1",
        "outputId": "50ff4d6d-3318-4415-c061-2104007df7aa"
      },
      "execution_count": null,
      "outputs": [
        {
          "output_type": "stream",
          "name": "stdout",
          "text": [
            "name 'var' is not defined\n"
          ]
        }
      ]
    },
    {
      "cell_type": "code",
      "source": [
        "f=open('text_file.txt') # file not found error"
      ],
      "metadata": {
        "colab": {
          "base_uri": "https://localhost:8080/",
          "height": 166
        },
        "id": "rC8YA_2YtcZx",
        "outputId": "ea6b2f8d-3485-414c-c80a-ec7f0ed65a35"
      },
      "execution_count": null,
      "outputs": [
        {
          "output_type": "error",
          "ename": "FileNotFoundError",
          "evalue": "ignored",
          "traceback": [
            "\u001b[0;31m---------------------------------------------------------------------------\u001b[0m",
            "\u001b[0;31mFileNotFoundError\u001b[0m                         Traceback (most recent call last)",
            "\u001b[0;32m<ipython-input-4-547fb196cc1f>\u001b[0m in \u001b[0;36m<module>\u001b[0;34m()\u001b[0m\n\u001b[0;32m----> 1\u001b[0;31m \u001b[0mf\u001b[0m\u001b[0;34m=\u001b[0m\u001b[0mopen\u001b[0m\u001b[0;34m(\u001b[0m\u001b[0;34m'text_file.txt'\u001b[0m\u001b[0;34m)\u001b[0m \u001b[0;31m# file not found error\u001b[0m\u001b[0;34m\u001b[0m\u001b[0;34m\u001b[0m\u001b[0m\n\u001b[0m",
            "\u001b[0;31mFileNotFoundError\u001b[0m: [Errno 2] No such file or directory: 'text_file.txt'"
          ]
        }
      ]
    },
    {
      "cell_type": "code",
      "source": [
        "try:\n",
        "    print(var)\n",
        "    f=open('Friendsdata.xlsx')\n",
        "except NameError:\n",
        "    print('var not defined correctly')\n",
        "except FileNotFoundError:\n",
        "    print('Sorry. File does not exist')\n",
        "except Exception: # put the general exception always at the bottom\n",
        "    print('Wrong syntax')"
      ],
      "metadata": {
        "colab": {
          "base_uri": "https://localhost:8080/"
        },
        "id": "FsvXJ_rTtccN",
        "outputId": "e5266928-d0a6-49c7-b9e0-99d2f531444e"
      },
      "execution_count": null,
      "outputs": [
        {
          "output_type": "stream",
          "name": "stdout",
          "text": [
            "var not defined correctly\n"
          ]
        }
      ]
    },
    {
      "cell_type": "code",
      "source": [
        "try:\n",
        "    print('var')\n",
        "    f=open('Friendsdata.xlsx')\n",
        "except NameError:\n",
        "    print('var not defined correctly')\n",
        "except FileNotFoundError:\n",
        "    print('Sorry. File does not exist')\n",
        "except Exception: # put the general exception always at the bottom\n",
        "    print('Wrong syntax')"
      ],
      "metadata": {
        "colab": {
          "base_uri": "https://localhost:8080/"
        },
        "id": "HuFXgzskujdI",
        "outputId": "9e6dfca2-d102-47af-e761-4e1c0567dd83"
      },
      "execution_count": null,
      "outputs": [
        {
          "output_type": "stream",
          "name": "stdout",
          "text": [
            "var\n",
            "Sorry. File does not exist\n"
          ]
        }
      ]
    },
    {
      "cell_type": "markdown",
      "source": [
        "TRY EXCEPT AND ELSE"
      ],
      "metadata": {
        "id": "gvCAcqeGvJ8f"
      }
    },
    {
      "cell_type": "code",
      "source": [
        "# else in try except is used. try block should only contain what error we need to check. \n",
        "try:\n",
        "    x = 'var'\n",
        "except NameError:\n",
        "    print('var not defined correctly')\n",
        "else: # when no error in try, do the following in else block\n",
        "    print(x)"
      ],
      "metadata": {
        "colab": {
          "base_uri": "https://localhost:8080/"
        },
        "id": "j7ydoFseutLf",
        "outputId": "e4bfcdef-486f-4ec7-8344-942423644bc9"
      },
      "execution_count": null,
      "outputs": [
        {
          "output_type": "stream",
          "name": "stdout",
          "text": [
            "var\n"
          ]
        }
      ]
    },
    {
      "cell_type": "markdown",
      "source": [
        "TRY EXCEPT ELSE FINALLY"
      ],
      "metadata": {
        "id": "hjPfkFwovRvH"
      }
    },
    {
      "cell_type": "code",
      "source": [
        "# finally will run no matter code throws an error ir follows an exception\n",
        "try:\n",
        "    f=open('textfile.txt')\n",
        "except FileNotFoundError as e:\n",
        "    print(e)\n",
        "else: \n",
        "    print(f.read())\n",
        "    f.close()\n",
        "finally:\n",
        "    print('executing finally...') # something that needs to be dpne regardless of the errors."
      ],
      "metadata": {
        "colab": {
          "base_uri": "https://localhost:8080/"
        },
        "id": "f0FjguxhvTez",
        "outputId": "c44298cf-37ca-48cf-d6a4-d72c93fb5146"
      },
      "execution_count": null,
      "outputs": [
        {
          "output_type": "stream",
          "name": "stdout",
          "text": [
            "[Errno 2] No such file or directory: 'textfile.txt'\n",
            "executing finally...\n"
          ]
        }
      ]
    },
    {
      "cell_type": "markdown",
      "source": [
        "# Raising or creating and error manually"
      ],
      "metadata": {
        "id": "5T4O8B1jv7Lz"
      }
    },
    {
      "cell_type": "code",
      "source": [
        "# raising en error manually\n",
        "try:\n",
        "    f=open('text_file.txt')\n",
        "    if f.name=='text_file.txt':\n",
        "        raise Exception\n",
        "except FileNotFoundError as e:\n",
        "    print(e)\n",
        "except Exception: # any other exception\n",
        "    print('error!')\n",
        "else: \n",
        "    print(f.read())\n",
        "    f.close()\n",
        "finally:\n",
        "    print('executing finally...') "
      ],
      "metadata": {
        "colab": {
          "base_uri": "https://localhost:8080/"
        },
        "id": "MBlF5y94v85_",
        "outputId": "a98a5d71-7f51-4d69-c78a-943534de168b"
      },
      "execution_count": null,
      "outputs": [
        {
          "output_type": "stream",
          "name": "stdout",
          "text": [
            "[Errno 2] No such file or directory: 'text_file.txt'\n",
            "executing finally...\n"
          ]
        }
      ]
    },
    {
      "cell_type": "code",
      "source": [
        "try:\n",
        "    f=open('text_file.txt')\n",
        "    read_file=f.read()\n",
        "    x=1/0\n",
        "    print(read_file)\n",
        "    f.close()\n",
        "except:\n",
        "    print('AN ERROR!')\n",
        "finally:\n",
        "    # if f.close==False:\n",
        "    #     print('File is not closed')\n",
        "    # else:\n",
        "        print('File is closed')"
      ],
      "metadata": {
        "colab": {
          "base_uri": "https://localhost:8080/"
        },
        "id": "4s9lTJLg-2Oj",
        "outputId": "ed0db8dc-4408-4e65-e440-a37e6ead7c08"
      },
      "execution_count": null,
      "outputs": [
        {
          "output_type": "stream",
          "name": "stdout",
          "text": [
            "AN ERROR!\n",
            "File is closed\n"
          ]
        }
      ]
    },
    {
      "cell_type": "code",
      "source": [
        "class topten():\n",
        "  def __init__(self):\n",
        "    self.num = 1\n",
        "  def __iter__(self):\n",
        "    return self\n",
        "  def __next__(self):\n",
        "    if self.num <= 10:\n",
        "      val = self.num\n",
        "      self.num += 1\n",
        "      return val # till here infinite loop even with if condition it will give nulls\n",
        "    else:\n",
        "      raise StopIteration \n",
        "top10= topten()\n",
        "for i in top10:\n",
        "  print(i) "
      ],
      "metadata": {
        "colab": {
          "base_uri": "https://localhost:8080/"
        },
        "id": "gYWiYpRHC0wz",
        "outputId": "15b10f81-eabb-468b-bfe6-d1673b8a35ff"
      },
      "execution_count": null,
      "outputs": [
        {
          "output_type": "stream",
          "name": "stdout",
          "text": [
            "1\n",
            "2\n",
            "3\n",
            "4\n",
            "5\n",
            "6\n",
            "7\n",
            "8\n",
            "9\n",
            "10\n"
          ]
        }
      ]
    },
    {
      "cell_type": "code",
      "source": [],
      "metadata": {
        "id": "uEAiHQqwC019"
      },
      "execution_count": null,
      "outputs": []
    }
  ]
}