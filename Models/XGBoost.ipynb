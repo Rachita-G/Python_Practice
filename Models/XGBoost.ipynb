{
  "cells": [
    {
      "cell_type": "markdown",
      "metadata": {
        "id": "view-in-github",
        "colab_type": "text"
      },
      "source": [
        "<a href=\"https://colab.research.google.com/github/Rachita-G/Python_Practice/blob/main/Models/XGBoost.ipynb\" target=\"_parent\"><img src=\"https://colab.research.google.com/assets/colab-badge.svg\" alt=\"Open In Colab\"/></a>"
      ]
    },
    {
      "cell_type": "markdown",
      "metadata": {
        "id": "4MkBrkUVr3WU"
      },
      "source": [
        "# XGBoost \n",
        "\n",
        "XGBoost stands for eXtreme Gradient Boosting.\n",
        "XGBoost is a decision-tree-based ensemble Machine Learning algorithm that uses a gradient boosting framework. \n",
        "This algorithm is ideally performed on large complicated datasets.\n",
        "\n",
        "### Note: \n",
        "In prediction problems involving unstructured data (images, text, etc.) artificial neural networks tend to outperform all other algorithms or frameworks. However, when it comes to small-to-medium structured/tabular data, decision tree based algorithms are considered best-in-class right now. "
      ]
    },
    {
      "cell_type": "markdown",
      "metadata": {
        "id": "jUVb_mrPr3WY"
      },
      "source": [
        "### Why does XGBoost perform so well?\n",
        "XGBoost and Gradient Boosting Machines (GBMs) are both ensemble tree methods that apply the principle of boosting weak learners (CARTs generally) using the gradient descent architecture. However, XGBoost improves upon the base GBM framework through systems optimization and algorithmic enhancements.\n",
        "![image.png](attachment:image.png)\n",
        "\n",
        "Read(For understanding): https://towardsdatascience.com/https-medium-com-vishalmorde-xgboost-algorithm-long-she-may-rein-edd9f99be63d"
      ]
    },
    {
      "cell_type": "markdown",
      "metadata": {
        "id": "k6cgZCd3r3WY"
      },
      "source": [
        "![image.png](attachment:image.png)"
      ]
    },
    {
      "cell_type": "markdown",
      "metadata": {
        "id": "TAUH2hMxr3WZ"
      },
      "source": [
        "# XGBoost for Regression\n",
        "\n",
        "### Steps:\n",
        "\n",
        "* Firstly, the fitting of the training data is done by making an initial prediction of the target value. This value can be anything but by default it is 0.5, regardless of whether you are using for regression or classification.\n",
        "*  Now, just like the unextreme gradient boost, XGBoost fits the regression tree to the residuals. However, unlike gradient boost which uses regular off the shelf Regession trees, xgboost uses a unique regression tree\n",
        "\n",
        "##### Building the unique DT in XGBoost:\n",
        "* Each tree starts out with a single tree and all the residuals go to the leaf. Now, we calculate a quality score or similarity score for the residuals. \n",
        "`Similarity score= (Sum of residuals)^2 / (Number of Residuals + lambda)`\n",
        "Here, lambda is a Regularisation parameter.\n",
        "Split the residuals and calculate the respective Similarity score for each node. Splitting is done by puuting one of the residuals in first leaf and rest in others and then, shifting each leaf from second to first leaf one at a time. \n",
        "Note: when the residuals are similar or there is just one of them, they donot cancel out and the similarity score is large.\n",
        "* The best split is decided by calculating the Gain. `Gain= Similarity score for left leaf +  Similarity score for right leaf -  Similarity score for above node` . The split for which the Gain value is maximum is taken as a final split. \n",
        "* Again, the split of the leaf node calculated above is spliited by calculating the similarity score and calculating the gain for the best split. This goes on until the max_depth of tree is specified or the no of reidual values in tree is a single number.\n",
        "\n",
        "##### The pruning of the Unique DT in XGBoost:\n",
        "* the pruning pf DT in XGBoost is done based on its gain values. We start picking a number called `gamma`. \n",
        "* After deciding the value for gamma we calculate the value of `Gain - gamma` .\n",
        "* We calculate the above value by starting with the lowest stump in the tree and thus , moving upwards\n",
        "* if this value is negative, we prune the stump and if positive we donot prune the stump.\n",
        "\n",
        "##### Back to the Similarity score for values if lambda:\n",
        "* if lambda > 0 , the Similarity score gets smaller and the amount of decrease is inversely proportional to the number of residuals in the node. \n",
        "* consideing the criteria of pruning `Gain - gamma` as the similarity score dereases the value of Gain decreases  and hence it increases the chances of getting a negative values for `Gain - gamma` and hence, for positive lambda values, it is easier to prune the leaves.\n",
        "\n",
        "##### Back to the value of Gamma( Complexity Parameter):\n",
        "* sometimes, with extensive splitting of trees, Gain values becomes negative (especiually when lambda is positive) and thus even when the value of gamma is 0 . th value of `Gain - gamma` is still negative leading to pruning that stump and hence, we conclude that setting gamma= 0 doesnot turn off pruning.\n",
        " \n",
        "And hence we can clearly see that setting positive values for lambda, helps us avoiding overfitting to the training data.\n",
        "\n",
        "##### Determining the Output Values for leaves:\n",
        "`Output Values for leaves= (Sum of residuals) / (Number of Residuals + lambda)`\n",
        "Note: If lambda=0 , the output value will come out to be just the residuals. \n",
        "And if lambda value is positive, then it will reduce the amount that the respective observation is adding to the overall prediction. Thus, the Regularisation parameter lambda, will reduce the prediction's sensitivity the individual observation.\n",
        "\n",
        "##### Back to the procedure:\n",
        "Now we have made our first DT. \n",
        "Just like unextreme GBM, XGB makes the prediction by starting with the intial prediction and adding the output of the first DT and scaled by a learning rate. Note that XGBoost calls the learning rate as eta and the default is 0.3 \n",
        "\n",
        "After this we repeat our steps for calculating the DT's, we will calculate the residual values. Here, note that now the new residual is smaller than before, which means that now, we have taken a small step in the right direction. And thus, we will build the new DT based on the new residuals and make new predictions that will give us even smaller residuals. \n",
        "\n",
        "And thus, we keep builfing trees until the residuals are super small or we have reached the maximum number of trees to be built."
      ]
    },
    {
      "cell_type": "markdown",
      "metadata": {
        "id": "Cd-6_pNor3Wa"
      },
      "source": [
        "# Properties of XGBoost\n",
        "\n",
        "XGBoost (Extreme Gradient Boosting) is an optimized distributed gradient boosting library. Yes, it uses gradient boosting (GBM) framework at core. Yet, does better than GBM framework alone. XGBoost was created by Tianqi Chen, PhD Student, University of Washington. It is used for supervised ML problems.  Let's look at what makes it so good:\n",
        "\n",
        "1. **Parallel Computing**: It is enabled with parallel processing (using OpenMP); i.e., when you run xgboost, by default, it would use all the cores of your laptop/machine.\n",
        "2. **Regularization**: This is the biggest advantage of xgboost. GBM has no provision for regularization. Regularization is a technique used to avoid overfitting in linear and tree-based models.  XgBoost has an option to penalise complex models through L1 and L2 regression.\n",
        "3. **Enabled Cross Validation**: Xgboost is enabled with internal CV function.\n",
        "4. **Missing Values**: XGBoost is designed to handle missing values internally. The missing values are treated in such a manner that if there exists any trend in missing values, it is captured by the model.\n",
        "5. **Flexibility**: In addition to regression, classification, and ranking problems, it supports user-defined objective functions also. An objective function is used to measure the performance of the model given a certain set of parameters. Furthermore, it supports user defined evaluation metrics as well.\n",
        "6. **Availability**: Currently, it is available for programming languages such as R, Python, Java, Julia, and Scala.\n",
        "7. **Save and Reload**: XGBoost gives us a feature to save our data matrix and model and reload it later. Suppose, we have a large data set, we can simply save the model and use it in future instead of wasting time redoing the computation.\n",
        "8. **Tree Pruning**: Unlike GBM, where tree pruning stops once a negative loss is encountered, XGBoost grows the tree upto max_depth and then prune backward until the improvement in loss function is below a threshold."
      ]
    },
    {
      "cell_type": "code",
      "execution_count": null,
      "metadata": {
        "id": "_yEvdX5ur3Wb"
      },
      "outputs": [],
      "source": [
        "import pandas as pd\n",
        "import numpy as np\n",
        "import matplotlib.pyplot as plt\n",
        "import seaborn as sns\n",
        "sns.set()"
      ]
    },
    {
      "cell_type": "code",
      "execution_count": null,
      "metadata": {
        "id": "QsjVtYTTr3Wb",
        "outputId": "d5c82efb-5f56-4931-be35-cdb65f4b5920"
      },
      "outputs": [
        {
          "data": {
            "text/html": [
              "<div>\n",
              "<style scoped>\n",
              "    .dataframe tbody tr th:only-of-type {\n",
              "        vertical-align: middle;\n",
              "    }\n",
              "\n",
              "    .dataframe tbody tr th {\n",
              "        vertical-align: top;\n",
              "    }\n",
              "\n",
              "    .dataframe thead th {\n",
              "        text-align: right;\n",
              "    }\n",
              "</style>\n",
              "<table border=\"1\" class=\"dataframe\">\n",
              "  <thead>\n",
              "    <tr style=\"text-align: right;\">\n",
              "      <th></th>\n",
              "      <th>CRIM</th>\n",
              "      <th>ZN</th>\n",
              "      <th>INDUS</th>\n",
              "      <th>CHAS</th>\n",
              "      <th>NOX</th>\n",
              "      <th>RM</th>\n",
              "      <th>AGE</th>\n",
              "      <th>DIS</th>\n",
              "      <th>RAD</th>\n",
              "      <th>TAX</th>\n",
              "      <th>PTRATIO</th>\n",
              "      <th>B</th>\n",
              "      <th>LSTAT</th>\n",
              "      <th>Prices</th>\n",
              "    </tr>\n",
              "  </thead>\n",
              "  <tbody>\n",
              "    <tr>\n",
              "      <th>0</th>\n",
              "      <td>0.00632</td>\n",
              "      <td>18.0</td>\n",
              "      <td>2.31</td>\n",
              "      <td>0.0</td>\n",
              "      <td>0.538</td>\n",
              "      <td>6.575</td>\n",
              "      <td>65.2</td>\n",
              "      <td>4.0900</td>\n",
              "      <td>1.0</td>\n",
              "      <td>296.0</td>\n",
              "      <td>15.3</td>\n",
              "      <td>396.90</td>\n",
              "      <td>4.98</td>\n",
              "      <td>24.0</td>\n",
              "    </tr>\n",
              "    <tr>\n",
              "      <th>1</th>\n",
              "      <td>0.02731</td>\n",
              "      <td>0.0</td>\n",
              "      <td>7.07</td>\n",
              "      <td>0.0</td>\n",
              "      <td>0.469</td>\n",
              "      <td>6.421</td>\n",
              "      <td>78.9</td>\n",
              "      <td>4.9671</td>\n",
              "      <td>2.0</td>\n",
              "      <td>242.0</td>\n",
              "      <td>17.8</td>\n",
              "      <td>396.90</td>\n",
              "      <td>9.14</td>\n",
              "      <td>21.6</td>\n",
              "    </tr>\n",
              "    <tr>\n",
              "      <th>2</th>\n",
              "      <td>0.02729</td>\n",
              "      <td>0.0</td>\n",
              "      <td>7.07</td>\n",
              "      <td>0.0</td>\n",
              "      <td>0.469</td>\n",
              "      <td>7.185</td>\n",
              "      <td>61.1</td>\n",
              "      <td>4.9671</td>\n",
              "      <td>2.0</td>\n",
              "      <td>242.0</td>\n",
              "      <td>17.8</td>\n",
              "      <td>392.83</td>\n",
              "      <td>4.03</td>\n",
              "      <td>34.7</td>\n",
              "    </tr>\n",
              "    <tr>\n",
              "      <th>3</th>\n",
              "      <td>0.03237</td>\n",
              "      <td>0.0</td>\n",
              "      <td>2.18</td>\n",
              "      <td>0.0</td>\n",
              "      <td>0.458</td>\n",
              "      <td>6.998</td>\n",
              "      <td>45.8</td>\n",
              "      <td>6.0622</td>\n",
              "      <td>3.0</td>\n",
              "      <td>222.0</td>\n",
              "      <td>18.7</td>\n",
              "      <td>394.63</td>\n",
              "      <td>2.94</td>\n",
              "      <td>33.4</td>\n",
              "    </tr>\n",
              "    <tr>\n",
              "      <th>4</th>\n",
              "      <td>0.06905</td>\n",
              "      <td>0.0</td>\n",
              "      <td>2.18</td>\n",
              "      <td>0.0</td>\n",
              "      <td>0.458</td>\n",
              "      <td>7.147</td>\n",
              "      <td>54.2</td>\n",
              "      <td>6.0622</td>\n",
              "      <td>3.0</td>\n",
              "      <td>222.0</td>\n",
              "      <td>18.7</td>\n",
              "      <td>396.90</td>\n",
              "      <td>5.33</td>\n",
              "      <td>36.2</td>\n",
              "    </tr>\n",
              "  </tbody>\n",
              "</table>\n",
              "</div>"
            ],
            "text/plain": [
              "      CRIM    ZN  INDUS  CHAS    NOX     RM   AGE     DIS  RAD    TAX  \\\n",
              "0  0.00632  18.0   2.31   0.0  0.538  6.575  65.2  4.0900  1.0  296.0   \n",
              "1  0.02731   0.0   7.07   0.0  0.469  6.421  78.9  4.9671  2.0  242.0   \n",
              "2  0.02729   0.0   7.07   0.0  0.469  7.185  61.1  4.9671  2.0  242.0   \n",
              "3  0.03237   0.0   2.18   0.0  0.458  6.998  45.8  6.0622  3.0  222.0   \n",
              "4  0.06905   0.0   2.18   0.0  0.458  7.147  54.2  6.0622  3.0  222.0   \n",
              "\n",
              "   PTRATIO       B  LSTAT  Prices  \n",
              "0     15.3  396.90   4.98    24.0  \n",
              "1     17.8  396.90   9.14    21.6  \n",
              "2     17.8  392.83   4.03    34.7  \n",
              "3     18.7  394.63   2.94    33.4  \n",
              "4     18.7  396.90   5.33    36.2  "
            ]
          },
          "execution_count": 5,
          "metadata": {},
          "output_type": "execute_result"
        }
      ],
      "source": [
        "from sklearn.datasets import load_boston\n",
        "boston=load_boston()\n",
        "data=pd.DataFrame(boston.data, columns=boston.feature_names)\n",
        "data['Prices']=boston.target\n",
        "data.head()"
      ]
    },
    {
      "cell_type": "code",
      "execution_count": null,
      "metadata": {
        "id": "f4wSQ1LCr3Wc"
      },
      "outputs": [],
      "source": [
        "X=data.drop('Prices',axis=1)\n",
        "y=data.Prices\n",
        "from sklearn.model_selection import train_test_split\n",
        "X_train,X_test,y_train,y_test=train_test_split(X,y,test_size=0.3)"
      ]
    },
    {
      "cell_type": "code",
      "execution_count": null,
      "metadata": {
        "id": "0uo-dQfPr3Wd"
      },
      "outputs": [],
      "source": [
        "from sklearn.linear_model import LinearRegression\n",
        "from sklearn.ensemble import GradientBoostingRegressor\n",
        "from xgboost import XGBRegressor\n",
        "from sklearn.metrics import mean_squared_error"
      ]
    },
    {
      "cell_type": "code",
      "execution_count": null,
      "metadata": {
        "id": "A7kd0Z59r3Wd",
        "outputId": "d3d7c281-d294-417b-dbaa-b315d7d02dce"
      },
      "outputs": [
        {
          "data": {
            "text/plain": [
              "20.06381636648165"
            ]
          },
          "execution_count": 28,
          "metadata": {},
          "output_type": "execute_result"
        }
      ],
      "source": [
        "lr=LinearRegression()\n",
        "lr.fit(X_train,y_train)\n",
        "pred=lr.predict(X_test)\n",
        "mean_squared_error(y_test,pred)"
      ]
    },
    {
      "cell_type": "code",
      "execution_count": null,
      "metadata": {
        "id": "l2abGCw5r3Wd",
        "outputId": "b37fcc35-30c4-44e3-baa3-30197553235b"
      },
      "outputs": [
        {
          "data": {
            "text/plain": [
              "8.001394845465557"
            ]
          },
          "execution_count": 29,
          "metadata": {},
          "output_type": "execute_result"
        }
      ],
      "source": [
        "gbr=GradientBoostingRegressor()\n",
        "gbr.fit(X_train,y_train)\n",
        "pred=gbr.predict(X_test)\n",
        "mean_squared_error(y_test,pred)"
      ]
    },
    {
      "cell_type": "code",
      "execution_count": null,
      "metadata": {
        "id": "m36ktU2xr3We",
        "outputId": "772e6147-9cf8-46c1-fa62-8f9f113e6643"
      },
      "outputs": [
        {
          "data": {
            "text/plain": [
              "7.828984766192707"
            ]
          },
          "execution_count": 58,
          "metadata": {},
          "output_type": "execute_result"
        }
      ],
      "source": [
        "xgbr=XGBRegressor(learning_rate=0.1,max_depth=6,gamma=0)\n",
        "xgbr.fit(X_train,y_train)\n",
        "xpred=xgbr.predict(X_test)\n",
        "mean_squared_error(y_test,xpred)"
      ]
    },
    {
      "cell_type": "code",
      "execution_count": null,
      "metadata": {
        "id": "MIaOTnCir3We"
      },
      "outputs": [],
      "source": []
    },
    {
      "cell_type": "code",
      "execution_count": null,
      "metadata": {
        "id": "z45DlDRHr3We"
      },
      "outputs": [],
      "source": [
        "# Import warnings and add a filter to ignore them\n",
        "import warnings\n",
        "warnings.simplefilter('ignore')\n",
        "# Import XGBoost\n",
        "import xgboost\n",
        "# XGBoost Classifier\n",
        "from xgboost import XGBClassifier\n",
        "# Classification report and confusion matrix\n",
        "from sklearn.metrics import classification_report\n",
        "from sklearn.metrics import confusion_matrix\n",
        "# Cross validation\n",
        "from sklearn.model_selection import KFold\n",
        "from sklearn.model_selection import cross_val_score\n",
        "# Pandas datareader to get the data\n",
        "from pandas_datareader import data\n",
        "# To plot the graphs\n",
        "import matplotlib.pyplot as plt\n",
        "import seaborn as sn\n",
        "# For data manipulation\n",
        "import pandas as pd\n",
        "import numpy as np"
      ]
    },
    {
      "cell_type": "markdown",
      "metadata": {
        "id": "CEerUPSbr3We"
      },
      "source": [
        "We are using the stock data of tech stocks in the US such as Apple, Amazon, Netflix, Nvidia and Microsoft for the last sixteen years and train the XGBoost model to predict if the next day’s returns are positive or negative.\n",
        "\n",
        "Just to make things interesting, we will use the XGBoost python model on companies such as Apple, Amazon, Netflix, Nvidia and Microsoft. Creating predictors and target variables\n",
        "\n",
        "We define a list of predictors from which the model will pick the best predictors. Here, we have the percentage change and the standard deviation with different time periods as the predictor variables. \n",
        "\n",
        "The target variable is the next day's return. If the next day’s return is positive we label it as 1 and if it is negative then we label it as -1. You can also try to create the target variables with three labels such as 1, 0 and -1 for long, no position and short. "
      ]
    },
    {
      "cell_type": "code",
      "execution_count": null,
      "metadata": {
        "id": "aPewxkJ1r3We"
      },
      "outputs": [],
      "source": [
        "# Set the stock list\n",
        "stock_list = ['AAPL', 'AMZN', 'NFLX', 'NVDA','MSFT']\n",
        "# Set the start date and the end date\n",
        "start_date = '2004-1-1'\n",
        "end_date = '2020-1-28'"
      ]
    },
    {
      "cell_type": "code",
      "execution_count": null,
      "metadata": {
        "id": "uC-a8Hkcr3Wf",
        "outputId": "a6612342-0404-4152-f49b-6706f1af5d6c"
      },
      "outputs": [
        {
          "data": {
            "text/html": [
              "<div>\n",
              "<style scoped>\n",
              "    .dataframe tbody tr th:only-of-type {\n",
              "        vertical-align: middle;\n",
              "    }\n",
              "\n",
              "    .dataframe tbody tr th {\n",
              "        vertical-align: top;\n",
              "    }\n",
              "\n",
              "    .dataframe thead th {\n",
              "        text-align: right;\n",
              "    }\n",
              "</style>\n",
              "<table border=\"1\" class=\"dataframe\">\n",
              "  <thead>\n",
              "    <tr style=\"text-align: right;\">\n",
              "      <th></th>\n",
              "      <th>High</th>\n",
              "      <th>Low</th>\n",
              "      <th>Open</th>\n",
              "      <th>Close</th>\n",
              "      <th>Volume</th>\n",
              "      <th>Adj Close</th>\n",
              "    </tr>\n",
              "    <tr>\n",
              "      <th>Date</th>\n",
              "      <th></th>\n",
              "      <th></th>\n",
              "      <th></th>\n",
              "      <th></th>\n",
              "      <th></th>\n",
              "      <th></th>\n",
              "    </tr>\n",
              "  </thead>\n",
              "  <tbody>\n",
              "    <tr>\n",
              "      <th>2003-12-31</th>\n",
              "      <td>27.549999</td>\n",
              "      <td>27.230000</td>\n",
              "      <td>27.420000</td>\n",
              "      <td>27.370001</td>\n",
              "      <td>42198900.0</td>\n",
              "      <td>17.666834</td>\n",
              "    </tr>\n",
              "    <tr>\n",
              "      <th>2004-01-02</th>\n",
              "      <td>27.770000</td>\n",
              "      <td>27.330000</td>\n",
              "      <td>27.580000</td>\n",
              "      <td>27.450001</td>\n",
              "      <td>44487700.0</td>\n",
              "      <td>17.718472</td>\n",
              "    </tr>\n",
              "    <tr>\n",
              "      <th>2004-01-05</th>\n",
              "      <td>28.180000</td>\n",
              "      <td>27.719999</td>\n",
              "      <td>27.730000</td>\n",
              "      <td>28.139999</td>\n",
              "      <td>67333700.0</td>\n",
              "      <td>18.163845</td>\n",
              "    </tr>\n",
              "    <tr>\n",
              "      <th>2004-01-06</th>\n",
              "      <td>28.280001</td>\n",
              "      <td>28.070000</td>\n",
              "      <td>28.190001</td>\n",
              "      <td>28.240000</td>\n",
              "      <td>46950800.0</td>\n",
              "      <td>18.228401</td>\n",
              "    </tr>\n",
              "    <tr>\n",
              "      <th>2004-01-07</th>\n",
              "      <td>28.309999</td>\n",
              "      <td>28.010000</td>\n",
              "      <td>28.170000</td>\n",
              "      <td>28.209999</td>\n",
              "      <td>54298200.0</td>\n",
              "      <td>18.209036</td>\n",
              "    </tr>\n",
              "  </tbody>\n",
              "</table>\n",
              "</div>"
            ],
            "text/plain": [
              "                 High        Low       Open      Close      Volume  Adj Close\n",
              "Date                                                                         \n",
              "2003-12-31  27.549999  27.230000  27.420000  27.370001  42198900.0  17.666834\n",
              "2004-01-02  27.770000  27.330000  27.580000  27.450001  44487700.0  17.718472\n",
              "2004-01-05  28.180000  27.719999  27.730000  28.139999  67333700.0  18.163845\n",
              "2004-01-06  28.280001  28.070000  28.190001  28.240000  46950800.0  18.228401\n",
              "2004-01-07  28.309999  28.010000  28.170000  28.209999  54298200.0  18.209036"
            ]
          },
          "execution_count": 32,
          "metadata": {},
          "output_type": "execute_result"
        }
      ],
      "source": [
        "# Create a placeholder to store the stock data\n",
        "stock_data_dictionary = {}\n",
        "for stock_name in stock_list:\n",
        "    df = data.get_data_yahoo(stock_name, start_date, end_date)\n",
        "df.head()"
      ]
    },
    {
      "cell_type": "code",
      "execution_count": null,
      "metadata": {
        "id": "nULIzo9kr3Wf",
        "outputId": "8d888702-a7c1-4473-eb55-4d9e4af161f4"
      },
      "outputs": [
        {
          "data": {
            "text/html": [
              "<div>\n",
              "<style scoped>\n",
              "    .dataframe tbody tr th:only-of-type {\n",
              "        vertical-align: middle;\n",
              "    }\n",
              "\n",
              "    .dataframe tbody tr th {\n",
              "        vertical-align: top;\n",
              "    }\n",
              "\n",
              "    .dataframe thead th {\n",
              "        text-align: right;\n",
              "    }\n",
              "</style>\n",
              "<table border=\"1\" class=\"dataframe\">\n",
              "  <thead>\n",
              "    <tr style=\"text-align: right;\">\n",
              "      <th></th>\n",
              "      <th>High</th>\n",
              "      <th>Low</th>\n",
              "      <th>Open</th>\n",
              "      <th>Close</th>\n",
              "      <th>Volume</th>\n",
              "      <th>Adj Close</th>\n",
              "      <th>daily_pct_change</th>\n",
              "    </tr>\n",
              "    <tr>\n",
              "      <th>Date</th>\n",
              "      <th></th>\n",
              "      <th></th>\n",
              "      <th></th>\n",
              "      <th></th>\n",
              "      <th></th>\n",
              "      <th></th>\n",
              "      <th></th>\n",
              "    </tr>\n",
              "  </thead>\n",
              "  <tbody>\n",
              "    <tr>\n",
              "      <th>2003-12-31</th>\n",
              "      <td>27.549999</td>\n",
              "      <td>27.230000</td>\n",
              "      <td>27.420000</td>\n",
              "      <td>27.370001</td>\n",
              "      <td>42198900.0</td>\n",
              "      <td>17.666834</td>\n",
              "      <td>NaN</td>\n",
              "    </tr>\n",
              "    <tr>\n",
              "      <th>2004-01-02</th>\n",
              "      <td>27.770000</td>\n",
              "      <td>27.330000</td>\n",
              "      <td>27.580000</td>\n",
              "      <td>27.450001</td>\n",
              "      <td>44487700.0</td>\n",
              "      <td>17.718472</td>\n",
              "      <td>0.002923</td>\n",
              "    </tr>\n",
              "    <tr>\n",
              "      <th>2004-01-05</th>\n",
              "      <td>28.180000</td>\n",
              "      <td>27.719999</td>\n",
              "      <td>27.730000</td>\n",
              "      <td>28.139999</td>\n",
              "      <td>67333700.0</td>\n",
              "      <td>18.163845</td>\n",
              "      <td>0.025136</td>\n",
              "    </tr>\n",
              "    <tr>\n",
              "      <th>2004-01-06</th>\n",
              "      <td>28.280001</td>\n",
              "      <td>28.070000</td>\n",
              "      <td>28.190001</td>\n",
              "      <td>28.240000</td>\n",
              "      <td>46950800.0</td>\n",
              "      <td>18.228401</td>\n",
              "      <td>0.003554</td>\n",
              "    </tr>\n",
              "    <tr>\n",
              "      <th>2004-01-07</th>\n",
              "      <td>28.309999</td>\n",
              "      <td>28.010000</td>\n",
              "      <td>28.170000</td>\n",
              "      <td>28.209999</td>\n",
              "      <td>54298200.0</td>\n",
              "      <td>18.209036</td>\n",
              "      <td>-0.001062</td>\n",
              "    </tr>\n",
              "  </tbody>\n",
              "</table>\n",
              "</div>"
            ],
            "text/plain": [
              "                 High        Low       Open      Close      Volume  Adj Close  \\\n",
              "Date                                                                            \n",
              "2003-12-31  27.549999  27.230000  27.420000  27.370001  42198900.0  17.666834   \n",
              "2004-01-02  27.770000  27.330000  27.580000  27.450001  44487700.0  17.718472   \n",
              "2004-01-05  28.180000  27.719999  27.730000  28.139999  67333700.0  18.163845   \n",
              "2004-01-06  28.280001  28.070000  28.190001  28.240000  46950800.0  18.228401   \n",
              "2004-01-07  28.309999  28.010000  28.170000  28.209999  54298200.0  18.209036   \n",
              "\n",
              "            daily_pct_change  \n",
              "Date                          \n",
              "2003-12-31               NaN  \n",
              "2004-01-02          0.002923  \n",
              "2004-01-05          0.025136  \n",
              "2004-01-06          0.003554  \n",
              "2004-01-07         -0.001062  "
            ]
          },
          "execution_count": 33,
          "metadata": {},
          "output_type": "execute_result"
        }
      ],
      "source": [
        "# Calculate the daily percent change\n",
        "df['daily_pct_change'] = df['Adj Close'].pct_change()\n",
        "df.head()"
      ]
    },
    {
      "cell_type": "code",
      "execution_count": null,
      "metadata": {
        "id": "re-cOb5Qr3Wf"
      },
      "outputs": [],
      "source": [
        "# create the predictors\n",
        "predictor_list = []\n",
        "for r in range(10, 60, 5):\n",
        "    df['pct_change_'+str(r)] = df.daily_pct_change.rolling(r).sum()\n",
        "    df['std_'+str(r)] = df.daily_pct_change.rolling(r).std()\n",
        "    predictor_list.append('pct_change_'+str(r))\n",
        "    predictor_list.append('std_'+str(r))\n",
        "# Target Variable\n",
        "df['return_next_day'] = df.daily_pct_change.shift(-1)\n",
        "df['actual_signal'] = np.where(df.return_next_day > 0, 1, -1)\n",
        "df = df.dropna()\n",
        "    # Add the data to dictionary\n",
        "for stock_name in stock_list: \n",
        "    stock_data_dictionary.update({stock_name: df})"
      ]
    },
    {
      "cell_type": "code",
      "execution_count": null,
      "metadata": {
        "id": "0zaIXSzDr3Wf",
        "outputId": "fce98463-0076-4d66-8081-421d7123ad36"
      },
      "outputs": [
        {
          "data": {
            "text/plain": [
              "{'MSFT':                   High         Low        Open       Close       Volume  \\\n",
              " Date                                                                      \n",
              " 2006-12-06   29.129999   28.870001   29.100000   28.990000   48564100.0   \n",
              " 2006-12-07   29.070000   28.809999   28.959999   28.850000   46831100.0   \n",
              " 2006-12-08   29.400000   28.799999   28.820000   29.400000  108854900.0   \n",
              " 2006-12-11   29.750000   29.110001   29.190001   29.540001  107712000.0   \n",
              " 2006-12-12   29.629999   29.219999   29.559999   29.430000   68529400.0   \n",
              " ...                ...         ...         ...         ...          ...   \n",
              " 2019-12-18  155.479996  154.179993  154.300003  154.369995   24129200.0   \n",
              " 2019-12-19  155.770004  153.750000  154.000000  155.710007   24958900.0   \n",
              " 2019-12-20  158.490005  156.289993  157.350006  157.410004   53477500.0   \n",
              " 2019-12-23  158.119995  157.270004  158.119995  157.410004   17718200.0   \n",
              " 2019-12-24  157.710007  157.119995  157.479996  157.380005    8989200.0   \n",
              " \n",
              "              Adj Close  daily_pct_change  pct_change_10    std_10  \\\n",
              " Date                                                                \n",
              " 2006-12-06   21.479090         -0.004806      -0.031374  0.005815   \n",
              " 2006-12-07   21.375368         -0.004829      -0.036203  0.005726   \n",
              " 2006-12-08   21.782871          0.019064      -0.011792  0.009111   \n",
              " 2006-12-11   21.886606          0.004762       0.002379  0.008785   \n",
              " 2006-12-12   21.805098         -0.003724       0.001708  0.008815   \n",
              " ...                ...               ...            ...       ...   \n",
              " 2019-12-18  153.521942         -0.002069       0.029926  0.006060   \n",
              " 2019-12-19  154.854584          0.008680       0.038073  0.006237   \n",
              " 2019-12-20  156.545242          0.010918       0.036852  0.006066   \n",
              " 2019-12-23  156.545242          0.000000       0.039422  0.005821   \n",
              " 2019-12-24  156.515396         -0.000191       0.040751  0.005696   \n",
              " \n",
              "             return_next_day  ...  pct_change_35    std_35  pct_change_40  \\\n",
              " Date                         ...                                           \n",
              " 2006-12-06        -0.004829  ...       0.023176  0.005958       0.050235   \n",
              " 2006-12-07         0.019064  ...       0.015535  0.006017       0.050823   \n",
              " 2006-12-08         0.004762  ...       0.042663  0.006607       0.045195   \n",
              " 2006-12-11        -0.003724  ...       0.042476  0.006604       0.044642   \n",
              " 2006-12-12         0.004077  ...       0.038049  0.006656       0.038098   \n",
              " ...                     ...  ...            ...       ...            ...   \n",
              " 2019-12-18         0.008680  ...       0.081811  0.006057       0.128663   \n",
              " 2019-12-19         0.010918  ...       0.078029  0.005903       0.130964   \n",
              " 2019-12-20         0.000000  ...       0.097521  0.005772       0.122208   \n",
              " 2019-12-23        -0.000191  ...       0.095080  0.005791       0.116563   \n",
              " 2019-12-24         0.008197  ...       0.089114  0.005786       0.091786   \n",
              " \n",
              "               std_40  pct_change_45    std_45  pct_change_50    std_50  \\\n",
              " Date                                                                     \n",
              " 2006-12-06  0.006858       0.062089  0.007198       0.068361  0.006933   \n",
              " 2006-12-07  0.006844       0.036435  0.006615       0.054709  0.006902   \n",
              " 2006-12-08  0.006394       0.056215  0.007147       0.075231  0.007343   \n",
              " 2006-12-11  0.006385       0.062767  0.007150       0.081817  0.007342   \n",
              " 2006-12-12  0.006424       0.064426  0.007119       0.077728  0.007379   \n",
              " ...              ...            ...       ...            ...       ...   \n",
              " 2019-12-18  0.007473       0.091562  0.008314       0.134440  0.008442   \n",
              " 2019-12-19  0.007506       0.108436  0.008223       0.124177  0.008158   \n",
              " 2019-12-20  0.007134       0.124481  0.008236       0.128874  0.008229   \n",
              " 2019-12-23  0.007138       0.140803  0.007720       0.124704  0.008234   \n",
              " 2019-12-24  0.006225       0.133190  0.007707       0.125444  0.008228   \n",
              " \n",
              "             pct_change_55    std_55  \n",
              " Date                                 \n",
              " 2006-12-06       0.081206  0.007279  \n",
              " 2006-12-07       0.064463  0.007184  \n",
              " 2006-12-08       0.093829  0.007403  \n",
              " 2006-12-11       0.107513  0.007268  \n",
              " 2006-12-12       0.092911  0.007202  \n",
              " ...                   ...       ...  \n",
              " 2019-12-18       0.124577  0.009002  \n",
              " 2019-12-19       0.150913  0.008615  \n",
              " 2019-12-20       0.149725  0.008592  \n",
              " 2019-12-23       0.136223  0.008471  \n",
              " 2019-12-24       0.143273  0.008374  \n",
              " \n",
              " [3285 rows x 29 columns],\n",
              " 'AAPL':                   High         Low        Open       Close       Volume  \\\n",
              " Date                                                                      \n",
              " 2006-12-06   29.129999   28.870001   29.100000   28.990000   48564100.0   \n",
              " 2006-12-07   29.070000   28.809999   28.959999   28.850000   46831100.0   \n",
              " 2006-12-08   29.400000   28.799999   28.820000   29.400000  108854900.0   \n",
              " 2006-12-11   29.750000   29.110001   29.190001   29.540001  107712000.0   \n",
              " 2006-12-12   29.629999   29.219999   29.559999   29.430000   68529400.0   \n",
              " ...                ...         ...         ...         ...          ...   \n",
              " 2019-12-18  155.479996  154.179993  154.300003  154.369995   24129200.0   \n",
              " 2019-12-19  155.770004  153.750000  154.000000  155.710007   24958900.0   \n",
              " 2019-12-20  158.490005  156.289993  157.350006  157.410004   53477500.0   \n",
              " 2019-12-23  158.119995  157.270004  158.119995  157.410004   17718200.0   \n",
              " 2019-12-24  157.710007  157.119995  157.479996  157.380005    8989200.0   \n",
              " \n",
              "              Adj Close  daily_pct_change  pct_change_10    std_10  \\\n",
              " Date                                                                \n",
              " 2006-12-06   21.479090         -0.004806      -0.031374  0.005815   \n",
              " 2006-12-07   21.375368         -0.004829      -0.036203  0.005726   \n",
              " 2006-12-08   21.782871          0.019064      -0.011792  0.009111   \n",
              " 2006-12-11   21.886606          0.004762       0.002379  0.008785   \n",
              " 2006-12-12   21.805098         -0.003724       0.001708  0.008815   \n",
              " ...                ...               ...            ...       ...   \n",
              " 2019-12-18  153.521942         -0.002069       0.029926  0.006060   \n",
              " 2019-12-19  154.854584          0.008680       0.038073  0.006237   \n",
              " 2019-12-20  156.545242          0.010918       0.036852  0.006066   \n",
              " 2019-12-23  156.545242          0.000000       0.039422  0.005821   \n",
              " 2019-12-24  156.515396         -0.000191       0.040751  0.005696   \n",
              " \n",
              "             return_next_day  ...  pct_change_35    std_35  pct_change_40  \\\n",
              " Date                         ...                                           \n",
              " 2006-12-06        -0.004829  ...       0.023176  0.005958       0.050235   \n",
              " 2006-12-07         0.019064  ...       0.015535  0.006017       0.050823   \n",
              " 2006-12-08         0.004762  ...       0.042663  0.006607       0.045195   \n",
              " 2006-12-11        -0.003724  ...       0.042476  0.006604       0.044642   \n",
              " 2006-12-12         0.004077  ...       0.038049  0.006656       0.038098   \n",
              " ...                     ...  ...            ...       ...            ...   \n",
              " 2019-12-18         0.008680  ...       0.081811  0.006057       0.128663   \n",
              " 2019-12-19         0.010918  ...       0.078029  0.005903       0.130964   \n",
              " 2019-12-20         0.000000  ...       0.097521  0.005772       0.122208   \n",
              " 2019-12-23        -0.000191  ...       0.095080  0.005791       0.116563   \n",
              " 2019-12-24         0.008197  ...       0.089114  0.005786       0.091786   \n",
              " \n",
              "               std_40  pct_change_45    std_45  pct_change_50    std_50  \\\n",
              " Date                                                                     \n",
              " 2006-12-06  0.006858       0.062089  0.007198       0.068361  0.006933   \n",
              " 2006-12-07  0.006844       0.036435  0.006615       0.054709  0.006902   \n",
              " 2006-12-08  0.006394       0.056215  0.007147       0.075231  0.007343   \n",
              " 2006-12-11  0.006385       0.062767  0.007150       0.081817  0.007342   \n",
              " 2006-12-12  0.006424       0.064426  0.007119       0.077728  0.007379   \n",
              " ...              ...            ...       ...            ...       ...   \n",
              " 2019-12-18  0.007473       0.091562  0.008314       0.134440  0.008442   \n",
              " 2019-12-19  0.007506       0.108436  0.008223       0.124177  0.008158   \n",
              " 2019-12-20  0.007134       0.124481  0.008236       0.128874  0.008229   \n",
              " 2019-12-23  0.007138       0.140803  0.007720       0.124704  0.008234   \n",
              " 2019-12-24  0.006225       0.133190  0.007707       0.125444  0.008228   \n",
              " \n",
              "             pct_change_55    std_55  \n",
              " Date                                 \n",
              " 2006-12-06       0.081206  0.007279  \n",
              " 2006-12-07       0.064463  0.007184  \n",
              " 2006-12-08       0.093829  0.007403  \n",
              " 2006-12-11       0.107513  0.007268  \n",
              " 2006-12-12       0.092911  0.007202  \n",
              " ...                   ...       ...  \n",
              " 2019-12-18       0.124577  0.009002  \n",
              " 2019-12-19       0.150913  0.008615  \n",
              " 2019-12-20       0.149725  0.008592  \n",
              " 2019-12-23       0.136223  0.008471  \n",
              " 2019-12-24       0.143273  0.008374  \n",
              " \n",
              " [3285 rows x 29 columns],\n",
              " 'AMZN':                   High         Low        Open       Close       Volume  \\\n",
              " Date                                                                      \n",
              " 2006-12-06   29.129999   28.870001   29.100000   28.990000   48564100.0   \n",
              " 2006-12-07   29.070000   28.809999   28.959999   28.850000   46831100.0   \n",
              " 2006-12-08   29.400000   28.799999   28.820000   29.400000  108854900.0   \n",
              " 2006-12-11   29.750000   29.110001   29.190001   29.540001  107712000.0   \n",
              " 2006-12-12   29.629999   29.219999   29.559999   29.430000   68529400.0   \n",
              " ...                ...         ...         ...         ...          ...   \n",
              " 2019-12-18  155.479996  154.179993  154.300003  154.369995   24129200.0   \n",
              " 2019-12-19  155.770004  153.750000  154.000000  155.710007   24958900.0   \n",
              " 2019-12-20  158.490005  156.289993  157.350006  157.410004   53477500.0   \n",
              " 2019-12-23  158.119995  157.270004  158.119995  157.410004   17718200.0   \n",
              " 2019-12-24  157.710007  157.119995  157.479996  157.380005    8989200.0   \n",
              " \n",
              "              Adj Close  daily_pct_change  pct_change_10    std_10  \\\n",
              " Date                                                                \n",
              " 2006-12-06   21.479090         -0.004806      -0.031374  0.005815   \n",
              " 2006-12-07   21.375368         -0.004829      -0.036203  0.005726   \n",
              " 2006-12-08   21.782871          0.019064      -0.011792  0.009111   \n",
              " 2006-12-11   21.886606          0.004762       0.002379  0.008785   \n",
              " 2006-12-12   21.805098         -0.003724       0.001708  0.008815   \n",
              " ...                ...               ...            ...       ...   \n",
              " 2019-12-18  153.521942         -0.002069       0.029926  0.006060   \n",
              " 2019-12-19  154.854584          0.008680       0.038073  0.006237   \n",
              " 2019-12-20  156.545242          0.010918       0.036852  0.006066   \n",
              " 2019-12-23  156.545242          0.000000       0.039422  0.005821   \n",
              " 2019-12-24  156.515396         -0.000191       0.040751  0.005696   \n",
              " \n",
              "             return_next_day  ...  pct_change_35    std_35  pct_change_40  \\\n",
              " Date                         ...                                           \n",
              " 2006-12-06        -0.004829  ...       0.023176  0.005958       0.050235   \n",
              " 2006-12-07         0.019064  ...       0.015535  0.006017       0.050823   \n",
              " 2006-12-08         0.004762  ...       0.042663  0.006607       0.045195   \n",
              " 2006-12-11        -0.003724  ...       0.042476  0.006604       0.044642   \n",
              " 2006-12-12         0.004077  ...       0.038049  0.006656       0.038098   \n",
              " ...                     ...  ...            ...       ...            ...   \n",
              " 2019-12-18         0.008680  ...       0.081811  0.006057       0.128663   \n",
              " 2019-12-19         0.010918  ...       0.078029  0.005903       0.130964   \n",
              " 2019-12-20         0.000000  ...       0.097521  0.005772       0.122208   \n",
              " 2019-12-23        -0.000191  ...       0.095080  0.005791       0.116563   \n",
              " 2019-12-24         0.008197  ...       0.089114  0.005786       0.091786   \n",
              " \n",
              "               std_40  pct_change_45    std_45  pct_change_50    std_50  \\\n",
              " Date                                                                     \n",
              " 2006-12-06  0.006858       0.062089  0.007198       0.068361  0.006933   \n",
              " 2006-12-07  0.006844       0.036435  0.006615       0.054709  0.006902   \n",
              " 2006-12-08  0.006394       0.056215  0.007147       0.075231  0.007343   \n",
              " 2006-12-11  0.006385       0.062767  0.007150       0.081817  0.007342   \n",
              " 2006-12-12  0.006424       0.064426  0.007119       0.077728  0.007379   \n",
              " ...              ...            ...       ...            ...       ...   \n",
              " 2019-12-18  0.007473       0.091562  0.008314       0.134440  0.008442   \n",
              " 2019-12-19  0.007506       0.108436  0.008223       0.124177  0.008158   \n",
              " 2019-12-20  0.007134       0.124481  0.008236       0.128874  0.008229   \n",
              " 2019-12-23  0.007138       0.140803  0.007720       0.124704  0.008234   \n",
              " 2019-12-24  0.006225       0.133190  0.007707       0.125444  0.008228   \n",
              " \n",
              "             pct_change_55    std_55  \n",
              " Date                                 \n",
              " 2006-12-06       0.081206  0.007279  \n",
              " 2006-12-07       0.064463  0.007184  \n",
              " 2006-12-08       0.093829  0.007403  \n",
              " 2006-12-11       0.107513  0.007268  \n",
              " 2006-12-12       0.092911  0.007202  \n",
              " ...                   ...       ...  \n",
              " 2019-12-18       0.124577  0.009002  \n",
              " 2019-12-19       0.150913  0.008615  \n",
              " 2019-12-20       0.149725  0.008592  \n",
              " 2019-12-23       0.136223  0.008471  \n",
              " 2019-12-24       0.143273  0.008374  \n",
              " \n",
              " [3285 rows x 29 columns],\n",
              " 'NFLX':                   High         Low        Open       Close       Volume  \\\n",
              " Date                                                                      \n",
              " 2006-12-06   29.129999   28.870001   29.100000   28.990000   48564100.0   \n",
              " 2006-12-07   29.070000   28.809999   28.959999   28.850000   46831100.0   \n",
              " 2006-12-08   29.400000   28.799999   28.820000   29.400000  108854900.0   \n",
              " 2006-12-11   29.750000   29.110001   29.190001   29.540001  107712000.0   \n",
              " 2006-12-12   29.629999   29.219999   29.559999   29.430000   68529400.0   \n",
              " ...                ...         ...         ...         ...          ...   \n",
              " 2019-12-18  155.479996  154.179993  154.300003  154.369995   24129200.0   \n",
              " 2019-12-19  155.770004  153.750000  154.000000  155.710007   24958900.0   \n",
              " 2019-12-20  158.490005  156.289993  157.350006  157.410004   53477500.0   \n",
              " 2019-12-23  158.119995  157.270004  158.119995  157.410004   17718200.0   \n",
              " 2019-12-24  157.710007  157.119995  157.479996  157.380005    8989200.0   \n",
              " \n",
              "              Adj Close  daily_pct_change  pct_change_10    std_10  \\\n",
              " Date                                                                \n",
              " 2006-12-06   21.479090         -0.004806      -0.031374  0.005815   \n",
              " 2006-12-07   21.375368         -0.004829      -0.036203  0.005726   \n",
              " 2006-12-08   21.782871          0.019064      -0.011792  0.009111   \n",
              " 2006-12-11   21.886606          0.004762       0.002379  0.008785   \n",
              " 2006-12-12   21.805098         -0.003724       0.001708  0.008815   \n",
              " ...                ...               ...            ...       ...   \n",
              " 2019-12-18  153.521942         -0.002069       0.029926  0.006060   \n",
              " 2019-12-19  154.854584          0.008680       0.038073  0.006237   \n",
              " 2019-12-20  156.545242          0.010918       0.036852  0.006066   \n",
              " 2019-12-23  156.545242          0.000000       0.039422  0.005821   \n",
              " 2019-12-24  156.515396         -0.000191       0.040751  0.005696   \n",
              " \n",
              "             return_next_day  ...  pct_change_35    std_35  pct_change_40  \\\n",
              " Date                         ...                                           \n",
              " 2006-12-06        -0.004829  ...       0.023176  0.005958       0.050235   \n",
              " 2006-12-07         0.019064  ...       0.015535  0.006017       0.050823   \n",
              " 2006-12-08         0.004762  ...       0.042663  0.006607       0.045195   \n",
              " 2006-12-11        -0.003724  ...       0.042476  0.006604       0.044642   \n",
              " 2006-12-12         0.004077  ...       0.038049  0.006656       0.038098   \n",
              " ...                     ...  ...            ...       ...            ...   \n",
              " 2019-12-18         0.008680  ...       0.081811  0.006057       0.128663   \n",
              " 2019-12-19         0.010918  ...       0.078029  0.005903       0.130964   \n",
              " 2019-12-20         0.000000  ...       0.097521  0.005772       0.122208   \n",
              " 2019-12-23        -0.000191  ...       0.095080  0.005791       0.116563   \n",
              " 2019-12-24         0.008197  ...       0.089114  0.005786       0.091786   \n",
              " \n",
              "               std_40  pct_change_45    std_45  pct_change_50    std_50  \\\n",
              " Date                                                                     \n",
              " 2006-12-06  0.006858       0.062089  0.007198       0.068361  0.006933   \n",
              " 2006-12-07  0.006844       0.036435  0.006615       0.054709  0.006902   \n",
              " 2006-12-08  0.006394       0.056215  0.007147       0.075231  0.007343   \n",
              " 2006-12-11  0.006385       0.062767  0.007150       0.081817  0.007342   \n",
              " 2006-12-12  0.006424       0.064426  0.007119       0.077728  0.007379   \n",
              " ...              ...            ...       ...            ...       ...   \n",
              " 2019-12-18  0.007473       0.091562  0.008314       0.134440  0.008442   \n",
              " 2019-12-19  0.007506       0.108436  0.008223       0.124177  0.008158   \n",
              " 2019-12-20  0.007134       0.124481  0.008236       0.128874  0.008229   \n",
              " 2019-12-23  0.007138       0.140803  0.007720       0.124704  0.008234   \n",
              " 2019-12-24  0.006225       0.133190  0.007707       0.125444  0.008228   \n",
              " \n",
              "             pct_change_55    std_55  \n",
              " Date                                 \n",
              " 2006-12-06       0.081206  0.007279  \n",
              " 2006-12-07       0.064463  0.007184  \n",
              " 2006-12-08       0.093829  0.007403  \n",
              " 2006-12-11       0.107513  0.007268  \n",
              " 2006-12-12       0.092911  0.007202  \n",
              " ...                   ...       ...  \n",
              " 2019-12-18       0.124577  0.009002  \n",
              " 2019-12-19       0.150913  0.008615  \n",
              " 2019-12-20       0.149725  0.008592  \n",
              " 2019-12-23       0.136223  0.008471  \n",
              " 2019-12-24       0.143273  0.008374  \n",
              " \n",
              " [3285 rows x 29 columns],\n",
              " 'NVDA':                   High         Low        Open       Close       Volume  \\\n",
              " Date                                                                      \n",
              " 2006-12-06   29.129999   28.870001   29.100000   28.990000   48564100.0   \n",
              " 2006-12-07   29.070000   28.809999   28.959999   28.850000   46831100.0   \n",
              " 2006-12-08   29.400000   28.799999   28.820000   29.400000  108854900.0   \n",
              " 2006-12-11   29.750000   29.110001   29.190001   29.540001  107712000.0   \n",
              " 2006-12-12   29.629999   29.219999   29.559999   29.430000   68529400.0   \n",
              " ...                ...         ...         ...         ...          ...   \n",
              " 2019-12-18  155.479996  154.179993  154.300003  154.369995   24129200.0   \n",
              " 2019-12-19  155.770004  153.750000  154.000000  155.710007   24958900.0   \n",
              " 2019-12-20  158.490005  156.289993  157.350006  157.410004   53477500.0   \n",
              " 2019-12-23  158.119995  157.270004  158.119995  157.410004   17718200.0   \n",
              " 2019-12-24  157.710007  157.119995  157.479996  157.380005    8989200.0   \n",
              " \n",
              "              Adj Close  daily_pct_change  pct_change_10    std_10  \\\n",
              " Date                                                                \n",
              " 2006-12-06   21.479090         -0.004806      -0.031374  0.005815   \n",
              " 2006-12-07   21.375368         -0.004829      -0.036203  0.005726   \n",
              " 2006-12-08   21.782871          0.019064      -0.011792  0.009111   \n",
              " 2006-12-11   21.886606          0.004762       0.002379  0.008785   \n",
              " 2006-12-12   21.805098         -0.003724       0.001708  0.008815   \n",
              " ...                ...               ...            ...       ...   \n",
              " 2019-12-18  153.521942         -0.002069       0.029926  0.006060   \n",
              " 2019-12-19  154.854584          0.008680       0.038073  0.006237   \n",
              " 2019-12-20  156.545242          0.010918       0.036852  0.006066   \n",
              " 2019-12-23  156.545242          0.000000       0.039422  0.005821   \n",
              " 2019-12-24  156.515396         -0.000191       0.040751  0.005696   \n",
              " \n",
              "             return_next_day  ...  pct_change_35    std_35  pct_change_40  \\\n",
              " Date                         ...                                           \n",
              " 2006-12-06        -0.004829  ...       0.023176  0.005958       0.050235   \n",
              " 2006-12-07         0.019064  ...       0.015535  0.006017       0.050823   \n",
              " 2006-12-08         0.004762  ...       0.042663  0.006607       0.045195   \n",
              " 2006-12-11        -0.003724  ...       0.042476  0.006604       0.044642   \n",
              " 2006-12-12         0.004077  ...       0.038049  0.006656       0.038098   \n",
              " ...                     ...  ...            ...       ...            ...   \n",
              " 2019-12-18         0.008680  ...       0.081811  0.006057       0.128663   \n",
              " 2019-12-19         0.010918  ...       0.078029  0.005903       0.130964   \n",
              " 2019-12-20         0.000000  ...       0.097521  0.005772       0.122208   \n",
              " 2019-12-23        -0.000191  ...       0.095080  0.005791       0.116563   \n",
              " 2019-12-24         0.008197  ...       0.089114  0.005786       0.091786   \n",
              " \n",
              "               std_40  pct_change_45    std_45  pct_change_50    std_50  \\\n",
              " Date                                                                     \n",
              " 2006-12-06  0.006858       0.062089  0.007198       0.068361  0.006933   \n",
              " 2006-12-07  0.006844       0.036435  0.006615       0.054709  0.006902   \n",
              " 2006-12-08  0.006394       0.056215  0.007147       0.075231  0.007343   \n",
              " 2006-12-11  0.006385       0.062767  0.007150       0.081817  0.007342   \n",
              " 2006-12-12  0.006424       0.064426  0.007119       0.077728  0.007379   \n",
              " ...              ...            ...       ...            ...       ...   \n",
              " 2019-12-18  0.007473       0.091562  0.008314       0.134440  0.008442   \n",
              " 2019-12-19  0.007506       0.108436  0.008223       0.124177  0.008158   \n",
              " 2019-12-20  0.007134       0.124481  0.008236       0.128874  0.008229   \n",
              " 2019-12-23  0.007138       0.140803  0.007720       0.124704  0.008234   \n",
              " 2019-12-24  0.006225       0.133190  0.007707       0.125444  0.008228   \n",
              " \n",
              "             pct_change_55    std_55  \n",
              " Date                                 \n",
              " 2006-12-06       0.081206  0.007279  \n",
              " 2006-12-07       0.064463  0.007184  \n",
              " 2006-12-08       0.093829  0.007403  \n",
              " 2006-12-11       0.107513  0.007268  \n",
              " 2006-12-12       0.092911  0.007202  \n",
              " ...                   ...       ...  \n",
              " 2019-12-18       0.124577  0.009002  \n",
              " 2019-12-19       0.150913  0.008615  \n",
              " 2019-12-20       0.149725  0.008592  \n",
              " 2019-12-23       0.136223  0.008471  \n",
              " 2019-12-24       0.143273  0.008374  \n",
              " \n",
              " [3285 rows x 29 columns]}"
            ]
          },
          "execution_count": 53,
          "metadata": {},
          "output_type": "execute_result"
        }
      ],
      "source": [
        "stock_data_dictionary"
      ]
    },
    {
      "cell_type": "code",
      "execution_count": null,
      "metadata": {
        "id": "UH8k_HPsr3Wf",
        "outputId": "057a5e8c-e4b9-4917-9af0-d8c3ef49cdac"
      },
      "outputs": [
        {
          "data": {
            "image/png": "[encoded data removed]",
            "text/plain": [
              "<Figure size 720x504 with 1 Axes>"
            ]
          },
          "metadata": {
            "needs_background": "light"
          },
          "output_type": "display_data"
        }
      ],
      "source": [
        "# Set the figure size\n",
        "plt.figure(figsize=(10, 7))\n",
        "# Access the dataframe of AAPL from the dictionary and then compute and plot the returns\n",
        "(stock_data_dictionary['AAPL'].daily_pct_change+1).cumprod().plot()\n",
        "# Set the title and axis labels and plot grid\n",
        "plt.title('AAPL Returns')\n",
        "plt.ylabel('Cumulative Returns')\n",
        "plt.grid()\n",
        "plt.show()"
      ]
    },
    {
      "cell_type": "code",
      "execution_count": null,
      "metadata": {
        "id": "a6wQmMxGr3Wg",
        "outputId": "b4d3f6b2-cfe5-4dfb-a139-d5a36d6f4f04"
      },
      "outputs": [
        {
          "data": {
            "text/html": [
              "<div>\n",
              "<style scoped>\n",
              "    .dataframe tbody tr th:only-of-type {\n",
              "        vertical-align: middle;\n",
              "    }\n",
              "\n",
              "    .dataframe tbody tr th {\n",
              "        vertical-align: top;\n",
              "    }\n",
              "\n",
              "    .dataframe thead th {\n",
              "        text-align: right;\n",
              "    }\n",
              "</style>\n",
              "<table border=\"1\" class=\"dataframe\">\n",
              "  <thead>\n",
              "    <tr style=\"text-align: right;\">\n",
              "      <th></th>\n",
              "      <th>High</th>\n",
              "      <th>Low</th>\n",
              "      <th>Open</th>\n",
              "      <th>Close</th>\n",
              "      <th>Volume</th>\n",
              "      <th>Adj Close</th>\n",
              "      <th>daily_pct_change</th>\n",
              "      <th>pct_change_10</th>\n",
              "      <th>std_10</th>\n",
              "      <th>return_next_day</th>\n",
              "      <th>...</th>\n",
              "      <th>pct_change_35</th>\n",
              "      <th>std_35</th>\n",
              "      <th>pct_change_40</th>\n",
              "      <th>std_40</th>\n",
              "      <th>pct_change_45</th>\n",
              "      <th>std_45</th>\n",
              "      <th>pct_change_50</th>\n",
              "      <th>std_50</th>\n",
              "      <th>pct_change_55</th>\n",
              "      <th>std_55</th>\n",
              "    </tr>\n",
              "    <tr>\n",
              "      <th>Date</th>\n",
              "      <th></th>\n",
              "      <th></th>\n",
              "      <th></th>\n",
              "      <th></th>\n",
              "      <th></th>\n",
              "      <th></th>\n",
              "      <th></th>\n",
              "      <th></th>\n",
              "      <th></th>\n",
              "      <th></th>\n",
              "      <th></th>\n",
              "      <th></th>\n",
              "      <th></th>\n",
              "      <th></th>\n",
              "      <th></th>\n",
              "      <th></th>\n",
              "      <th></th>\n",
              "      <th></th>\n",
              "      <th></th>\n",
              "      <th></th>\n",
              "      <th></th>\n",
              "    </tr>\n",
              "  </thead>\n",
              "  <tbody>\n",
              "    <tr>\n",
              "      <th>2006-12-06</th>\n",
              "      <td>29.129999</td>\n",
              "      <td>28.870001</td>\n",
              "      <td>29.100000</td>\n",
              "      <td>28.990000</td>\n",
              "      <td>48564100.0</td>\n",
              "      <td>21.479090</td>\n",
              "      <td>-0.004806</td>\n",
              "      <td>-0.031374</td>\n",
              "      <td>0.005815</td>\n",
              "      <td>-0.004829</td>\n",
              "      <td>...</td>\n",
              "      <td>0.023176</td>\n",
              "      <td>0.005958</td>\n",
              "      <td>0.050235</td>\n",
              "      <td>0.006858</td>\n",
              "      <td>0.062089</td>\n",
              "      <td>0.007198</td>\n",
              "      <td>0.068361</td>\n",
              "      <td>0.006933</td>\n",
              "      <td>0.081206</td>\n",
              "      <td>0.007279</td>\n",
              "    </tr>\n",
              "    <tr>\n",
              "      <th>2006-12-07</th>\n",
              "      <td>29.070000</td>\n",
              "      <td>28.809999</td>\n",
              "      <td>28.959999</td>\n",
              "      <td>28.850000</td>\n",
              "      <td>46831100.0</td>\n",
              "      <td>21.375368</td>\n",
              "      <td>-0.004829</td>\n",
              "      <td>-0.036203</td>\n",
              "      <td>0.005726</td>\n",
              "      <td>0.019064</td>\n",
              "      <td>...</td>\n",
              "      <td>0.015535</td>\n",
              "      <td>0.006017</td>\n",
              "      <td>0.050823</td>\n",
              "      <td>0.006844</td>\n",
              "      <td>0.036435</td>\n",
              "      <td>0.006615</td>\n",
              "      <td>0.054709</td>\n",
              "      <td>0.006902</td>\n",
              "      <td>0.064463</td>\n",
              "      <td>0.007184</td>\n",
              "    </tr>\n",
              "    <tr>\n",
              "      <th>2006-12-08</th>\n",
              "      <td>29.400000</td>\n",
              "      <td>28.799999</td>\n",
              "      <td>28.820000</td>\n",
              "      <td>29.400000</td>\n",
              "      <td>108854900.0</td>\n",
              "      <td>21.782871</td>\n",
              "      <td>0.019064</td>\n",
              "      <td>-0.011792</td>\n",
              "      <td>0.009111</td>\n",
              "      <td>0.004762</td>\n",
              "      <td>...</td>\n",
              "      <td>0.042663</td>\n",
              "      <td>0.006607</td>\n",
              "      <td>0.045195</td>\n",
              "      <td>0.006394</td>\n",
              "      <td>0.056215</td>\n",
              "      <td>0.007147</td>\n",
              "      <td>0.075231</td>\n",
              "      <td>0.007343</td>\n",
              "      <td>0.093829</td>\n",
              "      <td>0.007403</td>\n",
              "    </tr>\n",
              "    <tr>\n",
              "      <th>2006-12-11</th>\n",
              "      <td>29.750000</td>\n",
              "      <td>29.110001</td>\n",
              "      <td>29.190001</td>\n",
              "      <td>29.540001</td>\n",
              "      <td>107712000.0</td>\n",
              "      <td>21.886606</td>\n",
              "      <td>0.004762</td>\n",
              "      <td>0.002379</td>\n",
              "      <td>0.008785</td>\n",
              "      <td>-0.003724</td>\n",
              "      <td>...</td>\n",
              "      <td>0.042476</td>\n",
              "      <td>0.006604</td>\n",
              "      <td>0.044642</td>\n",
              "      <td>0.006385</td>\n",
              "      <td>0.062767</td>\n",
              "      <td>0.007150</td>\n",
              "      <td>0.081817</td>\n",
              "      <td>0.007342</td>\n",
              "      <td>0.107513</td>\n",
              "      <td>0.007268</td>\n",
              "    </tr>\n",
              "    <tr>\n",
              "      <th>2006-12-12</th>\n",
              "      <td>29.629999</td>\n",
              "      <td>29.219999</td>\n",
              "      <td>29.559999</td>\n",
              "      <td>29.430000</td>\n",
              "      <td>68529400.0</td>\n",
              "      <td>21.805098</td>\n",
              "      <td>-0.003724</td>\n",
              "      <td>0.001708</td>\n",
              "      <td>0.008815</td>\n",
              "      <td>0.004077</td>\n",
              "      <td>...</td>\n",
              "      <td>0.038049</td>\n",
              "      <td>0.006656</td>\n",
              "      <td>0.038098</td>\n",
              "      <td>0.006424</td>\n",
              "      <td>0.064426</td>\n",
              "      <td>0.007119</td>\n",
              "      <td>0.077728</td>\n",
              "      <td>0.007379</td>\n",
              "      <td>0.092911</td>\n",
              "      <td>0.007202</td>\n",
              "    </tr>\n",
              "  </tbody>\n",
              "</table>\n",
              "<p>5 rows × 29 columns</p>\n",
              "</div>"
            ],
            "text/plain": [
              "                 High        Low       Open      Close       Volume  \\\n",
              "Date                                                                  \n",
              "2006-12-06  29.129999  28.870001  29.100000  28.990000   48564100.0   \n",
              "2006-12-07  29.070000  28.809999  28.959999  28.850000   46831100.0   \n",
              "2006-12-08  29.400000  28.799999  28.820000  29.400000  108854900.0   \n",
              "2006-12-11  29.750000  29.110001  29.190001  29.540001  107712000.0   \n",
              "2006-12-12  29.629999  29.219999  29.559999  29.430000   68529400.0   \n",
              "\n",
              "            Adj Close  daily_pct_change  pct_change_10    std_10  \\\n",
              "Date                                                               \n",
              "2006-12-06  21.479090         -0.004806      -0.031374  0.005815   \n",
              "2006-12-07  21.375368         -0.004829      -0.036203  0.005726   \n",
              "2006-12-08  21.782871          0.019064      -0.011792  0.009111   \n",
              "2006-12-11  21.886606          0.004762       0.002379  0.008785   \n",
              "2006-12-12  21.805098         -0.003724       0.001708  0.008815   \n",
              "\n",
              "            return_next_day  ...  pct_change_35    std_35  pct_change_40  \\\n",
              "Date                         ...                                           \n",
              "2006-12-06        -0.004829  ...       0.023176  0.005958       0.050235   \n",
              "2006-12-07         0.019064  ...       0.015535  0.006017       0.050823   \n",
              "2006-12-08         0.004762  ...       0.042663  0.006607       0.045195   \n",
              "2006-12-11        -0.003724  ...       0.042476  0.006604       0.044642   \n",
              "2006-12-12         0.004077  ...       0.038049  0.006656       0.038098   \n",
              "\n",
              "              std_40  pct_change_45    std_45  pct_change_50    std_50  \\\n",
              "Date                                                                     \n",
              "2006-12-06  0.006858       0.062089  0.007198       0.068361  0.006933   \n",
              "2006-12-07  0.006844       0.036435  0.006615       0.054709  0.006902   \n",
              "2006-12-08  0.006394       0.056215  0.007147       0.075231  0.007343   \n",
              "2006-12-11  0.006385       0.062767  0.007150       0.081817  0.007342   \n",
              "2006-12-12  0.006424       0.064426  0.007119       0.077728  0.007379   \n",
              "\n",
              "            pct_change_55    std_55  \n",
              "Date                                 \n",
              "2006-12-06       0.081206  0.007279  \n",
              "2006-12-07       0.064463  0.007184  \n",
              "2006-12-08       0.093829  0.007403  \n",
              "2006-12-11       0.107513  0.007268  \n",
              "2006-12-12       0.092911  0.007202  \n",
              "\n",
              "[5 rows x 29 columns]"
            ]
          },
          "execution_count": 57,
          "metadata": {},
          "output_type": "execute_result"
        }
      ],
      "source": [
        "df.head()"
      ]
    },
    {
      "cell_type": "code",
      "execution_count": null,
      "metadata": {
        "id": "vGR8nynsr3Wg"
      },
      "outputs": [],
      "source": [
        "# Create a placeholder for the train and test split data\n",
        "X_train = pd.DataFrame()\n",
        "X_test = pd.DataFrame()\n",
        "y_train = pd.Series()\n",
        "y_test = pd.Series()\n",
        "for stock_name in stock_list:\n",
        "# Get predictor variables\n",
        "    X = stock_data_dictionary[stock_name][predictor_list]\n",
        "# Get the target variable\n",
        "    y = stock_data_dictionary[stock_name].actual_signal\n",
        "# Divide the dataset into train and test\n",
        "    train_length = int(len(X)*0.80)\n",
        "    X_train = X_train.append(X[:train_length])\n",
        "    X_test = X_test.append(X[train_length:])\n",
        "    y_train = y_train.append(y[:train_length])\n",
        "    y_test = y_test.append(y[train_length:])"
      ]
    },
    {
      "cell_type": "code",
      "execution_count": null,
      "metadata": {
        "id": "FvxzHXTtr3Wg",
        "outputId": "b3ff8491-8b4c-446f-ec70-24cdbfb89270"
      },
      "outputs": [
        {
          "data": {
            "text/plain": [
              "XGBClassifier(base_score=None, booster=None, colsample_bylevel=None,\n",
              "              colsample_bynode=None, colsample_bytree=None, gamma=None,\n",
              "              gpu_id=None, importance_type='gain', interaction_constraints=None,\n",
              "              learning_rate=0.1, max_delta_step=None, max_depth=2,\n",
              "              min_child_weight=None, missing=nan, monotone_constraints=None,\n",
              "              n_estimators=30, n_jobs=None, num_parallel_tree=None,\n",
              "              objective='binary:logistic', random_state=None, reg_alpha=None,\n",
              "              reg_lambda=None, scale_pos_weight=None, subsample=None,\n",
              "              tree_method=None, validate_parameters=None, verbosity=None)"
            ]
          },
          "execution_count": 60,
          "metadata": {},
          "output_type": "execute_result"
        }
      ],
      "source": [
        "# Initialize the model and set the hyperparameter values\n",
        "model = XGBClassifier(max_depth=2, n_estimators=30,learning_rate=0.1)\n",
        "model"
      ]
    },
    {
      "cell_type": "markdown",
      "metadata": {
        "id": "_hhmWOXVr3Wh"
      },
      "source": [
        "All right, we will now perform cross-validation on the train set to check the accuracy."
      ]
    },
    {
      "cell_type": "code",
      "execution_count": null,
      "metadata": {
        "id": "pWZwlLAor3Wh",
        "outputId": "28017156-9192-43c5-cfdf-c065ad7a8815"
      },
      "outputs": [
        {
          "name": "stdout",
          "output_type": "stream",
          "text": [
            "Accuracy: 60.58% (0.00%)\n"
          ]
        }
      ],
      "source": [
        "# Initialize the KFold parameters\n",
        "kfold = KFold(n_splits=5, random_state=7)\n",
        "# Perform K-Fold Cross Validation\n",
        "results = cross_val_score(model, X_train, y_train, cv=kfold)\n",
        "# Print the average results\n",
        "print(\"Accuracy: %.2f%% (%.2f%%)\" % (results.mean()*100, results.std()*100))"
      ]
    },
    {
      "cell_type": "code",
      "execution_count": null,
      "metadata": {
        "id": "fMV6Gzajr3Wi",
        "outputId": "1b25d914-da94-44fd-c6e5-e0009c198359"
      },
      "outputs": [
        {
          "data": {
            "text/plain": [
              "XGBClassifier(base_score=0.5, booster='gbtree', colsample_bylevel=1,\n",
              "              colsample_bynode=1, colsample_bytree=1, gamma=0, gpu_id=-1,\n",
              "              importance_type='gain', interaction_constraints='',\n",
              "              learning_rate=0.1, max_delta_step=0, max_depth=2,\n",
              "              min_child_weight=1, missing=nan, monotone_constraints='()',\n",
              "              n_estimators=30, n_jobs=0, num_parallel_tree=1,\n",
              "              objective='binary:logistic', random_state=0, reg_alpha=0,\n",
              "              reg_lambda=1, scale_pos_weight=1, subsample=1,\n",
              "              tree_method='exact', validate_parameters=1, verbosity=None)"
            ]
          },
          "execution_count": 62,
          "metadata": {},
          "output_type": "execute_result"
        }
      ],
      "source": [
        "model.fit(X_train, y_train)"
      ]
    },
    {
      "cell_type": "code",
      "execution_count": null,
      "metadata": {
        "id": "6_TqJlTcr3Wi",
        "outputId": "4c640cfb-184c-447e-c557-3fc81fbab229"
      },
      "outputs": [
        {
          "data": {
            "image/png": "[encoded data removed]",
            "text/plain": [
              "<Figure size 432x288 with 1 Axes>"
            ]
          },
          "metadata": {
            "needs_background": "light"
          },
          "output_type": "display_data"
        }
      ],
      "source": [
        "# Plot the top 7 features\n",
        "xgboost.plot_importance(model, max_num_features=7)\n",
        "# Show the plot\n",
        "plt.show()"
      ]
    },
    {
      "cell_type": "markdown",
      "metadata": {
        "id": "eFgi4KkBr3Wi"
      },
      "source": [
        "That’s interesting. The XGBoost python model tells us that the pct_change_40 is the most important feature of the others. Since we had mentioned that we need only 7 features, we received this list. Here’s an interesting idea, why don’t you increase the number and see how the other features stack up, when it comes to their f-score. You can also remove the unimportant features and then retrain the model. "
      ]
    },
    {
      "cell_type": "code",
      "execution_count": null,
      "metadata": {
        "id": "I_uuLwKOr3Wi",
        "outputId": "a8a4e355-712a-4094-c49d-2cb01f8eda47"
      },
      "outputs": [
        {
          "name": "stdout",
          "output_type": "stream",
          "text": [
            "              precision    recall  f1-score   support\n",
            "\n",
            "          -1       0.44      0.61      0.51      1405\n",
            "           1       0.60      0.43      0.50      1880\n",
            "\n",
            "    accuracy                           0.51      3285\n",
            "   macro avg       0.52      0.52      0.51      3285\n",
            "weighted avg       0.53      0.51      0.51      3285\n",
            "\n"
          ]
        }
      ],
      "source": [
        "# Predict the trading signal on test dataset\n",
        "y_pred = model.predict(X_test)\n",
        "# Get the classification report\n",
        "print(classification_report(y_test, y_pred))"
      ]
    },
    {
      "cell_type": "markdown",
      "metadata": {
        "id": "lMtEB8CHr3Wi"
      },
      "source": [
        "Hold on! We are almost there. Let’s see what XGBoost tells us right now:\n",
        "\n",
        "That’s interesting. The f1-score for the long side is much more powerful compared to the short side. We can modify the model and make it a long-only strategy. \n",
        "\n",
        "Let’s try another way to formulate how well XGBoost performed. "
      ]
    },
    {
      "cell_type": "code",
      "execution_count": null,
      "metadata": {
        "id": "Gk7QK2Xyr3Wi",
        "outputId": "b2f3bc6e-0418-4d8a-a976-8dc226880d9a"
      },
      "outputs": [
        {
          "data": {
            "image/png": "[encoded data removed]",
            "text/plain": [
              "<Figure size 360x288 with 2 Axes>"
            ]
          },
          "metadata": {
            "needs_background": "light"
          },
          "output_type": "display_data"
        }
      ],
      "source": [
        "array = confusion_matrix(y_test, y_pred)\n",
        "df = pd.DataFrame(array, index=['Short', 'Long'], columns=['Short', 'Long'])\n",
        "plt.figure(figsize=(5, 4))\n",
        "sn.heatmap(df, annot=True, cmap='Greens', fmt='g')\n",
        "plt.xlabel('Predicted')\n",
        "plt.ylabel('Actual')\n",
        "plt.show()"
      ]
    },
    {
      "cell_type": "code",
      "execution_count": null,
      "metadata": {
        "scrolled": false,
        "id": "d4WTG_bcr3Wi",
        "outputId": "e5bbd64d-2189-4cc6-e406-8d7612a5a220"
      },
      "outputs": [
        {
          "name": "stdout",
          "output_type": "stream",
          "text": [
            "AAPL\n"
          ]
        },
        {
          "data": {
            "image/png": "[encoded data removed]",
            "text/plain": [
              "<Figure size 720x504 with 1 Axes>"
            ]
          },
          "metadata": {
            "needs_background": "light"
          },
          "output_type": "display_data"
        },
        {
          "name": "stdout",
          "output_type": "stream",
          "text": [
            "AMZN\n"
          ]
        },
        {
          "data": {
            "image/png": "[encoded data removed]",
            "text/plain": [
              "<Figure size 720x504 with 1 Axes>"
            ]
          },
          "metadata": {
            "needs_background": "light"
          },
          "output_type": "display_data"
        },
        {
          "name": "stdout",
          "output_type": "stream",
          "text": [
            "NFLX\n"
          ]
        },
        {
          "data": {
            "image/png": "[encoded data removed]",
            "text/plain": [
              "<Figure size 720x504 with 1 Axes>"
            ]
          },
          "metadata": {
            "needs_background": "light"
          },
          "output_type": "display_data"
        },
        {
          "name": "stdout",
          "output_type": "stream",
          "text": [
            "NVDA\n"
          ]
        },
        {
          "data": {
            "image/png": "[encoded data removed]",
            "text/plain": [
              "<Figure size 720x504 with 1 Axes>"
            ]
          },
          "metadata": {
            "needs_background": "light"
          },
          "output_type": "display_data"
        },
        {
          "name": "stdout",
          "output_type": "stream",
          "text": [
            "MSFT\n"
          ]
        },
        {
          "data": {
            "image/png": "[encoded data removed]",
            "text/plain": [
              "<Figure size 720x504 with 1 Axes>"
            ]
          },
          "metadata": {
            "needs_background": "light"
          },
          "output_type": "display_data"
        }
      ],
      "source": [
        "# Create an empty dataframe to store the strategy returns of individual stocks\n",
        "portfolio = pd.DataFrame(columns=stock_list)\n",
        "# For each stock in the stock list, plot the strategy returns and buy and hold returns\n",
        "for stock_name in stock_list:\n",
        "# Get the data\n",
        "    df = stock_data_dictionary[stock_name]\n",
        "# Store the predictor variables in X\n",
        "    X = df[predictor_list]\n",
        "# Define the train and test dataset\n",
        "    train_length = int(len(X)*0.80)\n",
        "# Predict the signal and store in predicted signal column\n",
        "    df['predicted_signal'] = model.predict(X)\n",
        "# Calculate the strategy returns\n",
        "    df['strategy_returns'] = df.return_next_day * df.predicted_signal\n",
        "# Add the strategy returns to the portfolio dataframe\n",
        "    portfolio[stock_name] = df.strategy_returns[train_length:]\n",
        "# Plot the stock strategy and buy and hold returns\n",
        "    print(stock_name)\n",
        "# Set the figure size\n",
        "    plt.figure(figsize=(10, 7))\n",
        "# Calculate the cumulative strategy returns and plot\n",
        "    (df.strategy_returns[train_length:]+1).cumprod().plot()\n",
        "# Calculate the cumulative buy and hold strategy returns\n",
        "    (stock_data_dictionary[stock_name][train_length:].daily_pct_change+1).cumprod().plot()\n",
        "# Set the title, label and grid\n",
        "    plt.title(stock_name + ' Returns')\n",
        "    plt.ylabel('Cumulative Returns')\n",
        "    plt.legend(labels=['Strategy Returns', 'Buy and Hold Returns'])\n",
        "    plt.grid()\n",
        "    plt.show()"
      ]
    },
    {
      "cell_type": "markdown",
      "metadata": {
        "id": "gT3nYniRr3Wj"
      },
      "source": [
        "https://blog.quantinsti.com/xgboost-python/#XGBoost-python"
      ]
    },
    {
      "cell_type": "code",
      "execution_count": null,
      "metadata": {
        "id": "Gd8EbmpTr3Wj"
      },
      "outputs": [],
      "source": []
    },
    {
      "cell_type": "code",
      "execution_count": null,
      "metadata": {
        "id": "hgZCxLS3r3Wj"
      },
      "outputs": [],
      "source": []
    },
    {
      "cell_type": "code",
      "execution_count": null,
      "metadata": {
        "id": "2RKk_ugtr3Wj"
      },
      "outputs": [],
      "source": []
    },
    {
      "cell_type": "markdown",
      "metadata": {
        "id": "fmYCZtkLr3Wj"
      },
      "source": [
        "# XGBoost for Classification\n",
        "\n",
        "### Steps:\n",
        "\n",
        "* Firstly, the fitting of the training data is done by making an initial prediction of the target value. This value can be anything but by default it is 0.5, regardless of whether you are using for regression or classification.\n",
        "*  Now, just like the unextreme gradient boost, XGBoost fits the regression tree to the residuals. \n",
        "\n",
        "##### Building the unique DT in XGBoost:\n",
        "* Each tree starts out with a single tree and all the residuals go to the single leaf. Now, we calculate a quality score or similarity score for the residuals. \n",
        "`Similarity score= (Sum of residuals)^2 / ( sum of (previous prob_i)(1-previous prob_i) + lambda)`\n",
        "Here, lambda is a Regularisation parameter. (Default=0)\n",
        "Split the residuals and calculate the respective Similarity score for each node. Splitting is done by putting one of the residuals in first leaf and rest in others and then, shifting each leaf from second to first leaf one at a time. \n",
        "Note: when the residuals are similar or there is just one of them, they donot cancel out and the similarity score is large.\n",
        "* The best split is decided by calculating the Gain. `Gain= Similarity score for left leaf +  Similarity score for right leaf -  Similarity score for above node` . The split for which the Gain value is maximum is taken as a final split. \n",
        "* Again, the split of the leaf node calculated above is splitted by calculating the similarity score and calculating the gain for the best split. This goes on until the max_depth of tree is specified or the no of residual values in tree is a single number.\n",
        "\n",
        "##### Concept of Cover in XGBoost for classification:\n",
        "For limiting the levels in each DT made, we limit the levels by specifying the max_depth. \n",
        "XGBoost also has a property of setting the threshold for the maximum number of residuals in each leaf. Note: The minimum number of residuals in each leaf is deterined by something called **COVER**\n",
        "It is defined as the denominator of similarity score minus lambda.\n",
        "\n",
        "Cover for Classification is `sum of (previous prob_i)(1-previous prob_i)`\n",
        "and For Regression is `No of Residuals`\n",
        "\n",
        "By default, the minimum value of Cover is 1. Thus, by default when we use XGBoost for regression, we have as few as 1 residual per leaf. Thus, using this default value has no effect on how we grow the tree. BUT, in Classification case, things are different because here, Cover depends on the previously predicted probability of each residual in a leaf. If for a leaf, Cover<1(default) , the algorithm will not allow that leaf and thus removes it from the tree. So, in most cases, we get the value of cover<1, which whill remove the whole tree leading to bad prediction. Thus, in order to prevent it from happening, the minumum value of cover is set to 0 in case of building the model for classifiation. Thus, setting the min_child_weight paarmeter = 0.\n",
        "\n",
        "\n",
        "##### The pruning of the Unique DT in XGBoost:\n",
        "* the pruning pf DT in XGBoost is done based on its gain values. We start picking a number called `gamma`. \n",
        "* After deciding the value for gamma we calculate the value of `Gain - gamma` .\n",
        "* We calculate the above value by starting with the lowest stump(or branch) in the tree and thus , moving upwards\n",
        "* if this value is negative, we prune the stump and if positive we donot prune the stump.\n",
        "\n",
        "##### Back to the Similarity score for values if lambda:\n",
        "* if lambda > 0 , the Similarity score gets smaller.\n",
        "* considering the criteria of pruning `Gain - gamma` as the similarity score dereases the value of Gain decreases  and hence it increases the chances of getting a negative values for `Gain - gamma` and hence, for positive lambda values, it is easier to prune the leaves. and reduces the sensitivity of the tree to individual observations by pruning and combining with other observations.\n",
        "\n",
        "##### Back to the value of Gamma(Complexity Parameter):\n",
        "* sometimes, with extensive splitting of trees, Gain values becomes negative (especiually when lambda is positive) and thus even when the value of gamma is 0 . th value of `Gain - gamma` is still negative leading to pruning that stump and hence, we conclude that setting gamma= 0 doesnot turn off pruning.\n",
        " \n",
        "And hence we can clearly see that setting positive values for lambda, helps us avoiding overfitting to the training data.\n",
        "\n",
        "##### Determining the Output Values for leaves:\n",
        "`Output Values for leaves= (Sum of residuals)/(sum of (previous prob_i)(1-previous prob_i)+ lambda)`\n",
        "Note: If lambda=0 , the output value will come out to be just the same as unextreme Gradient Boost.\n",
        "And if lambda value is positive, then it will reduce the amount that the respective observation is adding to the overall prediction. Thus, the Regularisation parameter lambda, will reduce the prediction's sensitivity the individual observation.\n",
        "\n",
        "##### Back to the procedure:\n",
        "Now we have made our first DT. \n",
        "Just like unextreme GBM, XGB makes the prediction by starting with the intial prediction and adding the output of the first DT and scaled by a learning rate. In classification, we have the inigtial prediction as probability value (p), but we need to convert it to log(odds) value.\n",
        "\n",
        "$ Log(odds)=log(\\frac {p}{1-p})$ .. This become the output value for the initla prediction.\n",
        "Note that XGBoost calls the learning rate as eta and the default is 0.3 \n",
        "\n",
        "We can now calculate new log(odds) prediction for each sample in training data and DT (which are in terms of log(odds)) and hence a new probability from the logistic regression formula: $ \\frac{e^(log(odds))}{1+e^(log(odds))} $ scaling it to 0 and 1. This is the new predicted probability.\n",
        "\n",
        "After this we repeat our steps for calculating the DT's, we will calculate the residual values. Here, note that now the new residual is smaller than before, which means that now, we have taken a small step in the right direction. \n",
        "And thus, we will build the new DT based on the new pseudo residuals and make new predictions that will give us even smaller residuals. Note: when building the second tree and more, calculating the similarity score is a little more interesting as it is no longer the same for all the observations\n",
        "Note: The previous probability is previously predicted probability for that sample. \n",
        "\n",
        "And thus, we keep building trees until the residuals are super small or we have reached the maximum number of trees to be built.\n",
        "\n"
      ]
    },
    {
      "cell_type": "code",
      "execution_count": null,
      "metadata": {
        "id": "jqBk3NwUr3Wj"
      },
      "outputs": [],
      "source": [
        "import pandas as pd\n",
        "import numpy as np"
      ]
    },
    {
      "cell_type": "code",
      "execution_count": null,
      "metadata": {
        "id": "FUX6_CI3r3Wj",
        "outputId": "4246ccf9-ca93-4dcc-86e0-6199088665ab"
      },
      "outputs": [
        {
          "data": {
            "text/plain": [
              "'C:\\\\Users\\\\sanjana grover\\\\Desktop\\\\RACHITA\\\\Python\\\\Codes'"
            ]
          },
          "execution_count": 2,
          "metadata": {},
          "output_type": "execute_result"
        }
      ],
      "source": [
        "import os\n",
        "os.getcwd()"
      ]
    },
    {
      "cell_type": "code",
      "execution_count": null,
      "metadata": {
        "id": "gNp9-xJ3r3Wj",
        "outputId": "5bac8852-afe0-4c05-cc5d-8a7a073234e3"
      },
      "outputs": [
        {
          "data": {
            "text/plain": [
              "(768, 9)"
            ]
          },
          "execution_count": 9,
          "metadata": {},
          "output_type": "execute_result"
        }
      ],
      "source": [
        "data=pd.read_csv('C:\\\\Users\\\\sanjana grover\\\\Desktop\\\\RACHITA\\\\Python\\\\Data\\\\diabetes.csv')\n",
        "data.shape"
      ]
    },
    {
      "cell_type": "code",
      "execution_count": null,
      "metadata": {
        "id": "XId4E6Otr3Wj",
        "outputId": "9948ea7a-51ff-47b7-bcea-9899e14c48ed"
      },
      "outputs": [
        {
          "data": {
            "text/html": [
              "<div>\n",
              "<style scoped>\n",
              "    .dataframe tbody tr th:only-of-type {\n",
              "        vertical-align: middle;\n",
              "    }\n",
              "\n",
              "    .dataframe tbody tr th {\n",
              "        vertical-align: top;\n",
              "    }\n",
              "\n",
              "    .dataframe thead th {\n",
              "        text-align: right;\n",
              "    }\n",
              "</style>\n",
              "<table border=\"1\" class=\"dataframe\">\n",
              "  <thead>\n",
              "    <tr style=\"text-align: right;\">\n",
              "      <th></th>\n",
              "      <th>Pregnancies</th>\n",
              "      <th>Glucose</th>\n",
              "      <th>BloodPressure</th>\n",
              "      <th>SkinThickness</th>\n",
              "      <th>Insulin</th>\n",
              "      <th>BMI</th>\n",
              "      <th>DiabetesPedigreeFunction</th>\n",
              "      <th>Age</th>\n",
              "      <th>Outcome</th>\n",
              "    </tr>\n",
              "  </thead>\n",
              "  <tbody>\n",
              "    <tr>\n",
              "      <th>0</th>\n",
              "      <td>6</td>\n",
              "      <td>148</td>\n",
              "      <td>72</td>\n",
              "      <td>35</td>\n",
              "      <td>0</td>\n",
              "      <td>33.6</td>\n",
              "      <td>0.627</td>\n",
              "      <td>50</td>\n",
              "      <td>1</td>\n",
              "    </tr>\n",
              "    <tr>\n",
              "      <th>1</th>\n",
              "      <td>1</td>\n",
              "      <td>85</td>\n",
              "      <td>66</td>\n",
              "      <td>29</td>\n",
              "      <td>0</td>\n",
              "      <td>26.6</td>\n",
              "      <td>0.351</td>\n",
              "      <td>31</td>\n",
              "      <td>0</td>\n",
              "    </tr>\n",
              "    <tr>\n",
              "      <th>2</th>\n",
              "      <td>8</td>\n",
              "      <td>183</td>\n",
              "      <td>64</td>\n",
              "      <td>0</td>\n",
              "      <td>0</td>\n",
              "      <td>23.3</td>\n",
              "      <td>0.672</td>\n",
              "      <td>32</td>\n",
              "      <td>1</td>\n",
              "    </tr>\n",
              "    <tr>\n",
              "      <th>3</th>\n",
              "      <td>1</td>\n",
              "      <td>89</td>\n",
              "      <td>66</td>\n",
              "      <td>23</td>\n",
              "      <td>94</td>\n",
              "      <td>28.1</td>\n",
              "      <td>0.167</td>\n",
              "      <td>21</td>\n",
              "      <td>0</td>\n",
              "    </tr>\n",
              "    <tr>\n",
              "      <th>4</th>\n",
              "      <td>0</td>\n",
              "      <td>137</td>\n",
              "      <td>40</td>\n",
              "      <td>35</td>\n",
              "      <td>168</td>\n",
              "      <td>43.1</td>\n",
              "      <td>2.288</td>\n",
              "      <td>33</td>\n",
              "      <td>1</td>\n",
              "    </tr>\n",
              "  </tbody>\n",
              "</table>\n",
              "</div>"
            ],
            "text/plain": [
              "   Pregnancies  Glucose  BloodPressure  SkinThickness  Insulin   BMI  \\\n",
              "0            6      148             72             35        0  33.6   \n",
              "1            1       85             66             29        0  26.6   \n",
              "2            8      183             64              0        0  23.3   \n",
              "3            1       89             66             23       94  28.1   \n",
              "4            0      137             40             35      168  43.1   \n",
              "\n",
              "   DiabetesPedigreeFunction  Age  Outcome  \n",
              "0                     0.627   50        1  \n",
              "1                     0.351   31        0  \n",
              "2                     0.672   32        1  \n",
              "3                     0.167   21        0  \n",
              "4                     2.288   33        1  "
            ]
          },
          "execution_count": 10,
          "metadata": {},
          "output_type": "execute_result"
        }
      ],
      "source": [
        "data.head()"
      ]
    },
    {
      "cell_type": "code",
      "execution_count": null,
      "metadata": {
        "id": "oLVspYY6r3Wk"
      },
      "outputs": [],
      "source": [
        "X=data.drop('Outcome',axis=1)\n",
        "y=data.Outcome"
      ]
    },
    {
      "cell_type": "code",
      "execution_count": null,
      "metadata": {
        "id": "k_3v_2c2r3Wk"
      },
      "outputs": [],
      "source": [
        "from sklearn.model_selection import train_test_split\n",
        "X_train,X_test,y_train,y_test=train_test_split(X,y,test_size=0.3)"
      ]
    },
    {
      "cell_type": "code",
      "execution_count": null,
      "metadata": {
        "id": "GeA7-fDcr3Wk",
        "outputId": "8dfca774-633c-4af8-fcce-35140f48caa0"
      },
      "outputs": [
        {
          "data": {
            "text/plain": [
              "XGBClassifier(base_score=0.5, booster='gbtree', colsample_bylevel=1,\n",
              "              colsample_bynode=1, colsample_bytree=1, gamma=0, gpu_id=-1,\n",
              "              importance_type='gain', interaction_constraints='',\n",
              "              learning_rate=0.3, max_delta_step=0, max_depth=10,\n",
              "              min_child_weight=0, missing=nan, monotone_constraints='()',\n",
              "              n_estimators=100, n_jobs=0, num_parallel_tree=1,\n",
              "              objective='reg:logistic', random_state=0, reg_alpha=0,\n",
              "              reg_lambda=1, scale_pos_weight=1, subsample=1,\n",
              "              tree_method='exact', validate_parameters=1, verbosity=None)"
            ]
          },
          "execution_count": 49,
          "metadata": {},
          "output_type": "execute_result"
        }
      ],
      "source": [
        "from xgboost import XGBClassifier\n",
        "xgbc=XGBClassifier(learning_rate=0.3, min_child_weight=0,max_depth=10, objective='reg:logistic')\n",
        "xgbc.fit(X_train,y_train)"
      ]
    },
    {
      "cell_type": "code",
      "execution_count": null,
      "metadata": {
        "id": "Jiv9tx5or3Wk",
        "outputId": "1db2d31d-cb76-403f-c033-3e1a4fb94842"
      },
      "outputs": [
        {
          "data": {
            "text/plain": [
              "0.7835497835497836"
            ]
          },
          "execution_count": 50,
          "metadata": {},
          "output_type": "execute_result"
        }
      ],
      "source": [
        "from sklearn.linear_model import LinearRegression\n",
        "from sklearn.metrics import accuracy_score\n",
        "lr=LinearRegression()\n",
        "lr.fit(X_train,y_train)\n",
        "y_pred=lr.predict(X_test)\n",
        "pred = [round(value) for value in y_pred]\n",
        "accuracy_score(y_test,pred)"
      ]
    },
    {
      "cell_type": "code",
      "execution_count": null,
      "metadata": {
        "id": "jsI5McXOr3Wk",
        "outputId": "f6749b95-737b-4395-af84-6b0e4e526185"
      },
      "outputs": [
        {
          "data": {
            "text/plain": [
              "0.7402597402597403"
            ]
          },
          "execution_count": 51,
          "metadata": {},
          "output_type": "execute_result"
        }
      ],
      "source": [
        "from sklearn.ensemble import GradientBoostingRegressor\n",
        "gbr=GradientBoostingRegressor()\n",
        "gbr.fit(X_train,y_train)\n",
        "y_pred=gbr.predict(X_test)\n",
        "pred = [round(value) for value in y_pred]\n",
        "accuracy_score(y_test,pred)"
      ]
    },
    {
      "cell_type": "code",
      "execution_count": null,
      "metadata": {
        "id": "tDsWaUdsr3Wk",
        "outputId": "db2b89b7-e1d4-4ff0-f1d7-3e5f882ddaf0"
      },
      "outputs": [
        {
          "data": {
            "text/plain": [
              "0.7272727272727273"
            ]
          },
          "execution_count": 58,
          "metadata": {},
          "output_type": "execute_result"
        }
      ],
      "source": [
        "from xgboost import XGBClassifier\n",
        "xgbc=XGBClassifier(learning_rate=0.2, min_child_weight=0,max_depth=6, objective='binary:logistic')\n",
        "xgbc.fit(X_train,y_train)\n",
        "y_pred=xgbc.predict(X_test)\n",
        "pred = [round(value) for value in y_pred]\n",
        "accuracy_score(y_test,pred)"
      ]
    },
    {
      "cell_type": "code",
      "execution_count": null,
      "metadata": {
        "id": "BwVavL_mr3Wn",
        "outputId": "31326dc1-6bb6-4825-bcff-dadeb8a89873"
      },
      "outputs": [
        {
          "name": "stderr",
          "output_type": "stream",
          "text": [
            "C:\\Users\\sanjana grover\\Anaconda3\\lib\\site-packages\\dask\\dataframe\\utils.py:14: FutureWarning: pandas.util.testing is deprecated. Use the functions in the public API at pandas.testing instead.\n",
            "  import pandas.util.testing as tm\n"
          ]
        },
        {
          "ename": "NameError",
          "evalue": "name 'X_train' is not defined",
          "output_type": "error",
          "traceback": [
            "\u001b[1;31m---------------------------------------------------------------------------\u001b[0m",
            "\u001b[1;31mNameError\u001b[0m                                 Traceback (most recent call last)",
            "\u001b[1;32m<ipython-input-1-422ecc4d5b0d>\u001b[0m in \u001b[0;36m<module>\u001b[1;34m\u001b[0m\n\u001b[0;32m      2\u001b[0m xgbc=XGBClassifier(learning_rate=0.2, min_child_weight=0,max_depth=6, objective='binary:logistic',\n\u001b[0;32m      3\u001b[0m                    gamma=0.1)\n\u001b[1;32m----> 4\u001b[1;33m \u001b[0mxgbc\u001b[0m\u001b[1;33m.\u001b[0m\u001b[0mfit\u001b[0m\u001b[1;33m(\u001b[0m\u001b[0mX_train\u001b[0m\u001b[1;33m,\u001b[0m\u001b[0my_train\u001b[0m\u001b[1;33m)\u001b[0m\u001b[1;33m\u001b[0m\u001b[1;33m\u001b[0m\u001b[0m\n\u001b[0m\u001b[0;32m      5\u001b[0m \u001b[0my_pred\u001b[0m\u001b[1;33m=\u001b[0m\u001b[0mxgbc\u001b[0m\u001b[1;33m.\u001b[0m\u001b[0mpredict\u001b[0m\u001b[1;33m(\u001b[0m\u001b[0mX_test\u001b[0m\u001b[1;33m)\u001b[0m\u001b[1;33m\u001b[0m\u001b[1;33m\u001b[0m\u001b[0m\n\u001b[0;32m      6\u001b[0m \u001b[0mpred\u001b[0m \u001b[1;33m=\u001b[0m \u001b[1;33m[\u001b[0m\u001b[0mround\u001b[0m\u001b[1;33m(\u001b[0m\u001b[0mvalue\u001b[0m\u001b[1;33m)\u001b[0m \u001b[1;32mfor\u001b[0m \u001b[0mvalue\u001b[0m \u001b[1;32min\u001b[0m \u001b[0my_pred\u001b[0m\u001b[1;33m]\u001b[0m\u001b[1;33m\u001b[0m\u001b[1;33m\u001b[0m\u001b[0m\n",
            "\u001b[1;31mNameError\u001b[0m: name 'X_train' is not defined"
          ]
        }
      ],
      "source": [
        "from xgboost import XGBClassifier\n",
        "xgbc=XGBClassifier(learning_rate=0.2, min_child_weight=0,max_depth=6, objective='binary:logistic',\n",
        "                   gamma=0.1)\n",
        "xgbc.fit(X_train,y_train)\n",
        "y_pred=xgbc.predict(X_test)\n",
        "pred = [round(value) for value in y_pred]\n",
        "accuracy_score(y_test,pred)"
      ]
    },
    {
      "cell_type": "code",
      "execution_count": null,
      "metadata": {
        "id": "wACWrtr2r3Wn"
      },
      "outputs": [],
      "source": []
    }
  ],
  "metadata": {
    "kernelspec": {
      "display_name": "Python 3",
      "language": "python",
      "name": "python3"
    },
    "language_info": {
      "codemirror_mode": {
        "name": "ipython",
        "version": 3
      },
      "file_extension": ".py",
      "mimetype": "text/x-python",
      "name": "python",
      "nbconvert_exporter": "python",
      "pygments_lexer": "ipython3",
      "version": "3.7.4"
    },
    "colab": {
      "provenance": [],
      "include_colab_link": true
    }
  },
  "nbformat": 4,
  "nbformat_minor": 0
}