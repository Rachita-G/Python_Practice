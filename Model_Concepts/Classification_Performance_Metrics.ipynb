{
  "cells": [
    {
      "cell_type": "markdown",
      "metadata": {
        "id": "view-in-github",
        "colab_type": "text"
      },
      "source": [
        "<a href=\"https://colab.research.google.com/github/Rachita-G/Python_Practice/blob/main/Model_Concepts/Classification_Performance_Metrics.ipynb\" target=\"_parent\"><img src=\"https://colab.research.google.com/assets/colab-badge.svg\" alt=\"Open In Colab\"/></a>"
      ]
    },
    {
      "cell_type": "markdown",
      "metadata": {
        "id": "8b_5M8zCqH2n"
      },
      "source": [
        "# PERFORMANCE MATRICES\n",
        "\n",
        "For classification problems:\n"
      ]
    },
    {
      "cell_type": "code",
      "execution_count": null,
      "metadata": {
        "id": "7Ua01HmQqH2r",
        "outputId": "020f7cac-ea52-4932-f0f3-7be13a6ad21a"
      },
      "outputs": [
        {
          "data": {
            "text/plain": [
              "'C:\\\\Users\\\\sanjana grover\\\\Desktop\\\\RACHITA\\\\Python\\\\Codes'"
            ]
          },
          "execution_count": 139,
          "metadata": {},
          "output_type": "execute_result"
        }
      ],
      "source": [
        "import numpy as np\n",
        "import pandas as pd\n",
        "import matplotlib.pyplot as plt\n",
        "from sklearn.preprocessing import LabelEncoder\n",
        "from sklearn.linear_model import LogisticRegression\n",
        "from sklearn.ensemble import RandomForestClassifier\n",
        "from sklearn.neighbors import KNeighborsClassifier \n",
        "from sklearn.model_selection import train_test_split\n",
        "from sklearn import metrics\n",
        "\n",
        "import os\n",
        "os.getcwd()"
      ]
    },
    {
      "cell_type": "code",
      "execution_count": null,
      "metadata": {
        "id": "gkKwqaNjqH2s",
        "outputId": "83af6d1c-6f7a-4754-f85e-76be9ea5bf85"
      },
      "outputs": [
        {
          "data": {
            "text/html": [
              "<div>\n",
              "<style scoped>\n",
              "    .dataframe tbody tr th:only-of-type {\n",
              "        vertical-align: middle;\n",
              "    }\n",
              "\n",
              "    .dataframe tbody tr th {\n",
              "        vertical-align: top;\n",
              "    }\n",
              "\n",
              "    .dataframe thead th {\n",
              "        text-align: right;\n",
              "    }\n",
              "</style>\n",
              "<table border=\"1\" class=\"dataframe\">\n",
              "  <thead>\n",
              "    <tr style=\"text-align: right;\">\n",
              "      <th></th>\n",
              "      <th>interest_rate</th>\n",
              "      <th>credit</th>\n",
              "      <th>march</th>\n",
              "      <th>may</th>\n",
              "      <th>previous</th>\n",
              "      <th>duration</th>\n",
              "      <th>y</th>\n",
              "    </tr>\n",
              "  </thead>\n",
              "  <tbody>\n",
              "    <tr>\n",
              "      <th>0</th>\n",
              "      <td>1.334</td>\n",
              "      <td>0.0</td>\n",
              "      <td>1.0</td>\n",
              "      <td>0.0</td>\n",
              "      <td>0.0</td>\n",
              "      <td>117.0</td>\n",
              "      <td>no</td>\n",
              "    </tr>\n",
              "    <tr>\n",
              "      <th>1</th>\n",
              "      <td>0.767</td>\n",
              "      <td>0.0</td>\n",
              "      <td>0.0</td>\n",
              "      <td>2.0</td>\n",
              "      <td>1.0</td>\n",
              "      <td>274.0</td>\n",
              "      <td>yes</td>\n",
              "    </tr>\n",
              "    <tr>\n",
              "      <th>2</th>\n",
              "      <td>4.858</td>\n",
              "      <td>0.0</td>\n",
              "      <td>1.0</td>\n",
              "      <td>0.0</td>\n",
              "      <td>0.0</td>\n",
              "      <td>167.0</td>\n",
              "      <td>no</td>\n",
              "    </tr>\n",
              "    <tr>\n",
              "      <th>3</th>\n",
              "      <td>4.120</td>\n",
              "      <td>0.0</td>\n",
              "      <td>0.0</td>\n",
              "      <td>0.0</td>\n",
              "      <td>0.0</td>\n",
              "      <td>686.0</td>\n",
              "      <td>yes</td>\n",
              "    </tr>\n",
              "    <tr>\n",
              "      <th>4</th>\n",
              "      <td>4.856</td>\n",
              "      <td>0.0</td>\n",
              "      <td>1.0</td>\n",
              "      <td>0.0</td>\n",
              "      <td>0.0</td>\n",
              "      <td>157.0</td>\n",
              "      <td>no</td>\n",
              "    </tr>\n",
              "  </tbody>\n",
              "</table>\n",
              "</div>"
            ],
            "text/plain": [
              "   interest_rate  credit  march  may  previous  duration    y\n",
              "0          1.334     0.0    1.0  0.0       0.0     117.0   no\n",
              "1          0.767     0.0    0.0  2.0       1.0     274.0  yes\n",
              "2          4.858     0.0    1.0  0.0       0.0     167.0   no\n",
              "3          4.120     0.0    0.0  0.0       0.0     686.0  yes\n",
              "4          4.856     0.0    1.0  0.0       0.0     157.0   no"
            ]
          },
          "execution_count": 161,
          "metadata": {},
          "output_type": "execute_result"
        }
      ],
      "source": [
        "dt=pd.read_csv('C:\\\\Users\\\\sanjana grover\\\\Desktop\\\\RACHITA\\\\Python\\\\Data\\\\Bank_data.csv',index_col=0)\n",
        "dt.head()"
      ]
    },
    {
      "cell_type": "code",
      "execution_count": null,
      "metadata": {
        "id": "qJ9L5b6VqH2s",
        "outputId": "f281c1c2-6d19-45c8-fcdf-be0696a62eaf"
      },
      "outputs": [
        {
          "data": {
            "text/html": [
              "<div>\n",
              "<style scoped>\n",
              "    .dataframe tbody tr th:only-of-type {\n",
              "        vertical-align: middle;\n",
              "    }\n",
              "\n",
              "    .dataframe tbody tr th {\n",
              "        vertical-align: top;\n",
              "    }\n",
              "\n",
              "    .dataframe thead th {\n",
              "        text-align: right;\n",
              "    }\n",
              "</style>\n",
              "<table border=\"1\" class=\"dataframe\">\n",
              "  <thead>\n",
              "    <tr style=\"text-align: right;\">\n",
              "      <th></th>\n",
              "      <th>interest_rate</th>\n",
              "      <th>credit</th>\n",
              "      <th>march</th>\n",
              "      <th>may</th>\n",
              "      <th>previous</th>\n",
              "      <th>duration</th>\n",
              "      <th>y</th>\n",
              "    </tr>\n",
              "  </thead>\n",
              "  <tbody>\n",
              "    <tr>\n",
              "      <th>0</th>\n",
              "      <td>1.334</td>\n",
              "      <td>0.0</td>\n",
              "      <td>1.0</td>\n",
              "      <td>0.0</td>\n",
              "      <td>0.0</td>\n",
              "      <td>117.0</td>\n",
              "      <td>0</td>\n",
              "    </tr>\n",
              "    <tr>\n",
              "      <th>1</th>\n",
              "      <td>0.767</td>\n",
              "      <td>0.0</td>\n",
              "      <td>0.0</td>\n",
              "      <td>2.0</td>\n",
              "      <td>1.0</td>\n",
              "      <td>274.0</td>\n",
              "      <td>1</td>\n",
              "    </tr>\n",
              "    <tr>\n",
              "      <th>2</th>\n",
              "      <td>4.858</td>\n",
              "      <td>0.0</td>\n",
              "      <td>1.0</td>\n",
              "      <td>0.0</td>\n",
              "      <td>0.0</td>\n",
              "      <td>167.0</td>\n",
              "      <td>0</td>\n",
              "    </tr>\n",
              "    <tr>\n",
              "      <th>3</th>\n",
              "      <td>4.120</td>\n",
              "      <td>0.0</td>\n",
              "      <td>0.0</td>\n",
              "      <td>0.0</td>\n",
              "      <td>0.0</td>\n",
              "      <td>686.0</td>\n",
              "      <td>1</td>\n",
              "    </tr>\n",
              "    <tr>\n",
              "      <th>4</th>\n",
              "      <td>4.856</td>\n",
              "      <td>0.0</td>\n",
              "      <td>1.0</td>\n",
              "      <td>0.0</td>\n",
              "      <td>0.0</td>\n",
              "      <td>157.0</td>\n",
              "      <td>0</td>\n",
              "    </tr>\n",
              "  </tbody>\n",
              "</table>\n",
              "</div>"
            ],
            "text/plain": [
              "   interest_rate  credit  march  may  previous  duration  y\n",
              "0          1.334     0.0    1.0  0.0       0.0     117.0  0\n",
              "1          0.767     0.0    0.0  2.0       1.0     274.0  1\n",
              "2          4.858     0.0    1.0  0.0       0.0     167.0  0\n",
              "3          4.120     0.0    0.0  0.0       0.0     686.0  1\n",
              "4          4.856     0.0    1.0  0.0       0.0     157.0  0"
            ]
          },
          "execution_count": 162,
          "metadata": {},
          "output_type": "execute_result"
        }
      ],
      "source": [
        "dt.y=dt.y.map({'yes':1,\"no\":0})\n",
        "dt.head()"
      ]
    },
    {
      "cell_type": "code",
      "execution_count": null,
      "metadata": {
        "id": "pGnJju9MqH2t"
      },
      "outputs": [],
      "source": [
        "X_train,X_test,y_train,y_test=train_test_split(dt.drop('y',axis=1),dt.y,test_size=0.3)"
      ]
    },
    {
      "cell_type": "code",
      "execution_count": null,
      "metadata": {
        "id": "D6Im7BF6qH2t"
      },
      "outputs": [],
      "source": [
        "lr=LogisticRegression(max_iter=200)\n",
        "lr.fit(X_train,y_train)\n",
        "pred_lr=lr.predict(X_test)"
      ]
    },
    {
      "cell_type": "code",
      "execution_count": null,
      "metadata": {
        "id": "3Vme4ejvqH2t"
      },
      "outputs": [],
      "source": [
        "kn=KNeighborsClassifier(n_neighbors=5)\n",
        "kn.fit(X_train,y_train)\n",
        "pred_kn=kn.predict(X_test)"
      ]
    },
    {
      "cell_type": "code",
      "execution_count": null,
      "metadata": {
        "id": "TQkCFxFlqH2t"
      },
      "outputs": [],
      "source": [
        "clf=RandomForestClassifier(n_estimators=200)\n",
        "clf.fit(X_train,y_train)\n",
        "pred_clf=clf.predict(X_test)"
      ]
    },
    {
      "cell_type": "markdown",
      "metadata": {
        "id": "wGa7vHtoqH2u"
      },
      "source": [
        "# 1. Confusion matrix\n",
        "\n",
        "Below, we can only see the matrix. In scikit learn package the matrix is shown such that the actual values are rows and predicted ones are represented by columns."
      ]
    },
    {
      "cell_type": "code",
      "execution_count": null,
      "metadata": {
        "id": "v54HA858qH2u",
        "outputId": "85f1da41-acb0-42e2-a4d0-f20cbe503772"
      },
      "outputs": [
        {
          "name": "stdout",
          "output_type": "stream",
          "text": [
            "Confusion matrix:  \n",
            " [[68 18]\n",
            " [ 6 64]]\n",
            "Accuracy:  \n",
            " 0.85\n"
          ]
        }
      ],
      "source": [
        "print('Confusion matrix: ', '\\n',metrics.confusion_matrix(y_test,pred_lr))\n",
        "print('Accuracy: ','\\n', metrics.accuracy_score(y_test,pred_lr).round(2))"
      ]
    },
    {
      "cell_type": "code",
      "execution_count": null,
      "metadata": {
        "id": "lah-sJGsqH2u",
        "outputId": "5fa046e4-0b2d-4932-a3d1-e345c08d15fa"
      },
      "outputs": [
        {
          "name": "stdout",
          "output_type": "stream",
          "text": [
            "Confusion matrix:  \n",
            " [[60 26]\n",
            " [16 54]]\n",
            "Accuracy:  \n",
            " 0.73\n"
          ]
        }
      ],
      "source": [
        "print('Confusion matrix: ', '\\n',metrics.confusion_matrix(y_test,pred_kn))\n",
        "print('Accuracy: ','\\n', metrics.accuracy_score(y_test,pred_kn).round(2))"
      ]
    },
    {
      "cell_type": "code",
      "execution_count": null,
      "metadata": {
        "id": "bJPYpbzHqH2v",
        "outputId": "7b772f0d-3162-4fbc-aee7-a36f86b9b871"
      },
      "outputs": [
        {
          "name": "stdout",
          "output_type": "stream",
          "text": [
            "Confusion matrix:  \n",
            " [[65 21]\n",
            " [12 58]]\n",
            "Accuracy:  \n",
            " 0.79\n"
          ]
        }
      ],
      "source": [
        "print('Confusion matrix: ', '\\n',metrics.confusion_matrix(y_test,pred_clf))\n",
        "print('Accuracy: ','\\n', metrics.accuracy_score(y_test,pred_clf).round(2))"
      ]
    },
    {
      "cell_type": "markdown",
      "metadata": {
        "id": "PzCs8FX_qH2v"
      },
      "source": [
        "**Accuracy** is the number of correct predictions made by the model over all kinds predictions made.\n",
        "\n",
        "$$ Accuracy=\\frac{TP+TN}{Total} $$\n",
        "\n",
        "Accuracy is a good measure when the target variable classes in the data are nearly balanced.Accuracy should NEVER be used as a measure when the target variable classes in the data are a majority of one class.\n",
        "\n",
        "**Misclassification rate** or Error rate is the number of wrong predictions made by the model\n",
        "$$Misclassification Rate=1-Accuracy=\\frac{FP+FN}{Total}$$"
      ]
    },
    {
      "cell_type": "code",
      "execution_count": null,
      "metadata": {
        "id": "8SHUUgOgqH2v",
        "outputId": "5ae689c2-9f8d-4494-eb6e-74d4b90cc888"
      },
      "outputs": [
        {
          "data": {
            "text/plain": [
              "1    259\n",
              "0    259\n",
              "Name: y, dtype: int64"
            ]
          },
          "execution_count": 251,
          "metadata": {},
          "output_type": "execute_result"
        }
      ],
      "source": [
        "dt.y.value_counts() # thus, accuracy is a good maeasure."
      ]
    },
    {
      "cell_type": "markdown",
      "metadata": {
        "id": "xx4LiRLvqH2v"
      },
      "source": [
        "# 2. Classification Report"
      ]
    },
    {
      "cell_type": "code",
      "execution_count": null,
      "metadata": {
        "id": "x9EFvGB3qH2v",
        "outputId": "506d28e9-f1d7-4ec0-bdc9-656c123953f4"
      },
      "outputs": [
        {
          "name": "stdout",
          "output_type": "stream",
          "text": [
            "Classification report consists of the scores of Precisions, Recall, F1 and Support as follows: \n",
            "\n",
            "\n",
            " KNN:               precision    recall  f1-score   support\n",
            "\n",
            "           0       0.79      0.70      0.74        86\n",
            "           1       0.68      0.77      0.72        70\n",
            "\n",
            "    accuracy                           0.73       156\n",
            "   macro avg       0.73      0.73      0.73       156\n",
            "weighted avg       0.74      0.73      0.73       156\n",
            "\n",
            "RF:               precision    recall  f1-score   support\n",
            "\n",
            "           0       0.84      0.76      0.80        86\n",
            "           1       0.73      0.83      0.78        70\n",
            "\n",
            "    accuracy                           0.79       156\n",
            "   macro avg       0.79      0.79      0.79       156\n",
            "weighted avg       0.79      0.79      0.79       156\n",
            "\n"
          ]
        }
      ],
      "source": [
        "print('Classification report consists of the scores of Precisions, Recall, F1 and Support as follows:','\\n\\n\\n',\n",
        "      'KNN:',\n",
        "      metrics.classification_report(y_test,pred_kn))\n",
        "print( 'RF:',   metrics.classification_report(y_test,pred_clf))"
      ]
    },
    {
      "cell_type": "markdown",
      "metadata": {
        "id": "rWIlbMa0qH2w"
      },
      "source": [
        "### Metrics:\n",
        "Given confusion matrix as :\n",
        "\n",
        "![image.png](attachment:image.png)\n",
        "    \n",
        "Note: FP= falsely predicted= Type 1 error and FN= Falsely Predicted negative class= Type 2 error. \n",
        "     \n",
        "     \n",
        "**Precision**\n",
        "Precision is defined  as the no of times the model correctly predicted a category. see horizontally, the categories\n",
        "\n",
        "$$ Precision=\\frac{TP}{pred yes}= \\frac{TP}{TP+FP}$$\n",
        "\n",
        "**Recall or Sensitivity -- True Positive Rate**\n",
        "is defined as the no of times the results were correctly identified by the model. see vertically, the categories\n",
        "\n",
        "$$Recall=\\frac{TP}{Actual Yes}= \\frac{TP}{TP+FN}$$\n",
        "\n",
        "**Specificity**\n",
        "Specificity is defined as the total no of times results were incorrectly identified by the model.\n",
        "\n",
        "$$Specificity=\\frac{TN}{TN+FP}=1-FPR$$\n",
        "\n",
        "**False Positive Rate**\n",
        "\n",
        "$$FPR=\\frac{FP}{Actual No}=\\frac{FP}{FP+TN} $$\n",
        "\n",
        "**F1 Score**\n",
        "This score will give us the harmonic mean of precision and recall. Mathematically, F1 score is the weighted average of the precision and recall. The best value of F1 would be 1 and worst would be 0. We can calculate F1 score with the help of following formula −\n",
        "\n",
        "$$F1=2∗\\frac{(precision∗recall)}{(precision+recall)}$$\n",
        "F1 score is having equal relative contribution of precision and recall.\n",
        "\n",
        "**Support**\n",
        "Support may be defined as the number of samples of the true response that lies in each class of target values."
      ]
    },
    {
      "cell_type": "markdown",
      "metadata": {
        "id": "bjRLQJKOqH2w"
      },
      "source": [
        "### When to use Precision and When to use Recall?\n",
        "\n",
        "It is clear that recall gives us information about a classifier’s performance with respect to false negatives (how many did we miss), while precision gives us information about its performance with respect to false positives(how many did we caught).\n",
        "\n",
        "So basically if we want to focus more on minimising False Negatives, we would want our Recall to be as close to 100% as possible without precision being too bad and if we want to focus on minimising False positives, then our focus should be to make Precision as close to 100% as possible.\n",
        "\n",
        "Remember that the choice of metric and the definition for positive and negative class depends on your business objective\n",
        "For example\n",
        "- in case of **Spam filter** (where positive class is \"spam\"), Optimize for precision and specificity beacuse false negatives (spam into inbox) are more acceptable  than false positive (non spam is caught as spam).\n",
        "- in case of **Fradulent Transaction detector** (where positive class is \"fraud\"), optimize for sensitivity/ recall because false positives (normal transactions that are flagged as fraud) is more acceptable than false negatives (fradulent transactions that are not detected)"
      ]
    },
    {
      "cell_type": "markdown",
      "metadata": {
        "id": "zqCQ66QiqH2w"
      },
      "source": [
        "# 3. ROC- AUC Curve\n",
        "\n",
        "AUC - ROC curve is a performance measurement for classification problem at various thresholds settings. ROC is a probability curve and AUC represents degree or measure of separability. It tells how much model is capable of distinguishing between classes. Higher the AUC, better the model is at predicting 0s as 0s and 1s as 1s.\n",
        "\n",
        "The ROC curve is created by plotting the true positive rate (TPR) against the false positive rate (FPR) at various threshold settings. \n",
        "\n",
        "The true-positive rate is also known as sensitivity or recall in machine learning. The false-positive rate can be calculated as (1 − specificity).\n"
      ]
    },
    {
      "cell_type": "code",
      "execution_count": null,
      "metadata": {
        "id": "7-t4SC07qH2w",
        "outputId": "25e58d17-0904-4802-f88e-50b3252ca72f"
      },
      "outputs": [
        {
          "data": {
            "image/png": "[encoded data removed]",
            "text/plain": [
              "<Figure size 432x288 with 1 Axes>"
            ]
          },
          "metadata": {
            "needs_background": "light"
          },
          "output_type": "display_data"
        },
        {
          "data": {
            "image/png": "[encoded data removed]",
            "text/plain": [
              "<Figure size 432x288 with 1 Axes>"
            ]
          },
          "metadata": {
            "needs_background": "light"
          },
          "output_type": "display_data"
        }
      ],
      "source": [
        "metrics.plot_roc_curve(kn,X_test, y_test)\n",
        "metrics.plot_roc_curve(clf,X_test, y_test)\n",
        "plt.show()"
      ]
    },
    {
      "cell_type": "code",
      "execution_count": null,
      "metadata": {
        "id": "rA23AHczqH2x",
        "outputId": "ef53a3db-d024-43f1-e6ac-47a1f7d449db"
      },
      "outputs": [
        {
          "name": "stdout",
          "output_type": "stream",
          "text": [
            "KN: 0.7345514950166112\n",
            "RF: 0.7921926910299004\n",
            "LR: 0.8524916943521593\n"
          ]
        }
      ],
      "source": [
        "print('KN:',metrics.roc_auc_score(y_test,pred_kn))\n",
        "print('RF:',metrics.roc_auc_score(y_test,pred_clf))\n",
        "print('LR:',metrics.roc_auc_score(y_test,pred_lr))"
      ]
    },
    {
      "cell_type": "code",
      "execution_count": null,
      "metadata": {
        "id": "iSkGt2OBqH2x",
        "outputId": "901f2c62-9a21-459e-9f3d-eddaca6421df"
      },
      "outputs": [
        {
          "data": {
            "image/png": "[encoded data removed]",
            "text/plain": [
              "<Figure size 432x288 with 1 Axes>"
            ]
          },
          "metadata": {
            "needs_background": "light"
          },
          "output_type": "display_data"
        }
      ],
      "source": [
        "pred_prob_clf=clf.predict_proba(X_test)[::,1] # predict proba gives the probability for targets 0 or 1. we take the prob of 1.\n",
        "pred_prob_kn=kn.predict_proba(X_test)[::,1]\n",
        "pred_prob_lr=lr.predict_proba(X_test)[::,1]\n",
        "fpr1,tpr1,threshold1=metrics.roc_curve(y_test,pred_prob_clf)\n",
        "fpr2,tpr2,threshold2=metrics.roc_curve(y_test,pred_prob_kn)\n",
        "fpr3,tpr3,threshold3=metrics.roc_curve(y_test,pred_prob_lr)\n",
        "auc1=metrics.roc_auc_score(y_test,pred_clf)\n",
        "auc2=metrics.roc_auc_score(y_test,pred_kn)\n",
        "auc3=metrics.roc_auc_score(y_test,pred_lr)\n",
        "plt.plot(fpr1,tpr1,label='clf, AUC:'+str(auc1.round(3)))\n",
        "plt.plot(fpr2,tpr2,label='kn, AUC:'+str(auc2.round(3)))\n",
        "plt.plot(fpr3,tpr3,label='lr, AUC:'+str(auc3.round(3)),color='yellow')\n",
        "plt.plot([0,1],[0,1],linestyle=\"--\",color='black',alpha=0.4)\n",
        "plt.legend(loc=4)\n",
        "plt.show()"
      ]
    }
  ],
  "metadata": {
    "kernelspec": {
      "display_name": "Python 3",
      "language": "python",
      "name": "python3"
    },
    "language_info": {
      "codemirror_mode": {
        "name": "ipython",
        "version": 3
      },
      "file_extension": ".py",
      "mimetype": "text/x-python",
      "name": "python",
      "nbconvert_exporter": "python",
      "pygments_lexer": "ipython3",
      "version": "3.7.4"
    },
    "colab": {
      "provenance": [],
      "include_colab_link": true
    }
  },
  "nbformat": 4,
  "nbformat_minor": 0
}