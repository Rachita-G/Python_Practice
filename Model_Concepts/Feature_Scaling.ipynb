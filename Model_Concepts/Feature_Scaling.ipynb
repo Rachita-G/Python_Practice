{
  "cells": [
    {
      "cell_type": "markdown",
      "metadata": {
        "id": "view-in-github",
        "colab_type": "text"
      },
      "source": [
        "<a href=\"https://colab.research.google.com/github/Rachita-G/Python_Practice/blob/main/Model_Concepts/Feature_Scaling.ipynb\" target=\"_parent\"><img src=\"https://colab.research.google.com/assets/colab-badge.svg\" alt=\"Open In Colab\"/></a>"
      ]
    },
    {
      "cell_type": "markdown",
      "metadata": {
        "id": "UXfy9CP1zdq-"
      },
      "source": [
        "# Feature scaling\n",
        "The next step in our preprocessing pipeline is to scale our features.\n",
        "\n",
        "Before applying any scaling transformations it is very important to split your data into a train set and a test set. If you start scaling before, your training (and test) data might end up scaled around a mean value that is not actually the mean of the train or test data, and go past the whole reason why you’re scaling in the first place."
      ]
    },
    {
      "cell_type": "code",
      "execution_count": null,
      "metadata": {
        "id": "JP4Ty0HSzdrC"
      },
      "outputs": [],
      "source": [
        "import numpy as np\n",
        "import pandas as pd"
      ]
    },
    {
      "cell_type": "code",
      "execution_count": null,
      "metadata": {
        "id": "QSZKMvK9zdrD"
      },
      "outputs": [],
      "source": [
        "age=[22,25,47,80,66]\n",
        "income=[23000,35000,67000,50000,45000]\n",
        "d={'age':age,'income':income}"
      ]
    },
    {
      "cell_type": "code",
      "execution_count": null,
      "metadata": {
        "id": "JD50UygZzdrD",
        "outputId": "1d84e17c-5aaa-499b-b6ff-003a55ff0599"
      },
      "outputs": [
        {
          "data": {
            "text/html": [
              "<div>\n",
              "<style scoped>\n",
              "    .dataframe tbody tr th:only-of-type {\n",
              "        vertical-align: middle;\n",
              "    }\n",
              "\n",
              "    .dataframe tbody tr th {\n",
              "        vertical-align: top;\n",
              "    }\n",
              "\n",
              "    .dataframe thead th {\n",
              "        text-align: right;\n",
              "    }\n",
              "</style>\n",
              "<table border=\"1\" class=\"dataframe\">\n",
              "  <thead>\n",
              "    <tr style=\"text-align: right;\">\n",
              "      <th></th>\n",
              "      <th>age</th>\n",
              "      <th>income</th>\n",
              "    </tr>\n",
              "  </thead>\n",
              "  <tbody>\n",
              "    <tr>\n",
              "      <td>0</td>\n",
              "      <td>22</td>\n",
              "      <td>23000</td>\n",
              "    </tr>\n",
              "    <tr>\n",
              "      <td>1</td>\n",
              "      <td>25</td>\n",
              "      <td>35000</td>\n",
              "    </tr>\n",
              "    <tr>\n",
              "      <td>2</td>\n",
              "      <td>47</td>\n",
              "      <td>67000</td>\n",
              "    </tr>\n",
              "    <tr>\n",
              "      <td>3</td>\n",
              "      <td>80</td>\n",
              "      <td>50000</td>\n",
              "    </tr>\n",
              "    <tr>\n",
              "      <td>4</td>\n",
              "      <td>66</td>\n",
              "      <td>45000</td>\n",
              "    </tr>\n",
              "  </tbody>\n",
              "</table>\n",
              "</div>"
            ],
            "text/plain": [
              "   age  income\n",
              "0   22   23000\n",
              "1   25   35000\n",
              "2   47   67000\n",
              "3   80   50000\n",
              "4   66   45000"
            ]
          },
          "execution_count": 13,
          "metadata": {},
          "output_type": "execute_result"
        }
      ],
      "source": [
        "df=pd.DataFrame(d)\n",
        "df"
      ]
    },
    {
      "cell_type": "markdown",
      "metadata": {
        "id": "EFcctyg4zdrE"
      },
      "source": [
        "**STANDARDISATION** \n",
        "\n",
        "Standardization is a transformation that centers the data by removing the mean value of each feature and then scale it by dividing (non-constant) features by their standard deviation. After standardizing data the mean will be zero and the standard deviation one.\n",
        "Depending on your needs and data, sklearn provides a bunch of scalers: StandardScaler, MinMaxScaler, MaxAbsScaler and RobustScaler."
      ]
    },
    {
      "cell_type": "markdown",
      "metadata": {
        "id": "5gjc82xPzdrE"
      },
      "source": [
        "1. Standard Scaler:\n",
        "Sklearn its main scaler, the StandardScaler, uses a strict definition of standardization to standardize data. It purely centers the data by using the following formula, where u is the mean and s is the standard deviation.\n",
        "x_scaled = (x — u) / s"
      ]
    },
    {
      "cell_type": "code",
      "execution_count": null,
      "metadata": {
        "id": "byHh1Hg7zdrE",
        "outputId": "24d54524-8261-49c5-939f-af06a5e5cfaf"
      },
      "outputs": [
        {
          "data": {
            "text/plain": [
              "array([[-1.15039743, -1.42360613],\n",
              "       [-1.01765927, -0.61011691],\n",
              "       [-0.04424606,  1.55918767],\n",
              "       [ 1.41587376,  0.40674461],\n",
              "       [ 0.79642899,  0.06779077]])"
            ]
          },
          "execution_count": 17,
          "metadata": {},
          "output_type": "execute_result"
        }
      ],
      "source": [
        "from sklearn.preprocessing import StandardScaler\n",
        "scaler = StandardScaler()\n",
        "scaler.fit_transform(df.values)"
      ]
    },
    {
      "cell_type": "code",
      "execution_count": null,
      "metadata": {
        "id": "qU9IZx9zzdrF",
        "outputId": "e75e3e1d-7c6b-42b2-fda1-4582f6424686"
      },
      "outputs": [
        {
          "data": {
            "text/html": [
              "<div>\n",
              "<style scoped>\n",
              "    .dataframe tbody tr th:only-of-type {\n",
              "        vertical-align: middle;\n",
              "    }\n",
              "\n",
              "    .dataframe tbody tr th {\n",
              "        vertical-align: top;\n",
              "    }\n",
              "\n",
              "    .dataframe thead th {\n",
              "        text-align: right;\n",
              "    }\n",
              "</style>\n",
              "<table border=\"1\" class=\"dataframe\">\n",
              "  <thead>\n",
              "    <tr style=\"text-align: right;\">\n",
              "      <th></th>\n",
              "      <th>age</th>\n",
              "      <th>income</th>\n",
              "    </tr>\n",
              "  </thead>\n",
              "  <tbody>\n",
              "    <tr>\n",
              "      <td>0</td>\n",
              "      <td>-1.150397</td>\n",
              "      <td>-1.423606</td>\n",
              "    </tr>\n",
              "    <tr>\n",
              "      <td>1</td>\n",
              "      <td>-1.017659</td>\n",
              "      <td>-0.610117</td>\n",
              "    </tr>\n",
              "    <tr>\n",
              "      <td>2</td>\n",
              "      <td>-0.044246</td>\n",
              "      <td>1.559188</td>\n",
              "    </tr>\n",
              "    <tr>\n",
              "      <td>3</td>\n",
              "      <td>1.415874</td>\n",
              "      <td>0.406745</td>\n",
              "    </tr>\n",
              "    <tr>\n",
              "      <td>4</td>\n",
              "      <td>0.796429</td>\n",
              "      <td>0.067791</td>\n",
              "    </tr>\n",
              "  </tbody>\n",
              "</table>\n",
              "</div>"
            ],
            "text/plain": [
              "        age    income\n",
              "0 -1.150397 -1.423606\n",
              "1 -1.017659 -0.610117\n",
              "2 -0.044246  1.559188\n",
              "3  1.415874  0.406745\n",
              "4  0.796429  0.067791"
            ]
          },
          "execution_count": 20,
          "metadata": {},
          "output_type": "execute_result"
        }
      ],
      "source": [
        "df_ss=pd.DataFrame(scaler.fit_transform(df.values),columns=df.columns)\n",
        "df_ss"
      ]
    },
    {
      "cell_type": "markdown",
      "metadata": {
        "id": "dDH4m02rzdrF"
      },
      "source": [
        "2. MinMax Scaler: \n",
        "The MinMaxScaler transforms features by scaling each feature to a given range. This range can be set by specifying the feature_range parameter (default at (0,1)). This scaler works better for cases where the distribution is not Gaussian or the standard deviation is very small. However, it is sensitive to outliers, so if there are outliers in the data, you might want to consider another scaler.\n",
        "x_scaled = (x-min(x)) / (max(x)–min(x))\n",
        "\n",
        "---NOTE:---Importing and using the MinMaxScaler works — just as all the following scalers — in exactly the same way as the StandardScaler. The only difference sits in the parameters on initiation of a new instance."
      ]
    },
    {
      "cell_type": "code",
      "execution_count": null,
      "metadata": {
        "id": "kfSS61yAzdrG",
        "outputId": "978bc21a-df0b-4b50-a9dd-44ec77aacf25"
      },
      "outputs": [
        {
          "data": {
            "text/plain": [
              "array([[-3.        , -3.        ],\n",
              "       [-2.68965517, -1.36363636],\n",
              "       [-0.4137931 ,  3.        ],\n",
              "       [ 3.        ,  0.68181818],\n",
              "       [ 1.55172414,  0.        ]])"
            ]
          },
          "execution_count": 22,
          "metadata": {},
          "output_type": "execute_result"
        }
      ],
      "source": [
        "from sklearn.preprocessing import MinMaxScaler\n",
        "scaler = MinMaxScaler(feature_range=(-3,3))\n",
        "scaler.fit_transform(df.values)\n",
        "# Here we scale features to a scale between -3 and 3."
      ]
    },
    {
      "cell_type": "code",
      "execution_count": null,
      "metadata": {
        "id": "-_4IgelUzdrG",
        "outputId": "042e3867-80d6-4ce3-91e9-d68e2dddcad6"
      },
      "outputs": [
        {
          "data": {
            "text/html": [
              "<div>\n",
              "<style scoped>\n",
              "    .dataframe tbody tr th:only-of-type {\n",
              "        vertical-align: middle;\n",
              "    }\n",
              "\n",
              "    .dataframe tbody tr th {\n",
              "        vertical-align: top;\n",
              "    }\n",
              "\n",
              "    .dataframe thead th {\n",
              "        text-align: right;\n",
              "    }\n",
              "</style>\n",
              "<table border=\"1\" class=\"dataframe\">\n",
              "  <thead>\n",
              "    <tr style=\"text-align: right;\">\n",
              "      <th></th>\n",
              "      <th>age</th>\n",
              "      <th>income</th>\n",
              "    </tr>\n",
              "  </thead>\n",
              "  <tbody>\n",
              "    <tr>\n",
              "      <td>0</td>\n",
              "      <td>-3.000000</td>\n",
              "      <td>-3.000000</td>\n",
              "    </tr>\n",
              "    <tr>\n",
              "      <td>1</td>\n",
              "      <td>-2.689655</td>\n",
              "      <td>-1.363636</td>\n",
              "    </tr>\n",
              "    <tr>\n",
              "      <td>2</td>\n",
              "      <td>-0.413793</td>\n",
              "      <td>3.000000</td>\n",
              "    </tr>\n",
              "    <tr>\n",
              "      <td>3</td>\n",
              "      <td>3.000000</td>\n",
              "      <td>0.681818</td>\n",
              "    </tr>\n",
              "    <tr>\n",
              "      <td>4</td>\n",
              "      <td>1.551724</td>\n",
              "      <td>0.000000</td>\n",
              "    </tr>\n",
              "  </tbody>\n",
              "</table>\n",
              "</div>"
            ],
            "text/plain": [
              "        age    income\n",
              "0 -3.000000 -3.000000\n",
              "1 -2.689655 -1.363636\n",
              "2 -0.413793  3.000000\n",
              "3  3.000000  0.681818\n",
              "4  1.551724  0.000000"
            ]
          },
          "execution_count": 23,
          "metadata": {},
          "output_type": "execute_result"
        }
      ],
      "source": [
        "df_ms=pd.DataFrame(scaler.fit_transform(df.values),columns=df.columns)\n",
        "df_ms"
      ]
    },
    {
      "cell_type": "markdown",
      "metadata": {
        "id": "c21SdRPCzdrG"
      },
      "source": [
        "# CONCLUSION\n",
        "\n",
        "### Normalization\n",
        "In case of normalization, all the attributes are converted to a normalized score or to a\n",
        "range (0, 1). The problem of normalization is an outlier. If there is an outlier, it will tend\n",
        "to crunch all of the other values down toward the value of zero.\n",
        "In order to understand this case, let’s suppose the range of students’ marks is 35 to 45\n",
        "out of 100. Then 35 will be considered as 0 and 45 as 1, and students will be distributed\n",
        "between 0 to 1 depending upon their marks. But if there is one student having marks\n",
        "90, then it will act as an outlier and in this case, 35 will be considered as 0 and 90 as 1.\n",
        "Now, it will crunch most of the values down toward the value of zero.\n",
        "In this scenario, the solution is standardization.\n",
        "### Standardization\n",
        "In case of standardization, the values are all spread out so that we have a standard\n",
        "deviation of 1.\n",
        "Generally, there is no rule for when to use normalization versus standardization.\n",
        "However, if your data does have outliers, use standardization otherwise use\n",
        "normalization. Using standardization tends to make the remaining values for all of the\n",
        "other attributes fall into similar ranges since all attributes will have the same standard\n",
        "deviation of 1."
      ]
    },
    {
      "cell_type": "code",
      "execution_count": null,
      "metadata": {
        "id": "oDtCXJg_zdrG"
      },
      "outputs": [],
      "source": []
    }
  ],
  "metadata": {
    "kernelspec": {
      "display_name": "Python 3",
      "language": "python",
      "name": "python3"
    },
    "language_info": {
      "codemirror_mode": {
        "name": "ipython",
        "version": 3
      },
      "file_extension": ".py",
      "mimetype": "text/x-python",
      "name": "python",
      "nbconvert_exporter": "python",
      "pygments_lexer": "ipython3",
      "version": "3.7.4"
    },
    "colab": {
      "provenance": [],
      "include_colab_link": true
    }
  },
  "nbformat": 4,
  "nbformat_minor": 0
}