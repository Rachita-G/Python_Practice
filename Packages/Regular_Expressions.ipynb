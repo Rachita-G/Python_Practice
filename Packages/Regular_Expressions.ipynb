{
  "cells": [
    {
      "cell_type": "markdown",
      "metadata": {
        "id": "view-in-github",
        "colab_type": "text"
      },
      "source": [
        "<a href=\"https://colab.research.google.com/github/Rachita-G/Python_Practice/blob/main/Packages/Regular_Expressions.ipynb\" target=\"_parent\"><img src=\"https://colab.research.google.com/assets/colab-badge.svg\" alt=\"Open In Colab\"/></a>"
      ]
    },
    {
      "cell_type": "markdown",
      "metadata": {
        "id": "88Zn9NRhOPuj"
      },
      "source": [
        "\n",
        "# Regular Expressions\n",
        "\n",
        "Regular Expressions (sometimes called regex for short) allow a user to search for strings using almost any sort of rule they can come up with. For example, finding all capital letters in a string, or finding a phone number in a document. \n",
        "\n",
        "Regular expressions are notorious for their seemingly strange syntax. This strange syntax is a byproduct of their flexibility. Regular expressions have to be able to filter out any string pattern you can imagine, which is why they have a complex string pattern format.\n",
        "\n",
        "Regular expressions are handled using Python's built-in **re** library. \n",
        "\n",
        "Ref: [doc1](https://docs.python.org/3/library/re.html) and [doc2](https://docs.python.org/3/howto/regex.html) \n",
        "\n",
        "Let's begin by explaining how to search for basic patterns in a string!"
      ]
    },
    {
      "cell_type": "code",
      "source": [
        "# Prints many statements at the same time\n",
        "from IPython.core.interactiveshell import InteractiveShell\n",
        "InteractiveShell.ast_node_interactivity=\"all\""
      ],
      "metadata": {
        "id": "vhi9Y3HBbnBD"
      },
      "execution_count": null,
      "outputs": []
    },
    {
      "cell_type": "code",
      "execution_count": null,
      "metadata": {
        "id": "XRqNx8zkOPuw"
      },
      "outputs": [],
      "source": [
        "import re"
      ]
    },
    {
      "cell_type": "code",
      "execution_count": null,
      "metadata": {
        "id": "n8B0jEmLOPuy"
      },
      "outputs": [],
      "source": [
        "nameage='James is 23 and I am 45422'"
      ]
    },
    {
      "cell_type": "code",
      "execution_count": null,
      "metadata": {
        "id": "yyrbSh10OPuz",
        "outputId": "6d01ccc9-7971-4e66-dd33-4f0d238832aa",
        "colab": {
          "base_uri": "https://localhost:8080/"
        }
      },
      "outputs": [
        {
          "output_type": "execute_result",
          "data": {
            "text/plain": [
              "True"
            ]
          },
          "metadata": {},
          "execution_count": 5
        }
      ],
      "source": [
        "'am' in nameage # for checking!"
      ]
    },
    {
      "cell_type": "code",
      "execution_count": null,
      "metadata": {
        "id": "mrziCtYxOPu0",
        "outputId": "f7ef942c-b566-42b8-c2cf-4c4dc2853dcf",
        "colab": {
          "base_uri": "https://localhost:8080/"
        }
      },
      "outputs": [
        {
          "output_type": "execute_result",
          "data": {
            "text/plain": [
              "['23', '45', '42', '2']"
            ]
          },
          "metadata": {},
          "execution_count": 6
        }
      ],
      "source": [
        "re.findall(r'\\d{1,2}',nameage) # searching for 2 digit numbers"
      ]
    },
    {
      "cell_type": "code",
      "execution_count": null,
      "metadata": {
        "id": "qrE0FwykOPu1",
        "outputId": "68ad4d36-2f69-439f-c67c-621a3a2ba93d",
        "colab": {
          "base_uri": "https://localhost:8080/"
        }
      },
      "outputs": [
        {
          "output_type": "execute_result",
          "data": {
            "text/plain": [
              "['23', '45422']"
            ]
          },
          "metadata": {},
          "execution_count": 7
        }
      ],
      "source": [
        "re.findall(r'\\d{1,7}',nameage)"
      ]
    },
    {
      "cell_type": "code",
      "execution_count": null,
      "metadata": {
        "id": "fOZLSVnLOPu2",
        "outputId": "e44f709f-8168-4654-f98c-4af332c5e437",
        "colab": {
          "base_uri": "https://localhost:8080/"
        }
      },
      "outputs": [
        {
          "output_type": "execute_result",
          "data": {
            "text/plain": [
              "['James', 'is', 'and', 'I', 'am']"
            ]
          },
          "metadata": {},
          "execution_count": 8
        }
      ],
      "source": [
        "re.findall(r'[A-z][a-z]*',nameage) # searching for words in text, * represents words"
      ]
    },
    {
      "cell_type": "code",
      "execution_count": null,
      "metadata": {
        "id": "-nB1DlPOOPu3",
        "outputId": "4338f0c0-a25c-4364-b63a-3a8f7fa39824",
        "colab": {
          "base_uri": "https://localhost:8080/"
        }
      },
      "outputs": [
        {
          "output_type": "execute_result",
          "data": {
            "text/plain": [
              "['J', 'a', 'm', 'e', 's', 'i', 's', 'a', 'n', 'd', 'I', 'a', 'm']"
            ]
          },
          "metadata": {},
          "execution_count": 11
        }
      ],
      "source": [
        "re.findall(r'[A-z]',nameage) # searching for upper and lower case letters in text"
      ]
    },
    {
      "cell_type": "code",
      "execution_count": null,
      "metadata": {
        "id": "baPiEHVNOPu4",
        "outputId": "9fe56087-2fa8-4660-b949-fcd0b46638d9",
        "colab": {
          "base_uri": "https://localhost:8080/"
        }
      },
      "outputs": [
        {
          "output_type": "execute_result",
          "data": {
            "text/plain": [
              "['a', 'm', 'e', 's', 'i', 's', 'a', 'n', 'd', 'a', 'm']"
            ]
          },
          "metadata": {},
          "execution_count": 12
        },
        {
          "output_type": "execute_result",
          "data": {
            "text/plain": [
              "['J', 'I']"
            ]
          },
          "metadata": {},
          "execution_count": 12
        }
      ],
      "source": [
        "re.findall(r'[a-z]',nameage) # searching for  lower case letters in text\n",
        "re.findall(r'[A-Z]',nameage) # searching for  lower case letters in text"
      ]
    },
    {
      "cell_type": "code",
      "execution_count": null,
      "metadata": {
        "id": "LOITofIqOPu6",
        "outputId": "d950b239-d98e-490f-e942-cd54668257d9",
        "colab": {
          "base_uri": "https://localhost:8080/"
        }
      },
      "outputs": [
        {
          "output_type": "execute_result",
          "data": {
            "text/plain": [
              "<re.Match object; span=(0, 1), match='J'>"
            ]
          },
          "metadata": {},
          "execution_count": 15
        }
      ],
      "source": [
        "re.search('J',nameage)"
      ]
    },
    {
      "cell_type": "code",
      "source": [
        "re.search('\\w+', nameage) # matches a word at the beginning of a string"
      ],
      "metadata": {
        "colab": {
          "base_uri": "https://localhost:8080/"
        },
        "id": "3QOR4wOHgMst",
        "outputId": "0571bcfe-f337-489e-fa15-340198a02c20"
      },
      "execution_count": 64,
      "outputs": [
        {
          "output_type": "execute_result",
          "data": {
            "text/plain": [
              "<re.Match object; span=(0, 5), match='James'>"
            ]
          },
          "metadata": {},
          "execution_count": 64
        }
      ]
    },
    {
      "cell_type": "code",
      "source": [
        "re.search('/w+', nameage)"
      ],
      "metadata": {
        "id": "C0gpH1eDf6oC"
      },
      "execution_count": 62,
      "outputs": []
    },
    {
      "cell_type": "code",
      "execution_count": null,
      "metadata": {
        "id": "RZPaZvY4OPu8",
        "outputId": "2200f935-59c7-439b-f0e6-6a0c71657b4d",
        "colab": {
          "base_uri": "https://localhost:8080/"
        }
      },
      "outputs": [
        {
          "output_type": "execute_result",
          "data": {
            "text/plain": [
              "['inform', 'inform']"
            ]
          },
          "metadata": {},
          "execution_count": 16
        }
      ],
      "source": [
        "inf='this is to inform the information'\n",
        "re.findall('inform',inf)"
      ]
    },
    {
      "cell_type": "code",
      "execution_count": null,
      "metadata": {
        "id": "5RxiKRI2OPu-",
        "outputId": "df99799b-a13c-46fa-87fd-3bb032603a34",
        "colab": {
          "base_uri": "https://localhost:8080/"
        }
      },
      "outputs": [
        {
          "output_type": "execute_result",
          "data": {
            "text/plain": [
              "<re.Match object; span=(11, 17), match='inform'>"
            ]
          },
          "metadata": {},
          "execution_count": 17
        }
      ],
      "source": [
        "re.search('inform',inf) # gives the span for only the first letter in string"
      ]
    },
    {
      "cell_type": "code",
      "execution_count": null,
      "metadata": {
        "id": "0nDGEQzTOPvA",
        "outputId": "704641d8-d689-4585-e0b1-9db2ed72e703",
        "colab": {
          "base_uri": "https://localhost:8080/"
        }
      },
      "outputs": [
        {
          "output_type": "execute_result",
          "data": {
            "text/plain": [
              "['inform', 'inform']"
            ]
          },
          "metadata": {},
          "execution_count": 18
        }
      ],
      "source": [
        "re.findall('inform',inf) # giives back all strings matched"
      ]
    },
    {
      "cell_type": "code",
      "execution_count": null,
      "metadata": {
        "id": "lf7DWa7dOPvA",
        "outputId": "eb74b0c2-9482-4294-d40f-a7091d51b30e",
        "colab": {
          "base_uri": "https://localhost:8080/"
        }
      },
      "outputs": [
        {
          "output_type": "stream",
          "name": "stdout",
          "text": [
            "(11, 17)\n",
            "(22, 28)\n"
          ]
        }
      ],
      "source": [
        "# generating an iterator-- getting the starting and ending index of a particular string\n",
        "for i in re.finditer('inform',inf):\n",
        "    print(i.span()) "
      ]
    },
    {
      "cell_type": "code",
      "execution_count": null,
      "metadata": {
        "id": "2NtaJg21OPvC",
        "outputId": "5ecd7834-a881-4c75-f865-7225ee42dc08",
        "colab": {
          "base_uri": "https://localhost:8080/"
        }
      },
      "outputs": [
        {
          "output_type": "execute_result",
          "data": {
            "text/plain": [
              "['this', 'is', 'to', 'inform', 'the', 'information']"
            ]
          },
          "metadata": {},
          "execution_count": 20
        }
      ],
      "source": [
        "re.split(\" \",inf) # split"
      ]
    },
    {
      "cell_type": "code",
      "execution_count": null,
      "metadata": {
        "id": "Ix_NUdr1OPvC",
        "outputId": "798fb122-fcda-460c-9a34-1184b065e0c8",
        "colab": {
          "base_uri": "https://localhost:8080/"
        }
      },
      "outputs": [
        {
          "output_type": "execute_result",
          "data": {
            "text/plain": [
              "['this', 'is', 'to', 'inform', 'the', 'information']"
            ]
          },
          "metadata": {},
          "execution_count": 21
        }
      ],
      "source": [
        "re.split(\"\\s\", inf)"
      ]
    },
    {
      "cell_type": "code",
      "execution_count": null,
      "metadata": {
        "id": "4l2uQne0OPvC",
        "outputId": "fa270d75-2e9a-45da-ea63-6bdb992bf194",
        "colab": {
          "base_uri": "https://localhost:8080/"
        }
      },
      "outputs": [
        {
          "output_type": "execute_result",
          "data": {
            "text/plain": [
              "['this', 'is', 'to', 'inform the information']"
            ]
          },
          "metadata": {},
          "execution_count": 22
        }
      ],
      "source": [
        "re.split('\\s',inf,3) # specifying the max split"
      ]
    },
    {
      "cell_type": "code",
      "execution_count": null,
      "metadata": {
        "id": "7CQBAleQOPvD",
        "outputId": "fec7e711-2b95-4a6b-a601-d8f18e3d6da0",
        "colab": {
          "base_uri": "https://localhost:8080/",
          "height": 36
        }
      },
      "outputs": [
        {
          "output_type": "execute_result",
          "data": {
            "text/plain": [
              "'this & is & to & inform & the & information'"
            ],
            "application/vnd.google.colaboratory.intrinsic+json": {
              "type": "string"
            }
          },
          "metadata": {},
          "execution_count": 23
        }
      ],
      "source": [
        "# sub() function (calls for substitution) replaces the matches with the text of your choice\n",
        "re.sub('\\s',' & ',inf)"
      ]
    },
    {
      "cell_type": "code",
      "execution_count": null,
      "metadata": {
        "id": "3S6fFAHWOPvE",
        "outputId": "f00660f0-9c04-4eaa-b201-28ce52e78d98",
        "colab": {
          "base_uri": "https://localhost:8080/",
          "height": 36
        }
      },
      "outputs": [
        {
          "output_type": "execute_result",
          "data": {
            "text/plain": [
              "'this ^ is ^ to ^ inform the information'"
            ],
            "application/vnd.google.colaboratory.intrinsic+json": {
              "type": "string"
            }
          },
          "metadata": {},
          "execution_count": 24
        }
      ],
      "source": [
        "#control the number of replacements by specifying the count parameter\n",
        "re.sub('\\s',' ^ ',inf,3)"
      ]
    },
    {
      "cell_type": "code",
      "execution_count": null,
      "metadata": {
        "id": "XkR4tyRvOPvF"
      },
      "outputs": [],
      "source": [
        "name='I am Rachita'\n",
        "x=re.search(r'\\bR\\w+',name) # looks for any words that starts with an upper case 'R', \\b - boundary between words"
      ]
    },
    {
      "cell_type": "code",
      "execution_count": null,
      "metadata": {
        "id": "Qbn4WiHhOPvG",
        "outputId": "429534a8-c1c2-4aa4-9806-1ef9001f2609"
      },
      "outputs": [
        {
          "data": {
            "text/plain": [
              "<re.Match object; span=(5, 12), match='Rachita'>"
            ]
          },
          "execution_count": 22,
          "metadata": {},
          "output_type": "execute_result"
        }
      ],
      "source": [
        "x"
      ]
    },
    {
      "cell_type": "code",
      "execution_count": null,
      "metadata": {
        "id": "Z_jDGeWeOPvH",
        "outputId": "bb73e8c7-0e17-4032-a87e-0fc1bb910255"
      },
      "outputs": [
        {
          "data": {
            "text/plain": [
              "(5, 12)"
            ]
          },
          "execution_count": 23,
          "metadata": {},
          "output_type": "execute_result"
        }
      ],
      "source": [
        "x.span() #returns a tuple containing the start-, and end positions of the match."
      ]
    },
    {
      "cell_type": "code",
      "execution_count": null,
      "metadata": {
        "id": "tQNMhV64OPvI",
        "outputId": "e8c49a1c-0326-4d4d-9b08-4e655e9a7fe1"
      },
      "outputs": [
        {
          "data": {
            "text/plain": [
              "5"
            ]
          },
          "execution_count": 29,
          "metadata": {},
          "output_type": "execute_result"
        }
      ],
      "source": [
        "x.start()"
      ]
    },
    {
      "cell_type": "code",
      "execution_count": null,
      "metadata": {
        "id": "Yg_3By9KOPvJ",
        "outputId": "a0f7b5f7-394c-4631-ddaa-9d824ea5a5af"
      },
      "outputs": [
        {
          "data": {
            "text/plain": [
              "12"
            ]
          },
          "execution_count": 30,
          "metadata": {},
          "output_type": "execute_result"
        }
      ],
      "source": [
        "x.end()"
      ]
    },
    {
      "cell_type": "code",
      "execution_count": null,
      "metadata": {
        "id": "YPYAzm4KOPvJ",
        "outputId": "6aa7d145-8fe7-4439-cd7a-9e88ce203e00"
      },
      "outputs": [
        {
          "data": {
            "text/plain": [
              "'I am Rachita'"
            ]
          },
          "execution_count": 24,
          "metadata": {},
          "output_type": "execute_result"
        }
      ],
      "source": [
        "x.string #returns the string passed into the function"
      ]
    },
    {
      "cell_type": "code",
      "execution_count": null,
      "metadata": {
        "id": "VsS6j7G6OPvJ",
        "outputId": "ef300f7e-9818-4123-8b33-fdd0d001fa90"
      },
      "outputs": [
        {
          "data": {
            "text/plain": [
              "'Rachita'"
            ]
          },
          "execution_count": 25,
          "metadata": {},
          "output_type": "execute_result"
        }
      ],
      "source": [
        "x.group() # returns the part of the string where there was a match"
      ]
    },
    {
      "cell_type": "code",
      "execution_count": null,
      "metadata": {
        "id": "JACLKGMCOPvK"
      },
      "outputs": [],
      "source": [
        "names=['Braund, Mr. Owen Harris',\n",
        " 'Cumings, Mrs. John Bradley (Florence Briggs Thayer)',\n",
        " 'Heikkinen, Miss. Laina',\n",
        " 'Futrelle, Mrs. Jacques Heath (Lily May Peel)',\n",
        " 'Allen, Mr. William Henry',\n",
        " 'Moran, Mr. James',\n",
        " 'McCarthy, Mr. Timothy J',\n",
        " 'Palsson, Master. Gosta Leonard',\n",
        " 'Johnson, Mrs. Oscar W (Elisabeth Vilhelmina Berg)',\n",
        " 'Nasser, Mrs. Nicholas (Adele Achem)',\n",
        " 'Sandstrom, Miss. Marguerite Rut',\n",
        " 'Bonnell, Miss. Elizabeth']"
      ]
    },
    {
      "cell_type": "code",
      "execution_count": null,
      "metadata": {
        "id": "7jrLohaIOPvP",
        "outputId": "d1518163-50e1-4b41-e784-2b992806723a",
        "colab": {
          "base_uri": "https://localhost:8080/"
        }
      },
      "outputs": [
        {
          "output_type": "stream",
          "name": "stdout",
          "text": [
            "Mr.\n",
            "Mrs.\n",
            "Miss.\n",
            "Mrs.\n",
            "Mr.\n",
            "Mr.\n",
            "Mr.\n",
            "Master.\n",
            "Mrs.\n",
            "Mrs.\n",
            "Miss.\n",
            "Miss.\n"
          ]
        }
      ],
      "source": [
        "for i in list(range(len(names))):\n",
        "    y=names[i].split(\",\",1)[1].split(\" \")[1]\n",
        "    print(y)"
      ]
    },
    {
      "cell_type": "markdown",
      "metadata": {
        "id": "isgfrwrpOPvP"
      },
      "source": [
        "\n",
        "## Identifiers for Characters in Patterns\n",
        "\n",
        "Characters such as a digit or a single string have different codes that represent them. You can use these to build up a pattern string. Notice how these make heavy use of the backwards slash \\ . Because of this when defining a pattern string for regular expression we use the format:\n",
        "\n",
        "    r'mypattern'\n",
        "    \n",
        "placing the r in front of the string allows python to understand that the \\ in the pattern string are not meant to be escape slashes.\n",
        "\n",
        "Below you can find a table of all the possible identifiers:\n",
        "\n",
        "<table ><tr><th>Character</th><th>Description</th><th>Example Pattern Code</th><th >Exammple Match</th></tr>\n",
        "\n",
        "<tr ><td><span >\\d</span></td><td>A digit</td><td>file_\\d\\d</td><td>file_25</td></tr>\n",
        "\n",
        "<tr ><td><span >\\w</span></td><td>Alphanumeric</td><td>\\w-\\w\\w\\w</td><td>A-b_1</td></tr>\n",
        "\n",
        "\n",
        "\n",
        "<tr ><td><span >\\s</span></td><td>White space</td><td>a\\sb\\sc</td><td>a b c</td></tr>\n",
        "\n",
        "\n",
        "\n",
        "<tr ><td><span >\\D</span></td><td>A non digit</td><td>\\D\\D\\D</td><td>ABC</td></tr>\n",
        "\n",
        "<tr ><td><span >\\W</span></td><td>Non-alphanumeric</td><td>\\W\\W\\W\\W\\W</td><td>*-+=)</td></tr>\n",
        "\n",
        "<tr ><td><span >\\S</span></td><td>Non-whitespace</td><td>\\S\\S\\S\\S</td><td>Yoyo</td></tr></table>"
      ]
    },
    {
      "cell_type": "code",
      "execution_count": null,
      "metadata": {
        "colab": {
          "base_uri": "https://localhost:8080/"
        },
        "id": "iXeDi0XkOPvQ",
        "outputId": "3d933da4-0e76-42cf-a801-768a3198b5a1"
      },
      "outputs": [
        {
          "output_type": "execute_result",
          "data": {
            "text/plain": [
              "<re.Match object; span=(23, 35), match='408-555-1234'>"
            ]
          },
          "metadata": {},
          "execution_count": 43
        }
      ],
      "source": [
        "text = \"My telephone number is 408-555-1234\"\n",
        "re.search(r'\\d\\d\\d-\\d\\d\\d-\\d\\d\\d\\d',text)"
      ]
    },
    {
      "cell_type": "markdown",
      "metadata": {
        "id": "1C2Tx8THOPvR"
      },
      "source": [
        "Notice the repetition of \\d. That is a bit of an annoyance, especially if we are looking for very long strings of numbers. Let's explore the possible quantifiers.\n",
        "\n",
        "## Quantifiers\n",
        "\n",
        "Now that we know the special character designations, we can use them along with quantifiers to define how many we expect.\n",
        "\n",
        "<table ><tr><th>Character</th><th>Description</th><th>Example Pattern Code</th><th >Exammple Match</th></tr>\n",
        "\n",
        "<tr ><td><span >+</span></td><td>Occurs one or more times</td><td>\tVersion \\w-\\w+</td><td>Version A-b1_1</td></tr>\n",
        "\n",
        "<tr ><td><span >{3}</span></td><td>Occurs exactly 3 times</td><td>\\D{3}</td><td>abc</td></tr>\n",
        "\n",
        "\n",
        "\n",
        "<tr ><td><span >{2,4}</span></td><td>Occurs 2 to 4 times</td><td>\\d{2,4}</td><td>123</td></tr>\n",
        "\n",
        "\n",
        "\n",
        "<tr ><td><span >{3,}</span></td><td>Occurs 3 or more</td><td>\\w{3,}</td><td>anycharacters</td></tr>\n",
        "\n",
        "<tr ><td><span >\\*</span></td><td>Occurs zero or more times</td><td>A\\*B\\*C*</td><td>AAACC</td></tr>\n",
        "\n",
        "<tr ><td><span >?</span></td><td>Once or none</td><td>plurals?</td><td>plural</td></tr></table>"
      ]
    },
    {
      "cell_type": "code",
      "execution_count": null,
      "metadata": {
        "id": "6o9_OSFoOPvR",
        "outputId": "d9472751-7597-46de-fa02-cc1aebef412e",
        "colab": {
          "base_uri": "https://localhost:8080/"
        }
      },
      "outputs": [
        {
          "output_type": "execute_result",
          "data": {
            "text/plain": [
              "<re.Match object; span=(23, 35), match='408-555-1234'>"
            ]
          },
          "metadata": {},
          "execution_count": 44
        }
      ],
      "source": [
        "re.search(r'\\d{3}-\\d{3}-\\d{4}',text)"
      ]
    },
    {
      "cell_type": "markdown",
      "metadata": {
        "id": "wDczoEtcOPvS"
      },
      "source": [
        "## Groups\n",
        "\n",
        "What if we wanted to do two tasks, find phone numbers, but also be able to quickly extract their area code (the first three digits). We can use groups for any general task that involves grouping together regular expressions (so that we can later break them down). \n",
        "\n",
        "Using the phone number example, we can separate groups of regular expressions using parentheses:"
      ]
    },
    {
      "cell_type": "code",
      "execution_count": null,
      "metadata": {
        "id": "evawqReqOPvS"
      },
      "outputs": [],
      "source": [
        "phone_pattern = re.compile(r'(\\d{3})-(\\d{3})-(\\d{4})')\n",
        "results = re.search(phone_pattern,text)"
      ]
    },
    {
      "cell_type": "code",
      "execution_count": null,
      "metadata": {
        "id": "Q5vY5hWbOPvU",
        "outputId": "2d8141a7-9f1c-4f45-ed3a-e6ee399e6a7a"
      },
      "outputs": [
        {
          "data": {
            "text/plain": [
              "'408-555-1234'"
            ]
          },
          "execution_count": 36,
          "metadata": {},
          "output_type": "execute_result"
        }
      ],
      "source": [
        "# The entire result\n",
        "results.group()"
      ]
    },
    {
      "cell_type": "code",
      "execution_count": null,
      "metadata": {
        "id": "ftK0ExLrOPvV",
        "outputId": "ecf0c053-482c-48b3-e674-4a2a2148fa89"
      },
      "outputs": [
        {
          "data": {
            "text/plain": [
              "('408', '555', '1234')"
            ]
          },
          "execution_count": 40,
          "metadata": {},
          "output_type": "execute_result"
        }
      ],
      "source": [
        "# Can then also call by group position.\n",
        "# remember groups were separated by parentheses ()\n",
        "# Something to note is that group ordering starts at 1. Passing in 0 returns everything\n",
        "results.group(1),results.group(2),results.group(3)"
      ]
    },
    {
      "cell_type": "markdown",
      "metadata": {
        "id": "CLdKZFvbOPvW"
      },
      "source": [
        "## Additional Regex Syntax\n",
        "\n",
        "### Or operator |\n",
        "\n",
        "Use the pipe operator to have an **or** statment. For example"
      ]
    },
    {
      "cell_type": "code",
      "execution_count": null,
      "metadata": {
        "id": "2LW6UEjOOPvX",
        "outputId": "3872196c-60a3-4533-8447-e1e93f4d12cb"
      },
      "outputs": [
        {
          "data": {
            "text/plain": [
              "<re.Match object; span=(5, 8), match='man'>"
            ]
          },
          "execution_count": 41,
          "metadata": {},
          "output_type": "execute_result"
        }
      ],
      "source": [
        "re.search(r\"man|woman\",\"This man was here.\")"
      ]
    },
    {
      "cell_type": "code",
      "execution_count": null,
      "metadata": {
        "id": "G2vTraOgOPvX",
        "outputId": "d07cbad0-85f6-4b28-e71e-17221f3e4258"
      },
      "outputs": [
        {
          "data": {
            "text/plain": [
              "<re.Match object; span=(5, 10), match='woman'>"
            ]
          },
          "execution_count": 42,
          "metadata": {},
          "output_type": "execute_result"
        }
      ],
      "source": [
        "re.search(r\"man|woman\",\"This woman was here.\")"
      ]
    },
    {
      "cell_type": "markdown",
      "metadata": {
        "id": "iwFkmm_nOPvY"
      },
      "source": [
        "### The Wildcard Character\n",
        "\n",
        "Use a \"wildcard\" as a placement that will match any character placed there. You can use a simple period **.** for this. For example:"
      ]
    },
    {
      "cell_type": "code",
      "execution_count": null,
      "metadata": {
        "id": "gL_EfwgfOPvY",
        "outputId": "9bf06062-b927-4898-fe35-27d012729d5e"
      },
      "outputs": [
        {
          "data": {
            "text/plain": [
              "['cat', 'hat', 'sat']"
            ]
          },
          "execution_count": 44,
          "metadata": {},
          "output_type": "execute_result"
        }
      ],
      "source": [
        "re.findall(r\".at\",\"The cat in the hat sat here.\")"
      ]
    },
    {
      "cell_type": "code",
      "execution_count": null,
      "metadata": {
        "id": "DDQY_ob7OPvZ",
        "outputId": "d56e5365-c653-4ffd-ab23-8fe4c2f57a13"
      },
      "outputs": [
        {
          "data": {
            "text/plain": [
              "['e bat', 'splat']"
            ]
          },
          "execution_count": 45,
          "metadata": {},
          "output_type": "execute_result"
        }
      ],
      "source": [
        "re.findall(r\"...at\",\"The bat went splat\") # before at it extarcts the previous letters."
      ]
    },
    {
      "cell_type": "code",
      "execution_count": null,
      "metadata": {
        "id": "o5rWLdvGOPva",
        "outputId": "31cbc9e4-4a0b-464d-ffc2-379ff0d973c0"
      },
      "outputs": [
        {
          "data": {
            "text/plain": [
              "['bat', 'splat']"
            ]
          },
          "execution_count": 46,
          "metadata": {},
          "output_type": "execute_result"
        }
      ],
      "source": [
        "# However this still leads the problem to grabbing more beforehand. Really we only want words that end with \"at\".\n",
        "# One or more non-whitespace that ends with 'at'\n",
        "re.findall(r'\\S+at',\"The bat went splat\")"
      ]
    },
    {
      "cell_type": "markdown",
      "metadata": {
        "id": "YPk0oOHfOPvb"
      },
      "source": [
        "### Starts With and Ends With\n",
        "\n",
        "We can use the **^** to signal starts with, and the **$** to signal ends with:\n"
      ]
    },
    {
      "cell_type": "code",
      "execution_count": null,
      "metadata": {
        "id": "qAHF-fPSOPvc",
        "outputId": "5aa9020c-ce5b-48e0-ac37-c01f6984bc08"
      },
      "outputs": [
        {
          "data": {
            "text/plain": [
              "['2']"
            ]
          },
          "execution_count": 50,
          "metadata": {},
          "output_type": "execute_result"
        }
      ],
      "source": [
        "# Ends with a number\n",
        "re.findall(r'\\d$','This ends with a number 2')"
      ]
    },
    {
      "cell_type": "code",
      "execution_count": null,
      "metadata": {
        "id": "cCGzSUU9OPvd",
        "outputId": "b90fd65d-811d-419f-ade3-6fa0d8b20c4f"
      },
      "outputs": [
        {
          "data": {
            "text/plain": [
              "['1']"
            ]
          },
          "execution_count": 51,
          "metadata": {},
          "output_type": "execute_result"
        }
      ],
      "source": [
        "# Starts with a number\n",
        "re.findall(r'^\\d','1 is the loneliest number.')"
      ]
    },
    {
      "cell_type": "markdown",
      "metadata": {
        "id": "a9BcmcabOPve"
      },
      "source": [
        "### Exclusion\n",
        "\n",
        "To exclude characters, we can use the **^** symbol in conjunction with a set of brackets **[ ]**. Anything inside the brackets is excluded. For example:"
      ]
    },
    {
      "cell_type": "code",
      "execution_count": null,
      "metadata": {
        "id": "lCQXoppvOPve",
        "outputId": "e6f29c3f-c243-49c8-b789-554c0aae5685",
        "colab": {
          "base_uri": "https://localhost:8080/"
        }
      },
      "outputs": [
        {
          "output_type": "execute_result",
          "data": {
            "text/plain": [
              "['m', 'y', ' ', 'n', 'a', 'm', 'e', ' ', 'i', 's', ' ', 'R']"
            ]
          },
          "metadata": {},
          "execution_count": 46
        }
      ],
      "source": [
        "phrase = \"my name is R\"\n",
        "re.findall(r'[^\\d]',phrase)"
      ]
    },
    {
      "cell_type": "code",
      "execution_count": null,
      "metadata": {
        "id": "6qmpW9aeOPvf",
        "outputId": "0b1e6f71-0203-4f85-b2f2-887a81b4c9f3",
        "colab": {
          "base_uri": "https://localhost:8080/"
        }
      },
      "outputs": [
        {
          "output_type": "execute_result",
          "data": {
            "text/plain": [
              "['my name is R']"
            ]
          },
          "metadata": {},
          "execution_count": 47
        }
      ],
      "source": [
        "# To get the words back together, use a + sign \n",
        "s=re.findall(r'[^\\d]+',phrase) # spliited by numbers\n",
        "s"
      ]
    },
    {
      "cell_type": "code",
      "execution_count": null,
      "metadata": {
        "id": "0fx2xUZfOPvg",
        "outputId": "7a3bac81-1a51-41e8-e394-aff014f4df46",
        "colab": {
          "base_uri": "https://localhost:8080/"
        }
      },
      "outputs": [
        {
          "output_type": "execute_result",
          "data": {
            "text/plain": [
              "['my', 'name', 'is', 'R']"
            ]
          },
          "metadata": {},
          "execution_count": 48
        }
      ],
      "source": [
        "re.split(\" \",''.join(s))"
      ]
    },
    {
      "cell_type": "code",
      "execution_count": null,
      "metadata": {
        "id": "x1ppm4G7OPvg",
        "outputId": "e0ef28cb-297c-473a-93be-b3c94f634e5f",
        "colab": {
          "base_uri": "https://localhost:8080/"
        }
      },
      "outputs": [
        {
          "output_type": "execute_result",
          "data": {
            "text/plain": [
              "['String', 'with', 'punctuation', 'How', 'can', 'we', 'remove', 'it']"
            ]
          },
          "metadata": {},
          "execution_count": 50
        }
      ],
      "source": [
        "# removing punctuation\n",
        "test_phrase = 'String with punctuation. How can we remove it?'\n",
        "re.findall('[^!.? ]+',test_phrase)"
      ]
    },
    {
      "cell_type": "code",
      "execution_count": null,
      "metadata": {
        "id": "HnkOIGfkOPvh",
        "outputId": "aeebee9d-3340-4706-b2bc-0a6b59a6bad8",
        "colab": {
          "base_uri": "https://localhost:8080/",
          "height": 36
        }
      },
      "outputs": [
        {
          "output_type": "execute_result",
          "data": {
            "text/plain": [
              "'String with punctuation How can we remove it'"
            ],
            "application/vnd.google.colaboratory.intrinsic+json": {
              "type": "string"
            }
          },
          "metadata": {},
          "execution_count": 51
        }
      ],
      "source": [
        "clean = ' '.join(re.findall('[^!.? ]+',test_phrase))\n",
        "clean"
      ]
    },
    {
      "cell_type": "markdown",
      "metadata": {
        "id": "UJYj3CGbOPvi"
      },
      "source": [
        "## Brackets for Grouping\n",
        "As we showed above we can use brackets to group together options, for example if we wanted to find hyphenated words:"
      ]
    },
    {
      "cell_type": "code",
      "execution_count": null,
      "metadata": {
        "id": "v9Btb_BiOPvj",
        "outputId": "ffae8864-00ce-4a9c-d1db-235f8a057477",
        "colab": {
          "base_uri": "https://localhost:8080/"
        }
      },
      "outputs": [
        {
          "output_type": "execute_result",
          "data": {
            "text/plain": [
              "['hypen-words', 'long-ish']"
            ]
          },
          "metadata": {},
          "execution_count": 52
        }
      ],
      "source": [
        "text = 'Only find the hypen-words in this sentence. But you do not know how long-ish they are'\n",
        "re.findall(r'[\\w]+-[\\w]+',text)"
      ]
    },
    {
      "cell_type": "markdown",
      "metadata": {
        "id": "FftYxk2VOPvk"
      },
      "source": [
        "## Parentheses for Multiple Options\n",
        "\n",
        "If we have multiple options for matching, we can use parentheses to list out these options. For Example:"
      ]
    },
    {
      "cell_type": "code",
      "execution_count": null,
      "metadata": {
        "id": "KbArUR27OPvk"
      },
      "outputs": [],
      "source": [
        "# Find words that start with cat and end with one of these options: 'fish','nap', or 'claw'\n",
        "text = 'Hello, would you like some catfish?'\n",
        "texttwo = \"Hello, would you like to take a catnap?\"\n",
        "textthree = \"Hello, have you seen this caterpillar?\""
      ]
    },
    {
      "cell_type": "code",
      "execution_count": null,
      "metadata": {
        "id": "H3JPT_-gOPvl",
        "outputId": "67e4e352-9900-46ee-8af5-4783f1869e26",
        "colab": {
          "base_uri": "https://localhost:8080/"
        }
      },
      "outputs": [
        {
          "output_type": "execute_result",
          "data": {
            "text/plain": [
              "<re.Match object; span=(27, 34), match='catfish'>"
            ]
          },
          "metadata": {},
          "execution_count": 54
        }
      ],
      "source": [
        "re.search(r'cat(fish|nap|claw)',text)"
      ]
    },
    {
      "cell_type": "code",
      "execution_count": null,
      "metadata": {
        "id": "8yvBSx5JOPvm",
        "outputId": "a77dfda8-ba7c-4854-d5c6-b2806a82c675",
        "colab": {
          "base_uri": "https://localhost:8080/"
        }
      },
      "outputs": [
        {
          "output_type": "execute_result",
          "data": {
            "text/plain": [
              "<re.Match object; span=(32, 38), match='catnap'>"
            ]
          },
          "metadata": {},
          "execution_count": 55
        }
      ],
      "source": [
        "re.search(r'cat(fish|nap|claw)',texttwo)"
      ]
    },
    {
      "cell_type": "code",
      "execution_count": null,
      "metadata": {
        "id": "Je40W3LrOPvm"
      },
      "outputs": [],
      "source": [
        "# None returned\n",
        "re.search(r'cat(fish|nap|claw)',textthree)"
      ]
    },
    {
      "cell_type": "code",
      "source": [
        "# Python program to check that a string contains only a certain set of characters (in this case a-z, A-Z and 0-9)\n",
        "import re\n",
        "def is_allowed_specific_char(string):\n",
        "    charRe = re.compile(r'[^a-zA-Z0-9]')\n",
        "    string = charRe.search(string)\n",
        "    return not bool(string)\n",
        "\n",
        "print(is_allowed_specific_char(\"ABCDEFabcdef123450\")) \n",
        "print(is_allowed_specific_char(\"*&%@#!}{\"))"
      ],
      "metadata": {
        "id": "A2SmWUGCav8Z",
        "colab": {
          "base_uri": "https://localhost:8080/"
        },
        "outputId": "4b363430-40ee-4327-c638-20c636679653"
      },
      "execution_count": 58,
      "outputs": [
        {
          "output_type": "stream",
          "name": "stdout",
          "text": [
            "True\n",
            "False\n"
          ]
        }
      ]
    }
  ],
  "metadata": {
    "kernelspec": {
      "display_name": "Python 3",
      "language": "python",
      "name": "python3"
    },
    "language_info": {
      "codemirror_mode": {
        "name": "ipython",
        "version": 3
      },
      "file_extension": ".py",
      "mimetype": "text/x-python",
      "name": "python",
      "nbconvert_exporter": "python",
      "pygments_lexer": "ipython3",
      "version": "3.7.4"
    },
    "colab": {
      "provenance": [],
      "collapsed_sections": [
        "isgfrwrpOPvP",
        "1C2Tx8THOPvR",
        "wDczoEtcOPvS",
        "CLdKZFvbOPvW",
        "iwFkmm_nOPvY",
        "YPk0oOHfOPvb",
        "a9BcmcabOPve",
        "UJYj3CGbOPvi"
      ],
      "include_colab_link": true
    }
  },
  "nbformat": 4,
  "nbformat_minor": 0
}