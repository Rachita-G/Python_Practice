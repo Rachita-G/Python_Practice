{
  "nbformat": 4,
  "nbformat_minor": 0,
  "metadata": {
    "colab": {
      "provenance": [],
      "collapsed_sections": [],
      "authorship_tag": "ABX9TyOGsfJmn6OHv34Elb8JvlDc",
      "include_colab_link": true
    },
    "kernelspec": {
      "name": "python3",
      "display_name": "Python 3"
    },
    "language_info": {
      "name": "python"
    }
  },
  "cells": [
    {
      "cell_type": "markdown",
      "metadata": {
        "id": "view-in-github",
        "colab_type": "text"
      },
      "source": [
        "<a href=\"https://colab.research.google.com/github/Rachita-G/Python_Practice/blob/main/Packages/Itertools.ipynb\" target=\"_parent\"><img src=\"https://colab.research.google.com/assets/colab-badge.svg\" alt=\"Open In Colab\"/></a>"
      ]
    },
    {
      "cell_type": "markdown",
      "source": [
        "Itertools - Package in python which has functions creating iterators for efficient looping\n",
        "\n",
        "Reference - https://docs.python.org/3/library/itertools.html#"
      ],
      "metadata": {
        "id": "fxpcB81LCykV"
      }
    },
    {
      "cell_type": "code",
      "source": [
        "# Prints many statements at the same time\n",
        "from IPython.core.interactiveshell import InteractiveShell\n",
        "InteractiveShell.ast_node_interactivity=\"all\""
      ],
      "metadata": {
        "id": "G3kwS63MDmTR"
      },
      "execution_count": 22,
      "outputs": []
    },
    {
      "cell_type": "code",
      "source": [
        "# Import Package\n",
        "import itertools"
      ],
      "metadata": {
        "id": "HdIYUebeKG_x"
      },
      "execution_count": 23,
      "outputs": []
    },
    {
      "cell_type": "code",
      "source": [
        "# 1. Count Iterator\n",
        "for i in itertools.count(5, 5):\n",
        "    if i == 35:\n",
        "        break\n",
        "    else:\n",
        "        print(i, end =\" \")"
      ],
      "metadata": {
        "colab": {
          "base_uri": "https://localhost:8080/"
        },
        "id": "xf1J1xuLHnRL",
        "outputId": "173f45de-3779-4566-e7b9-82e8220be305"
      },
      "execution_count": 24,
      "outputs": [
        {
          "output_type": "stream",
          "name": "stdout",
          "text": [
            "5 10 15 20 25 30 "
          ]
        }
      ]
    },
    {
      "cell_type": "code",
      "source": [
        "# 1(a). Real world use case of Counter\n",
        "data = [100, 200, 300]\n",
        "list(zip(itertools.count(), data)) # zip only maps till the shortest of list in parameters\n",
        "list(zip(range(10), data)) # another way"
      ],
      "metadata": {
        "colab": {
          "base_uri": "https://localhost:8080/"
        },
        "id": "CbvD6fTEJswL",
        "outputId": "cf9dea2c-14b7-4a78-f45a-0bcb8e49e226"
      },
      "execution_count": null,
      "outputs": [
        {
          "output_type": "execute_result",
          "data": {
            "text/plain": [
              "[(0, 100), (1, 200), (2, 300)]"
            ]
          },
          "metadata": {},
          "execution_count": 10
        }
      ]
    },
    {
      "cell_type": "code",
      "source": [
        "# 2. Zip longest Iterator\n",
        "list(zip(range(5), data))\n",
        "list(itertools.zip_longest(range(5), data)) # itertools zip_longest is till longest list"
      ],
      "metadata": {
        "colab": {
          "base_uri": "https://localhost:8080/"
        },
        "id": "LlouOnD7KBtK",
        "outputId": "49b6fb06-f23c-4729-ccc3-f93a866083ef"
      },
      "execution_count": 34,
      "outputs": [
        {
          "output_type": "execute_result",
          "data": {
            "text/plain": [
              "[(0, 100), (1, 200), (2, 300)]"
            ]
          },
          "metadata": {},
          "execution_count": 34
        },
        {
          "output_type": "execute_result",
          "data": {
            "text/plain": [
              "[(0, 100), (1, 200), (2, 300), (3, None), (4, None)]"
            ]
          },
          "metadata": {},
          "execution_count": 34
        }
      ]
    },
    {
      "cell_type": "code",
      "source": [
        "# 3. Cycle Iterator\n",
        "count = 0\n",
        "for i in itertools.cycle('AB'):\n",
        "    if count > 7:\n",
        "        break\n",
        "    else:\n",
        "        print(i, end = \" \")\n",
        "        count += 1"
      ],
      "metadata": {
        "colab": {
          "base_uri": "https://localhost:8080/"
        },
        "id": "KU_y1Y3jLKs2",
        "outputId": "e23ce0a1-347d-4ab8-f11f-f7c99e68cf35"
      },
      "execution_count": null,
      "outputs": [
        {
          "output_type": "stream",
          "name": "stdout",
          "text": [
            "A B A B A B A B "
          ]
        }
      ]
    },
    {
      "cell_type": "code",
      "source": [
        "# 3(a). Using Next Function\n",
        "iterators = itertools.cycle('rac')   \n",
        "for i in range(6):\n",
        "    print(next(iterators), end = \" \")"
      ],
      "metadata": {
        "colab": {
          "base_uri": "https://localhost:8080/"
        },
        "id": "5AA8wXpCgJZA",
        "outputId": "5c9562db-f3c5-4c6f-a3d0-b7e71e0510e8"
      },
      "execution_count": null,
      "outputs": [
        {
          "output_type": "stream",
          "name": "stdout",
          "text": [
            "r a c r a c "
          ]
        }
      ]
    },
    {
      "cell_type": "code",
      "source": [
        "# 4. Repeat Iterator\n",
        "list(itertools.repeat([\"On\", \"Off\"], times = 5))"
      ],
      "metadata": {
        "colab": {
          "base_uri": "https://localhost:8080/"
        },
        "id": "kWVoa0UaL5cW",
        "outputId": "bb0a5f17-47cb-4041-d68a-3f377997cb8d"
      },
      "execution_count": null,
      "outputs": [
        {
          "output_type": "execute_result",
          "data": {
            "text/plain": [
              "[['On', 'Off'], ['On', 'Off'], ['On', 'Off'], ['On', 'Off'], ['On', 'Off']]"
            ]
          },
          "metadata": {},
          "execution_count": 15
        }
      ]
    },
    {
      "cell_type": "code",
      "source": [
        "# 4(a). Use case\n",
        "list(map(pow, range(10), itertools.repeat(2))) # maps power function on range with power of value in iterator repeat"
      ],
      "metadata": {
        "colab": {
          "base_uri": "https://localhost:8080/"
        },
        "id": "5-tSruBFglsq",
        "outputId": "54d144ee-5625-4cee-bb0b-ca1d7732bb77"
      },
      "execution_count": null,
      "outputs": [
        {
          "output_type": "execute_result",
          "data": {
            "text/plain": [
              "[0, 1, 4, 9, 16, 25, 36, 49, 64, 81]"
            ]
          },
          "metadata": {},
          "execution_count": 16
        }
      ]
    },
    {
      "cell_type": "code",
      "source": [
        "# 5. Starmap Iterator\n",
        "list(itertools.starmap(pow, [(1,2),(3,2),(2,4)])) # maps powers based on values in list - 1^2, 3^2, and 2^4\n",
        "list(itertools.starmap(min, [ (1, 10, 5), (8, 4, 1), (5, 4, 9), (11, 10, 1) ]))"
      ],
      "metadata": {
        "colab": {
          "base_uri": "https://localhost:8080/"
        },
        "id": "HcgV6zvXNCtb",
        "outputId": "66a54e8d-7cd1-4bf6-9155-e4d4f6685f18"
      },
      "execution_count": 39,
      "outputs": [
        {
          "output_type": "execute_result",
          "data": {
            "text/plain": [
              "[1, 9, 16]"
            ]
          },
          "metadata": {},
          "execution_count": 39
        },
        {
          "output_type": "execute_result",
          "data": {
            "text/plain": [
              "[1, 1, 4, 1]"
            ]
          },
          "metadata": {},
          "execution_count": 39
        }
      ]
    },
    {
      "cell_type": "code",
      "execution_count": 25,
      "metadata": {
        "colab": {
          "base_uri": "https://localhost:8080/"
        },
        "id": "ah6y_sSACr0M",
        "outputId": "68bf37c6-1eef-4836-f820-a51fa8092bdc"
      },
      "outputs": [
        {
          "output_type": "execute_result",
          "data": {
            "text/plain": [
              "[('A', 'X'), ('A', 'Y'), ('B', 'X'), ('B', 'Y')]"
            ]
          },
          "metadata": {},
          "execution_count": 25
        },
        {
          "output_type": "stream",
          "name": "stdout",
          "text": [
            "\n",
            "\n"
          ]
        },
        {
          "output_type": "execute_result",
          "data": {
            "text/plain": [
              "[('A', 'A'), ('A', 'B'), ('B', 'A'), ('B', 'B')]"
            ]
          },
          "metadata": {},
          "execution_count": 25
        },
        {
          "output_type": "stream",
          "name": "stdout",
          "text": [
            "\n",
            "\n"
          ]
        },
        {
          "output_type": "execute_result",
          "data": {
            "text/plain": [
              "True"
            ]
          },
          "metadata": {},
          "execution_count": 25
        }
      ],
      "source": [
        "# 6. Cross/Cartesian product\n",
        "from itertools import product \n",
        "list(product(\"AB\", \"XY\"))\n",
        "print(\"\\n\")\n",
        "list(product(\"AB\", repeat = 2)) # like list(product(\"AB\", \"AB\")) i.e., self join. Arranging pattern in groups of 2\n",
        "print(\"\\n\")\n",
        "list(product(\"AB\", repeat = 3)) == list(product(\"AB\", \"AB\", \"AB\"))"
      ]
    },
    {
      "cell_type": "code",
      "source": [
        "# 7. Permutations Iterator - Order matters - No repetition\n",
        "from itertools import permutations\n",
        "list(permutations([1,2,3]))\n",
        "print(\"\\n\")\n",
        "list(permutations([1,2,3],2)) # count = 2*3"
      ],
      "metadata": {
        "colab": {
          "base_uri": "https://localhost:8080/"
        },
        "id": "1tB-kL31DHqV",
        "outputId": "273c2f6b-9ab6-4496-8fa1-215e41b3b6be"
      },
      "execution_count": 30,
      "outputs": [
        {
          "output_type": "execute_result",
          "data": {
            "text/plain": [
              "[(1, 2, 3), (1, 3, 2), (2, 1, 3), (2, 3, 1), (3, 1, 2), (3, 2, 1)]"
            ]
          },
          "metadata": {},
          "execution_count": 30
        },
        {
          "output_type": "stream",
          "name": "stdout",
          "text": [
            "\n",
            "\n"
          ]
        },
        {
          "output_type": "execute_result",
          "data": {
            "text/plain": [
              "[(1, 2), (1, 3), (2, 1), (2, 3), (3, 1), (3, 2)]"
            ]
          },
          "metadata": {},
          "execution_count": 30
        }
      ]
    },
    {
      "cell_type": "code",
      "source": [
        "# 8. Combinations Iterator - Order doesnot matter - No repetition. Ex: In poker, cards order doesnot matter Jack, King = King, Jack\n",
        "from itertools import combinations\n",
        "list(combinations([1,2,3],2)) "
      ],
      "metadata": {
        "colab": {
          "base_uri": "https://localhost:8080/"
        },
        "id": "a4Yi90aNDKTp",
        "outputId": "5124469a-7e08-4cbc-99af-977e624756e0"
      },
      "execution_count": null,
      "outputs": [
        {
          "output_type": "execute_result",
          "data": {
            "text/plain": [
              "[(1, 2), (1, 3), (2, 3)]"
            ]
          },
          "metadata": {},
          "execution_count": 96
        }
      ]
    },
    {
      "cell_type": "code",
      "source": [
        "# 9. Combinations with replacements - all distinct sorted order\n",
        "from itertools import combinations_with_replacement\n",
        "list(combinations_with_replacement('AB',2)) # like premutation([1,2], repeat = 3)"
      ],
      "metadata": {
        "colab": {
          "base_uri": "https://localhost:8080/"
        },
        "id": "1t5O_IL_DMix",
        "outputId": "c1ec8508-a416-4630-a499-27bdddbbaf50"
      },
      "execution_count": 32,
      "outputs": [
        {
          "output_type": "execute_result",
          "data": {
            "text/plain": [
              "[('A', 'A'), ('A', 'B'), ('B', 'B')]"
            ]
          },
          "metadata": {},
          "execution_count": 32
        }
      ]
    },
    {
      "cell_type": "code",
      "source": [
        "# 10. Chain Iterator \n",
        "l1 = [1,2]\n",
        "l2 = ['a','b', 'c']\n",
        "l1+l2\n",
        "print(\"\\n\")\n",
        "list(itertools.chain(l1,l2))\n",
        "list(itertools.chain.from_iterable([l1, l2])) # same as above but in nested list to open elements"
      ],
      "metadata": {
        "colab": {
          "base_uri": "https://localhost:8080/"
        },
        "id": "tZp0UWOTITFx",
        "outputId": "a8a57a7e-a899-4ee7-b4d9-f6f7d9fa084c"
      },
      "execution_count": 36,
      "outputs": [
        {
          "output_type": "execute_result",
          "data": {
            "text/plain": [
              "[1, 2, 'a', 'b', 'c']"
            ]
          },
          "metadata": {},
          "execution_count": 36
        },
        {
          "output_type": "stream",
          "name": "stdout",
          "text": [
            "\n",
            "\n"
          ]
        },
        {
          "output_type": "execute_result",
          "data": {
            "text/plain": [
              "[1, 2, 'a', 'b', 'c']"
            ]
          },
          "metadata": {},
          "execution_count": 36
        },
        {
          "output_type": "execute_result",
          "data": {
            "text/plain": [
              "[1, 2, 'a', 'b', 'c']"
            ]
          },
          "metadata": {},
          "execution_count": 36
        }
      ]
    },
    {
      "cell_type": "code",
      "source": [
        "# 11. Slice Iterator - Stops iterator with start and end index. Also, can add step/jump to take\n",
        "list(itertools.islice(range(10),2,7,2)) # range, start, stop and step. Used when extracting only part of info from giant file."
      ],
      "metadata": {
        "colab": {
          "base_uri": "https://localhost:8080/"
        },
        "id": "Ryi5utq7PLl_",
        "outputId": "1ed36c87-d051-4987-a35b-f5e4ac8c0114"
      },
      "execution_count": null,
      "outputs": [
        {
          "output_type": "execute_result",
          "data": {
            "text/plain": [
              "[2, 4, 6]"
            ]
          },
          "metadata": {},
          "execution_count": 26
        }
      ]
    },
    {
      "cell_type": "code",
      "source": [
        "# 12. Compress Iterator\n",
        "list(itertools.compress([1,2,3,4,5],[1,0,0,1,0])) # where list has true value ie., 1"
      ],
      "metadata": {
        "colab": {
          "base_uri": "https://localhost:8080/"
        },
        "id": "SznU2bJxQzDT",
        "outputId": "ccf8c175-3eba-4bd3-b736-0d5759900aa0"
      },
      "execution_count": null,
      "outputs": [
        {
          "output_type": "execute_result",
          "data": {
            "text/plain": [
              "[1, 4]"
            ]
          },
          "metadata": {},
          "execution_count": 29
        }
      ]
    },
    {
      "cell_type": "code",
      "source": [
        "# 13.  Iterator\n",
        "def lt_2(n):\n",
        "  if n<=2 : return True\n",
        "  else: return False\n",
        "list(filter(lt_2, [1,2,3,4,5])) # filters when list returns True\n",
        "print(\"\\n\")\n",
        "list(itertools.filterfalse(lt_2, [1,2,3,4,5])) # where list returns False"
      ],
      "metadata": {
        "colab": {
          "base_uri": "https://localhost:8080/"
        },
        "id": "vl5bl482Tykk",
        "outputId": "db461776-a31d-4177-ba4f-96dd5a16d597"
      },
      "execution_count": null,
      "outputs": [
        {
          "output_type": "execute_result",
          "data": {
            "text/plain": [
              "[1, 2]"
            ]
          },
          "metadata": {},
          "execution_count": 36
        },
        {
          "output_type": "stream",
          "name": "stdout",
          "text": [
            "\n",
            "\n"
          ]
        },
        {
          "output_type": "execute_result",
          "data": {
            "text/plain": [
              "[3, 4, 5]"
            ]
          },
          "metadata": {},
          "execution_count": 36
        }
      ]
    },
    {
      "cell_type": "code",
      "source": [
        "# 13. Dropwhile, Takewhile and Filter False Iterator \n",
        "list(itertools.dropwhile(lambda x: x<5, [1,3,4,6,4,1])) # Drop elements until the values in function is true and then paste all after (whether true/false)\n",
        "list(itertools.takewhile(lambda x: x<5, [1,3,4,6,4,1])) # visa versa to dropwhile \\\n",
        "list(itertools.filterfalse(lambda x : x % 2 == 0, [1,3,4,6,4,1])) # filters odd numbers - ie, when mod is not 0"
      ],
      "metadata": {
        "colab": {
          "base_uri": "https://localhost:8080/"
        },
        "id": "WN5CzFnhUPcm",
        "outputId": "8639e9df-9ffa-488b-acbf-497b6889b281"
      },
      "execution_count": 38,
      "outputs": [
        {
          "output_type": "execute_result",
          "data": {
            "text/plain": [
              "[6, 4, 1]"
            ]
          },
          "metadata": {},
          "execution_count": 38
        },
        {
          "output_type": "execute_result",
          "data": {
            "text/plain": [
              "[1, 3, 4]"
            ]
          },
          "metadata": {},
          "execution_count": 38
        },
        {
          "output_type": "execute_result",
          "data": {
            "text/plain": [
              "[1, 3, 1]"
            ]
          },
          "metadata": {},
          "execution_count": 38
        }
      ]
    },
    {
      "cell_type": "code",
      "source": [
        "# 14. Accumulate Iteratos - Adds (by default), the numbers\n",
        "list(itertools.accumulate([0,1,2,4,3,2]))\n",
        "import operator\n",
        "list(itertools.accumulate([1,2,4,3,2,0], operator.mul)) "
      ],
      "metadata": {
        "colab": {
          "base_uri": "https://localhost:8080/"
        },
        "id": "k2dnhYeIVY_V",
        "outputId": "8bb24ddd-dfb2-4b8f-b490-8905b2258bed"
      },
      "execution_count": 33,
      "outputs": [
        {
          "output_type": "execute_result",
          "data": {
            "text/plain": [
              "[0, 1, 3, 7, 10, 12]"
            ]
          },
          "metadata": {},
          "execution_count": 33
        },
        {
          "output_type": "execute_result",
          "data": {
            "text/plain": [
              "[1, 2, 8, 24, 48, 0]"
            ]
          },
          "metadata": {},
          "execution_count": 33
        }
      ]
    },
    {
      "cell_type": "code",
      "source": [
        "# 15. Groupby Iterator\n",
        "a = \"12224411\" # should be in order. 1's are not combined at once.\n",
        "for k,v in it.groupby(a):\n",
        "  print(k,list(v))\n",
        "  print(\"\\n\")"
      ],
      "metadata": {
        "colab": {
          "base_uri": "https://localhost:8080/"
        },
        "id": "Cbq-CZ0hZ8ur",
        "outputId": "15d19de8-76a8-40ba-9685-f62b751fbcf5"
      },
      "execution_count": null,
      "outputs": [
        {
          "output_type": "stream",
          "name": "stdout",
          "text": [
            "1 ['1']\n",
            "\n",
            "\n",
            "2 ['2', '2', '2']\n",
            "\n",
            "\n",
            "4 ['4', '4']\n",
            "\n",
            "\n",
            "1 ['1', '1']\n",
            "\n",
            "\n"
          ]
        }
      ]
    },
    {
      "cell_type": "code",
      "source": [
        "# 16. Tee Iterator\n",
        "li = [2, 4, 6, 7, 8, 10, 20]\n",
        "\n",
        "# storing list in iterator\n",
        "iti = iter(li) \n",
        "   \n",
        "# using tee() to make a list of iterators\n",
        "# makes list of 3 iterators having same values.\n",
        "it = itertools.tee(iti, 3)\n",
        "   \n",
        "# printing the values of iterators\n",
        "print (\"The iterators are : \")\n",
        "for i in range (0, 3):\n",
        "    print (list(it[i]))"
      ],
      "metadata": {
        "colab": {
          "base_uri": "https://localhost:8080/"
        },
        "id": "uJX6AUosjim1",
        "outputId": "5cbd686b-7e51-448e-e32b-b620c1b4dfb5"
      },
      "execution_count": 49,
      "outputs": [
        {
          "output_type": "stream",
          "name": "stdout",
          "text": [
            "The iterators are : \n",
            "[2, 4, 6, 7, 8, 10, 20]\n",
            "[2, 4, 6, 7, 8, 10, 20]\n",
            "[2, 4, 6, 7, 8, 10, 20]\n"
          ]
        }
      ]
    }
  ]
}