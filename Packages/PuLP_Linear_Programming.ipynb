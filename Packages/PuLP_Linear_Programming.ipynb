{
  "cells": [
    {
      "cell_type": "markdown",
      "metadata": {
        "id": "view-in-github",
        "colab_type": "text"
      },
      "source": [
        "<a href=\"https://colab.research.google.com/github/Rachita-G/Python_Practice/blob/main/Packages/PuLP_Linear_Programming.ipynb\" target=\"_parent\"><img src=\"https://colab.research.google.com/assets/colab-badge.svg\" alt=\"Open In Colab\"/></a>"
      ]
    },
    {
      "cell_type": "code",
      "execution_count": null,
      "metadata": {
        "colab": {
          "base_uri": "https://localhost:8080/"
        },
        "id": "1sFo4aBsoXdC",
        "outputId": "1481025d-94c4-4c27-bd3f-e52803b1d668"
      },
      "outputs": [
        {
          "output_type": "stream",
          "name": "stdout",
          "text": [
            "Looking in indexes: https://pypi.org/simple, https://us-python.pkg.dev/colab-wheels/public/simple/\n",
            "Collecting pulp\n",
            "  Downloading PuLP-2.6.0-py3-none-any.whl (14.2 MB)\n",
            "\u001b[K     |████████████████████████████████| 14.2 MB 5.4 MB/s \n",
            "\u001b[?25hInstalling collected packages: pulp\n",
            "Successfully installed pulp-2.6.0\n"
          ]
        }
      ],
      "source": [
        "!pip install pulp"
      ]
    },
    {
      "cell_type": "code",
      "execution_count": null,
      "metadata": {
        "id": "M9vKGoBjtvun"
      },
      "outputs": [],
      "source": [
        "import pandas as pd\n",
        "url = \"https://raw.githubusercontent.com/ZhijingEu/Optimizing_Capital_Budgeting_With_ILP_Methods/master/Scenario3_InputData.csv\"\n",
        "data = pd.read_csv(url)"
      ]
    },
    {
      "cell_type": "code",
      "execution_count": null,
      "metadata": {
        "colab": {
          "base_uri": "https://localhost:8080/",
          "height": 394
        },
        "id": "L7G1Xh9hu1JM",
        "outputId": "2fd51d49-240d-43f3-eeda-f67b36364417"
      },
      "outputs": [
        {
          "output_type": "execute_result",
          "data": {
            "text/plain": [
              "    ID                        Programme            Type    Location Region  \\\n",
              "0    1                           Piping  AssetIntegrity  Facility J  Zone4   \n",
              "1    2                  Instrumentation  AssetIntegrity  Facility F  Zone1   \n",
              "2    3                       Mechanical  AssetIntegrity  Facility C  Zone3   \n",
              "3    4                  Debottlenecking          Growth  Facility D  Zone4   \n",
              "4    5                           Piping  AssetIntegrity  Facility C  Zone3   \n",
              "5    6                        Expansion          Growth  Facility C  Zone3   \n",
              "6    7                           Revamp          Growth  Facility F  Zone1   \n",
              "7    8                           Piping  AssetIntegrity  Facility D  Zone4   \n",
              "8    9  Revamp at Facility E Start Yr1           Growth  Facility E  Zone5   \n",
              "9   10   Revamp at Facility E Start Yr2          Growth  Facility E  Zone5   \n",
              "10  11                           Piping  AssetIntegrity  Facility H  Zone3   \n",
              "\n",
              "    CAPEX    NPV  CAPEX Yr1  CAPEX Yr2  CAPEX Yr3  \n",
              "0       5   6.00          4          1          0  \n",
              "1      10  11.00          1          5          4  \n",
              "2      10  14.00          2          4          4  \n",
              "3       5   7.00          5          0          0  \n",
              "4      10  12.00          4          4          2  \n",
              "5      15  20.00          7          8          0  \n",
              "6      15  16.00          7          7          1  \n",
              "7       2   5.00          1          1          0  \n",
              "8       3   4.00          2          1          0  \n",
              "9       3   3.75          0          2          1  \n",
              "10      7   9.00          3          3          1  "
            ],
            "text/html": [
              "\n",
              "  <div id=\"df-ed4097a9-d23b-4bfc-92ec-06eee7dcb366\">\n",
              "    <div class=\"colab-df-container\">\n",
              "      <div>\n",
              "<style scoped>\n",
              "    .dataframe tbody tr th:only-of-type {\n",
              "        vertical-align: middle;\n",
              "    }\n",
              "\n",
              "    .dataframe tbody tr th {\n",
              "        vertical-align: top;\n",
              "    }\n",
              "\n",
              "    .dataframe thead th {\n",
              "        text-align: right;\n",
              "    }\n",
              "</style>\n",
              "<table border=\"1\" class=\"dataframe\">\n",
              "  <thead>\n",
              "    <tr style=\"text-align: right;\">\n",
              "      <th></th>\n",
              "      <th>ID</th>\n",
              "      <th>Programme</th>\n",
              "      <th>Type</th>\n",
              "      <th>Location</th>\n",
              "      <th>Region</th>\n",
              "      <th>CAPEX</th>\n",
              "      <th>NPV</th>\n",
              "      <th>CAPEX Yr1</th>\n",
              "      <th>CAPEX Yr2</th>\n",
              "      <th>CAPEX Yr3</th>\n",
              "    </tr>\n",
              "  </thead>\n",
              "  <tbody>\n",
              "    <tr>\n",
              "      <th>0</th>\n",
              "      <td>1</td>\n",
              "      <td>Piping</td>\n",
              "      <td>AssetIntegrity</td>\n",
              "      <td>Facility J</td>\n",
              "      <td>Zone4</td>\n",
              "      <td>5</td>\n",
              "      <td>6.00</td>\n",
              "      <td>4</td>\n",
              "      <td>1</td>\n",
              "      <td>0</td>\n",
              "    </tr>\n",
              "    <tr>\n",
              "      <th>1</th>\n",
              "      <td>2</td>\n",
              "      <td>Instrumentation</td>\n",
              "      <td>AssetIntegrity</td>\n",
              "      <td>Facility F</td>\n",
              "      <td>Zone1</td>\n",
              "      <td>10</td>\n",
              "      <td>11.00</td>\n",
              "      <td>1</td>\n",
              "      <td>5</td>\n",
              "      <td>4</td>\n",
              "    </tr>\n",
              "    <tr>\n",
              "      <th>2</th>\n",
              "      <td>3</td>\n",
              "      <td>Mechanical</td>\n",
              "      <td>AssetIntegrity</td>\n",
              "      <td>Facility C</td>\n",
              "      <td>Zone3</td>\n",
              "      <td>10</td>\n",
              "      <td>14.00</td>\n",
              "      <td>2</td>\n",
              "      <td>4</td>\n",
              "      <td>4</td>\n",
              "    </tr>\n",
              "    <tr>\n",
              "      <th>3</th>\n",
              "      <td>4</td>\n",
              "      <td>Debottlenecking</td>\n",
              "      <td>Growth</td>\n",
              "      <td>Facility D</td>\n",
              "      <td>Zone4</td>\n",
              "      <td>5</td>\n",
              "      <td>7.00</td>\n",
              "      <td>5</td>\n",
              "      <td>0</td>\n",
              "      <td>0</td>\n",
              "    </tr>\n",
              "    <tr>\n",
              "      <th>4</th>\n",
              "      <td>5</td>\n",
              "      <td>Piping</td>\n",
              "      <td>AssetIntegrity</td>\n",
              "      <td>Facility C</td>\n",
              "      <td>Zone3</td>\n",
              "      <td>10</td>\n",
              "      <td>12.00</td>\n",
              "      <td>4</td>\n",
              "      <td>4</td>\n",
              "      <td>2</td>\n",
              "    </tr>\n",
              "    <tr>\n",
              "      <th>5</th>\n",
              "      <td>6</td>\n",
              "      <td>Expansion</td>\n",
              "      <td>Growth</td>\n",
              "      <td>Facility C</td>\n",
              "      <td>Zone3</td>\n",
              "      <td>15</td>\n",
              "      <td>20.00</td>\n",
              "      <td>7</td>\n",
              "      <td>8</td>\n",
              "      <td>0</td>\n",
              "    </tr>\n",
              "    <tr>\n",
              "      <th>6</th>\n",
              "      <td>7</td>\n",
              "      <td>Revamp</td>\n",
              "      <td>Growth</td>\n",
              "      <td>Facility F</td>\n",
              "      <td>Zone1</td>\n",
              "      <td>15</td>\n",
              "      <td>16.00</td>\n",
              "      <td>7</td>\n",
              "      <td>7</td>\n",
              "      <td>1</td>\n",
              "    </tr>\n",
              "    <tr>\n",
              "      <th>7</th>\n",
              "      <td>8</td>\n",
              "      <td>Piping</td>\n",
              "      <td>AssetIntegrity</td>\n",
              "      <td>Facility D</td>\n",
              "      <td>Zone4</td>\n",
              "      <td>2</td>\n",
              "      <td>5.00</td>\n",
              "      <td>1</td>\n",
              "      <td>1</td>\n",
              "      <td>0</td>\n",
              "    </tr>\n",
              "    <tr>\n",
              "      <th>8</th>\n",
              "      <td>9</td>\n",
              "      <td>Revamp at Facility E Start Yr1</td>\n",
              "      <td>Growth</td>\n",
              "      <td>Facility E</td>\n",
              "      <td>Zone5</td>\n",
              "      <td>3</td>\n",
              "      <td>4.00</td>\n",
              "      <td>2</td>\n",
              "      <td>1</td>\n",
              "      <td>0</td>\n",
              "    </tr>\n",
              "    <tr>\n",
              "      <th>9</th>\n",
              "      <td>10</td>\n",
              "      <td>Revamp at Facility E Start Yr2</td>\n",
              "      <td>Growth</td>\n",
              "      <td>Facility E</td>\n",
              "      <td>Zone5</td>\n",
              "      <td>3</td>\n",
              "      <td>3.75</td>\n",
              "      <td>0</td>\n",
              "      <td>2</td>\n",
              "      <td>1</td>\n",
              "    </tr>\n",
              "    <tr>\n",
              "      <th>10</th>\n",
              "      <td>11</td>\n",
              "      <td>Piping</td>\n",
              "      <td>AssetIntegrity</td>\n",
              "      <td>Facility H</td>\n",
              "      <td>Zone3</td>\n",
              "      <td>7</td>\n",
              "      <td>9.00</td>\n",
              "      <td>3</td>\n",
              "      <td>3</td>\n",
              "      <td>1</td>\n",
              "    </tr>\n",
              "  </tbody>\n",
              "</table>\n",
              "</div>\n",
              "      <button class=\"colab-df-convert\" onclick=\"convertToInteractive('df-ed4097a9-d23b-4bfc-92ec-06eee7dcb366')\"\n",
              "              title=\"Convert this dataframe to an interactive table.\"\n",
              "              style=\"display:none;\">\n",
              "        \n",
              "  <svg xmlns=\"http://www.w3.org/2000/svg\" height=\"24px\"viewBox=\"0 0 24 24\"\n",
              "       width=\"24px\">\n",
              "    <path d=\"M0 0h24v24H0V0z\" fill=\"none\"/>\n",
              "    <path d=\"M18.56 5.44l.94 2.06.94-2.06 2.06-.94-2.06-.94-.94-2.06-.94 2.06-2.06.94zm-11 1L8.5 8.5l.94-2.06 2.06-.94-2.06-.94L8.5 2.5l-.94 2.06-2.06.94zm10 10l.94 2.06.94-2.06 2.06-.94-2.06-.94-.94-2.06-.94 2.06-2.06.94z\"/><path d=\"M17.41 7.96l-1.37-1.37c-.4-.4-.92-.59-1.43-.59-.52 0-1.04.2-1.43.59L10.3 9.45l-7.72 7.72c-.78.78-.78 2.05 0 2.83L4 21.41c.39.39.9.59 1.41.59.51 0 1.02-.2 1.41-.59l7.78-7.78 2.81-2.81c.8-.78.8-2.07 0-2.86zM5.41 20L4 18.59l7.72-7.72 1.47 1.35L5.41 20z\"/>\n",
              "  </svg>\n",
              "      </button>\n",
              "      \n",
              "  <style>\n",
              "    .colab-df-container {\n",
              "      display:flex;\n",
              "      flex-wrap:wrap;\n",
              "      gap: 12px;\n",
              "    }\n",
              "\n",
              "    .colab-df-convert {\n",
              "      background-color: #E8F0FE;\n",
              "      border: none;\n",
              "      border-radius: 50%;\n",
              "      cursor: pointer;\n",
              "      display: none;\n",
              "      fill: #1967D2;\n",
              "      height: 32px;\n",
              "      padding: 0 0 0 0;\n",
              "      width: 32px;\n",
              "    }\n",
              "\n",
              "    .colab-df-convert:hover {\n",
              "      background-color: #E2EBFA;\n",
              "      box-shadow: 0px 1px 2px rgba(60, 64, 67, 0.3), 0px 1px 3px 1px rgba(60, 64, 67, 0.15);\n",
              "      fill: #174EA6;\n",
              "    }\n",
              "\n",
              "    [theme=dark] .colab-df-convert {\n",
              "      background-color: #3B4455;\n",
              "      fill: #D2E3FC;\n",
              "    }\n",
              "\n",
              "    [theme=dark] .colab-df-convert:hover {\n",
              "      background-color: #434B5C;\n",
              "      box-shadow: 0px 1px 3px 1px rgba(0, 0, 0, 0.15);\n",
              "      filter: drop-shadow(0px 1px 2px rgba(0, 0, 0, 0.3));\n",
              "      fill: #FFFFFF;\n",
              "    }\n",
              "  </style>\n",
              "\n",
              "      <script>\n",
              "        const buttonEl =\n",
              "          document.querySelector('#df-ed4097a9-d23b-4bfc-92ec-06eee7dcb366 button.colab-df-convert');\n",
              "        buttonEl.style.display =\n",
              "          google.colab.kernel.accessAllowed ? 'block' : 'none';\n",
              "\n",
              "        async function convertToInteractive(key) {\n",
              "          const element = document.querySelector('#df-ed4097a9-d23b-4bfc-92ec-06eee7dcb366');\n",
              "          const dataTable =\n",
              "            await google.colab.kernel.invokeFunction('convertToInteractive',\n",
              "                                                     [key], {});\n",
              "          if (!dataTable) return;\n",
              "\n",
              "          const docLinkHtml = 'Like what you see? Visit the ' +\n",
              "            '<a target=\"_blank\" href=https://colab.research.google.com/notebooks/data_table.ipynb>data table notebook</a>'\n",
              "            + ' to learn more about interactive tables.';\n",
              "          element.innerHTML = '';\n",
              "          dataTable['output_type'] = 'display_data';\n",
              "          await google.colab.output.renderOutput(dataTable, element);\n",
              "          const docLink = document.createElement('div');\n",
              "          docLink.innerHTML = docLinkHtml;\n",
              "          element.appendChild(docLink);\n",
              "        }\n",
              "      </script>\n",
              "    </div>\n",
              "  </div>\n",
              "  "
            ]
          },
          "metadata": {},
          "execution_count": 6
        }
      ],
      "source": [
        "data"
      ]
    },
    {
      "cell_type": "code",
      "execution_count": null,
      "metadata": {
        "id": "ZoOKSRdRb20D"
      },
      "outputs": [],
      "source": [
        "import pulp\n",
        "\n",
        "# Create A Model\n",
        "phasing = pulp.LpProblem(\"Maximise\", pulp.LpMaximize)"
      ]
    },
    {
      "cell_type": "code",
      "execution_count": null,
      "metadata": {
        "colab": {
          "base_uri": "https://localhost:8080/"
        },
        "id": "kXzlhhNxvNs7",
        "outputId": "f7b51923-59a2-4f66-e311-952bfb22abf8"
      },
      "outputs": [
        {
          "output_type": "execute_result",
          "data": {
            "text/plain": [
              "Maximise:\n",
              "MAXIMIZE\n",
              "None\n",
              "VARIABLES"
            ]
          },
          "metadata": {},
          "execution_count": 8
        }
      ],
      "source": [
        "phasing"
      ]
    },
    {
      "cell_type": "code",
      "execution_count": null,
      "metadata": {
        "colab": {
          "base_uri": "https://localhost:8080/"
        },
        "id": "ESCeeSG_vdun",
        "outputId": "399380eb-163b-47b9-b050-3b586f5407ea"
      },
      "outputs": [
        {
          "output_type": "execute_result",
          "data": {
            "text/plain": [
              "{0: Selection_0,\n",
              " 1: Selection_1,\n",
              " 2: Selection_2,\n",
              " 3: Selection_3,\n",
              " 4: Selection_4,\n",
              " 5: Selection_5,\n",
              " 6: Selection_6,\n",
              " 7: Selection_7,\n",
              " 8: Selection_8,\n",
              " 9: Selection_9,\n",
              " 10: Selection_10}"
            ]
          },
          "metadata": {},
          "execution_count": 9
        }
      ],
      "source": [
        "Selection = pulp.LpVariable.dicts(\"Selection\", data.index, cat='Binary') # selection which needs to change with specified type\n",
        "Selection"
      ]
    },
    {
      "cell_type": "code",
      "execution_count": null,
      "metadata": {
        "colab": {
          "base_uri": "https://localhost:8080/"
        },
        "id": "9L3QhXw6FhkU",
        "outputId": "c9fe8bcc-23e4-43e5-cb95-076a559a19d1"
      },
      "outputs": [
        {
          "output_type": "execute_result",
          "data": {
            "text/plain": [
              "Maximise:\n",
              "MAXIMIZE\n",
              "None\n",
              "VARIABLES"
            ]
          },
          "metadata": {},
          "execution_count": 10
        }
      ],
      "source": [
        "phasing"
      ]
    },
    {
      "cell_type": "code",
      "execution_count": null,
      "metadata": {
        "colab": {
          "base_uri": "https://localhost:8080/"
        },
        "id": "27RegcYfvdxF",
        "outputId": "c7a622f8-94e2-4532-d7f8-e52802d84ff1"
      },
      "outputs": [
        {
          "output_type": "execute_result",
          "data": {
            "text/plain": [
              "Maximise:\n",
              "MAXIMIZE\n",
              "6.0*Selection_0 + 11.0*Selection_1 + 9.0*Selection_10 + 14.0*Selection_2 + 7.0*Selection_3 + 12.0*Selection_4 + 20.0*Selection_5 + 16.0*Selection_6 + 5.0*Selection_7 + 4.0*Selection_8 + 3.75*Selection_9 + 0.0\n",
              "VARIABLES\n",
              "0 <= Selection_0 <= 1 Integer\n",
              "0 <= Selection_1 <= 1 Integer\n",
              "0 <= Selection_10 <= 1 Integer\n",
              "0 <= Selection_2 <= 1 Integer\n",
              "0 <= Selection_3 <= 1 Integer\n",
              "0 <= Selection_4 <= 1 Integer\n",
              "0 <= Selection_5 <= 1 Integer\n",
              "0 <= Selection_6 <= 1 Integer\n",
              "0 <= Selection_7 <= 1 Integer\n",
              "0 <= Selection_8 <= 1 Integer\n",
              "0 <= Selection_9 <= 1 Integer"
            ]
          },
          "metadata": {},
          "execution_count": 11
        }
      ],
      "source": [
        "phasing += pulp.lpSum(Selection[idx]*data.loc[idx][\"NPV\"] for idx in data.index)\n",
        "phasing # adds objective function and constraint on data type of variables"
      ]
    },
    {
      "cell_type": "code",
      "execution_count": null,
      "metadata": {
        "colab": {
          "base_uri": "https://localhost:8080/"
        },
        "id": "UYJPW8rxvd1t",
        "outputId": "1dc4b46f-63f6-4260-b0f4-24f881b99062"
      },
      "outputs": [
        {
          "output_type": "execute_result",
          "data": {
            "text/plain": [
              "Maximise:\n",
              "MAXIMIZE\n",
              "6.0*Selection_0 + 11.0*Selection_1 + 9.0*Selection_10 + 14.0*Selection_2 + 7.0*Selection_3 + 12.0*Selection_4 + 20.0*Selection_5 + 16.0*Selection_6 + 5.0*Selection_7 + 4.0*Selection_8 + 3.75*Selection_9 + 0.0\n",
              "SUBJECT TO\n",
              "_C1: 4 Selection_0 + Selection_1 + 3 Selection_10 + 2 Selection_2\n",
              " + 5 Selection_3 + 4 Selection_4 + 7 Selection_5 + 7 Selection_6 + Selection_7\n",
              " + 2 Selection_8 <= 20\n",
              "\n",
              "_C2: Selection_0 + 5 Selection_1 + 3 Selection_10 + 4 Selection_2\n",
              " + 4 Selection_4 + 8 Selection_5 + 7 Selection_6 + Selection_7 + Selection_8\n",
              " + 2 Selection_9 <= 25\n",
              "\n",
              "_C3: 4 Selection_1 + Selection_10 + 4 Selection_2 + 2 Selection_4\n",
              " + Selection_6 + Selection_9 <= 15\n",
              "\n",
              "VARIABLES\n",
              "0 <= Selection_0 <= 1 Integer\n",
              "0 <= Selection_1 <= 1 Integer\n",
              "0 <= Selection_10 <= 1 Integer\n",
              "0 <= Selection_2 <= 1 Integer\n",
              "0 <= Selection_3 <= 1 Integer\n",
              "0 <= Selection_4 <= 1 Integer\n",
              "0 <= Selection_5 <= 1 Integer\n",
              "0 <= Selection_6 <= 1 Integer\n",
              "0 <= Selection_7 <= 1 Integer\n",
              "0 <= Selection_8 <= 1 Integer\n",
              "0 <= Selection_9 <= 1 Integer"
            ]
          },
          "metadata": {},
          "execution_count": 14
        }
      ],
      "source": [
        "# Set The Constraints\n",
        "yearly_constraints = [20, 25, 15] \n",
        "phasing += sum([Selection[idx]*data.loc[idx][\"CAPEX Yr1\"] for idx in data.index]) <= yearly_constraints[0]\n",
        "phasing += sum([Selection[idx]*data.loc[idx][\"CAPEX Yr2\"] for idx in data.index]) <= yearly_constraints[1]\n",
        "phasing += sum([Selection[idx]*data.loc[idx][\"CAPEX Yr3\"] for idx in data.index]) <= yearly_constraints[2]\n",
        "phasing"
      ]
    },
    {
      "cell_type": "code",
      "execution_count": null,
      "metadata": {
        "id": "xP22FbxnoSpO"
      },
      "outputs": [],
      "source": [
        "phasing += Selection[4] + Selection[10] == 1 # Either Project 5 or 10 must be chosen\n",
        "phasing += Selection[3] == Selection[7] # Both Projects 4 and 8 must go together\n",
        "phasing += Selection[8] + Selection[9] == 1 # Either Project 9a or 9b must be chosen\n",
        "phasing += Selection[6] <= Selection[1] # Project 7 is optional choice as long as Project 2 is selected"
      ]
    },
    {
      "cell_type": "code",
      "execution_count": null,
      "metadata": {
        "colab": {
          "base_uri": "https://localhost:8080/"
        },
        "id": "cq0hdWjkFYOT",
        "outputId": "0bcaf0e1-d9f1-4b1b-9f3c-aa872cce7f13"
      },
      "outputs": [
        {
          "output_type": "execute_result",
          "data": {
            "text/plain": [
              "Maximise:\n",
              "MAXIMIZE\n",
              "6.0*Selection_0 + 11.0*Selection_1 + 9.0*Selection_10 + 14.0*Selection_2 + 7.0*Selection_3 + 12.0*Selection_4 + 20.0*Selection_5 + 16.0*Selection_6 + 5.0*Selection_7 + 4.0*Selection_8 + 3.75*Selection_9 + 0.0\n",
              "SUBJECT TO\n",
              "_C1: 4 Selection_0 + Selection_1 + 3 Selection_10 + 2 Selection_2\n",
              " + 5 Selection_3 + 4 Selection_4 + 7 Selection_5 + 7 Selection_6 + Selection_7\n",
              " + 2 Selection_8 <= 20\n",
              "\n",
              "_C2: Selection_0 + 5 Selection_1 + 3 Selection_10 + 4 Selection_2\n",
              " + 4 Selection_4 + 8 Selection_5 + 7 Selection_6 + Selection_7 + Selection_8\n",
              " + 2 Selection_9 <= 25\n",
              "\n",
              "_C3: 4 Selection_1 + Selection_10 + 4 Selection_2 + 2 Selection_4\n",
              " + Selection_6 + Selection_9 <= 15\n",
              "\n",
              "_C4: Selection_10 + Selection_4 = 1\n",
              "\n",
              "_C5: Selection_3 - Selection_7 = 0\n",
              "\n",
              "_C6: Selection_8 + Selection_9 = 1\n",
              "\n",
              "_C7: - Selection_1 + Selection_6 <= 0\n",
              "\n",
              "VARIABLES\n",
              "0 <= Selection_0 <= 1 Integer\n",
              "0 <= Selection_1 <= 1 Integer\n",
              "0 <= Selection_10 <= 1 Integer\n",
              "0 <= Selection_2 <= 1 Integer\n",
              "0 <= Selection_3 <= 1 Integer\n",
              "0 <= Selection_4 <= 1 Integer\n",
              "0 <= Selection_5 <= 1 Integer\n",
              "0 <= Selection_6 <= 1 Integer\n",
              "0 <= Selection_7 <= 1 Integer\n",
              "0 <= Selection_8 <= 1 Integer\n",
              "0 <= Selection_9 <= 1 Integer"
            ]
          },
          "metadata": {},
          "execution_count": 16
        }
      ],
      "source": [
        "phasing"
      ]
    },
    {
      "cell_type": "code",
      "execution_count": null,
      "metadata": {
        "colab": {
          "base_uri": "https://localhost:8080/",
          "height": 72
        },
        "id": "heehIwweE6Ag",
        "outputId": "6d8126e8-8d4e-4cd2-d529-842dfb5cc2c9"
      },
      "outputs": [
        {
          "output_type": "stream",
          "name": "stdout",
          "text": [
            "CPU times: user 1.57 ms, sys: 7.06 ms, total: 8.62 ms\n",
            "Wall time: 28.1 ms\n"
          ]
        },
        {
          "output_type": "execute_result",
          "data": {
            "text/plain": [
              "'Optimal'"
            ],
            "application/vnd.google.colaboratory.intrinsic+json": {
              "type": "string"
            }
          },
          "metadata": {},
          "execution_count": 17
        }
      ],
      "source": [
        "# Run The Solver(s)\n",
        "%time phasing.solve() #equivalent to phasing.solve(pulp.PULP_CBC_CMD()) as CBC is PulP's default solver\n",
        "pulp.LpStatus[phasing.status]"
      ]
    },
    {
      "cell_type": "code",
      "execution_count": null,
      "metadata": {
        "colab": {
          "base_uri": "https://localhost:8080/"
        },
        "id": "x1bfcWXlE9YN",
        "outputId": "02a2e5ef-8c43-4bf9-94af-a3c5afac5e87"
      },
      "outputs": [
        {
          "output_type": "stream",
          "name": "stdout",
          "text": [
            "72.75\n"
          ]
        }
      ],
      "source": [
        "# Print our objective function value and Output Solution\n",
        "print(pulp.value(phasing.objective))"
      ]
    },
    {
      "cell_type": "code",
      "execution_count": null,
      "metadata": {
        "id": "1PcmF2ycRJ0Q"
      },
      "outputs": [],
      "source": [
        "selection_yn = []\n",
        "for idx in data.index:\n",
        "  selection_yn.append(Selection[idx].value())\n",
        "data['Selection Y/N'] = pd.Series(selection_yn)\n",
        "data['Capex Yr1 Selected'] = data['Selection Y/N']*data['CAPEX Yr1']\n",
        "data['Capex Yr2 Selected'] = data['Selection Y/N']*data['CAPEX Yr2']\n",
        "data['Capex Yr3 Selected'] = data['Selection Y/N']*data['CAPEX Yr3']\n",
        "data['NPV Selected'] = data['Selection Y/N']*data['NPV']"
      ]
    },
    {
      "cell_type": "code",
      "execution_count": null,
      "metadata": {
        "colab": {
          "base_uri": "https://localhost:8080/",
          "height": 562
        },
        "id": "OkIHfstoRgLP",
        "outputId": "5726ab7a-25b5-4c34-815c-c724c66dcb1a"
      },
      "outputs": [
        {
          "output_type": "execute_result",
          "data": {
            "text/plain": [
              "    ID                        Programme            Type    Location Region  \\\n",
              "0    1                           Piping  AssetIntegrity  Facility J  Zone4   \n",
              "1    2                  Instrumentation  AssetIntegrity  Facility F  Zone1   \n",
              "2    3                       Mechanical  AssetIntegrity  Facility C  Zone3   \n",
              "3    4                  Debottlenecking          Growth  Facility D  Zone4   \n",
              "4    5                           Piping  AssetIntegrity  Facility C  Zone3   \n",
              "5    6                        Expansion          Growth  Facility C  Zone3   \n",
              "6    7                           Revamp          Growth  Facility F  Zone1   \n",
              "7    8                           Piping  AssetIntegrity  Facility D  Zone4   \n",
              "8    9  Revamp at Facility E Start Yr1           Growth  Facility E  Zone5   \n",
              "9   10   Revamp at Facility E Start Yr2          Growth  Facility E  Zone5   \n",
              "10  11                           Piping  AssetIntegrity  Facility H  Zone3   \n",
              "\n",
              "    CAPEX    NPV  CAPEX Yr1  CAPEX Yr2  CAPEX Yr3  Selection Y/N  \\\n",
              "0       5   6.00          4          1          0            0.0   \n",
              "1      10  11.00          1          5          4            1.0   \n",
              "2      10  14.00          2          4          4            1.0   \n",
              "3       5   7.00          5          0          0            1.0   \n",
              "4      10  12.00          4          4          2            1.0   \n",
              "5      15  20.00          7          8          0            1.0   \n",
              "6      15  16.00          7          7          1            0.0   \n",
              "7       2   5.00          1          1          0            1.0   \n",
              "8       3   4.00          2          1          0            0.0   \n",
              "9       3   3.75          0          2          1            1.0   \n",
              "10      7   9.00          3          3          1            0.0   \n",
              "\n",
              "    Capex Yr1 Selected  Capex Yr2 Selected  Capex Yr3 Selected  NPV Selected  \n",
              "0                  0.0                 0.0                 0.0          0.00  \n",
              "1                  1.0                 5.0                 4.0         11.00  \n",
              "2                  2.0                 4.0                 4.0         14.00  \n",
              "3                  5.0                 0.0                 0.0          7.00  \n",
              "4                  4.0                 4.0                 2.0         12.00  \n",
              "5                  7.0                 8.0                 0.0         20.00  \n",
              "6                  0.0                 0.0                 0.0          0.00  \n",
              "7                  1.0                 1.0                 0.0          5.00  \n",
              "8                  0.0                 0.0                 0.0          0.00  \n",
              "9                  0.0                 2.0                 1.0          3.75  \n",
              "10                 0.0                 0.0                 0.0          0.00  "
            ],
            "text/html": [
              "\n",
              "  <div id=\"df-73d6e19e-a038-4c91-b0e0-b848973bd41d\">\n",
              "    <div class=\"colab-df-container\">\n",
              "      <div>\n",
              "<style scoped>\n",
              "    .dataframe tbody tr th:only-of-type {\n",
              "        vertical-align: middle;\n",
              "    }\n",
              "\n",
              "    .dataframe tbody tr th {\n",
              "        vertical-align: top;\n",
              "    }\n",
              "\n",
              "    .dataframe thead th {\n",
              "        text-align: right;\n",
              "    }\n",
              "</style>\n",
              "<table border=\"1\" class=\"dataframe\">\n",
              "  <thead>\n",
              "    <tr style=\"text-align: right;\">\n",
              "      <th></th>\n",
              "      <th>ID</th>\n",
              "      <th>Programme</th>\n",
              "      <th>Type</th>\n",
              "      <th>Location</th>\n",
              "      <th>Region</th>\n",
              "      <th>CAPEX</th>\n",
              "      <th>NPV</th>\n",
              "      <th>CAPEX Yr1</th>\n",
              "      <th>CAPEX Yr2</th>\n",
              "      <th>CAPEX Yr3</th>\n",
              "      <th>Selection Y/N</th>\n",
              "      <th>Capex Yr1 Selected</th>\n",
              "      <th>Capex Yr2 Selected</th>\n",
              "      <th>Capex Yr3 Selected</th>\n",
              "      <th>NPV Selected</th>\n",
              "    </tr>\n",
              "  </thead>\n",
              "  <tbody>\n",
              "    <tr>\n",
              "      <th>0</th>\n",
              "      <td>1</td>\n",
              "      <td>Piping</td>\n",
              "      <td>AssetIntegrity</td>\n",
              "      <td>Facility J</td>\n",
              "      <td>Zone4</td>\n",
              "      <td>5</td>\n",
              "      <td>6.00</td>\n",
              "      <td>4</td>\n",
              "      <td>1</td>\n",
              "      <td>0</td>\n",
              "      <td>0.0</td>\n",
              "      <td>0.0</td>\n",
              "      <td>0.0</td>\n",
              "      <td>0.0</td>\n",
              "      <td>0.00</td>\n",
              "    </tr>\n",
              "    <tr>\n",
              "      <th>1</th>\n",
              "      <td>2</td>\n",
              "      <td>Instrumentation</td>\n",
              "      <td>AssetIntegrity</td>\n",
              "      <td>Facility F</td>\n",
              "      <td>Zone1</td>\n",
              "      <td>10</td>\n",
              "      <td>11.00</td>\n",
              "      <td>1</td>\n",
              "      <td>5</td>\n",
              "      <td>4</td>\n",
              "      <td>1.0</td>\n",
              "      <td>1.0</td>\n",
              "      <td>5.0</td>\n",
              "      <td>4.0</td>\n",
              "      <td>11.00</td>\n",
              "    </tr>\n",
              "    <tr>\n",
              "      <th>2</th>\n",
              "      <td>3</td>\n",
              "      <td>Mechanical</td>\n",
              "      <td>AssetIntegrity</td>\n",
              "      <td>Facility C</td>\n",
              "      <td>Zone3</td>\n",
              "      <td>10</td>\n",
              "      <td>14.00</td>\n",
              "      <td>2</td>\n",
              "      <td>4</td>\n",
              "      <td>4</td>\n",
              "      <td>1.0</td>\n",
              "      <td>2.0</td>\n",
              "      <td>4.0</td>\n",
              "      <td>4.0</td>\n",
              "      <td>14.00</td>\n",
              "    </tr>\n",
              "    <tr>\n",
              "      <th>3</th>\n",
              "      <td>4</td>\n",
              "      <td>Debottlenecking</td>\n",
              "      <td>Growth</td>\n",
              "      <td>Facility D</td>\n",
              "      <td>Zone4</td>\n",
              "      <td>5</td>\n",
              "      <td>7.00</td>\n",
              "      <td>5</td>\n",
              "      <td>0</td>\n",
              "      <td>0</td>\n",
              "      <td>1.0</td>\n",
              "      <td>5.0</td>\n",
              "      <td>0.0</td>\n",
              "      <td>0.0</td>\n",
              "      <td>7.00</td>\n",
              "    </tr>\n",
              "    <tr>\n",
              "      <th>4</th>\n",
              "      <td>5</td>\n",
              "      <td>Piping</td>\n",
              "      <td>AssetIntegrity</td>\n",
              "      <td>Facility C</td>\n",
              "      <td>Zone3</td>\n",
              "      <td>10</td>\n",
              "      <td>12.00</td>\n",
              "      <td>4</td>\n",
              "      <td>4</td>\n",
              "      <td>2</td>\n",
              "      <td>1.0</td>\n",
              "      <td>4.0</td>\n",
              "      <td>4.0</td>\n",
              "      <td>2.0</td>\n",
              "      <td>12.00</td>\n",
              "    </tr>\n",
              "    <tr>\n",
              "      <th>5</th>\n",
              "      <td>6</td>\n",
              "      <td>Expansion</td>\n",
              "      <td>Growth</td>\n",
              "      <td>Facility C</td>\n",
              "      <td>Zone3</td>\n",
              "      <td>15</td>\n",
              "      <td>20.00</td>\n",
              "      <td>7</td>\n",
              "      <td>8</td>\n",
              "      <td>0</td>\n",
              "      <td>1.0</td>\n",
              "      <td>7.0</td>\n",
              "      <td>8.0</td>\n",
              "      <td>0.0</td>\n",
              "      <td>20.00</td>\n",
              "    </tr>\n",
              "    <tr>\n",
              "      <th>6</th>\n",
              "      <td>7</td>\n",
              "      <td>Revamp</td>\n",
              "      <td>Growth</td>\n",
              "      <td>Facility F</td>\n",
              "      <td>Zone1</td>\n",
              "      <td>15</td>\n",
              "      <td>16.00</td>\n",
              "      <td>7</td>\n",
              "      <td>7</td>\n",
              "      <td>1</td>\n",
              "      <td>0.0</td>\n",
              "      <td>0.0</td>\n",
              "      <td>0.0</td>\n",
              "      <td>0.0</td>\n",
              "      <td>0.00</td>\n",
              "    </tr>\n",
              "    <tr>\n",
              "      <th>7</th>\n",
              "      <td>8</td>\n",
              "      <td>Piping</td>\n",
              "      <td>AssetIntegrity</td>\n",
              "      <td>Facility D</td>\n",
              "      <td>Zone4</td>\n",
              "      <td>2</td>\n",
              "      <td>5.00</td>\n",
              "      <td>1</td>\n",
              "      <td>1</td>\n",
              "      <td>0</td>\n",
              "      <td>1.0</td>\n",
              "      <td>1.0</td>\n",
              "      <td>1.0</td>\n",
              "      <td>0.0</td>\n",
              "      <td>5.00</td>\n",
              "    </tr>\n",
              "    <tr>\n",
              "      <th>8</th>\n",
              "      <td>9</td>\n",
              "      <td>Revamp at Facility E Start Yr1</td>\n",
              "      <td>Growth</td>\n",
              "      <td>Facility E</td>\n",
              "      <td>Zone5</td>\n",
              "      <td>3</td>\n",
              "      <td>4.00</td>\n",
              "      <td>2</td>\n",
              "      <td>1</td>\n",
              "      <td>0</td>\n",
              "      <td>0.0</td>\n",
              "      <td>0.0</td>\n",
              "      <td>0.0</td>\n",
              "      <td>0.0</td>\n",
              "      <td>0.00</td>\n",
              "    </tr>\n",
              "    <tr>\n",
              "      <th>9</th>\n",
              "      <td>10</td>\n",
              "      <td>Revamp at Facility E Start Yr2</td>\n",
              "      <td>Growth</td>\n",
              "      <td>Facility E</td>\n",
              "      <td>Zone5</td>\n",
              "      <td>3</td>\n",
              "      <td>3.75</td>\n",
              "      <td>0</td>\n",
              "      <td>2</td>\n",
              "      <td>1</td>\n",
              "      <td>1.0</td>\n",
              "      <td>0.0</td>\n",
              "      <td>2.0</td>\n",
              "      <td>1.0</td>\n",
              "      <td>3.75</td>\n",
              "    </tr>\n",
              "    <tr>\n",
              "      <th>10</th>\n",
              "      <td>11</td>\n",
              "      <td>Piping</td>\n",
              "      <td>AssetIntegrity</td>\n",
              "      <td>Facility H</td>\n",
              "      <td>Zone3</td>\n",
              "      <td>7</td>\n",
              "      <td>9.00</td>\n",
              "      <td>3</td>\n",
              "      <td>3</td>\n",
              "      <td>1</td>\n",
              "      <td>0.0</td>\n",
              "      <td>0.0</td>\n",
              "      <td>0.0</td>\n",
              "      <td>0.0</td>\n",
              "      <td>0.00</td>\n",
              "    </tr>\n",
              "  </tbody>\n",
              "</table>\n",
              "</div>\n",
              "      <button class=\"colab-df-convert\" onclick=\"convertToInteractive('df-73d6e19e-a038-4c91-b0e0-b848973bd41d')\"\n",
              "              title=\"Convert this dataframe to an interactive table.\"\n",
              "              style=\"display:none;\">\n",
              "        \n",
              "  <svg xmlns=\"http://www.w3.org/2000/svg\" height=\"24px\"viewBox=\"0 0 24 24\"\n",
              "       width=\"24px\">\n",
              "    <path d=\"M0 0h24v24H0V0z\" fill=\"none\"/>\n",
              "    <path d=\"M18.56 5.44l.94 2.06.94-2.06 2.06-.94-2.06-.94-.94-2.06-.94 2.06-2.06.94zm-11 1L8.5 8.5l.94-2.06 2.06-.94-2.06-.94L8.5 2.5l-.94 2.06-2.06.94zm10 10l.94 2.06.94-2.06 2.06-.94-2.06-.94-.94-2.06-.94 2.06-2.06.94z\"/><path d=\"M17.41 7.96l-1.37-1.37c-.4-.4-.92-.59-1.43-.59-.52 0-1.04.2-1.43.59L10.3 9.45l-7.72 7.72c-.78.78-.78 2.05 0 2.83L4 21.41c.39.39.9.59 1.41.59.51 0 1.02-.2 1.41-.59l7.78-7.78 2.81-2.81c.8-.78.8-2.07 0-2.86zM5.41 20L4 18.59l7.72-7.72 1.47 1.35L5.41 20z\"/>\n",
              "  </svg>\n",
              "      </button>\n",
              "      \n",
              "  <style>\n",
              "    .colab-df-container {\n",
              "      display:flex;\n",
              "      flex-wrap:wrap;\n",
              "      gap: 12px;\n",
              "    }\n",
              "\n",
              "    .colab-df-convert {\n",
              "      background-color: #E8F0FE;\n",
              "      border: none;\n",
              "      border-radius: 50%;\n",
              "      cursor: pointer;\n",
              "      display: none;\n",
              "      fill: #1967D2;\n",
              "      height: 32px;\n",
              "      padding: 0 0 0 0;\n",
              "      width: 32px;\n",
              "    }\n",
              "\n",
              "    .colab-df-convert:hover {\n",
              "      background-color: #E2EBFA;\n",
              "      box-shadow: 0px 1px 2px rgba(60, 64, 67, 0.3), 0px 1px 3px 1px rgba(60, 64, 67, 0.15);\n",
              "      fill: #174EA6;\n",
              "    }\n",
              "\n",
              "    [theme=dark] .colab-df-convert {\n",
              "      background-color: #3B4455;\n",
              "      fill: #D2E3FC;\n",
              "    }\n",
              "\n",
              "    [theme=dark] .colab-df-convert:hover {\n",
              "      background-color: #434B5C;\n",
              "      box-shadow: 0px 1px 3px 1px rgba(0, 0, 0, 0.15);\n",
              "      filter: drop-shadow(0px 1px 2px rgba(0, 0, 0, 0.3));\n",
              "      fill: #FFFFFF;\n",
              "    }\n",
              "  </style>\n",
              "\n",
              "      <script>\n",
              "        const buttonEl =\n",
              "          document.querySelector('#df-73d6e19e-a038-4c91-b0e0-b848973bd41d button.colab-df-convert');\n",
              "        buttonEl.style.display =\n",
              "          google.colab.kernel.accessAllowed ? 'block' : 'none';\n",
              "\n",
              "        async function convertToInteractive(key) {\n",
              "          const element = document.querySelector('#df-73d6e19e-a038-4c91-b0e0-b848973bd41d');\n",
              "          const dataTable =\n",
              "            await google.colab.kernel.invokeFunction('convertToInteractive',\n",
              "                                                     [key], {});\n",
              "          if (!dataTable) return;\n",
              "\n",
              "          const docLinkHtml = 'Like what you see? Visit the ' +\n",
              "            '<a target=\"_blank\" href=https://colab.research.google.com/notebooks/data_table.ipynb>data table notebook</a>'\n",
              "            + ' to learn more about interactive tables.';\n",
              "          element.innerHTML = '';\n",
              "          dataTable['output_type'] = 'display_data';\n",
              "          await google.colab.output.renderOutput(dataTable, element);\n",
              "          const docLink = document.createElement('div');\n",
              "          docLink.innerHTML = docLinkHtml;\n",
              "          element.appendChild(docLink);\n",
              "        }\n",
              "      </script>\n",
              "    </div>\n",
              "  </div>\n",
              "  "
            ]
          },
          "metadata": {},
          "execution_count": 20
        }
      ],
      "source": [
        "data"
      ]
    }
  ],
  "metadata": {
    "colab": {
      "provenance": [],
      "collapsed_sections": [],
      "authorship_tag": "ABX9TyOA0OwVE1mys24n90EYU7pk",
      "include_colab_link": true
    },
    "kernelspec": {
      "display_name": "Python 3",
      "name": "python3"
    },
    "language_info": {
      "name": "python"
    }
  },
  "nbformat": 4,
  "nbformat_minor": 0
}