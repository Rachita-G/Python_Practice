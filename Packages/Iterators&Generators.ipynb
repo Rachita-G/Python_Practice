{
  "nbformat": 4,
  "nbformat_minor": 0,
  "metadata": {
    "colab": {
      "provenance": [],
      "collapsed_sections": [],
      "authorship_tag": "ABX9TyPjKBBrfZBZJe/odvzOQOJf",
      "include_colab_link": true
    },
    "kernelspec": {
      "name": "python3",
      "display_name": "Python 3"
    },
    "language_info": {
      "name": "python"
    }
  },
  "cells": [
    {
      "cell_type": "markdown",
      "metadata": {
        "id": "view-in-github",
        "colab_type": "text"
      },
      "source": [
        "<a href=\"https://colab.research.google.com/github/Rachita-G/Python_Practice/blob/main/Packages/Iterators%26Generators.ipynb\" target=\"_parent\"><img src=\"https://colab.research.google.com/assets/colab-badge.svg\" alt=\"Open In Colab\"/></a>"
      ]
    },
    {
      "cell_type": "markdown",
      "source": [
        "# Iterators \n",
        "* Iterators are the objects that use the next() method to get the next value of the sequence. \n",
        "* Classes are used to Implement the iterators."
      ],
      "metadata": {
        "id": "LOrTAy0nlibS"
      }
    },
    {
      "cell_type": "code",
      "source": [
        "# Prints many statements at the same time\n",
        "from IPython.core.interactiveshell import InteractiveShell\n",
        "InteractiveShell.ast_node_interactivity=\"all\""
      ],
      "metadata": {
        "id": "sefIH2GqlZd_"
      },
      "execution_count": 1,
      "outputs": []
    },
    {
      "cell_type": "code",
      "execution_count": 2,
      "metadata": {
        "id": "_Fwn7zTvAovV"
      },
      "outputs": [],
      "source": [
        "nums = [9,10,3,4,12]"
      ]
    },
    {
      "cell_type": "code",
      "source": [
        "# nums to iterator\n",
        "it = iter(nums)\n",
        "print(it)"
      ],
      "metadata": {
        "colab": {
          "base_uri": "https://localhost:8080/"
        },
        "id": "phYXs51pAuI8",
        "outputId": "bda80538-6575-436b-80c3-e3c17cbf0fde"
      },
      "execution_count": 3,
      "outputs": [
        {
          "output_type": "stream",
          "name": "stdout",
          "text": [
            "<list_iterator object at 0x7f8128997710>\n"
          ]
        }
      ]
    },
    {
      "cell_type": "code",
      "source": [
        "print(it.__next__())\n",
        "print(it.__next__())"
      ],
      "metadata": {
        "colab": {
          "base_uri": "https://localhost:8080/"
        },
        "id": "nnCxh3S9A32L",
        "outputId": "cd3cd828-80da-46e4-af4b-a513a3bc6a9e"
      },
      "execution_count": 4,
      "outputs": [
        {
          "output_type": "stream",
          "name": "stdout",
          "text": [
            "9\n",
            "10\n"
          ]
        }
      ]
    },
    {
      "cell_type": "code",
      "source": [
        "print(next(it))\n",
        "print(next(it))"
      ],
      "metadata": {
        "colab": {
          "base_uri": "https://localhost:8080/"
        },
        "id": "wR258eHMA-GY",
        "outputId": "276c021b-f231-45e2-c2b2-01108d0ec662"
      },
      "execution_count": 5,
      "outputs": [
        {
          "output_type": "stream",
          "name": "stdout",
          "text": [
            "3\n",
            "4\n"
          ]
        }
      ]
    },
    {
      "cell_type": "markdown",
      "source": [
        "# Creating your own Iterator"
      ],
      "metadata": {
        "id": "OKOdFsYPBr2A"
      }
    },
    {
      "cell_type": "code",
      "source": [
        "class topten():\n",
        "  def __init__(self):\n",
        "    self.num = 1\n",
        "  def __iter__(self):\n",
        "    return self\n",
        "  def __next__(self):\n",
        "    if self.num <= 10:\n",
        "      val = self.num\n",
        "      self.num += 1\n",
        "      return val # till here infinite loop even with if condition it will give nulls\n",
        "    else:\n",
        "      raise StopIteration \n",
        "top10= topten()\n",
        "for i in top10:\n",
        "  print(i) "
      ],
      "metadata": {
        "colab": {
          "base_uri": "https://localhost:8080/"
        },
        "id": "tTw8CWh_BIQZ",
        "outputId": "9a6c8951-1216-4471-c12d-d8ee77be6aaa"
      },
      "execution_count": 6,
      "outputs": [
        {
          "output_type": "stream",
          "name": "stdout",
          "text": [
            "1\n",
            "2\n",
            "3\n",
            "4\n",
            "5\n",
            "6\n",
            "7\n",
            "8\n",
            "9\n",
            "10\n"
          ]
        }
      ]
    },
    {
      "cell_type": "markdown",
      "source": [
        "# Generators\n",
        "\n",
        "* A generator is a function that produces or yields a sequence of values using a yield statement. \n",
        "*  Functions are used to implement the generator."
      ],
      "metadata": {
        "id": "AtT5jkZmD3sY"
      }
    },
    {
      "cell_type": "code",
      "source": [
        "def top():\n",
        "  yield 1\n",
        "  yield 2\n",
        "val = top()\n",
        "print(val.__next__())\n",
        "print(val.__next__())\n",
        "# print(val.__next__()) - another next gives stopiteration error"
      ],
      "metadata": {
        "colab": {
          "base_uri": "https://localhost:8080/"
        },
        "id": "AAHb-j9QD2w5",
        "outputId": "132947e5-90a8-477a-a675-1a23b95a0ed8"
      },
      "execution_count": 9,
      "outputs": [
        {
          "output_type": "stream",
          "name": "stdout",
          "text": [
            "1\n",
            "2\n"
          ]
        }
      ]
    },
    {
      "cell_type": "code",
      "source": [
        "def top10sqrs():\n",
        "  i = 1\n",
        "  while i <= 10:\n",
        "    sq = i*i\n",
        "    yield sq\n",
        "    i +=1\n",
        "val1 = top10sqrs()\n",
        "val1"
      ],
      "metadata": {
        "colab": {
          "base_uri": "https://localhost:8080/"
        },
        "id": "8ijnjNNQEN1D",
        "outputId": "363d85ac-145e-4051-d624-83f36aefab7d"
      },
      "execution_count": 14,
      "outputs": [
        {
          "output_type": "execute_result",
          "data": {
            "text/plain": [
              "<generator object top10sqrs at 0x7f812cc18450>"
            ]
          },
          "metadata": {},
          "execution_count": 14
        }
      ]
    },
    {
      "cell_type": "code",
      "source": [
        "for i in val1:\n",
        "  print(i)"
      ],
      "metadata": {
        "id": "NotAFMSLCbxo",
        "colab": {
          "base_uri": "https://localhost:8080/"
        },
        "outputId": "f24ed894-4cb3-42b8-eeac-f65974762711"
      },
      "execution_count": 15,
      "outputs": [
        {
          "output_type": "stream",
          "name": "stdout",
          "text": [
            "1\n",
            "4\n",
            "9\n",
            "16\n",
            "25\n",
            "36\n",
            "49\n",
            "64\n",
            "81\n",
            "100\n"
          ]
        }
      ]
    },
    {
      "cell_type": "code",
      "source": [],
      "metadata": {
        "id": "jF7s3PklE4zM"
      },
      "execution_count": null,
      "outputs": []
    }
  ]
}