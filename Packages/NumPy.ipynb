{
  "cells": [
    {
      "cell_type": "markdown",
      "metadata": {
        "id": "view-in-github",
        "colab_type": "text"
      },
      "source": [
        "<a href=\"https://colab.research.google.com/github/Rachita-G/Python_Practice/blob/main/Packages/NumPy.ipynb\" target=\"_parent\"><img src=\"https://colab.research.google.com/assets/colab-badge.svg\" alt=\"Open In Colab\"/></a>"
      ]
    },
    {
      "cell_type": "markdown",
      "metadata": {
        "id": "GyS5_bEwE2Xq"
      },
      "source": [
        "# Introduction to NumPy \n",
        "\n",
        "NumPy (or Numpy) is a Linear Algebra Library for Python, the reason it is so important for Data Science with Python is that almost all of the libraries in the PyData Ecosystem rely on NumPy as one of their main building blocks.\n",
        "\n",
        "Numpy is also incredibly fast, as it has bindings to C libraries. For more info on why you would want to use Arrays instead of lists, check out this great [StackOverflow post](http://stackoverflow.com/questions/993984/why-numpy-instead-of-python-lists).\n"
      ]
    },
    {
      "cell_type": "markdown",
      "metadata": {
        "id": "l3eU7pmeE2Xs"
      },
      "source": [
        "# Using NumPy\n",
        "\n",
        "Once you've installed NumPy you can import it as a library:"
      ]
    },
    {
      "cell_type": "code",
      "execution_count": 3,
      "metadata": {
        "id": "zwJgReAoE2Xt"
      },
      "outputs": [],
      "source": [
        "import numpy as np"
      ]
    },
    {
      "cell_type": "markdown",
      "metadata": {
        "id": "EnsNuoGtE2Xt"
      },
      "source": [
        "Numpy has many built-in functions and capabilities. We won't cover them all but instead we will focus on some of the most important aspects of Numpy: vectors,arrays,matrices, and number generation. Let's start by discussing arrays.\n",
        "\n",
        "# Introduction to Arrays\n",
        "\n",
        "NumPy arrays are the main way we will use Numpy throughout the course. Numpy arrays essentially come in two flavors: vectors and matrices. Vectors are strictly 1-d arrays and matrices are 2-d (but you should note a matrix can still have only one row or one column).\n",
        "\n",
        "Let's begin our introduction by exploring how to create NumPy arrays.\n",
        "\n",
        "## Creating NumPy Arrays\n",
        "\n",
        "### From a Python List\n",
        "\n",
        "We can create an array by directly converting a list or list of lists:"
      ]
    },
    {
      "cell_type": "code",
      "source": [
        "# Prints many statements at the same time\n",
        "from IPython.core.interactiveshell import InteractiveShell\n",
        "InteractiveShell.ast_node_interactivity=\"all\""
      ],
      "metadata": {
        "id": "hInC_eUPFKE7"
      },
      "execution_count": 4,
      "outputs": []
    },
    {
      "cell_type": "code",
      "execution_count": 5,
      "metadata": {
        "colab": {
          "base_uri": "https://localhost:8080/"
        },
        "id": "vJz_wq-uE2Xu",
        "outputId": "b5bb86a2-2dfa-4544-e09b-8adaaa34cda4"
      },
      "outputs": [
        {
          "output_type": "execute_result",
          "data": {
            "text/plain": [
              "array([1, 2, 3])"
            ]
          },
          "metadata": {},
          "execution_count": 5
        },
        {
          "output_type": "execute_result",
          "data": {
            "text/plain": [
              "array([1., 2., 3.])"
            ]
          },
          "metadata": {},
          "execution_count": 5
        },
        {
          "output_type": "execute_result",
          "data": {
            "text/plain": [
              "array([[1, 2],\n",
              "       [3, 4]])"
            ]
          },
          "metadata": {},
          "execution_count": 5
        }
      ],
      "source": [
        "# Creating an array\n",
        "np.array([1,2,3])\n",
        "np.array([1,2,3], dtype = float)\n",
        "np.array([(1,2),(3,4)])"
      ]
    },
    {
      "cell_type": "code",
      "source": [
        "x = np.array([(1,2,3),(3,4,5)])\n",
        "print(type(x)) \n",
        "print(len(x)) # length of the array\n",
        "print(x.shape)\n",
        "print(x.ndim) # no of array dimensions - 1d/2d/3d etc.\n",
        "print(x.size) # no of array elements\n",
        "print(x.dtype) # dtype of array elements\n",
        "print(x.astype(float)) # changing the dtype"
      ],
      "metadata": {
        "colab": {
          "base_uri": "https://localhost:8080/"
        },
        "id": "Q0DoSuRlMhV2",
        "outputId": "7647a0e1-ef7e-480f-ac15-e84e0d46ec32"
      },
      "execution_count": 26,
      "outputs": [
        {
          "output_type": "stream",
          "name": "stdout",
          "text": [
            "<class 'numpy.ndarray'>\n",
            "2\n",
            "(2, 3)\n",
            "2\n",
            "6\n",
            "int64\n",
            "[[1. 2. 3.]\n",
            " [3. 4. 5.]]\n"
          ]
        }
      ]
    },
    {
      "cell_type": "code",
      "source": [
        "# Data Types - https://numpy.org/devdocs/release/1.20.0-notes.html#deprecations\n",
        "np.int_(9.0), np.float_(8), np.bool_(0), np.complex_(4), np.str_(5), np.unicode_(90)"
      ],
      "metadata": {
        "colab": {
          "base_uri": "https://localhost:8080/"
        },
        "id": "jXfhMzZuM885",
        "outputId": "6140c434-47e0-46f8-db1b-b99f9f4520ae"
      },
      "execution_count": 43,
      "outputs": [
        {
          "output_type": "execute_result",
          "data": {
            "text/plain": [
              "(9, 8.0, False, (4+0j), '5', '90')"
            ]
          },
          "metadata": {},
          "execution_count": 43
        }
      ]
    },
    {
      "cell_type": "code",
      "source": [
        "np.info(np.ndarray.dtype)"
      ],
      "metadata": {
        "colab": {
          "base_uri": "https://localhost:8080/"
        },
        "id": "A85pX8FCL8b9",
        "outputId": "eccf5633-cc6d-4bdc-82a0-6ffe6194c845"
      },
      "execution_count": 18,
      "outputs": [
        {
          "output_type": "stream",
          "name": "stdout",
          "text": [
            "Data-type of the array's elements.\n",
            "\n",
            "Parameters\n",
            "----------\n",
            "None\n",
            "\n",
            "Returns\n",
            "-------\n",
            "d : numpy dtype object\n",
            "\n",
            "See Also\n",
            "--------\n",
            "numpy.dtype\n",
            "\n",
            "Examples\n",
            "--------\n",
            ">>> x\n",
            "array([[0, 1],\n",
            "       [2, 3]])\n",
            ">>> x.dtype\n",
            "dtype('int32')\n",
            ">>> type(x.dtype)\n",
            "<type 'numpy.dtype'>\n"
          ]
        }
      ]
    },
    {
      "cell_type": "code",
      "source": [
        "#To get a copy, need to be explicit\n",
        "arr_copy = x.copy()\n",
        "arr_copy"
      ],
      "metadata": {
        "colab": {
          "base_uri": "https://localhost:8080/"
        },
        "id": "5I4VEd3ufZUe",
        "outputId": "55a9e03c-8461-4f16-d097-93b205529460"
      },
      "execution_count": 188,
      "outputs": [
        {
          "output_type": "execute_result",
          "data": {
            "text/plain": [
              "array([[1, 2, 3],\n",
              "       [3, 4, 5]])"
            ]
          },
          "metadata": {},
          "execution_count": 188
        }
      ]
    },
    {
      "cell_type": "markdown",
      "source": [
        "# Initial Placeholders"
      ],
      "metadata": {
        "id": "ZHGQsGKNeFG6"
      }
    },
    {
      "cell_type": "code",
      "execution_count": null,
      "metadata": {
        "id": "XNjaTPBbE2Xw",
        "outputId": "ec5c7a91-3a4f-43cf-b3e3-c722129d4fb0"
      },
      "outputs": [
        {
          "data": {
            "text/plain": [
              "array([ 0.,  0.,  0.])"
            ]
          },
          "execution_count": 24,
          "metadata": {},
          "output_type": "execute_result"
        }
      ],
      "source": [
        "np.zeros(3)"
      ]
    },
    {
      "cell_type": "code",
      "execution_count": null,
      "metadata": {
        "id": "dubx6C1sE2Xw",
        "outputId": "d15748eb-3d94-4764-dbff-f31610cfa5ed"
      },
      "outputs": [
        {
          "data": {
            "text/plain": [
              "array([[ 0.,  0.,  0.,  0.,  0.],\n",
              "       [ 0.,  0.,  0.,  0.,  0.],\n",
              "       [ 0.,  0.,  0.,  0.,  0.],\n",
              "       [ 0.,  0.,  0.,  0.,  0.],\n",
              "       [ 0.,  0.,  0.,  0.,  0.]])"
            ]
          },
          "execution_count": 26,
          "metadata": {},
          "output_type": "execute_result"
        }
      ],
      "source": [
        "np.zeros((5,5))"
      ]
    },
    {
      "cell_type": "code",
      "execution_count": null,
      "metadata": {
        "id": "TGStdntfE2Xw",
        "outputId": "f686e606-e371-4c06-b2e2-2feb38a861d4"
      },
      "outputs": [
        {
          "data": {
            "text/plain": [
              "array([ 1.,  1.,  1.])"
            ]
          },
          "execution_count": 27,
          "metadata": {},
          "output_type": "execute_result"
        }
      ],
      "source": [
        "np.ones(3)"
      ]
    },
    {
      "cell_type": "code",
      "execution_count": null,
      "metadata": {
        "id": "tU6LAvGqE2Xw",
        "outputId": "3d4255da-a623-4868-c4fa-e1eaea0d0477"
      },
      "outputs": [
        {
          "data": {
            "text/plain": [
              "array([[ 1.,  1.,  1.],\n",
              "       [ 1.,  1.,  1.],\n",
              "       [ 1.,  1.,  1.]])"
            ]
          },
          "execution_count": 28,
          "metadata": {},
          "output_type": "execute_result"
        }
      ],
      "source": [
        "np.ones((3,3))"
      ]
    },
    {
      "cell_type": "code",
      "execution_count": null,
      "metadata": {
        "id": "b2_vOq9eE2Xw",
        "outputId": "ea64fb43-0f4e-4577-dcee-767c7a8d9728"
      },
      "outputs": [
        {
          "data": {
            "text/plain": [
              "array([[7, 7],\n",
              "       [7, 7]])"
            ]
          },
          "execution_count": 4,
          "metadata": {},
          "output_type": "execute_result"
        }
      ],
      "source": [
        "np.full((2,2),7) # fill 7 in 2x2 dimenstional array. called constant array"
      ]
    },
    {
      "cell_type": "code",
      "execution_count": null,
      "metadata": {
        "id": "u56YQ4DOE2Xx",
        "outputId": "586099b3-f908-456d-abd7-2d8ec3dfe23b"
      },
      "outputs": [
        {
          "data": {
            "text/plain": [
              "array([[ 1.,  0.,  0.,  0.],\n",
              "       [ 0.,  1.,  0.,  0.],\n",
              "       [ 0.,  0.,  1.,  0.],\n",
              "       [ 0.,  0.,  0.,  1.]])"
            ]
          },
          "execution_count": 37,
          "metadata": {},
          "output_type": "execute_result"
        }
      ],
      "source": [
        "np.eye(4) # identity matrix"
      ]
    },
    {
      "cell_type": "code",
      "execution_count": null,
      "metadata": {
        "id": "3ZHWeSdWE2Xx",
        "outputId": "fc6ec0a9-d4b8-4222-f61d-021e23bccd9b"
      },
      "outputs": [
        {
          "data": {
            "text/plain": [
              "array([[1., 0., 0.],\n",
              "       [0., 1., 0.],\n",
              "       [0., 0., 1.]])"
            ]
          },
          "execution_count": 6,
          "metadata": {},
          "output_type": "execute_result"
        }
      ],
      "source": [
        "np.identity(3)"
      ]
    },
    {
      "cell_type": "code",
      "execution_count": null,
      "metadata": {
        "id": "ljZE49DOE2Xx",
        "outputId": "13133850-8cbd-4787-8d74-db8374c624a3"
      },
      "outputs": [
        {
          "data": {
            "text/plain": [
              "2"
            ]
          },
          "execution_count": 10,
          "metadata": {},
          "output_type": "execute_result"
        }
      ],
      "source": [
        "np.identity(6).ndim # means 2 dimensional"
      ]
    },
    {
      "cell_type": "code",
      "execution_count": 9,
      "metadata": {
        "colab": {
          "base_uri": "https://localhost:8080/"
        },
        "id": "wWPx-t76E2Xv",
        "outputId": "f36858ba-171c-418b-cc9f-49e95d61f28c"
      },
      "outputs": [
        {
          "output_type": "execute_result",
          "data": {
            "text/plain": [
              "array([0, 1, 2, 3, 4, 5, 6, 7, 8, 9])"
            ]
          },
          "metadata": {},
          "execution_count": 9
        },
        {
          "output_type": "stream",
          "name": "stdout",
          "text": [
            "\n",
            "\n"
          ]
        },
        {
          "output_type": "execute_result",
          "data": {
            "text/plain": [
              "array([0, 3, 6, 9])"
            ]
          },
          "metadata": {},
          "execution_count": 9
        }
      ],
      "source": [
        "np.arange(0,10) # Return evenly spaced values within a given interval.\n",
        "print('\\n')\n",
        "np.arange(0,10,3) #strt,end,step as parameters"
      ]
    },
    {
      "cell_type": "code",
      "execution_count": 10,
      "metadata": {
        "colab": {
          "base_uri": "https://localhost:8080/"
        },
        "id": "ASWXe1FpE2Xx",
        "outputId": "9caab1b8-1fbf-4e93-947d-64aa2efee98d"
      },
      "outputs": [
        {
          "output_type": "execute_result",
          "data": {
            "text/plain": [
              "array([ 0.,  5., 10.])"
            ]
          },
          "metadata": {},
          "execution_count": 10
        }
      ],
      "source": [
        "np.linspace(0,10,3) #Return evenly spaced numbers over a specified interval."
      ]
    },
    {
      "cell_type": "code",
      "execution_count": 11,
      "metadata": {
        "colab": {
          "base_uri": "https://localhost:8080/"
        },
        "id": "8fV9tnT2E2Xx",
        "outputId": "144c8dba-e7ce-4499-d659-1d9787a86dfe"
      },
      "outputs": [
        {
          "output_type": "execute_result",
          "data": {
            "text/plain": [
              "array([ 0.        ,  0.20408163,  0.40816327,  0.6122449 ,  0.81632653,\n",
              "        1.02040816,  1.2244898 ,  1.42857143,  1.63265306,  1.83673469,\n",
              "        2.04081633,  2.24489796,  2.44897959,  2.65306122,  2.85714286,\n",
              "        3.06122449,  3.26530612,  3.46938776,  3.67346939,  3.87755102,\n",
              "        4.08163265,  4.28571429,  4.48979592,  4.69387755,  4.89795918,\n",
              "        5.10204082,  5.30612245,  5.51020408,  5.71428571,  5.91836735,\n",
              "        6.12244898,  6.32653061,  6.53061224,  6.73469388,  6.93877551,\n",
              "        7.14285714,  7.34693878,  7.55102041,  7.75510204,  7.95918367,\n",
              "        8.16326531,  8.36734694,  8.57142857,  8.7755102 ,  8.97959184,\n",
              "        9.18367347,  9.3877551 ,  9.59183673,  9.79591837, 10.        ])"
            ]
          },
          "metadata": {},
          "execution_count": 11
        }
      ],
      "source": [
        "np.linspace(0,10,50)"
      ]
    },
    {
      "cell_type": "code",
      "execution_count": 12,
      "metadata": {
        "id": "k_N0-AWhE2Xy",
        "outputId": "e4ef9a4e-48d7-4ab5-d4fb-8ac4639aba93",
        "colab": {
          "base_uri": "https://localhost:8080/"
        }
      },
      "outputs": [
        {
          "output_type": "execute_result",
          "data": {
            "text/plain": [
              "array([[0.55836482, 0.96681642],\n",
              "       [0.782343  , 0.3752343 ]])"
            ]
          },
          "metadata": {},
          "execution_count": 12
        }
      ],
      "source": [
        "np.random.random((2,2)) # Create random number arrays - 2x2 array of random numbers"
      ]
    },
    {
      "cell_type": "code",
      "source": [
        "np.empty((2,2)) # Return a new array of given shape and type, without initializing entries."
      ],
      "metadata": {
        "colab": {
          "base_uri": "https://localhost:8080/"
        },
        "id": "tLB8fL1ZGCWk",
        "outputId": "f6e858e8-5ca2-47b0-c44c-ed07009c5674"
      },
      "execution_count": 13,
      "outputs": [
        {
          "output_type": "execute_result",
          "data": {
            "text/plain": [
              "array([[0.55836482, 0.96681642],\n",
              "       [0.782343  , 0.3752343 ]])"
            ]
          },
          "metadata": {},
          "execution_count": 13
        }
      ]
    },
    {
      "cell_type": "code",
      "execution_count": 57,
      "metadata": {
        "colab": {
          "base_uri": "https://localhost:8080/"
        },
        "id": "biRdINbIE2X1",
        "outputId": "0d4c0c0c-535c-49c3-8bbb-e7ab62c5982f"
      },
      "outputs": [
        {
          "output_type": "execute_result",
          "data": {
            "text/plain": [
              "array([0, 1, 2, 0, 1, 2])"
            ]
          },
          "metadata": {},
          "execution_count": 57
        },
        {
          "output_type": "execute_result",
          "data": {
            "text/plain": [
              "array([[3, 4, 5, 3, 4, 5],\n",
              "       [3, 4, 5, 3, 4, 5]])"
            ]
          },
          "metadata": {},
          "execution_count": 57
        },
        {
          "output_type": "execute_result",
          "data": {
            "text/plain": [
              "array([[0, 1, 0, 1],\n",
              "       [2, 3, 2, 3],\n",
              "       [0, 1, 0, 1],\n",
              "       [2, 3, 2, 3]])"
            ]
          },
          "metadata": {},
          "execution_count": 57
        }
      ],
      "source": [
        "np.tile(np.array([0,1,2]),2)\n",
        "np.tile(np.array([3,4,5]),(2,2))\n",
        "np.tile(np.array([(0,1),(2,3)]),(2,2))"
      ]
    },
    {
      "cell_type": "code",
      "execution_count": null,
      "metadata": {
        "colab": {
          "base_uri": "https://localhost:8080/"
        },
        "id": "s2h5HY53E2X2",
        "outputId": "ad4f8f4a-5aef-4e3e-efb4-42ccede763cc"
      },
      "outputs": [
        {
          "output_type": "execute_result",
          "data": {
            "text/plain": [
              "array([4607182418800017408, 4611686018427387904, 4613937818241073152])"
            ]
          },
          "metadata": {},
          "execution_count": 96
        }
      ],
      "source": [
        "np.empty_like(np.array([1,2,3])) # matrix with same shape as arr"
      ]
    },
    {
      "cell_type": "markdown",
      "source": [
        "# Matrix using array"
      ],
      "metadata": {
        "id": "CIEyWtp8gFjC"
      }
    },
    {
      "cell_type": "code",
      "source": [
        "l=[[1,2],[3,4]]\n",
        "l"
      ],
      "metadata": {
        "id": "r77WAQUtgEne"
      },
      "execution_count": null,
      "outputs": []
    },
    {
      "cell_type": "code",
      "source": [
        "a=np.array([[1,2],[3,4]])\n",
        "a # formatted as a matrix"
      ],
      "metadata": {
        "colab": {
          "base_uri": "https://localhost:8080/"
        },
        "id": "hMWCmpy_gEqN",
        "outputId": "659c61ab-4f90-495b-f05e-26a29fe02fc0"
      },
      "execution_count": 193,
      "outputs": [
        {
          "output_type": "execute_result",
          "data": {
            "text/plain": [
              "array([[1, 2],\n",
              "       [3, 4]])"
            ]
          },
          "metadata": {},
          "execution_count": 193
        }
      ]
    },
    {
      "cell_type": "code",
      "source": [
        "np.linalg.det(a) # determninant"
      ],
      "metadata": {
        "colab": {
          "base_uri": "https://localhost:8080/"
        },
        "id": "i_Oq7K6igXmu",
        "outputId": "35f8ee15-71aa-4917-c59c-836d00608f0d"
      },
      "execution_count": 195,
      "outputs": [
        {
          "output_type": "execute_result",
          "data": {
            "text/plain": [
              "-2.0000000000000004"
            ]
          },
          "metadata": {},
          "execution_count": 195
        }
      ]
    },
    {
      "cell_type": "code",
      "source": [
        "np.linalg.inv(a) "
      ],
      "metadata": {
        "colab": {
          "base_uri": "https://localhost:8080/"
        },
        "id": "KhnsPF51gXjD",
        "outputId": "06ce57d1-0fbe-4b1b-8103-985970144717"
      },
      "execution_count": 196,
      "outputs": [
        {
          "output_type": "execute_result",
          "data": {
            "text/plain": [
              "array([[-2. ,  1. ],\n",
              "       [ 1.5, -0.5]])"
            ]
          },
          "metadata": {},
          "execution_count": 196
        }
      ]
    },
    {
      "cell_type": "code",
      "source": [
        "np.trace(a) # sum of diagonal elements"
      ],
      "metadata": {
        "colab": {
          "base_uri": "https://localhost:8080/"
        },
        "id": "DG-Y89oOgXf2",
        "outputId": "bed29e80-ef76-4eac-a001-191168b5a2ee"
      },
      "execution_count": 197,
      "outputs": [
        {
          "output_type": "execute_result",
          "data": {
            "text/plain": [
              "5"
            ]
          },
          "metadata": {},
          "execution_count": 197
        }
      ]
    },
    {
      "cell_type": "code",
      "source": [
        "np.diag(a) # vector consisting of the diagonal elts of a"
      ],
      "metadata": {
        "colab": {
          "base_uri": "https://localhost:8080/"
        },
        "id": "c8w4qhJ8gXcu",
        "outputId": "cd9433ad-6718-4ad5-81fd-a57698526469"
      },
      "execution_count": 198,
      "outputs": [
        {
          "output_type": "execute_result",
          "data": {
            "text/plain": [
              "array([1, 4])"
            ]
          },
          "metadata": {},
          "execution_count": 198
        }
      ]
    },
    {
      "cell_type": "code",
      "source": [
        "np.diag([1,2]) # when passed list returns a diagonal matrix"
      ],
      "metadata": {
        "colab": {
          "base_uri": "https://localhost:8080/"
        },
        "id": "QTHN7oPrgXZt",
        "outputId": "2373fba1-6f43-4d42-a15e-8f4682216d3f"
      },
      "execution_count": 199,
      "outputs": [
        {
          "output_type": "execute_result",
          "data": {
            "text/plain": [
              "array([[1, 0],\n",
              "       [0, 2]])"
            ]
          },
          "metadata": {},
          "execution_count": 199
        }
      ]
    },
    {
      "cell_type": "code",
      "source": [
        "np.linalg.eig(a)"
      ],
      "metadata": {
        "colab": {
          "base_uri": "https://localhost:8080/"
        },
        "id": "rNpH505vgpP8",
        "outputId": "cb451499-2d28-4555-89d8-5bae78ed8e09"
      },
      "execution_count": 200,
      "outputs": [
        {
          "output_type": "execute_result",
          "data": {
            "text/plain": [
              "(array([-0.37228132,  5.37228132]), array([[-0.82456484, -0.41597356],\n",
              "        [ 0.56576746, -0.90937671]]))"
            ]
          },
          "metadata": {},
          "execution_count": 200
        }
      ]
    },
    {
      "cell_type": "code",
      "source": [
        "lam,v=np.linalg.eig(a)\n",
        "lam[0]*v[:,0]==a@v[:,0]\n",
        "lam[0]*v[:,0],a@v[:,0] # thus, it can be said it is due to numerivcal precision- thus, needed to be rounded off\n",
        "np.allclose(lam[0]*v[:,0],a@v[:,0])\n",
        "np.allclose(v@np.diag(lam),a@v)"
      ],
      "metadata": {
        "colab": {
          "base_uri": "https://localhost:8080/"
        },
        "id": "CW3S7qasgpMG",
        "outputId": "ab6c1e11-157f-478c-e068-d1ea0ead557b"
      },
      "execution_count": 201,
      "outputs": [
        {
          "output_type": "execute_result",
          "data": {
            "text/plain": [
              "array([ True, False])"
            ]
          },
          "metadata": {},
          "execution_count": 201
        },
        {
          "output_type": "execute_result",
          "data": {
            "text/plain": [
              "(array([ 0.30697009, -0.21062466]), array([ 0.30697009, -0.21062466]))"
            ]
          },
          "metadata": {},
          "execution_count": 201
        },
        {
          "output_type": "execute_result",
          "data": {
            "text/plain": [
              "True"
            ]
          },
          "metadata": {},
          "execution_count": 201
        },
        {
          "output_type": "execute_result",
          "data": {
            "text/plain": [
              "True"
            ]
          },
          "metadata": {},
          "execution_count": 201
        }
      ]
    },
    {
      "cell_type": "markdown",
      "source": [
        "# Arrays of random values"
      ],
      "metadata": {
        "id": "wBnFpUMsbHmx"
      }
    },
    {
      "cell_type": "code",
      "execution_count": 69,
      "metadata": {
        "id": "q1fWihR_E2Xy",
        "outputId": "588543fb-62c7-4441-be44-e4bef086d356",
        "colab": {
          "base_uri": "https://localhost:8080/"
        }
      },
      "outputs": [
        {
          "output_type": "execute_result",
          "data": {
            "text/plain": [
              "33"
            ]
          },
          "metadata": {},
          "execution_count": 69
        }
      ],
      "source": [
        "np.random.randint(1,100) # Return random integers from low (inclusive) to high (exclusive)."
      ]
    },
    {
      "cell_type": "code",
      "execution_count": 70,
      "metadata": {
        "id": "lhcZSr2QE2Xz",
        "outputId": "e2615423-f87d-44a4-ff7a-2e21a473f0ca",
        "colab": {
          "base_uri": "https://localhost:8080/"
        }
      },
      "outputs": [
        {
          "output_type": "execute_result",
          "data": {
            "text/plain": [
              "array([13, 34, 76, 80, 20, 54, 93, 34, 61, 36])"
            ]
          },
          "metadata": {},
          "execution_count": 70
        }
      ],
      "source": [
        "np.random.randint(1,100,10) # 10 random integer numbers between 1 and 100"
      ]
    },
    {
      "cell_type": "code",
      "source": [
        "np.random.choice(10,size=(3,3)) # random matrix of size (3,3) with numbers between 0 and 10"
      ],
      "metadata": {
        "colab": {
          "base_uri": "https://localhost:8080/"
        },
        "id": "Vzj9egqgfAMZ",
        "outputId": "ed4b3a38-780e-4d56-c8cf-7feac3389e2e"
      },
      "execution_count": 181,
      "outputs": [
        {
          "output_type": "execute_result",
          "data": {
            "text/plain": [
              "array([[9, 1, 8],\n",
              "       [6, 5, 1],\n",
              "       [5, 3, 1]])"
            ]
          },
          "metadata": {},
          "execution_count": 181
        }
      ]
    },
    {
      "cell_type": "code",
      "source": [
        "np.random.choice(10,size=(3,3),replace=False) # replace is for with and without replacement used in boostrapping"
      ],
      "metadata": {
        "colab": {
          "base_uri": "https://localhost:8080/"
        },
        "id": "OLAIo0xZfAJh",
        "outputId": "cf8a5c7e-6fc2-4d3b-bdb6-466d8fe059af"
      },
      "execution_count": 182,
      "outputs": [
        {
          "output_type": "execute_result",
          "data": {
            "text/plain": [
              "array([[1, 2, 4],\n",
              "       [5, 0, 7],\n",
              "       [9, 3, 6]])"
            ]
          },
          "metadata": {},
          "execution_count": 182
        }
      ]
    },
    {
      "cell_type": "code",
      "execution_count": 66,
      "metadata": {
        "id": "9bHFgFH_E2Xy",
        "outputId": "5e3a5545-c086-4a47-81ac-9a7b201f5343",
        "colab": {
          "base_uri": "https://localhost:8080/"
        }
      },
      "outputs": [
        {
          "output_type": "stream",
          "name": "stdout",
          "text": [
            "[0.95788114 0.84315532]\n",
            "[[0.44452061 0.95768404 0.88787612]\n",
            " [0.11567825 0.11224311 0.61727473]]\n"
          ]
        }
      ],
      "source": [
        "# Create an array of the given shape and \n",
        "# populate it with random samples from a uniform distribution over [0, 1)\n",
        "print(np.random.rand(2))\n",
        "print(np.random.rand(2,3))"
      ]
    },
    {
      "cell_type": "code",
      "execution_count": 176,
      "metadata": {
        "id": "aktUjrOME2Xy",
        "outputId": "276ddf26-87b4-4beb-a431-e801493439ad",
        "colab": {
          "base_uri": "https://localhost:8080/"
        }
      },
      "outputs": [
        {
          "output_type": "execute_result",
          "data": {
            "text/plain": [
              "(array([1.94207537, 1.10024894]), 1.5211621563092799, 0.17716793681637932)"
            ]
          },
          "metadata": {},
          "execution_count": 176
        }
      ],
      "source": [
        "std = np.random.randn(2) # Return a sample (or samples) from the \"standard normal\" distribution. Unlike rand which is uniform\n",
        "std.view(), std.mean(), std.var() # or np.mean(std), np.var(std), np.std(std)"
      ]
    },
    {
      "cell_type": "code",
      "execution_count": 68,
      "metadata": {
        "id": "ER4jcR29E2Xy",
        "outputId": "3984423c-3c13-4e58-9327-cd896051099f",
        "colab": {
          "base_uri": "https://localhost:8080/"
        }
      },
      "outputs": [
        {
          "output_type": "execute_result",
          "data": {
            "text/plain": [
              "array([[-0.37830033, -0.15656082,  0.0932262 ,  0.90790788, -0.40073914],\n",
              "       [-0.01542839, -0.27408577,  0.01012698, -0.60336826, -0.277178  ],\n",
              "       [-0.62235688,  0.57743018, -0.51711569,  1.50658584,  1.04737994],\n",
              "       [ 2.22864683,  0.69751251,  0.80824587, -0.80695201, -1.15828629],\n",
              "       [-0.19186089,  0.50278498, -0.78393915, -1.67212217,  0.60674666]])"
            ]
          },
          "metadata": {},
          "execution_count": 68
        }
      ],
      "source": [
        "np.random.randn(5,5)"
      ]
    },
    {
      "cell_type": "code",
      "execution_count": 71,
      "metadata": {
        "id": "dknLJSrdE2Xz",
        "outputId": "cf9b266f-cf14-490d-9866-8a88a3fca1c8",
        "colab": {
          "base_uri": "https://localhost:8080/"
        }
      },
      "outputs": [
        {
          "output_type": "execute_result",
          "data": {
            "text/plain": [
              "array([[-0.09031338,  0.23992564, -0.99119996],\n",
              "       [ 1.40739132,  0.3037085 ,  0.79106482],\n",
              "       [-0.17497173,  0.14904933, -2.27400657]])"
            ]
          },
          "metadata": {},
          "execution_count": 71
        }
      ],
      "source": [
        "np.random.normal(size=(3,3)) # random number generation from normal distribution"
      ]
    },
    {
      "cell_type": "markdown",
      "source": [
        "# Array Manipulation"
      ],
      "metadata": {
        "id": "NdnOZCOOSjuN"
      }
    },
    {
      "cell_type": "code",
      "source": [
        "# Transpose\n",
        "np.transpose([(1,2),(3,4)])\n",
        "print('\\n')\n",
        "np.array([(1,2),(3,4)]).T # Another way"
      ],
      "metadata": {
        "colab": {
          "base_uri": "https://localhost:8080/"
        },
        "id": "dw8BfO9-GTm2",
        "outputId": "2595ccc1-4f0e-4212-d748-b73f31da0e82"
      },
      "execution_count": null,
      "outputs": [
        {
          "output_type": "execute_result",
          "data": {
            "text/plain": [
              "array([[1, 3],\n",
              "       [2, 4]])"
            ]
          },
          "metadata": {},
          "execution_count": 16
        },
        {
          "output_type": "stream",
          "name": "stdout",
          "text": [
            "\n",
            "\n"
          ]
        },
        {
          "output_type": "execute_result",
          "data": {
            "text/plain": [
              "array([[1, 3],\n",
              "       [2, 4]])"
            ]
          },
          "metadata": {},
          "execution_count": 16
        }
      ]
    },
    {
      "cell_type": "code",
      "source": [
        "np.array([(1,2),(3,4)]).ravel() # flattens the array"
      ],
      "metadata": {
        "colab": {
          "base_uri": "https://localhost:8080/"
        },
        "id": "kFKOsU_tGoJK",
        "outputId": "3d5471df-a66c-4b3e-d085-9f6f8620d37a"
      },
      "execution_count": null,
      "outputs": [
        {
          "output_type": "execute_result",
          "data": {
            "text/plain": [
              "array([1, 2, 3, 4])"
            ]
          },
          "metadata": {},
          "execution_count": 32
        }
      ]
    },
    {
      "cell_type": "code",
      "source": [
        "np.array([1,2,3,4,5,6]).reshape(2,3) # reshape the array"
      ],
      "metadata": {
        "colab": {
          "base_uri": "https://localhost:8080/"
        },
        "id": "Gz_rkbPbGoLj",
        "outputId": "e8f1c47b-2d9d-4553-c24a-0e4828d0da92"
      },
      "execution_count": 79,
      "outputs": [
        {
          "output_type": "execute_result",
          "data": {
            "text/plain": [
              "array([[1, 2, 3],\n",
              "       [4, 5, 6]])"
            ]
          },
          "metadata": {},
          "execution_count": 79
        },
        {
          "output_type": "execute_result",
          "data": {
            "text/plain": [
              "array([[2, 3],\n",
              "       [4, 7]])"
            ]
          },
          "metadata": {},
          "execution_count": 79
        }
      ]
    },
    {
      "cell_type": "code",
      "source": [
        "a = np.array([(1,2),(3,4)])\n",
        "a.resize(2,3) # returns a new array with different shape\n",
        "a \n",
        "print('\\n')\n",
        "np.insert(a,1,4) # position and number - flattens the array\n",
        "print('\\n')\n",
        "np.append(a,a) # append items to an array - flattens the array\n",
        "print('\\n')\n",
        "np.delete(a, [1]) # delete items from an array based on position"
      ],
      "metadata": {
        "colab": {
          "base_uri": "https://localhost:8080/"
        },
        "id": "zxwZs8AqHaMg",
        "outputId": "c44bd6f8-21d9-4250-cbda-1eaaa70738ab"
      },
      "execution_count": 44,
      "outputs": [
        {
          "output_type": "execute_result",
          "data": {
            "text/plain": [
              "array([[1, 2, 3],\n",
              "       [4, 0, 0]])"
            ]
          },
          "metadata": {},
          "execution_count": 44
        },
        {
          "output_type": "stream",
          "name": "stdout",
          "text": [
            "\n",
            "\n"
          ]
        },
        {
          "output_type": "execute_result",
          "data": {
            "text/plain": [
              "array([1, 4, 2, 3, 4, 0, 0])"
            ]
          },
          "metadata": {},
          "execution_count": 44
        },
        {
          "output_type": "stream",
          "name": "stdout",
          "text": [
            "\n",
            "\n"
          ]
        },
        {
          "output_type": "execute_result",
          "data": {
            "text/plain": [
              "array([1, 2, 3, 4, 0, 0, 1, 2, 3, 4, 0, 0])"
            ]
          },
          "metadata": {},
          "execution_count": 44
        },
        {
          "output_type": "stream",
          "name": "stdout",
          "text": [
            "\n",
            "\n"
          ]
        },
        {
          "output_type": "execute_result",
          "data": {
            "text/plain": [
              "array([1, 3, 4, 0, 0])"
            ]
          },
          "metadata": {},
          "execution_count": 44
        }
      ]
    },
    {
      "cell_type": "code",
      "source": [
        "a = np.array([(1,2),(3,4)])\n",
        "b = np.array([(0,7), (8,9)])\n",
        "np.vstack((a,b)) # or np.row_stack((a,b)), np.concatenate((a,b), axis = 0), np.r_[a,b]\n",
        "print('\\n')\n",
        "np.hstack((a,b)) # or np.column_stack((a,b)), np.concatenate((a,b), axis = 1), np.c_[a,b]\n",
        "print('\\n')"
      ],
      "metadata": {
        "colab": {
          "base_uri": "https://localhost:8080/"
        },
        "id": "M5_zxKJQI3rp",
        "outputId": "76093362-ff4d-4e8e-dc7f-f639a7a5d132"
      },
      "execution_count": 63,
      "outputs": [
        {
          "output_type": "execute_result",
          "data": {
            "text/plain": [
              "array([[1, 2],\n",
              "       [3, 4],\n",
              "       [0, 7],\n",
              "       [8, 9]])"
            ]
          },
          "metadata": {},
          "execution_count": 63
        },
        {
          "output_type": "stream",
          "name": "stdout",
          "text": [
            "\n",
            "\n"
          ]
        },
        {
          "output_type": "execute_result",
          "data": {
            "text/plain": [
              "array([[1, 2, 0, 7],\n",
              "       [3, 4, 8, 9]])"
            ]
          },
          "metadata": {},
          "execution_count": 63
        },
        {
          "output_type": "stream",
          "name": "stdout",
          "text": [
            "\n",
            "\n"
          ]
        }
      ]
    },
    {
      "cell_type": "code",
      "source": [
        "# Splitting Arrays\n",
        "np.hsplit(np.array([1,2,3]),3)\n",
        "print('\\n')\n",
        "np.vsplit(np.array([[9,0],[7,6]]),2)"
      ],
      "metadata": {
        "colab": {
          "base_uri": "https://localhost:8080/"
        },
        "id": "M173D9nqI30b",
        "outputId": "3f2f2645-2b6a-431f-877d-c436cf0d264e"
      },
      "execution_count": null,
      "outputs": [
        {
          "output_type": "execute_result",
          "data": {
            "text/plain": [
              "[array([1]), array([2]), array([3])]"
            ]
          },
          "metadata": {},
          "execution_count": 78
        },
        {
          "output_type": "stream",
          "name": "stdout",
          "text": [
            "\n",
            "\n"
          ]
        },
        {
          "output_type": "execute_result",
          "data": {
            "text/plain": [
              "[array([[9, 0]]), array([[7, 6]])]"
            ]
          },
          "metadata": {},
          "execution_count": 78
        }
      ]
    },
    {
      "cell_type": "code",
      "source": [
        "# to find min, max or locations of min and max values in an array\n",
        "a = np.array([1,3,4,5,8,9])\n",
        "print(a.min())\n",
        "print(a.argmax())\n",
        "print(a.argmin())"
      ],
      "metadata": {
        "colab": {
          "base_uri": "https://localhost:8080/"
        },
        "id": "xIvzNet5Ldjx",
        "outputId": "aff7f1a2-5666-4323-a408-0c42a7a1a610"
      },
      "execution_count": 72,
      "outputs": [
        {
          "output_type": "stream",
          "name": "stdout",
          "text": [
            "1\n",
            "5\n",
            "0\n"
          ]
        }
      ]
    },
    {
      "cell_type": "code",
      "source": [
        "a = np.array([(1,2),(3,4)])\n",
        "print(a.shape)"
      ],
      "metadata": {
        "colab": {
          "base_uri": "https://localhost:8080/"
        },
        "id": "4FIA7hXXMW72",
        "outputId": "496d1710-6312-4c3a-d8d2-ec6f24093635"
      },
      "execution_count": null,
      "outputs": [
        {
          "output_type": "stream",
          "name": "stdout",
          "text": [
            "(2, 2)\n"
          ]
        }
      ]
    },
    {
      "cell_type": "code",
      "execution_count": null,
      "metadata": {
        "id": "WzFcD8clE2Xz",
        "outputId": "5055d06b-1cfc-4710-883c-bb911954cdf0"
      },
      "outputs": [
        {
          "name": "stdout",
          "output_type": "stream",
          "text": [
            "[1 3]\n",
            "[[3 2 2]\n",
            " [2 3 2]\n",
            " [2 2 3]]\n",
            "2.5\n",
            "10\n",
            "True\n",
            "False\n",
            "[1 1 2 2 3 4 5 6]\n",
            "[1 2 3 4 5 6]\n"
          ]
        }
      ],
      "source": [
        "# other ones\n",
        "print(np.where([True,False],[1,2],[2,3])) # where condition\n",
        "print(np.where(np.eye(3)>0,3,2)) # means if condition in 1st arg is true then do 2nd. Otherwise, 3rd\n",
        "print(np.mean([1,2,3,4])) # statitical methods\n",
        "print(np.sum([1,2,3,4])) \n",
        "print(np.eye(3).any()) # returns True if atleast one is True\n",
        "print(np.eye(3).all()) # returns True if all are True\n",
        "print(np.sort(np.array([1,2,5,6,2,1,3,4])))\n",
        "print(np.unique(np.array([1,2,5,6,2,1,3,4])))"
      ]
    },
    {
      "cell_type": "markdown",
      "source": [
        "# Array Mathematics"
      ],
      "metadata": {
        "id": "EnN-nCrQLDkY"
      }
    },
    {
      "cell_type": "code",
      "source": [
        "arr = np.arange(0,10)\n",
        "arr\n",
        "arr+arr\n",
        "arr*3\n",
        "arr**2"
      ],
      "metadata": {
        "colab": {
          "base_uri": "https://localhost:8080/"
        },
        "id": "SZ5c2ok0LEBo",
        "outputId": "9b08142e-4409-4e43-a46a-b3f96d81e79a"
      },
      "execution_count": 85,
      "outputs": [
        {
          "output_type": "execute_result",
          "data": {
            "text/plain": [
              "array([0, 1, 2, 3, 4, 5, 6, 7, 8, 9])"
            ]
          },
          "metadata": {},
          "execution_count": 85
        },
        {
          "output_type": "execute_result",
          "data": {
            "text/plain": [
              "array([ 0,  2,  4,  6,  8, 10, 12, 14, 16, 18])"
            ]
          },
          "metadata": {},
          "execution_count": 85
        },
        {
          "output_type": "execute_result",
          "data": {
            "text/plain": [
              "array([ 0,  3,  6,  9, 12, 15, 18, 21, 24, 27])"
            ]
          },
          "metadata": {},
          "execution_count": 85
        },
        {
          "output_type": "execute_result",
          "data": {
            "text/plain": [
              "array([ 0,  1,  4,  9, 16, 25, 36, 49, 64, 81])"
            ]
          },
          "metadata": {},
          "execution_count": 85
        }
      ]
    },
    {
      "cell_type": "code",
      "source": [
        "1/arr"
      ],
      "metadata": {
        "colab": {
          "base_uri": "https://localhost:8080/"
        },
        "id": "M829kpksThoM",
        "outputId": "f9108eee-2c05-40cd-a5b7-7db66b6b0a50"
      },
      "execution_count": 90,
      "outputs": [
        {
          "output_type": "stream",
          "name": "stderr",
          "text": [
            "/usr/local/lib/python3.7/dist-packages/ipykernel_launcher.py:1: RuntimeWarning: divide by zero encountered in true_divide\n",
            "  \"\"\"Entry point for launching an IPython kernel.\n"
          ]
        },
        {
          "output_type": "execute_result",
          "data": {
            "text/plain": [
              "array([       inf, 1.        , 0.5       , 0.33333333, 0.25      ])"
            ]
          },
          "metadata": {},
          "execution_count": 90
        }
      ]
    },
    {
      "cell_type": "code",
      "source": [
        "arr = np.arange(0,5)\n",
        "arr2=np.array([1,1,1,1,1])\n",
        "print(arr+arr2)# array math\n",
        "print(np.add(arr,arr2)) # another way. similarly- np.subtract(), np.divide(), np.multiply()\n",
        "print(np.dot(arr,arr2)) # dot product. or arr.dot(arr2) or arr@arr2"
      ],
      "metadata": {
        "colab": {
          "base_uri": "https://localhost:8080/"
        },
        "id": "lUJSJIGtLEDv",
        "outputId": "8514e694-5daf-4d3a-a0d9-b2439078f737"
      },
      "execution_count": 204,
      "outputs": [
        {
          "output_type": "stream",
          "name": "stdout",
          "text": [
            "[1 2 3 4 5]\n",
            "[1 2 3 4 5]\n",
            "10\n"
          ]
        }
      ]
    },
    {
      "cell_type": "code",
      "source": [
        "np.exp(0), np.sqrt(9), np.sin(0), np.cos(0), np.tanh(90), np.log(1), np.max([4,6,2])"
      ],
      "metadata": {
        "colab": {
          "base_uri": "https://localhost:8080/"
        },
        "id": "EBzmT7s2Tfph",
        "outputId": "f5892232-0861-491e-bd15-737e9b9767a1"
      },
      "execution_count": 231,
      "outputs": [
        {
          "output_type": "execute_result",
          "data": {
            "text/plain": [
              "(1.0, 3.0, 0.0, 1.0, 1.0, 0.0, 6)"
            ]
          },
          "metadata": {},
          "execution_count": 231
        }
      ]
    },
    {
      "cell_type": "code",
      "source": [
        "a = np.array([1,2,3])\n",
        "b = np.array([1,6,3])\n",
        "a == b # elt wise \n",
        "a<2\n",
        "np.array_equal(a,b)"
      ],
      "metadata": {
        "colab": {
          "base_uri": "https://localhost:8080/"
        },
        "id": "dcHJvvN3TxR8",
        "outputId": "e9d31a5e-2a76-4c3e-d85f-1174cacff22c"
      },
      "execution_count": 169,
      "outputs": [
        {
          "output_type": "execute_result",
          "data": {
            "text/plain": [
              "array([ True, False,  True])"
            ]
          },
          "metadata": {},
          "execution_count": 169
        },
        {
          "output_type": "execute_result",
          "data": {
            "text/plain": [
              "array([ True, False, False])"
            ]
          },
          "metadata": {},
          "execution_count": 169
        },
        {
          "output_type": "execute_result",
          "data": {
            "text/plain": [
              "False"
            ]
          },
          "metadata": {},
          "execution_count": 169
        }
      ]
    },
    {
      "cell_type": "code",
      "source": [
        "a.view() # view the array\n",
        "np.copy(a) # soft copy\n",
        "h = np.copy(a) # deepcopy"
      ],
      "metadata": {
        "colab": {
          "base_uri": "https://localhost:8080/"
        },
        "id": "QD8UaednU1IG",
        "outputId": "66f32aa5-2f68-4c03-89f0-ce2d97d8e6b5"
      },
      "execution_count": 107,
      "outputs": [
        {
          "output_type": "execute_result",
          "data": {
            "text/plain": [
              "array([1, 2, 3])"
            ]
          },
          "metadata": {},
          "execution_count": 107
        },
        {
          "output_type": "execute_result",
          "data": {
            "text/plain": [
              "array([1, 2, 3])"
            ]
          },
          "metadata": {},
          "execution_count": 107
        }
      ]
    },
    {
      "cell_type": "code",
      "source": [
        "b.view()\n",
        "b.sort() # sorts the array\n",
        "b.view()"
      ],
      "metadata": {
        "colab": {
          "base_uri": "https://localhost:8080/"
        },
        "id": "gX0uvQntVBWM",
        "outputId": "5f76bae7-44c2-4290-da89-e279e8cef02a"
      },
      "execution_count": 110,
      "outputs": [
        {
          "output_type": "execute_result",
          "data": {
            "text/plain": [
              "array([1, 3, 6])"
            ]
          },
          "metadata": {},
          "execution_count": 110
        },
        {
          "output_type": "execute_result",
          "data": {
            "text/plain": [
              "array([1, 3, 6])"
            ]
          },
          "metadata": {},
          "execution_count": 110
        }
      ]
    },
    {
      "cell_type": "code",
      "source": [
        "c = np.array([(9,8),(8, 10)])\n",
        "c.view()\n",
        "c.sort(axis = 0)\n",
        "c.view()"
      ],
      "metadata": {
        "colab": {
          "base_uri": "https://localhost:8080/"
        },
        "id": "QZcl5j1kVn9c",
        "outputId": "e49a33e3-a189-413a-de47-0aed6b0595cc"
      },
      "execution_count": 114,
      "outputs": [
        {
          "output_type": "execute_result",
          "data": {
            "text/plain": [
              "array([[ 9,  8],\n",
              "       [ 8, 10]])"
            ]
          },
          "metadata": {},
          "execution_count": 114
        },
        {
          "output_type": "execute_result",
          "data": {
            "text/plain": [
              "array([[ 8,  8],\n",
              "       [ 9, 10]])"
            ]
          },
          "metadata": {},
          "execution_count": 114
        }
      ]
    },
    {
      "cell_type": "code",
      "source": [
        "c.sum(), c.std(), c.sum(axis= 0), c.sum(axis = 1)"
      ],
      "metadata": {
        "colab": {
          "base_uri": "https://localhost:8080/"
        },
        "id": "ajMVGjlncUqL",
        "outputId": "1ca154c9-aec7-4a0e-caf6-9f69e15fc068"
      },
      "execution_count": 186,
      "outputs": [
        {
          "output_type": "execute_result",
          "data": {
            "text/plain": [
              "(35, 0.82915619758885, array([17, 18]), array([16, 19]))"
            ]
          },
          "metadata": {},
          "execution_count": 186
        }
      ]
    },
    {
      "cell_type": "code",
      "source": [
        "np.mean(c), np.var(c)\n",
        "print()\n",
        "np.cov(c, rowvar=False)"
      ],
      "metadata": {
        "colab": {
          "base_uri": "https://localhost:8080/"
        },
        "id": "LrzOzcvcesh6",
        "outputId": "f566ffd8-4370-4967-d63a-df380dfdfacc"
      },
      "execution_count": 184,
      "outputs": [
        {
          "output_type": "execute_result",
          "data": {
            "text/plain": [
              "(8.75, 0.6875)"
            ]
          },
          "metadata": {},
          "execution_count": 184
        },
        {
          "output_type": "stream",
          "name": "stdout",
          "text": [
            "\n"
          ]
        },
        {
          "output_type": "execute_result",
          "data": {
            "text/plain": [
              "array([[0.5, 1. ],\n",
              "       [1. , 2. ]])"
            ]
          },
          "metadata": {},
          "execution_count": 184
        }
      ]
    },
    {
      "cell_type": "markdown",
      "source": [
        "## Dot Product\n",
        "\n",
        "$$a.b=a^T b=\\sum_{d=1}^D a_db_d$$\n",
        "\n",
        "## Calculating Angle\n",
        "$$a.b=a^T b=\\vert\\vert\\vec{a}\\vert\\vert \\vert\\vert\\vec{b}\\vert\\vert cos(\\theta)$$\n",
        "\n",
        "$$\\cos(\\theta)=\\frac{a^Tb}{\\vert\\vert\\vec{a}\\vert\\vert \\vert\\vert\\vec{b}\\vert\\vert}$$\n",
        "\n",
        "$$\\vert\\vert\\vec{a}\\vert\\vert=\\sqrt{\\sum_{d=1}^D a_d^2}$$"
      ],
      "metadata": {
        "id": "B53ml_cVjdTp"
      }
    },
    {
      "cell_type": "code",
      "source": [
        "a = np.arange(0,5)\n",
        "b=np.array([1,1,1,1,1])\n",
        "dot=0\n",
        "for e,f in zip(a,b):\n",
        "    dot+=e*f\n",
        "dot"
      ],
      "metadata": {
        "colab": {
          "base_uri": "https://localhost:8080/"
        },
        "id": "EEWWVUt1kNHl",
        "outputId": "1c4d9261-fe5e-4834-8bde-9db22fad8c91"
      },
      "execution_count": 214,
      "outputs": [
        {
          "output_type": "execute_result",
          "data": {
            "text/plain": [
              "10"
            ]
          },
          "metadata": {},
          "execution_count": 214
        }
      ]
    },
    {
      "cell_type": "code",
      "source": [
        "dot=0\n",
        "for i in range(len(a)):\n",
        "    dot+=a[i]*b[i]\n",
        "dot"
      ],
      "metadata": {
        "colab": {
          "base_uri": "https://localhost:8080/"
        },
        "id": "65Ie-cPgkSb0",
        "outputId": "58e503be-c0ea-40b6-e6f9-d1bd187bd92f"
      },
      "execution_count": 216,
      "outputs": [
        {
          "output_type": "execute_result",
          "data": {
            "text/plain": [
              "10"
            ]
          },
          "metadata": {},
          "execution_count": 216
        }
      ]
    },
    {
      "cell_type": "code",
      "source": [
        "print(np.dot(a,b)) # dot product. or a.dot(b) or a@b"
      ],
      "metadata": {
        "colab": {
          "base_uri": "https://localhost:8080/"
        },
        "id": "BHdX6Mv8jta3",
        "outputId": "a033ad65-76d3-4c77-d796-a7608904e0ea"
      },
      "execution_count": 215,
      "outputs": [
        {
          "output_type": "stream",
          "name": "stdout",
          "text": [
            "10\n"
          ]
        }
      ]
    },
    {
      "cell_type": "code",
      "source": [
        "magnitude_a=np.sqrt((a*a).sum())\n",
        "magnitude_a"
      ],
      "metadata": {
        "colab": {
          "base_uri": "https://localhost:8080/"
        },
        "id": "LCXyRjjPjdAw",
        "outputId": "e5ea1062-32c9-4e7f-f2ad-b88c82064375"
      },
      "execution_count": 210,
      "outputs": [
        {
          "output_type": "execute_result",
          "data": {
            "text/plain": [
              "5.477225575051661"
            ]
          },
          "metadata": {},
          "execution_count": 210
        }
      ]
    },
    {
      "cell_type": "code",
      "source": [
        "np.linalg.norm(a) # for magnitude"
      ],
      "metadata": {
        "colab": {
          "base_uri": "https://localhost:8080/"
        },
        "id": "abrIe1_ijhp3",
        "outputId": "dd52e332-11e3-4a8b-c43c-f11c22f4f5d3"
      },
      "execution_count": 211,
      "outputs": [
        {
          "output_type": "execute_result",
          "data": {
            "text/plain": [
              "5.477225575051661"
            ]
          },
          "metadata": {},
          "execution_count": 211
        }
      ]
    },
    {
      "cell_type": "code",
      "source": [
        "cos_angle=a.dot(b)/(np.linalg.norm(a)*np.linalg.norm(b))\n",
        "cos_angle"
      ],
      "metadata": {
        "colab": {
          "base_uri": "https://localhost:8080/"
        },
        "id": "Erw0ozogjhsB",
        "outputId": "79dcf337-311f-41ea-b8ca-a3068952b6f9"
      },
      "execution_count": 212,
      "outputs": [
        {
          "output_type": "execute_result",
          "data": {
            "text/plain": [
              "0.8164965809277259"
            ]
          },
          "metadata": {},
          "execution_count": 212
        }
      ]
    },
    {
      "cell_type": "code",
      "source": [
        "angle=np.arccos(cos_angle) # theta\n",
        "angle # ans is in radians and not in degrees"
      ],
      "metadata": {
        "colab": {
          "base_uri": "https://localhost:8080/"
        },
        "id": "GP9hkrKjj_BZ",
        "outputId": "d58fedee-948e-4c9a-afe8-d970d98b85f9"
      },
      "execution_count": 213,
      "outputs": [
        {
          "output_type": "execute_result",
          "data": {
            "text/plain": [
              "0.6154797086703875"
            ]
          },
          "metadata": {},
          "execution_count": 213
        }
      ]
    },
    {
      "cell_type": "markdown",
      "source": [
        "**Solving a set of linear equations**\n",
        "\n",
        "$$ a+b=2200 $$\n",
        "$$ 1.5a+4b=5050 $$\n",
        "Set them as matrices:\n",
        "where a=[1 1][1.5 4] b[2200 5050] x=[a b]\n",
        "\n",
        "Eq: Ax=b => x=A^-1 b"
      ],
      "metadata": {
        "id": "X4fpP9Wyfivs"
      }
    },
    {
      "cell_type": "code",
      "source": [
        "a=np.array([[1,1],[1.5,4]])\n",
        "b=np.array([2200,5050])\n",
        "np.linalg.solve(a,b)"
      ],
      "metadata": {
        "colab": {
          "base_uri": "https://localhost:8080/"
        },
        "id": "nJiyGCmGXLdX",
        "outputId": "dd1d3de2-2451-4bc2-8dca-8bf5af28f067"
      },
      "execution_count": 191,
      "outputs": [
        {
          "output_type": "execute_result",
          "data": {
            "text/plain": [
              "array([1500.,  700.])"
            ]
          },
          "metadata": {},
          "execution_count": 191
        }
      ]
    },
    {
      "cell_type": "code",
      "source": [
        "# donot use- not advised\n",
        "np.linalg.inv(a).dot(b)"
      ],
      "metadata": {
        "colab": {
          "base_uri": "https://localhost:8080/"
        },
        "id": "gsIkKOV_f6jW",
        "outputId": "7f26ee1f-7555-4d45-ce5a-ac113e582d4f"
      },
      "execution_count": 192,
      "outputs": [
        {
          "output_type": "execute_result",
          "data": {
            "text/plain": [
              "array([1500.,  700.])"
            ]
          },
          "metadata": {},
          "execution_count": 192
        }
      ]
    },
    {
      "cell_type": "markdown",
      "source": [
        "# Array Subsetting"
      ],
      "metadata": {
        "id": "sxIKzFrnWny1"
      }
    },
    {
      "cell_type": "code",
      "source": [
        "arr = np.arange(0,11)\n",
        "arr[::2]"
      ],
      "metadata": {
        "colab": {
          "base_uri": "https://localhost:8080/"
        },
        "id": "gk1PuBYLWFSu",
        "outputId": "6c1a0df9-1545-4a52-e171-418c0daa9833"
      },
      "execution_count": 125,
      "outputs": [
        {
          "output_type": "execute_result",
          "data": {
            "text/plain": [
              "array([ 0,  2,  4,  6,  8, 10])"
            ]
          },
          "metadata": {},
          "execution_count": 125
        }
      ]
    },
    {
      "cell_type": "code",
      "source": [
        "#Setting a value with index range (Broadcasting)\n",
        "arr[0:5]=100\n",
        "arr"
      ],
      "metadata": {
        "colab": {
          "base_uri": "https://localhost:8080/"
        },
        "id": "bCJOZjUBWwRY",
        "outputId": "007458b0-be9f-42ee-a83f-6a53034fbe71"
      },
      "execution_count": 126,
      "outputs": [
        {
          "output_type": "execute_result",
          "data": {
            "text/plain": [
              "array([100, 100, 100, 100, 100,   5,   6,   7,   8,   9,  10])"
            ]
          },
          "metadata": {},
          "execution_count": 126
        }
      ]
    },
    {
      "cell_type": "code",
      "source": [
        "arr = np.arange(0,11)\n",
        "arr[:] = 99\n",
        "arr"
      ],
      "metadata": {
        "colab": {
          "base_uri": "https://localhost:8080/"
        },
        "id": "ZVP12l9jW6hT",
        "outputId": "3dee6fa3-7bc7-436f-dfdf-f4b8bb814663"
      },
      "execution_count": 129,
      "outputs": [
        {
          "output_type": "execute_result",
          "data": {
            "text/plain": [
              "array([99, 99, 99, 99, 99, 99, 99, 99, 99, 99, 99])"
            ]
          },
          "metadata": {},
          "execution_count": 129
        }
      ]
    },
    {
      "cell_type": "code",
      "source": [
        "# Indexing - Slicing\n",
        "arr_2d = np.array(([5,10,15],[20,25,30],[35,40,45]))\n",
        "arr_2d\n",
        "print()\n",
        "arr_2d[:2,1:]\n",
        "print()\n",
        "arr_2d[2,:] # or arr_2d[2]\n",
        "print()\n",
        "arr_2d[0,1] # or arr_2d[0][1]\n",
        "print()\n",
        "arr_2d[1,...] # same as arr_2d[1,:,:]"
      ],
      "metadata": {
        "colab": {
          "base_uri": "https://localhost:8080/"
        },
        "id": "VTT63B8CXTDY",
        "outputId": "18e8f043-3aa0-456d-d5c9-d9076e0bc4ba"
      },
      "execution_count": 139,
      "outputs": [
        {
          "output_type": "execute_result",
          "data": {
            "text/plain": [
              "array([[ 5, 10, 15],\n",
              "       [20, 25, 30],\n",
              "       [35, 40, 45]])"
            ]
          },
          "metadata": {},
          "execution_count": 139
        },
        {
          "output_type": "stream",
          "name": "stdout",
          "text": [
            "\n"
          ]
        },
        {
          "output_type": "execute_result",
          "data": {
            "text/plain": [
              "array([[10, 15],\n",
              "       [25, 30]])"
            ]
          },
          "metadata": {},
          "execution_count": 139
        },
        {
          "output_type": "stream",
          "name": "stdout",
          "text": [
            "\n"
          ]
        },
        {
          "output_type": "execute_result",
          "data": {
            "text/plain": [
              "array([35, 40, 45])"
            ]
          },
          "metadata": {},
          "execution_count": 139
        },
        {
          "output_type": "stream",
          "name": "stdout",
          "text": [
            "\n"
          ]
        },
        {
          "output_type": "execute_result",
          "data": {
            "text/plain": [
              "10"
            ]
          },
          "metadata": {},
          "execution_count": 139
        },
        {
          "output_type": "stream",
          "name": "stdout",
          "text": [
            "\n"
          ]
        },
        {
          "output_type": "execute_result",
          "data": {
            "text/plain": [
              "array([20, 25, 30])"
            ]
          },
          "metadata": {},
          "execution_count": 139
        }
      ]
    },
    {
      "cell_type": "code",
      "source": [
        "# Boolean Indexing\n",
        "arr_2d[arr_2d <25] # gives results and flattens the data"
      ],
      "metadata": {
        "colab": {
          "base_uri": "https://localhost:8080/"
        },
        "id": "SbfE4jGBYIBU",
        "outputId": "60abd78c-cb65-44be-87f7-f748982dc43b"
      },
      "execution_count": 142,
      "outputs": [
        {
          "output_type": "execute_result",
          "data": {
            "text/plain": [
              "array([ 5, 10, 15, 20])"
            ]
          },
          "metadata": {},
          "execution_count": 142
        }
      ]
    },
    {
      "cell_type": "code",
      "source": [
        "# Fancy indexing\n",
        "arr1 = np.array([(1,2,3), (3,4,5)])\n",
        "arr1\n",
        "arr1[[1,1],[0,1]] # select items of (1,0), (1,1)\n",
        "arr1[[1,1]]"
      ],
      "metadata": {
        "colab": {
          "base_uri": "https://localhost:8080/"
        },
        "id": "pBFpUs7WXbVV",
        "outputId": "51b0975d-6ff2-4356-b08d-023ee7bad249"
      },
      "execution_count": 166,
      "outputs": [
        {
          "output_type": "execute_result",
          "data": {
            "text/plain": [
              "array([[1, 2, 3],\n",
              "       [3, 4, 5]])"
            ]
          },
          "metadata": {},
          "execution_count": 166
        },
        {
          "output_type": "execute_result",
          "data": {
            "text/plain": [
              "array([3, 4])"
            ]
          },
          "metadata": {},
          "execution_count": 166
        },
        {
          "output_type": "execute_result",
          "data": {
            "text/plain": [
              "array([[3, 4, 5],\n",
              "       [3, 4, 5]])"
            ]
          },
          "metadata": {},
          "execution_count": 166
        }
      ]
    },
    {
      "cell_type": "markdown",
      "source": [
        "# Numpy VS List"
      ],
      "metadata": {
        "id": "y5_IM7WLi8uw"
      }
    },
    {
      "cell_type": "code",
      "source": [
        "l=[1,2,3]\n",
        "a=np.array([1,2,3])"
      ],
      "metadata": {
        "id": "oqyfrAEUklJU"
      },
      "execution_count": 224,
      "outputs": []
    },
    {
      "cell_type": "code",
      "source": [
        "[x for x in l]\n",
        "[y for y in a]"
      ],
      "metadata": {
        "colab": {
          "base_uri": "https://localhost:8080/"
        },
        "id": "DLV0HYPCklLs",
        "outputId": "45a80a04-f4bf-4e8a-ae0e-94ddd2c43506"
      },
      "execution_count": 225,
      "outputs": [
        {
          "output_type": "execute_result",
          "data": {
            "text/plain": [
              "[1, 2, 3]"
            ]
          },
          "metadata": {},
          "execution_count": 225
        },
        {
          "output_type": "execute_result",
          "data": {
            "text/plain": [
              "[1, 2, 3]"
            ]
          },
          "metadata": {},
          "execution_count": 225
        }
      ]
    },
    {
      "cell_type": "code",
      "source": [
        "l.append(4)\n",
        "# a.append(4) # gives error"
      ],
      "metadata": {
        "id": "9PAL_0_RklOF"
      },
      "execution_count": 226,
      "outputs": []
    },
    {
      "cell_type": "code",
      "source": [
        "l+[5] # concat - adds element\n",
        "a+np.array([5]) # broadcasting - adding element wise 5 to each"
      ],
      "metadata": {
        "colab": {
          "base_uri": "https://localhost:8080/"
        },
        "id": "1uhDdm_rklQV",
        "outputId": "0f30fb5d-857f-4d88-e62a-ae66e4755f40"
      },
      "execution_count": 227,
      "outputs": [
        {
          "output_type": "execute_result",
          "data": {
            "text/plain": [
              "[1, 2, 3, 4, 5]"
            ]
          },
          "metadata": {},
          "execution_count": 227
        },
        {
          "output_type": "execute_result",
          "data": {
            "text/plain": [
              "array([6, 7, 8])"
            ]
          },
          "metadata": {},
          "execution_count": 227
        }
      ]
    },
    {
      "cell_type": "code",
      "source": [
        "l*2 # repeats the data twice, l**2 gives error\n",
        "a*2 # multiplies elt wise, a**2 gives square of elt"
      ],
      "metadata": {
        "colab": {
          "base_uri": "https://localhost:8080/"
        },
        "id": "W-tqgkLKklSd",
        "outputId": "45769d90-0a4d-4b66-a3c5-b9f3d2d6bf7c"
      },
      "execution_count": 230,
      "outputs": [
        {
          "output_type": "execute_result",
          "data": {
            "text/plain": [
              "[1, 2, 3, 4, 1, 2, 3, 4]"
            ]
          },
          "metadata": {},
          "execution_count": 230
        },
        {
          "output_type": "execute_result",
          "data": {
            "text/plain": [
              "array([2, 4, 6])"
            ]
          },
          "metadata": {},
          "execution_count": 230
        }
      ]
    },
    {
      "cell_type": "markdown",
      "source": [
        "## Dot product - Speed test"
      ],
      "metadata": {
        "id": "VcN-PTUQkmwR"
      }
    },
    {
      "cell_type": "code",
      "source": [
        "# vectorisation\n",
        "import numpy as np\n",
        "import time as t\n",
        "a=np.random.rand(1000000)\n",
        "b=np.random.rand(1000000)\n",
        "tic=t.time()\n",
        "c=np.dot(a,b)\n",
        "toc=t.time()\n",
        "print(c)\n",
        "print('vectorisation(using numpy): '+str(1000*(toc-tic))+\"ms\")\n",
        "\n",
        "print('\\n')\n",
        "\n",
        "c=0\n",
        "tic=t.time()\n",
        "for i in range(1000000):\n",
        "    c+=a[i]*b[i]\n",
        "toc=t.time()\n",
        "print(c)\n",
        "print(\"looping(using lists): \"+str(1000*(toc-tic))+\"ms\")"
      ],
      "metadata": {
        "colab": {
          "base_uri": "https://localhost:8080/"
        },
        "id": "QtE0Hw1yi_vD",
        "outputId": "d1ff620c-5019-4403-a377-8b67dc61cd10"
      },
      "execution_count": 202,
      "outputs": [
        {
          "output_type": "stream",
          "name": "stdout",
          "text": [
            "250125.44809702196\n",
            "vectorisation(using numpy): 1.4905929565429688ms\n",
            "\n",
            "\n",
            "250125.44809703468\n",
            "looping(using lists): 488.29030990600586ms\n"
          ]
        }
      ]
    },
    {
      "cell_type": "code",
      "source": [
        "# vectorisation\n",
        "import numpy as np\n",
        "import time as t\n",
        "a=np.array([[1,2],[3,4]])\n",
        "b=np.array([[1,2,3],[4,5,6]])\n",
        "tic=t.time()\n",
        "c=np.dot(a,b)\n",
        "toc=t.time()\n",
        "print(c)\n",
        "print('vectorisation(using numpy): '+str(1000*(toc-tic))+\"ms\")\n",
        "\n",
        "print('\\n')\n",
        "\n",
        "c=np.zeros([2,3])\n",
        "tic=t.time()\n",
        "for i in range(len(a)):\n",
        "    for j in range(len(b[1])):\n",
        "        for k in range(len(b)):\n",
        "            c[i][j]+=a[i,k]*b[k,j]\n",
        "toc=t.time()\n",
        "print(c)\n",
        "print(\"looping(using lists): \"+str(1000*(toc-tic))+\"ms\")"
      ],
      "metadata": {
        "colab": {
          "base_uri": "https://localhost:8080/"
        },
        "id": "a0tv1ZsLjACa",
        "outputId": "d402aded-e777-4f4e-9135-46b1455f6ec6"
      },
      "execution_count": 203,
      "outputs": [
        {
          "output_type": "stream",
          "name": "stdout",
          "text": [
            "[[ 9 12 15]\n",
            " [19 26 33]]\n",
            "vectorisation(using numpy): 0.10251998901367188ms\n",
            "\n",
            "\n",
            "[[ 9. 12. 15.]\n",
            " [19. 26. 33.]]\n",
            "looping(using lists): 0.13303756713867188ms\n"
          ]
        }
      ]
    }
  ],
  "metadata": {
    "kernelspec": {
      "display_name": "Python 3",
      "language": "python",
      "name": "python3"
    },
    "language_info": {
      "codemirror_mode": {
        "name": "ipython",
        "version": 3
      },
      "file_extension": ".py",
      "mimetype": "text/x-python",
      "name": "python",
      "nbconvert_exporter": "python",
      "pygments_lexer": "ipython3",
      "version": "3.7.4"
    },
    "colab": {
      "provenance": [],
      "collapsed_sections": [],
      "toc_visible": true,
      "include_colab_link": true
    }
  },
  "nbformat": 4,
  "nbformat_minor": 0
}