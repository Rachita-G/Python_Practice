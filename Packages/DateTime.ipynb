{
  "cells": [
    {
      "cell_type": "markdown",
      "metadata": {
        "id": "view-in-github",
        "colab_type": "text"
      },
      "source": [
        "<a href=\"https://colab.research.google.com/github/Rachita-G/Python_Practice/blob/main/Packages/DateTime.ipynb\" target=\"_parent\"><img src=\"https://colab.research.google.com/assets/colab-badge.svg\" alt=\"Open In Colab\"/></a>"
      ]
    },
    {
      "cell_type": "markdown",
      "source": [
        "# Datetime"
      ],
      "metadata": {
        "id": "Prs9PEpJIAmd"
      }
    },
    {
      "cell_type": "code",
      "source": [
        "from datetime import date\n",
        "today = date.today()\n",
        "print(today)\n",
        "today.day, today.month, today.year, today.weekday() # starts from monday as 0 to 6 as sunday"
      ],
      "metadata": {
        "colab": {
          "base_uri": "https://localhost:8080/"
        },
        "id": "KsrxMocMtqtl",
        "outputId": "210b2b68-a951-4ea8-f5d4-d5e95ee4f877"
      },
      "execution_count": 51,
      "outputs": [
        {
          "output_type": "stream",
          "name": "stdout",
          "text": [
            "2022-11-08\n"
          ]
        },
        {
          "output_type": "execute_result",
          "data": {
            "text/plain": [
              "(8, 11, 2022, 1)"
            ]
          },
          "metadata": {},
          "execution_count": 51
        }
      ]
    },
    {
      "cell_type": "code",
      "source": [
        "date.fromisoformat('2019-12-04')"
      ],
      "metadata": {
        "colab": {
          "base_uri": "https://localhost:8080/"
        },
        "id": "VhGE5xJoJSD9",
        "outputId": "83e64e18-46eb-4a25-96ad-56cc92a2360c"
      },
      "execution_count": 72,
      "outputs": [
        {
          "output_type": "execute_result",
          "data": {
            "text/plain": [
              "datetime.date(2019, 12, 4)"
            ]
          },
          "metadata": {},
          "execution_count": 72
        }
      ]
    },
    {
      "cell_type": "code",
      "source": [
        "from datetime import time\n",
        "time = time(hour = 12, minute = 33, second = 1, microsecond = 300)\n",
        "time.hour, time.minute, time.microsecond"
      ],
      "metadata": {
        "colab": {
          "base_uri": "https://localhost:8080/"
        },
        "id": "ls2b3Y-tIZjt",
        "outputId": "f904fa84-4086-4137-b6e3-5947ae31d6a9"
      },
      "execution_count": 64,
      "outputs": [
        {
          "output_type": "execute_result",
          "data": {
            "text/plain": [
              "(12, 33, 300)"
            ]
          },
          "metadata": {},
          "execution_count": 64
        }
      ]
    },
    {
      "cell_type": "code",
      "source": [
        "from datetime import datetime\n",
        "# Attributes: year, month, day, hour, minute, second, microsecond, and tzinfo\n",
        "datetime(2022,9,1)"
      ],
      "metadata": {
        "colab": {
          "base_uri": "https://localhost:8080/"
        },
        "id": "OVYPCt5gI_CN",
        "outputId": "5ba7e40f-d243-47f2-c233-7d61a8976fc2"
      },
      "execution_count": 66,
      "outputs": [
        {
          "output_type": "execute_result",
          "data": {
            "text/plain": [
              "datetime.datetime(2022, 9, 1, 0, 0)"
            ]
          },
          "metadata": {},
          "execution_count": 66
        }
      ]
    },
    {
      "cell_type": "code",
      "source": [
        "\n",
        "now = datetime.now()\n",
        "print(now)\n",
        "print(now.strftime(\"%A\")) # weekday - %a for short version, %w for number where 0=sunday\n",
        "print(now.strftime(\"%B\")) # month - %m for month date, %y,%h etc.\n",
        "# https://www.w3schools.com/python/python_datetime.asp"
      ],
      "metadata": {
        "colab": {
          "base_uri": "https://localhost:8080/"
        },
        "id": "hqm2zTq8Fazr",
        "outputId": "ea504c0e-32d5-423a-a1c2-e7944909bafd"
      },
      "execution_count": 50,
      "outputs": [
        {
          "output_type": "stream",
          "name": "stdout",
          "text": [
            "2022-11-08 16:44:15.960667\n",
            "Tuesday\n",
            "November\n"
          ]
        }
      ]
    },
    {
      "cell_type": "code",
      "source": [
        "d=datetime(year=2022,month=11,day=6) # last sunday\n",
        "print(d)"
      ],
      "metadata": {
        "colab": {
          "base_uri": "https://localhost:8080/"
        },
        "id": "LBVHjyhqtfaG",
        "outputId": "a1383a85-d832-46ab-a33f-0cfc62559400"
      },
      "execution_count": 46,
      "outputs": [
        {
          "output_type": "stream",
          "name": "stdout",
          "text": [
            "2022-11-06 00:00:00\n"
          ]
        }
      ]
    },
    {
      "cell_type": "code",
      "execution_count": 19,
      "metadata": {
        "id": "7OWAOmwlWlhA",
        "outputId": "bcc8edc8-75b2-4ff1-d46f-bb867ae710aa",
        "colab": {
          "base_uri": "https://localhost:8080/"
        }
      },
      "outputs": [
        {
          "output_type": "execute_result",
          "data": {
            "text/plain": [
              "(6, 11, 2022, 6)"
            ]
          },
          "metadata": {},
          "execution_count": 19
        }
      ],
      "source": [
        "d.day,d.month,d.year,d.weekday()"
      ]
    },
    {
      "cell_type": "code",
      "execution_count": 20,
      "metadata": {
        "id": "B2cE8x5hWlhC",
        "outputId": "56fbca80-e59f-48a2-d909-2e7d662b248b",
        "colab": {
          "base_uri": "https://localhost:8080/"
        }
      },
      "outputs": [
        {
          "output_type": "execute_result",
          "data": {
            "text/plain": [
              "datetime.datetime"
            ]
          },
          "metadata": {},
          "execution_count": 20
        }
      ],
      "source": [
        "type(d)"
      ]
    },
    {
      "cell_type": "markdown",
      "source": [
        "# Dateutil - Parser"
      ],
      "metadata": {
        "id": "aGVA3Bd8uqBs"
      }
    },
    {
      "cell_type": "code",
      "execution_count": 23,
      "metadata": {
        "id": "5y2b9nkOWlhD"
      },
      "outputs": [],
      "source": [
        "from dateutil import parser"
      ]
    },
    {
      "cell_type": "code",
      "source": [
        "parser.parse(\"4th July,2019\")"
      ],
      "metadata": {
        "colab": {
          "base_uri": "https://localhost:8080/"
        },
        "id": "75SuUXDdui3k",
        "outputId": "4f28adde-4570-4800-eb9d-cf0f3f31b8e8"
      },
      "execution_count": 25,
      "outputs": [
        {
          "output_type": "execute_result",
          "data": {
            "text/plain": [
              "datetime.datetime(2019, 7, 4, 0, 0)"
            ]
          },
          "metadata": {},
          "execution_count": 25
        }
      ]
    },
    {
      "cell_type": "code",
      "execution_count": 26,
      "metadata": {
        "id": "m8saTVctWlhD",
        "outputId": "2981bb38-c0b8-47f0-e941-e00cb9d3c92c",
        "colab": {
          "base_uri": "https://localhost:8080/"
        }
      },
      "outputs": [
        {
          "output_type": "execute_result",
          "data": {
            "text/plain": [
              "(4, 7, 2019)"
            ]
          },
          "metadata": {},
          "execution_count": 26
        }
      ],
      "source": [
        "_.day,_.month,_.year"
      ]
    },
    {
      "cell_type": "code",
      "execution_count": 27,
      "metadata": {
        "id": "Cog4AzjaWlhE"
      },
      "outputs": [],
      "source": [
        "time='2019-09-07'"
      ]
    },
    {
      "cell_type": "code",
      "execution_count": 28,
      "metadata": {
        "id": "cknaphVxWlhF",
        "outputId": "9aa37e1d-fb20-49a8-b7b0-217a259a40f2",
        "colab": {
          "base_uri": "https://localhost:8080/"
        }
      },
      "outputs": [
        {
          "output_type": "execute_result",
          "data": {
            "text/plain": [
              "str"
            ]
          },
          "metadata": {},
          "execution_count": 28
        }
      ],
      "source": [
        "type(time)"
      ]
    },
    {
      "cell_type": "markdown",
      "source": [
        "# From Pandas"
      ],
      "metadata": {
        "id": "fKgj6yVtuxqc"
      }
    },
    {
      "cell_type": "code",
      "execution_count": 29,
      "metadata": {
        "id": "nUI5on6fWlhG"
      },
      "outputs": [],
      "source": [
        "import pandas as pd"
      ]
    },
    {
      "cell_type": "code",
      "source": [
        "time"
      ],
      "metadata": {
        "colab": {
          "base_uri": "https://localhost:8080/",
          "height": 36
        },
        "id": "Nb7UbvyuvGzV",
        "outputId": "cc154e08-4462-4e92-f484-5b0b1e382152"
      },
      "execution_count": 34,
      "outputs": [
        {
          "output_type": "execute_result",
          "data": {
            "text/plain": [
              "'2019-09-07'"
            ],
            "application/vnd.google.colaboratory.intrinsic+json": {
              "type": "string"
            }
          },
          "metadata": {},
          "execution_count": 34
        }
      ]
    },
    {
      "cell_type": "code",
      "source": [
        "dt=pd.to_datetime(time)\n",
        "dt"
      ],
      "metadata": {
        "colab": {
          "base_uri": "https://localhost:8080/"
        },
        "id": "WTnKxb-Ou3mf",
        "outputId": "4fd26334-479b-4617-c89d-e51ea6acdf1d"
      },
      "execution_count": 35,
      "outputs": [
        {
          "output_type": "execute_result",
          "data": {
            "text/plain": [
              "Timestamp('2019-09-07 00:00:00')"
            ]
          },
          "metadata": {},
          "execution_count": 35
        }
      ]
    },
    {
      "cell_type": "code",
      "execution_count": 31,
      "metadata": {
        "id": "2UhbyRYRWlhI",
        "outputId": "4a10ef5d-13ed-47be-a90d-f4d90ba32f64",
        "colab": {
          "base_uri": "https://localhost:8080/"
        }
      },
      "outputs": [
        {
          "output_type": "execute_result",
          "data": {
            "text/plain": [
              "pandas._libs.tslibs.timestamps.Timestamp"
            ]
          },
          "metadata": {},
          "execution_count": 31
        }
      ],
      "source": [
        "type(dt)"
      ]
    },
    {
      "cell_type": "code",
      "execution_count": 33,
      "metadata": {
        "id": "ZVuhM-YdWlhK",
        "outputId": "38b5b916-3d68-4c12-8a46-c0f91b17ecc4",
        "colab": {
          "base_uri": "https://localhost:8080/"
        }
      },
      "outputs": [
        {
          "output_type": "execute_result",
          "data": {
            "text/plain": [
              "0   2000-03-31\n",
              "1   2000-06-30\n",
              "2   2000-09-30\n",
              "3   2000-12-31\n",
              "dtype: datetime64[ns]"
            ]
          },
          "metadata": {},
          "execution_count": 33
        }
      ],
      "source": [
        "s=pd.Series(pd.date_range(\"2000-01-01\",periods=4,freq=\"q\"))\n",
        "s"
      ]
    },
    {
      "cell_type": "code",
      "execution_count": null,
      "metadata": {
        "id": "03Reqz49WlhL",
        "outputId": "c90f8482-1b05-4a28-d2ef-dac0ccd3cfea"
      },
      "outputs": [
        {
          "data": {
            "text/plain": [
              "0    2000-03-31\n",
              "1    2000-06-30\n",
              "2    2000-09-30\n",
              "3    2000-12-31\n",
              "dtype: object"
            ]
          },
          "execution_count": 74,
          "metadata": {},
          "output_type": "execute_result"
        }
      ],
      "source": [
        "s.dt.date"
      ]
    },
    {
      "cell_type": "code",
      "execution_count": null,
      "metadata": {
        "id": "JiLYSlP4WlhM",
        "outputId": "dd2a0f89-3fbf-4590-84aa-29e16956a86c"
      },
      "outputs": [
        {
          "data": {
            "text/plain": [
              "0    00:00:00\n",
              "1    00:00:00\n",
              "2    00:00:00\n",
              "3    00:00:00\n",
              "dtype: object"
            ]
          },
          "execution_count": 75,
          "metadata": {},
          "output_type": "execute_result"
        }
      ],
      "source": [
        "s.dt.time"
      ]
    },
    {
      "cell_type": "code",
      "execution_count": null,
      "metadata": {
        "id": "DVXtnm4xWlhN",
        "outputId": "45afd7ab-cb02-49ca-a424-d5e1fc172b19"
      },
      "outputs": [
        {
          "data": {
            "text/plain": [
              "(0    31\n",
              " 1    30\n",
              " 2    30\n",
              " 3    31\n",
              " dtype: int64, 0     3\n",
              " 1     6\n",
              " 2     9\n",
              " 3    12\n",
              " dtype: int64, 0    2000\n",
              " 1    2000\n",
              " 2    2000\n",
              " 3    2000\n",
              " dtype: int64)"
            ]
          },
          "execution_count": 77,
          "metadata": {},
          "output_type": "execute_result"
        }
      ],
      "source": [
        "s.dt.day,s.dt.month,s.dt.year"
      ]
    },
    {
      "cell_type": "code",
      "execution_count": null,
      "metadata": {
        "id": "1NMb8BuTWlhO",
        "outputId": "ce592c2d-614a-49bc-e67b-c81c800ef5ee"
      },
      "outputs": [
        {
          "data": {
            "text/plain": [
              "(0    0\n",
              " 1    0\n",
              " 2    0\n",
              " 3    0\n",
              " dtype: int64, 0    0\n",
              " 1    0\n",
              " 2    0\n",
              " 3    0\n",
              " dtype: int64)"
            ]
          },
          "execution_count": 78,
          "metadata": {},
          "output_type": "execute_result"
        }
      ],
      "source": [
        "s.dt.hour,s.dt.minute"
      ]
    },
    {
      "cell_type": "code",
      "execution_count": null,
      "metadata": {
        "id": "_tGVoNAUWlhP",
        "outputId": "f1a440e7-62da-43f9-e717-b973158742f2"
      },
      "outputs": [
        {
          "data": {
            "text/plain": [
              "(0    13\n",
              " 1    26\n",
              " 2    39\n",
              " 3    52\n",
              " dtype: int64, 0    4\n",
              " 1    4\n",
              " 2    5\n",
              " 3    6\n",
              " dtype: int64, 0    4\n",
              " 1    4\n",
              " 2    5\n",
              " 3    6\n",
              " dtype: int64)"
            ]
          },
          "execution_count": 81,
          "metadata": {},
          "output_type": "execute_result"
        }
      ],
      "source": [
        "s.dt.week,s.dt.dayofweek # or s.dt.weekday"
      ]
    },
    {
      "cell_type": "code",
      "execution_count": null,
      "metadata": {
        "id": "Cqt5oB2aWlhP"
      },
      "outputs": [],
      "source": [
        "# for others- search pd.series.dt...."
      ]
    },
    {
      "cell_type": "code",
      "execution_count": null,
      "metadata": {
        "id": "ZtFXb-Z6WlhP",
        "outputId": "45bb8c3c-2dc3-44bd-a4ef-3538cced863f"
      },
      "outputs": [
        {
          "data": {
            "text/plain": [
              "(Timestamp('2000-03-31 00:00:00'), Timestamp('2000-12-31 00:00:00'))"
            ]
          },
          "execution_count": 88,
          "metadata": {},
          "output_type": "execute_result"
        }
      ],
      "source": [
        "s.min(),s.max()"
      ]
    },
    {
      "cell_type": "code",
      "execution_count": null,
      "metadata": {
        "id": "jVAege-hWlhQ",
        "outputId": "eca4112f-f8ab-494a-a053-30dd839bbbee"
      },
      "outputs": [
        {
          "data": {
            "text/plain": [
              "Timestamp('2000-02-02 00:00:00')"
            ]
          },
          "execution_count": 85,
          "metadata": {},
          "output_type": "execute_result"
        }
      ],
      "source": [
        "pd.to_datetime('2000-02-02')"
      ]
    },
    {
      "cell_type": "code",
      "execution_count": null,
      "metadata": {
        "id": "lahTKGIbWlhR"
      },
      "outputs": [],
      "source": [
        "daterng=pd.date_range(start='2020-01-09',end='2020-09-09',freq='m')"
      ]
    },
    {
      "cell_type": "code",
      "execution_count": null,
      "metadata": {
        "id": "2ZnlM1LRWlhR",
        "outputId": "950423fd-e235-4375-e03c-093407f107f4"
      },
      "outputs": [
        {
          "data": {
            "text/plain": [
              "pandas._libs.tslibs.timestamps.Timestamp"
            ]
          },
          "execution_count": 92,
          "metadata": {},
          "output_type": "execute_result"
        }
      ],
      "source": [
        "type(daterng[0])"
      ]
    },
    {
      "cell_type": "code",
      "execution_count": null,
      "metadata": {
        "id": "QKfBD_asWlhR",
        "outputId": "6a68470c-d26a-495e-f78b-c0df93ae0fb7"
      },
      "outputs": [
        {
          "data": {
            "text/plain": [
              "date    datetime64[ns]\n",
              "dtype: object"
            ]
          },
          "execution_count": 94,
          "metadata": {},
          "output_type": "execute_result"
        }
      ],
      "source": [
        "dt=pd.DataFrame(daterng,columns=['date'])\n",
        "dt.dtypes"
      ]
    },
    {
      "cell_type": "code",
      "execution_count": null,
      "metadata": {
        "id": "vx66zLdIWlhS",
        "outputId": "baa26ef6-77ad-4f5e-a8a2-c9217c2b8f85"
      },
      "outputs": [
        {
          "data": {
            "text/plain": [
              "0    31\n",
              "1    29\n",
              "2    31\n",
              "3    30\n",
              "4    31\n",
              "5    30\n",
              "6    31\n",
              "7    31\n",
              "Name: date, dtype: int64"
            ]
          },
          "execution_count": 96,
          "metadata": {},
          "output_type": "execute_result"
        }
      ],
      "source": [
        "dt.date.dt.day"
      ]
    },
    {
      "cell_type": "code",
      "execution_count": null,
      "metadata": {
        "id": "0Lskqg-4WlhS"
      },
      "outputs": [],
      "source": []
    }
  ],
  "metadata": {
    "kernelspec": {
      "display_name": "Python 3",
      "language": "python",
      "name": "python3"
    },
    "language_info": {
      "codemirror_mode": {
        "name": "ipython",
        "version": 3
      },
      "file_extension": ".py",
      "mimetype": "text/x-python",
      "name": "python",
      "nbconvert_exporter": "python",
      "pygments_lexer": "ipython3",
      "version": "3.7.4"
    },
    "colab": {
      "provenance": [],
      "toc_visible": true,
      "include_colab_link": true
    }
  },
  "nbformat": 4,
  "nbformat_minor": 0
}