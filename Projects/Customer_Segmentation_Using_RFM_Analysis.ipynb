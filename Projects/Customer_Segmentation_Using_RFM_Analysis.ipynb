{
  "cells": [
    {
      "cell_type": "markdown",
      "metadata": {
        "id": "view-in-github",
        "colab_type": "text"
      },
      "source": [
        "<a href=\"https://colab.research.google.com/github/Rachita-G/Python_Practice/blob/main/Projects/Customer_Segmentation_Using_RFM_Analysis.ipynb\" target=\"_parent\"><img src=\"https://colab.research.google.com/assets/colab-badge.svg\" alt=\"Open In Colab\"/></a>"
      ]
    },
    {
      "cell_type": "markdown",
      "metadata": {
        "id": "6xouvG7ZsGK2"
      },
      "source": [
        "# Customer Segmentation Using RFM Analysis"
      ]
    },
    {
      "cell_type": "code",
      "execution_count": null,
      "metadata": {
        "id": "LpB1oFELsGK6"
      },
      "outputs": [],
      "source": [
        "import numpy as np\n",
        "import pandas as pd\n",
        "import matplotlib.pyplot as plt\n",
        "import seaborn as sns\n",
        "sns.set()\n",
        "color=sns.color_palette()\n",
        "\n",
        "import time\n",
        "import datetime as dt\n",
        "\n",
        "import warnings\n",
        "warnings.filterwarnings('ignore')"
      ]
    },
    {
      "cell_type": "code",
      "execution_count": null,
      "metadata": {
        "id": "4oKAodCTsGK7",
        "outputId": "8acd8db2-5e28-4248-8e2d-1849ea8a1ecf"
      },
      "outputs": [
        {
          "data": {
            "text/plain": [
              "'C:\\\\Users\\\\sanjana grover\\\\Desktop\\\\RACHITA\\\\Python\\\\Codes'"
            ]
          },
          "execution_count": 2,
          "metadata": {},
          "output_type": "execute_result"
        }
      ],
      "source": [
        "import os\n",
        "os.getcwd()"
      ]
    },
    {
      "cell_type": "code",
      "execution_count": null,
      "metadata": {
        "id": "qDWaDMuCsGK7"
      },
      "outputs": [],
      "source": [
        "rt=pd.read_csv('C:\\\\Users\\\\sanjana grover\\\\Desktop\\\\RACHITA\\\\Python\\\\Data\\\\OnlineRetail.csv', encoding= 'unicode_escape')"
      ]
    },
    {
      "cell_type": "code",
      "execution_count": null,
      "metadata": {
        "id": "vNUoU-vPsGK8",
        "outputId": "b0f4f5ec-7fa4-4a49-82b2-f5e32d573e8d"
      },
      "outputs": [
        {
          "name": "stdout",
          "output_type": "stream",
          "text": [
            "(541909, 8)\n"
          ]
        },
        {
          "data": {
            "text/html": [
              "<div>\n",
              "<style scoped>\n",
              "    .dataframe tbody tr th:only-of-type {\n",
              "        vertical-align: middle;\n",
              "    }\n",
              "\n",
              "    .dataframe tbody tr th {\n",
              "        vertical-align: top;\n",
              "    }\n",
              "\n",
              "    .dataframe thead th {\n",
              "        text-align: right;\n",
              "    }\n",
              "</style>\n",
              "<table border=\"1\" class=\"dataframe\">\n",
              "  <thead>\n",
              "    <tr style=\"text-align: right;\">\n",
              "      <th></th>\n",
              "      <th>InvoiceNo</th>\n",
              "      <th>StockCode</th>\n",
              "      <th>Description</th>\n",
              "      <th>Quantity</th>\n",
              "      <th>InvoiceDate</th>\n",
              "      <th>UnitPrice</th>\n",
              "      <th>CustomerID</th>\n",
              "      <th>Country</th>\n",
              "    </tr>\n",
              "  </thead>\n",
              "  <tbody>\n",
              "    <tr>\n",
              "      <th>0</th>\n",
              "      <td>536365</td>\n",
              "      <td>85123A</td>\n",
              "      <td>WHITE HANGING HEART T-LIGHT HOLDER</td>\n",
              "      <td>6</td>\n",
              "      <td>12/1/2010 8:26</td>\n",
              "      <td>2.55</td>\n",
              "      <td>17850.0</td>\n",
              "      <td>United Kingdom</td>\n",
              "    </tr>\n",
              "    <tr>\n",
              "      <th>1</th>\n",
              "      <td>536365</td>\n",
              "      <td>71053</td>\n",
              "      <td>WHITE METAL LANTERN</td>\n",
              "      <td>6</td>\n",
              "      <td>12/1/2010 8:26</td>\n",
              "      <td>3.39</td>\n",
              "      <td>17850.0</td>\n",
              "      <td>United Kingdom</td>\n",
              "    </tr>\n",
              "    <tr>\n",
              "      <th>2</th>\n",
              "      <td>536365</td>\n",
              "      <td>84406B</td>\n",
              "      <td>CREAM CUPID HEARTS COAT HANGER</td>\n",
              "      <td>8</td>\n",
              "      <td>12/1/2010 8:26</td>\n",
              "      <td>2.75</td>\n",
              "      <td>17850.0</td>\n",
              "      <td>United Kingdom</td>\n",
              "    </tr>\n",
              "    <tr>\n",
              "      <th>3</th>\n",
              "      <td>536365</td>\n",
              "      <td>84029G</td>\n",
              "      <td>KNITTED UNION FLAG HOT WATER BOTTLE</td>\n",
              "      <td>6</td>\n",
              "      <td>12/1/2010 8:26</td>\n",
              "      <td>3.39</td>\n",
              "      <td>17850.0</td>\n",
              "      <td>United Kingdom</td>\n",
              "    </tr>\n",
              "    <tr>\n",
              "      <th>4</th>\n",
              "      <td>536365</td>\n",
              "      <td>84029E</td>\n",
              "      <td>RED WOOLLY HOTTIE WHITE HEART.</td>\n",
              "      <td>6</td>\n",
              "      <td>12/1/2010 8:26</td>\n",
              "      <td>3.39</td>\n",
              "      <td>17850.0</td>\n",
              "      <td>United Kingdom</td>\n",
              "    </tr>\n",
              "  </tbody>\n",
              "</table>\n",
              "</div>"
            ],
            "text/plain": [
              "  InvoiceNo StockCode                          Description  Quantity  \\\n",
              "0    536365    85123A   WHITE HANGING HEART T-LIGHT HOLDER         6   \n",
              "1    536365     71053                  WHITE METAL LANTERN         6   \n",
              "2    536365    84406B       CREAM CUPID HEARTS COAT HANGER         8   \n",
              "3    536365    84029G  KNITTED UNION FLAG HOT WATER BOTTLE         6   \n",
              "4    536365    84029E       RED WOOLLY HOTTIE WHITE HEART.         6   \n",
              "\n",
              "      InvoiceDate  UnitPrice  CustomerID         Country  \n",
              "0  12/1/2010 8:26       2.55     17850.0  United Kingdom  \n",
              "1  12/1/2010 8:26       3.39     17850.0  United Kingdom  \n",
              "2  12/1/2010 8:26       2.75     17850.0  United Kingdom  \n",
              "3  12/1/2010 8:26       3.39     17850.0  United Kingdom  \n",
              "4  12/1/2010 8:26       3.39     17850.0  United Kingdom  "
            ]
          },
          "execution_count": 4,
          "metadata": {},
          "output_type": "execute_result"
        }
      ],
      "source": [
        "print(rt.shape)\n",
        "rt.head()"
      ]
    },
    {
      "cell_type": "code",
      "execution_count": null,
      "metadata": {
        "id": "yw8n5hyjsGK8",
        "outputId": "a7b975f7-72f0-4c24-dd0c-bc74444eb716"
      },
      "outputs": [
        {
          "data": {
            "text/html": [
              "<div>\n",
              "<style scoped>\n",
              "    .dataframe tbody tr th:only-of-type {\n",
              "        vertical-align: middle;\n",
              "    }\n",
              "\n",
              "    .dataframe tbody tr th {\n",
              "        vertical-align: top;\n",
              "    }\n",
              "\n",
              "    .dataframe thead th {\n",
              "        text-align: right;\n",
              "    }\n",
              "</style>\n",
              "<table border=\"1\" class=\"dataframe\">\n",
              "  <thead>\n",
              "    <tr style=\"text-align: right;\">\n",
              "      <th></th>\n",
              "      <th>InvoiceNo</th>\n",
              "      <th>StockCode</th>\n",
              "      <th>Description</th>\n",
              "      <th>Quantity</th>\n",
              "      <th>InvoiceDate</th>\n",
              "      <th>UnitPrice</th>\n",
              "      <th>CustomerID</th>\n",
              "      <th>Country</th>\n",
              "    </tr>\n",
              "  </thead>\n",
              "  <tbody>\n",
              "    <tr>\n",
              "      <th>count</th>\n",
              "      <td>541909</td>\n",
              "      <td>541909</td>\n",
              "      <td>540455</td>\n",
              "      <td>541909.000000</td>\n",
              "      <td>541909</td>\n",
              "      <td>541909.000000</td>\n",
              "      <td>406829.000000</td>\n",
              "      <td>541909</td>\n",
              "    </tr>\n",
              "    <tr>\n",
              "      <th>unique</th>\n",
              "      <td>25900</td>\n",
              "      <td>4070</td>\n",
              "      <td>4223</td>\n",
              "      <td>NaN</td>\n",
              "      <td>23260</td>\n",
              "      <td>NaN</td>\n",
              "      <td>NaN</td>\n",
              "      <td>38</td>\n",
              "    </tr>\n",
              "    <tr>\n",
              "      <th>top</th>\n",
              "      <td>573585</td>\n",
              "      <td>85123A</td>\n",
              "      <td>WHITE HANGING HEART T-LIGHT HOLDER</td>\n",
              "      <td>NaN</td>\n",
              "      <td>10/31/2011 14:41</td>\n",
              "      <td>NaN</td>\n",
              "      <td>NaN</td>\n",
              "      <td>United Kingdom</td>\n",
              "    </tr>\n",
              "    <tr>\n",
              "      <th>freq</th>\n",
              "      <td>1114</td>\n",
              "      <td>2313</td>\n",
              "      <td>2369</td>\n",
              "      <td>NaN</td>\n",
              "      <td>1114</td>\n",
              "      <td>NaN</td>\n",
              "      <td>NaN</td>\n",
              "      <td>495478</td>\n",
              "    </tr>\n",
              "    <tr>\n",
              "      <th>mean</th>\n",
              "      <td>NaN</td>\n",
              "      <td>NaN</td>\n",
              "      <td>NaN</td>\n",
              "      <td>9.552250</td>\n",
              "      <td>NaN</td>\n",
              "      <td>4.611114</td>\n",
              "      <td>15287.690570</td>\n",
              "      <td>NaN</td>\n",
              "    </tr>\n",
              "    <tr>\n",
              "      <th>std</th>\n",
              "      <td>NaN</td>\n",
              "      <td>NaN</td>\n",
              "      <td>NaN</td>\n",
              "      <td>218.081158</td>\n",
              "      <td>NaN</td>\n",
              "      <td>96.759853</td>\n",
              "      <td>1713.600303</td>\n",
              "      <td>NaN</td>\n",
              "    </tr>\n",
              "    <tr>\n",
              "      <th>min</th>\n",
              "      <td>NaN</td>\n",
              "      <td>NaN</td>\n",
              "      <td>NaN</td>\n",
              "      <td>-80995.000000</td>\n",
              "      <td>NaN</td>\n",
              "      <td>-11062.060000</td>\n",
              "      <td>12346.000000</td>\n",
              "      <td>NaN</td>\n",
              "    </tr>\n",
              "    <tr>\n",
              "      <th>25%</th>\n",
              "      <td>NaN</td>\n",
              "      <td>NaN</td>\n",
              "      <td>NaN</td>\n",
              "      <td>1.000000</td>\n",
              "      <td>NaN</td>\n",
              "      <td>1.250000</td>\n",
              "      <td>13953.000000</td>\n",
              "      <td>NaN</td>\n",
              "    </tr>\n",
              "    <tr>\n",
              "      <th>50%</th>\n",
              "      <td>NaN</td>\n",
              "      <td>NaN</td>\n",
              "      <td>NaN</td>\n",
              "      <td>3.000000</td>\n",
              "      <td>NaN</td>\n",
              "      <td>2.080000</td>\n",
              "      <td>15152.000000</td>\n",
              "      <td>NaN</td>\n",
              "    </tr>\n",
              "    <tr>\n",
              "      <th>75%</th>\n",
              "      <td>NaN</td>\n",
              "      <td>NaN</td>\n",
              "      <td>NaN</td>\n",
              "      <td>10.000000</td>\n",
              "      <td>NaN</td>\n",
              "      <td>4.130000</td>\n",
              "      <td>16791.000000</td>\n",
              "      <td>NaN</td>\n",
              "    </tr>\n",
              "    <tr>\n",
              "      <th>max</th>\n",
              "      <td>NaN</td>\n",
              "      <td>NaN</td>\n",
              "      <td>NaN</td>\n",
              "      <td>80995.000000</td>\n",
              "      <td>NaN</td>\n",
              "      <td>38970.000000</td>\n",
              "      <td>18287.000000</td>\n",
              "      <td>NaN</td>\n",
              "    </tr>\n",
              "  </tbody>\n",
              "</table>\n",
              "</div>"
            ],
            "text/plain": [
              "       InvoiceNo StockCode                         Description       Quantity  \\\n",
              "count     541909    541909                              540455  541909.000000   \n",
              "unique     25900      4070                                4223            NaN   \n",
              "top       573585    85123A  WHITE HANGING HEART T-LIGHT HOLDER            NaN   \n",
              "freq        1114      2313                                2369            NaN   \n",
              "mean         NaN       NaN                                 NaN       9.552250   \n",
              "std          NaN       NaN                                 NaN     218.081158   \n",
              "min          NaN       NaN                                 NaN  -80995.000000   \n",
              "25%          NaN       NaN                                 NaN       1.000000   \n",
              "50%          NaN       NaN                                 NaN       3.000000   \n",
              "75%          NaN       NaN                                 NaN      10.000000   \n",
              "max          NaN       NaN                                 NaN   80995.000000   \n",
              "\n",
              "             InvoiceDate      UnitPrice     CustomerID         Country  \n",
              "count             541909  541909.000000  406829.000000          541909  \n",
              "unique             23260            NaN            NaN              38  \n",
              "top     10/31/2011 14:41            NaN            NaN  United Kingdom  \n",
              "freq                1114            NaN            NaN          495478  \n",
              "mean                 NaN       4.611114   15287.690570             NaN  \n",
              "std                  NaN      96.759853    1713.600303             NaN  \n",
              "min                  NaN  -11062.060000   12346.000000             NaN  \n",
              "25%                  NaN       1.250000   13953.000000             NaN  \n",
              "50%                  NaN       2.080000   15152.000000             NaN  \n",
              "75%                  NaN       4.130000   16791.000000             NaN  \n",
              "max                  NaN   38970.000000   18287.000000             NaN  "
            ]
          },
          "execution_count": 5,
          "metadata": {},
          "output_type": "execute_result"
        }
      ],
      "source": [
        "rt.describe(include='all')"
      ]
    },
    {
      "cell_type": "code",
      "execution_count": null,
      "metadata": {
        "id": "roE3dPgRsGK8",
        "outputId": "f84323fb-7578-489c-a818-d177fc74f508"
      },
      "outputs": [
        {
          "name": "stdout",
          "output_type": "stream",
          "text": [
            "<class 'pandas.core.frame.DataFrame'>\n",
            "RangeIndex: 541909 entries, 0 to 541908\n",
            "Data columns (total 8 columns):\n",
            " #   Column       Non-Null Count   Dtype  \n",
            "---  ------       --------------   -----  \n",
            " 0   InvoiceNo    541909 non-null  object \n",
            " 1   StockCode    541909 non-null  object \n",
            " 2   Description  540455 non-null  object \n",
            " 3   Quantity     541909 non-null  int64  \n",
            " 4   InvoiceDate  541909 non-null  object \n",
            " 5   UnitPrice    541909 non-null  float64\n",
            " 6   CustomerID   406829 non-null  float64\n",
            " 7   Country      541909 non-null  object \n",
            "dtypes: float64(2), int64(1), object(5)\n",
            "memory usage: 33.1+ MB\n"
          ]
        }
      ],
      "source": [
        "rt.info()"
      ]
    },
    {
      "cell_type": "code",
      "execution_count": null,
      "metadata": {
        "id": "ezfjMWJrsGK9",
        "outputId": "eb5fbf75-0b67-448b-aae9-f5fee79c6340"
      },
      "outputs": [
        {
          "data": {
            "text/plain": [
              "['InvoiceNo',\n",
              " 'StockCode',\n",
              " 'Description',\n",
              " 'Quantity',\n",
              " 'InvoiceDate',\n",
              " 'UnitPrice',\n",
              " 'CustomerID',\n",
              " 'Country']"
            ]
          },
          "execution_count": 7,
          "metadata": {},
          "output_type": "execute_result"
        }
      ],
      "source": [
        "list(rt.columns)"
      ]
    },
    {
      "cell_type": "code",
      "execution_count": null,
      "metadata": {
        "id": "mI0QsafasGK9",
        "outputId": "99954e87-d2b3-496a-cada-d18e09ea5073"
      },
      "outputs": [
        {
          "data": {
            "text/plain": [
              "InvoiceNo           0\n",
              "StockCode           0\n",
              "Description      1454\n",
              "Quantity            0\n",
              "InvoiceDate         0\n",
              "UnitPrice           0\n",
              "CustomerID     135080\n",
              "Country             0\n",
              "dtype: int64"
            ]
          },
          "execution_count": 8,
          "metadata": {},
          "output_type": "execute_result"
        }
      ],
      "source": [
        "rt.isna().sum()"
      ]
    },
    {
      "cell_type": "code",
      "execution_count": null,
      "metadata": {
        "id": "57rGDC0dsGK9",
        "outputId": "95e65e50-e1da-41bd-8e9d-fd6100e6d52c"
      },
      "outputs": [
        {
          "data": {
            "text/plain": [
              "(406829, 8)"
            ]
          },
          "execution_count": 9,
          "metadata": {},
          "output_type": "execute_result"
        }
      ],
      "source": [
        "rt.dropna(subset=['CustomerID'],how='all',inplace=True)\n",
        "rt.shape"
      ]
    },
    {
      "cell_type": "code",
      "execution_count": null,
      "metadata": {
        "id": "Qda9PBNysGK9",
        "outputId": "903ab00f-479a-464e-dd19-d730f4892003"
      },
      "outputs": [
        {
          "data": {
            "text/plain": [
              "0"
            ]
          },
          "execution_count": 10,
          "metadata": {},
          "output_type": "execute_result"
        }
      ],
      "source": [
        "rt.isna().sum().sum()"
      ]
    },
    {
      "cell_type": "code",
      "execution_count": null,
      "metadata": {
        "id": "XSgoiFNBsGK-",
        "outputId": "2837e80d-a6e6-47f9-e0b0-358b503f5443"
      },
      "outputs": [
        {
          "data": {
            "text/plain": [
              "Index(['InvoiceNo', 'StockCode', 'Description', 'Quantity', 'InvoiceDate',\n",
              "       'UnitPrice', 'CustomerID', 'Country'],\n",
              "      dtype='object')"
            ]
          },
          "execution_count": 11,
          "metadata": {},
          "output_type": "execute_result"
        }
      ],
      "source": [
        "rt.columns"
      ]
    },
    {
      "cell_type": "code",
      "execution_count": null,
      "metadata": {
        "id": "CipgekEXsGK-",
        "outputId": "fb8f8cd0-e02a-4b42-d766-e092107b8f43"
      },
      "outputs": [
        {
          "data": {
            "text/html": [
              "<div>\n",
              "<style scoped>\n",
              "    .dataframe tbody tr th:only-of-type {\n",
              "        vertical-align: middle;\n",
              "    }\n",
              "\n",
              "    .dataframe tbody tr th {\n",
              "        vertical-align: top;\n",
              "    }\n",
              "\n",
              "    .dataframe thead th {\n",
              "        text-align: right;\n",
              "    }\n",
              "</style>\n",
              "<table border=\"1\" class=\"dataframe\">\n",
              "  <thead>\n",
              "    <tr style=\"text-align: right;\">\n",
              "      <th></th>\n",
              "      <th>InvoiceNo</th>\n",
              "      <th>StockCode</th>\n",
              "      <th>Description</th>\n",
              "      <th>Quantity</th>\n",
              "      <th>InvoiceDate</th>\n",
              "      <th>UnitPrice</th>\n",
              "      <th>CustomerID</th>\n",
              "      <th>Country</th>\n",
              "    </tr>\n",
              "  </thead>\n",
              "  <tbody>\n",
              "    <tr>\n",
              "      <th>0</th>\n",
              "      <td>536365</td>\n",
              "      <td>85123A</td>\n",
              "      <td>WHITE HANGING HEART T-LIGHT HOLDER</td>\n",
              "      <td>6</td>\n",
              "      <td>12/1/2010 8:26</td>\n",
              "      <td>2.55</td>\n",
              "      <td>17850.0</td>\n",
              "      <td>United Kingdom</td>\n",
              "    </tr>\n",
              "    <tr>\n",
              "      <th>1</th>\n",
              "      <td>536365</td>\n",
              "      <td>71053</td>\n",
              "      <td>WHITE METAL LANTERN</td>\n",
              "      <td>6</td>\n",
              "      <td>12/1/2010 8:26</td>\n",
              "      <td>3.39</td>\n",
              "      <td>17850.0</td>\n",
              "      <td>United Kingdom</td>\n",
              "    </tr>\n",
              "    <tr>\n",
              "      <th>2</th>\n",
              "      <td>536365</td>\n",
              "      <td>84406B</td>\n",
              "      <td>CREAM CUPID HEARTS COAT HANGER</td>\n",
              "      <td>8</td>\n",
              "      <td>12/1/2010 8:26</td>\n",
              "      <td>2.75</td>\n",
              "      <td>17850.0</td>\n",
              "      <td>United Kingdom</td>\n",
              "    </tr>\n",
              "    <tr>\n",
              "      <th>3</th>\n",
              "      <td>536365</td>\n",
              "      <td>84029G</td>\n",
              "      <td>KNITTED UNION FLAG HOT WATER BOTTLE</td>\n",
              "      <td>6</td>\n",
              "      <td>12/1/2010 8:26</td>\n",
              "      <td>3.39</td>\n",
              "      <td>17850.0</td>\n",
              "      <td>United Kingdom</td>\n",
              "    </tr>\n",
              "    <tr>\n",
              "      <th>4</th>\n",
              "      <td>536365</td>\n",
              "      <td>84029E</td>\n",
              "      <td>RED WOOLLY HOTTIE WHITE HEART.</td>\n",
              "      <td>6</td>\n",
              "      <td>12/1/2010 8:26</td>\n",
              "      <td>3.39</td>\n",
              "      <td>17850.0</td>\n",
              "      <td>United Kingdom</td>\n",
              "    </tr>\n",
              "  </tbody>\n",
              "</table>\n",
              "</div>"
            ],
            "text/plain": [
              "  InvoiceNo StockCode                          Description  Quantity  \\\n",
              "0    536365    85123A   WHITE HANGING HEART T-LIGHT HOLDER         6   \n",
              "1    536365     71053                  WHITE METAL LANTERN         6   \n",
              "2    536365    84406B       CREAM CUPID HEARTS COAT HANGER         8   \n",
              "3    536365    84029G  KNITTED UNION FLAG HOT WATER BOTTLE         6   \n",
              "4    536365    84029E       RED WOOLLY HOTTIE WHITE HEART.         6   \n",
              "\n",
              "      InvoiceDate  UnitPrice  CustomerID         Country  \n",
              "0  12/1/2010 8:26       2.55     17850.0  United Kingdom  \n",
              "1  12/1/2010 8:26       3.39     17850.0  United Kingdom  \n",
              "2  12/1/2010 8:26       2.75     17850.0  United Kingdom  \n",
              "3  12/1/2010 8:26       3.39     17850.0  United Kingdom  \n",
              "4  12/1/2010 8:26       3.39     17850.0  United Kingdom  "
            ]
          },
          "execution_count": 12,
          "metadata": {},
          "output_type": "execute_result"
        }
      ],
      "source": [
        "rt.head()"
      ]
    },
    {
      "cell_type": "code",
      "execution_count": null,
      "metadata": {
        "id": "_28pDKVpsGK-",
        "outputId": "33098a76-38e0-4c3a-ff8a-35f9088d8a16"
      },
      "outputs": [
        {
          "name": "stdout",
          "output_type": "stream",
          "text": [
            "no of unique values for InvoiceNo column is 22190\n",
            "no of unique values for StockCode column is 3684\n",
            "no of unique values for Description column is 3896\n",
            "no of unique values for Quantity column is 436\n",
            "no of unique values for InvoiceDate column is 20460\n",
            "no of unique values for UnitPrice column is 620\n",
            "no of unique values for CustomerID column is 4372\n",
            "no of unique values for Country column is 37 and they are like ['Australia' 'Austria' 'Bahrain' 'Belgium' 'Brazil' 'Canada'\n",
            " 'Channel Islands' 'Cyprus' 'Czech Republic' 'Denmark' 'EIRE'\n",
            " 'European Community' 'Finland' 'France' 'Germany' 'Greece' 'Iceland'\n",
            " 'Israel' 'Italy' 'Japan' 'Lebanon' 'Lithuania' 'Malta' 'Netherlands'\n",
            " 'Norway' 'Poland' 'Portugal' 'RSA' 'Saudi Arabia' 'Singapore' 'Spain'\n",
            " 'Sweden' 'Switzerland' 'USA' 'United Arab Emirates' 'United Kingdom'\n",
            " 'Unspecified']\n"
          ]
        }
      ],
      "source": [
        "for col in list(rt.columns):\n",
        "    uv=np.unique(rt[col])\n",
        "    nu=len(uv)\n",
        "    if nu<40:\n",
        "        print('no of unique values for {} column is {} and they are like {}'.format(col,nu,uv))\n",
        "    else:\n",
        "        print('no of unique values for {} column is {}'.format(col,nu))"
      ]
    },
    {
      "cell_type": "code",
      "execution_count": null,
      "metadata": {
        "id": "pRNqXeGMsGK-",
        "outputId": "cdabe4c6-aa75-4740-d198-08e60dac8bac"
      },
      "outputs": [
        {
          "data": {
            "text/plain": [
              "Country\n",
              "United Kingdom    361878\n",
              "Germany             9495\n",
              "France              8491\n",
              "EIRE                7485\n",
              "Spain               2533\n",
              "Name: CustomerID, dtype: int64"
            ]
          },
          "execution_count": 14,
          "metadata": {},
          "output_type": "execute_result"
        }
      ],
      "source": [
        "# country wise \n",
        "rt.groupby(['Country'])['CustomerID'].count().sort_values(ascending=False).head()"
      ]
    },
    {
      "cell_type": "code",
      "execution_count": null,
      "metadata": {
        "id": "8xBVJewYsGK-",
        "outputId": "f6ffb8cf-3bd2-45df-e12a-f5f8f3d8ad5d"
      },
      "outputs": [
        {
          "data": {
            "text/plain": [
              "United Kingdom    361878\n",
              "Germany             9495\n",
              "France              8491\n",
              "EIRE                7485\n",
              "Spain               2533\n",
              "Name: Country, dtype: int64"
            ]
          },
          "execution_count": 15,
          "metadata": {},
          "output_type": "execute_result"
        }
      ],
      "source": [
        "# or \n",
        "rt.Country.value_counts().head()"
      ]
    },
    {
      "cell_type": "code",
      "execution_count": null,
      "metadata": {
        "id": "Bky7kq4NsGK_",
        "outputId": "4863aaeb-de35-43b7-9114-533cc4d34635"
      },
      "outputs": [
        {
          "data": {
            "text/plain": [
              "(array([ 0,  1,  2,  3,  4,  5,  6,  7,  8,  9, 10, 11, 12, 13, 14, 15, 16,\n",
              "        17, 18, 19, 20, 21, 22, 23, 24, 25, 26, 27, 28, 29, 30, 31, 32, 33,\n",
              "        34, 35, 36]), <a list of 37 Text major ticklabel objects>)"
            ]
          },
          "execution_count": 16,
          "metadata": {},
          "output_type": "execute_result"
        },
        {
          "data": {
            "image/png": "[encoded data removed]",
            "text/plain": [
              "<Figure size 864x504 with 1 Axes>"
            ]
          },
          "metadata": {
            "needs_background": "light"
          },
          "output_type": "display_data"
        }
      ],
      "source": [
        "plt.figure(figsize=(12,7))\n",
        "sns.countplot('Country',data=rt)\n",
        "plt.xticks(rotation=90)"
      ]
    },
    {
      "cell_type": "code",
      "execution_count": null,
      "metadata": {
        "id": "sok3ypstsGK_",
        "outputId": "551de6da-00d6-4f74-886b-f5bcb50d9708"
      },
      "outputs": [
        {
          "data": {
            "text/plain": [
              "<matplotlib.axes._subplots.AxesSubplot at 0x21760c2c988>"
            ]
          },
          "execution_count": 17,
          "metadata": {},
          "output_type": "execute_result"
        },
        {
          "data": {
            "image/png": "[encoded data removed]",
            "text/plain": [
              "<Figure size 432x288 with 1 Axes>"
            ]
          },
          "metadata": {
            "needs_background": "light"
          },
          "output_type": "display_data"
        }
      ],
      "source": [
        "rt.Country.value_counts()[:10].plot(kind='bar')"
      ]
    },
    {
      "cell_type": "code",
      "execution_count": null,
      "metadata": {
        "id": "jg1Q4O7YsGK_",
        "outputId": "baeba5f3-652e-41ad-fe75-07568d22cf23"
      },
      "outputs": [
        {
          "name": "stdout",
          "output_type": "stream",
          "text": [
            "(361878, 8)\n"
          ]
        },
        {
          "data": {
            "text/html": [
              "<div>\n",
              "<style scoped>\n",
              "    .dataframe tbody tr th:only-of-type {\n",
              "        vertical-align: middle;\n",
              "    }\n",
              "\n",
              "    .dataframe tbody tr th {\n",
              "        vertical-align: top;\n",
              "    }\n",
              "\n",
              "    .dataframe thead th {\n",
              "        text-align: right;\n",
              "    }\n",
              "</style>\n",
              "<table border=\"1\" class=\"dataframe\">\n",
              "  <thead>\n",
              "    <tr style=\"text-align: right;\">\n",
              "      <th></th>\n",
              "      <th>InvoiceNo</th>\n",
              "      <th>StockCode</th>\n",
              "      <th>Description</th>\n",
              "      <th>Quantity</th>\n",
              "      <th>InvoiceDate</th>\n",
              "      <th>UnitPrice</th>\n",
              "      <th>CustomerID</th>\n",
              "      <th>Country</th>\n",
              "    </tr>\n",
              "  </thead>\n",
              "  <tbody>\n",
              "    <tr>\n",
              "      <th>0</th>\n",
              "      <td>536365</td>\n",
              "      <td>85123A</td>\n",
              "      <td>WHITE HANGING HEART T-LIGHT HOLDER</td>\n",
              "      <td>6</td>\n",
              "      <td>12/1/2010 8:26</td>\n",
              "      <td>2.55</td>\n",
              "      <td>17850.0</td>\n",
              "      <td>United Kingdom</td>\n",
              "    </tr>\n",
              "    <tr>\n",
              "      <th>1</th>\n",
              "      <td>536365</td>\n",
              "      <td>71053</td>\n",
              "      <td>WHITE METAL LANTERN</td>\n",
              "      <td>6</td>\n",
              "      <td>12/1/2010 8:26</td>\n",
              "      <td>3.39</td>\n",
              "      <td>17850.0</td>\n",
              "      <td>United Kingdom</td>\n",
              "    </tr>\n",
              "    <tr>\n",
              "      <th>2</th>\n",
              "      <td>536365</td>\n",
              "      <td>84406B</td>\n",
              "      <td>CREAM CUPID HEARTS COAT HANGER</td>\n",
              "      <td>8</td>\n",
              "      <td>12/1/2010 8:26</td>\n",
              "      <td>2.75</td>\n",
              "      <td>17850.0</td>\n",
              "      <td>United Kingdom</td>\n",
              "    </tr>\n",
              "    <tr>\n",
              "      <th>3</th>\n",
              "      <td>536365</td>\n",
              "      <td>84029G</td>\n",
              "      <td>KNITTED UNION FLAG HOT WATER BOTTLE</td>\n",
              "      <td>6</td>\n",
              "      <td>12/1/2010 8:26</td>\n",
              "      <td>3.39</td>\n",
              "      <td>17850.0</td>\n",
              "      <td>United Kingdom</td>\n",
              "    </tr>\n",
              "    <tr>\n",
              "      <th>4</th>\n",
              "      <td>536365</td>\n",
              "      <td>84029E</td>\n",
              "      <td>RED WOOLLY HOTTIE WHITE HEART.</td>\n",
              "      <td>6</td>\n",
              "      <td>12/1/2010 8:26</td>\n",
              "      <td>3.39</td>\n",
              "      <td>17850.0</td>\n",
              "      <td>United Kingdom</td>\n",
              "    </tr>\n",
              "  </tbody>\n",
              "</table>\n",
              "</div>"
            ],
            "text/plain": [
              "  InvoiceNo StockCode                          Description  Quantity  \\\n",
              "0    536365    85123A   WHITE HANGING HEART T-LIGHT HOLDER         6   \n",
              "1    536365     71053                  WHITE METAL LANTERN         6   \n",
              "2    536365    84406B       CREAM CUPID HEARTS COAT HANGER         8   \n",
              "3    536365    84029G  KNITTED UNION FLAG HOT WATER BOTTLE         6   \n",
              "4    536365    84029E       RED WOOLLY HOTTIE WHITE HEART.         6   \n",
              "\n",
              "      InvoiceDate  UnitPrice  CustomerID         Country  \n",
              "0  12/1/2010 8:26       2.55     17850.0  United Kingdom  \n",
              "1  12/1/2010 8:26       3.39     17850.0  United Kingdom  \n",
              "2  12/1/2010 8:26       2.75     17850.0  United Kingdom  \n",
              "3  12/1/2010 8:26       3.39     17850.0  United Kingdom  \n",
              "4  12/1/2010 8:26       3.39     17850.0  United Kingdom  "
            ]
          },
          "execution_count": 18,
          "metadata": {},
          "output_type": "execute_result"
        }
      ],
      "source": [
        "# taking for only UK\n",
        "rt=rt[rt['Country']=='United Kingdom']\n",
        "print(rt.shape)\n",
        "rt.head()"
      ]
    },
    {
      "cell_type": "code",
      "execution_count": null,
      "metadata": {
        "id": "2-VHGwTosGK_",
        "outputId": "46dc7d87-dd4a-433c-a063-25aed1d2fba4"
      },
      "outputs": [
        {
          "data": {
            "text/plain": [
              "(361878, 8)"
            ]
          },
          "execution_count": 19,
          "metadata": {},
          "output_type": "execute_result"
        }
      ],
      "source": [
        "# removing cancelled orders\n",
        "rt=rt[rt['Quantity']!=0]\n",
        "rt.shape"
      ]
    },
    {
      "cell_type": "code",
      "execution_count": null,
      "metadata": {
        "id": "5wOupGTQsGK_",
        "outputId": "313ad88f-bc03-4623-e02b-68996a5d19ed"
      },
      "outputs": [
        {
          "name": "stdout",
          "output_type": "stream",
          "text": [
            "Number of transactions:  19857\n",
            "Number of products bought:  3661\n",
            "Number of customers: 3950\n"
          ]
        }
      ],
      "source": [
        "print(\"Number of transactions: \", rt['InvoiceNo'].nunique())\n",
        "print(\"Number of products bought: \",rt['StockCode'].nunique())\n",
        "print(\"Number of customers:\", rt['CustomerID'].nunique())"
      ]
    },
    {
      "cell_type": "code",
      "execution_count": null,
      "metadata": {
        "id": "7zcs3Lt5sGLA",
        "outputId": "824d5cfa-cf53-475f-841c-d26fd1929d94"
      },
      "outputs": [
        {
          "data": {
            "text/plain": [
              "(361878, 8)"
            ]
          },
          "execution_count": 21,
          "metadata": {},
          "output_type": "execute_result"
        }
      ],
      "source": [
        "rt1=rt.copy()\n",
        "rt1[['Country','CustomerID']].drop_duplicates()\n",
        "rt1.shape"
      ]
    },
    {
      "cell_type": "code",
      "execution_count": null,
      "metadata": {
        "id": "mCspjj-FsGLA",
        "outputId": "02a3e5fe-b446-43e1-df7d-14dfd45ea1b7"
      },
      "outputs": [
        {
          "data": {
            "text/html": [
              "<div>\n",
              "<style scoped>\n",
              "    .dataframe tbody tr th:only-of-type {\n",
              "        vertical-align: middle;\n",
              "    }\n",
              "\n",
              "    .dataframe tbody tr th {\n",
              "        vertical-align: top;\n",
              "    }\n",
              "\n",
              "    .dataframe thead th {\n",
              "        text-align: right;\n",
              "    }\n",
              "</style>\n",
              "<table border=\"1\" class=\"dataframe\">\n",
              "  <thead>\n",
              "    <tr style=\"text-align: right;\">\n",
              "      <th></th>\n",
              "      <th>InvoiceNo</th>\n",
              "      <th>Quantity</th>\n",
              "      <th>InvoiceDate</th>\n",
              "      <th>UnitPrice</th>\n",
              "      <th>CustomerID</th>\n",
              "      <th>Total Sales</th>\n",
              "      <th>Date</th>\n",
              "    </tr>\n",
              "  </thead>\n",
              "  <tbody>\n",
              "    <tr>\n",
              "      <th>0</th>\n",
              "      <td>536365</td>\n",
              "      <td>6</td>\n",
              "      <td>12/1/2010 8:26</td>\n",
              "      <td>2.55</td>\n",
              "      <td>17850.0</td>\n",
              "      <td>15.30</td>\n",
              "      <td>2010-12-01</td>\n",
              "    </tr>\n",
              "    <tr>\n",
              "      <th>1</th>\n",
              "      <td>536365</td>\n",
              "      <td>6</td>\n",
              "      <td>12/1/2010 8:26</td>\n",
              "      <td>3.39</td>\n",
              "      <td>17850.0</td>\n",
              "      <td>20.34</td>\n",
              "      <td>2010-12-01</td>\n",
              "    </tr>\n",
              "    <tr>\n",
              "      <th>2</th>\n",
              "      <td>536365</td>\n",
              "      <td>8</td>\n",
              "      <td>12/1/2010 8:26</td>\n",
              "      <td>2.75</td>\n",
              "      <td>17850.0</td>\n",
              "      <td>22.00</td>\n",
              "      <td>2010-12-01</td>\n",
              "    </tr>\n",
              "    <tr>\n",
              "      <th>3</th>\n",
              "      <td>536365</td>\n",
              "      <td>6</td>\n",
              "      <td>12/1/2010 8:26</td>\n",
              "      <td>3.39</td>\n",
              "      <td>17850.0</td>\n",
              "      <td>20.34</td>\n",
              "      <td>2010-12-01</td>\n",
              "    </tr>\n",
              "    <tr>\n",
              "      <th>4</th>\n",
              "      <td>536365</td>\n",
              "      <td>6</td>\n",
              "      <td>12/1/2010 8:26</td>\n",
              "      <td>3.39</td>\n",
              "      <td>17850.0</td>\n",
              "      <td>20.34</td>\n",
              "      <td>2010-12-01</td>\n",
              "    </tr>\n",
              "  </tbody>\n",
              "</table>\n",
              "</div>"
            ],
            "text/plain": [
              "  InvoiceNo  Quantity     InvoiceDate  UnitPrice  CustomerID  Total Sales  \\\n",
              "0    536365         6  12/1/2010 8:26       2.55     17850.0        15.30   \n",
              "1    536365         6  12/1/2010 8:26       3.39     17850.0        20.34   \n",
              "2    536365         8  12/1/2010 8:26       2.75     17850.0        22.00   \n",
              "3    536365         6  12/1/2010 8:26       3.39     17850.0        20.34   \n",
              "4    536365         6  12/1/2010 8:26       3.39     17850.0        20.34   \n",
              "\n",
              "         Date  \n",
              "0  2010-12-01  \n",
              "1  2010-12-01  \n",
              "2  2010-12-01  \n",
              "3  2010-12-01  \n",
              "4  2010-12-01  "
            ]
          },
          "execution_count": 22,
          "metadata": {},
          "output_type": "execute_result"
        }
      ],
      "source": [
        "# filter required columns\n",
        "rt['Date']=pd.DatetimeIndex(rt['InvoiceDate']).date\n",
        "rt['Total Sales']=rt['UnitPrice']*rt['Quantity']\n",
        "rt=rt[['InvoiceNo','Quantity', 'InvoiceDate','UnitPrice','CustomerID','Total Sales','Date']]\n",
        "rt.head()"
      ]
    },
    {
      "cell_type": "code",
      "execution_count": null,
      "metadata": {
        "id": "iTRns_2gsGLA",
        "outputId": "a40c549c-f5e0-49fb-f872-2cae292f504f"
      },
      "outputs": [
        {
          "data": {
            "text/plain": [
              "datetime.date(2011, 12, 9)"
            ]
          },
          "execution_count": 23,
          "metadata": {},
          "output_type": "execute_result"
        }
      ],
      "source": [
        "# restricting the data to one year\n",
        "rt.Date.max()"
      ]
    },
    {
      "cell_type": "code",
      "execution_count": null,
      "metadata": {
        "id": "gkzG_F01sGLA",
        "outputId": "bdd56024-6713-4bc6-f326-b6d38567e8cc"
      },
      "outputs": [
        {
          "name": "stdout",
          "output_type": "stream",
          "text": [
            "(361878, 7)\n"
          ]
        },
        {
          "data": {
            "text/plain": [
              "(180105, 7)"
            ]
          },
          "execution_count": 24,
          "metadata": {},
          "output_type": "execute_result"
        }
      ],
      "source": [
        "# taking the data for a year for analysis\n",
        "print(rt.shape)\n",
        "rt=rt[rt.InvoiceDate>='2010-12-9']\n",
        "rt.shape"
      ]
    },
    {
      "cell_type": "markdown",
      "metadata": {
        "id": "tIMQuDF6sGLB"
      },
      "source": [
        "# Recency:\n",
        "To calculate recency, we need to choose a date point from which we evaluate how many days ago was the customer's last purchase."
      ]
    },
    {
      "cell_type": "code",
      "execution_count": null,
      "metadata": {
        "id": "A4Q3CvDKsGLB",
        "outputId": "30af42e2-88a8-4845-e82e-a8cbc5a081a4"
      },
      "outputs": [
        {
          "data": {
            "text/plain": [
              "datetime.date(2011, 9, 30)"
            ]
          },
          "execution_count": 25,
          "metadata": {},
          "output_type": "execute_result"
        }
      ],
      "source": [
        "rt.Date.max()"
      ]
    },
    {
      "cell_type": "code",
      "execution_count": null,
      "metadata": {
        "id": "7ZmPjZxpsGLB",
        "outputId": "24b30d1f-7f14-4bbd-f121-0a2dd55b31b3"
      },
      "outputs": [
        {
          "data": {
            "text/plain": [
              "datetime.date(2011, 9, 30)"
            ]
          },
          "execution_count": 26,
          "metadata": {},
          "output_type": "execute_result"
        }
      ],
      "source": [
        "now=dt.date(2011,9,30)\n",
        "now"
      ]
    },
    {
      "cell_type": "code",
      "execution_count": null,
      "metadata": {
        "id": "JC6_wJ4lsGLB",
        "outputId": "e0ce07a6-ad51-4927-fbb7-7f29b870fa29"
      },
      "outputs": [
        {
          "data": {
            "text/html": [
              "<div>\n",
              "<style scoped>\n",
              "    .dataframe tbody tr th:only-of-type {\n",
              "        vertical-align: middle;\n",
              "    }\n",
              "\n",
              "    .dataframe tbody tr th {\n",
              "        vertical-align: top;\n",
              "    }\n",
              "\n",
              "    .dataframe thead th {\n",
              "        text-align: right;\n",
              "    }\n",
              "</style>\n",
              "<table border=\"1\" class=\"dataframe\">\n",
              "  <thead>\n",
              "    <tr style=\"text-align: right;\">\n",
              "      <th></th>\n",
              "      <th>CustomerID</th>\n",
              "      <th>Last_purchase_date</th>\n",
              "    </tr>\n",
              "  </thead>\n",
              "  <tbody>\n",
              "    <tr>\n",
              "      <th>0</th>\n",
              "      <td>12747.0</td>\n",
              "      <td>2011-08-22</td>\n",
              "    </tr>\n",
              "    <tr>\n",
              "      <th>1</th>\n",
              "      <td>12748.0</td>\n",
              "      <td>2011-09-30</td>\n",
              "    </tr>\n",
              "    <tr>\n",
              "      <th>2</th>\n",
              "      <td>12749.0</td>\n",
              "      <td>2011-08-18</td>\n",
              "    </tr>\n",
              "    <tr>\n",
              "      <th>3</th>\n",
              "      <td>12820.0</td>\n",
              "      <td>2011-09-26</td>\n",
              "    </tr>\n",
              "    <tr>\n",
              "      <th>4</th>\n",
              "      <td>12821.0</td>\n",
              "      <td>2011-05-09</td>\n",
              "    </tr>\n",
              "  </tbody>\n",
              "</table>\n",
              "</div>"
            ],
            "text/plain": [
              "   CustomerID Last_purchase_date\n",
              "0     12747.0         2011-08-22\n",
              "1     12748.0         2011-09-30\n",
              "2     12749.0         2011-08-18\n",
              "3     12820.0         2011-09-26\n",
              "4     12821.0         2011-05-09"
            ]
          },
          "execution_count": 27,
          "metadata": {},
          "output_type": "execute_result"
        }
      ],
      "source": [
        "ry=rt.groupby('CustomerID',as_index=False)['Date'].max()\n",
        "ry.columns=['CustomerID','Last_purchase_date']\n",
        "ry.head()"
      ]
    },
    {
      "cell_type": "code",
      "execution_count": null,
      "metadata": {
        "id": "9BgX1FUesGLB",
        "outputId": "9f28e562-0ace-42aa-970a-1812d74065eb"
      },
      "outputs": [
        {
          "data": {
            "text/html": [
              "<div>\n",
              "<style scoped>\n",
              "    .dataframe tbody tr th:only-of-type {\n",
              "        vertical-align: middle;\n",
              "    }\n",
              "\n",
              "    .dataframe tbody tr th {\n",
              "        vertical-align: top;\n",
              "    }\n",
              "\n",
              "    .dataframe thead th {\n",
              "        text-align: right;\n",
              "    }\n",
              "</style>\n",
              "<table border=\"1\" class=\"dataframe\">\n",
              "  <thead>\n",
              "    <tr style=\"text-align: right;\">\n",
              "      <th></th>\n",
              "      <th>CustomerID</th>\n",
              "      <th>Last_purchase_date</th>\n",
              "      <th>Recency</th>\n",
              "    </tr>\n",
              "  </thead>\n",
              "  <tbody>\n",
              "    <tr>\n",
              "      <th>0</th>\n",
              "      <td>12747.0</td>\n",
              "      <td>2011-08-22</td>\n",
              "      <td>39</td>\n",
              "    </tr>\n",
              "    <tr>\n",
              "      <th>1</th>\n",
              "      <td>12748.0</td>\n",
              "      <td>2011-09-30</td>\n",
              "      <td>0</td>\n",
              "    </tr>\n",
              "    <tr>\n",
              "      <th>2</th>\n",
              "      <td>12749.0</td>\n",
              "      <td>2011-08-18</td>\n",
              "      <td>43</td>\n",
              "    </tr>\n",
              "    <tr>\n",
              "      <th>3</th>\n",
              "      <td>12820.0</td>\n",
              "      <td>2011-09-26</td>\n",
              "      <td>4</td>\n",
              "    </tr>\n",
              "    <tr>\n",
              "      <th>4</th>\n",
              "      <td>12821.0</td>\n",
              "      <td>2011-05-09</td>\n",
              "      <td>144</td>\n",
              "    </tr>\n",
              "  </tbody>\n",
              "</table>\n",
              "</div>"
            ],
            "text/plain": [
              "   CustomerID Last_purchase_date  Recency\n",
              "0     12747.0         2011-08-22       39\n",
              "1     12748.0         2011-09-30        0\n",
              "2     12749.0         2011-08-18       43\n",
              "3     12820.0         2011-09-26        4\n",
              "4     12821.0         2011-05-09      144"
            ]
          },
          "execution_count": 28,
          "metadata": {},
          "output_type": "execute_result"
        }
      ],
      "source": [
        "ry['Recency']=ry['Last_purchase_date'].apply(lambda x: (now-x).days) # no of days since last purchase\n",
        "ry.head()"
      ]
    },
    {
      "cell_type": "code",
      "execution_count": null,
      "metadata": {
        "id": "yYnfVDJKsGLC",
        "outputId": "2f7b73f3-42a7-42ed-dde0-2526eb0f15a7"
      },
      "outputs": [
        {
          "data": {
            "text/html": [
              "<div>\n",
              "<style scoped>\n",
              "    .dataframe tbody tr th:only-of-type {\n",
              "        vertical-align: middle;\n",
              "    }\n",
              "\n",
              "    .dataframe tbody tr th {\n",
              "        vertical-align: top;\n",
              "    }\n",
              "\n",
              "    .dataframe thead th {\n",
              "        text-align: right;\n",
              "    }\n",
              "</style>\n",
              "<table border=\"1\" class=\"dataframe\">\n",
              "  <thead>\n",
              "    <tr style=\"text-align: right;\">\n",
              "      <th></th>\n",
              "      <th>CustomerID</th>\n",
              "      <th>Recency</th>\n",
              "    </tr>\n",
              "  </thead>\n",
              "  <tbody>\n",
              "    <tr>\n",
              "      <th>0</th>\n",
              "      <td>12747.0</td>\n",
              "      <td>39</td>\n",
              "    </tr>\n",
              "    <tr>\n",
              "      <th>1</th>\n",
              "      <td>12748.0</td>\n",
              "      <td>0</td>\n",
              "    </tr>\n",
              "    <tr>\n",
              "      <th>2</th>\n",
              "      <td>12749.0</td>\n",
              "      <td>43</td>\n",
              "    </tr>\n",
              "    <tr>\n",
              "      <th>3</th>\n",
              "      <td>12820.0</td>\n",
              "      <td>4</td>\n",
              "    </tr>\n",
              "    <tr>\n",
              "      <th>4</th>\n",
              "      <td>12821.0</td>\n",
              "      <td>144</td>\n",
              "    </tr>\n",
              "  </tbody>\n",
              "</table>\n",
              "</div>"
            ],
            "text/plain": [
              "   CustomerID  Recency\n",
              "0     12747.0       39\n",
              "1     12748.0        0\n",
              "2     12749.0       43\n",
              "3     12820.0        4\n",
              "4     12821.0      144"
            ]
          },
          "execution_count": 29,
          "metadata": {},
          "output_type": "execute_result"
        }
      ],
      "source": [
        "ry.drop(columns=['Last_purchase_date'],inplace=True)\n",
        "ry.head()"
      ]
    },
    {
      "cell_type": "code",
      "execution_count": null,
      "metadata": {
        "id": "lu670iw6sGLC",
        "outputId": "3f6fd764-80f9-41c3-f24e-16c5d6055c4d"
      },
      "outputs": [
        {
          "data": {
            "text/html": [
              "<div>\n",
              "<style scoped>\n",
              "    .dataframe tbody tr th:only-of-type {\n",
              "        vertical-align: middle;\n",
              "    }\n",
              "\n",
              "    .dataframe tbody tr th {\n",
              "        vertical-align: top;\n",
              "    }\n",
              "\n",
              "    .dataframe thead th {\n",
              "        text-align: right;\n",
              "    }\n",
              "</style>\n",
              "<table border=\"1\" class=\"dataframe\">\n",
              "  <thead>\n",
              "    <tr style=\"text-align: right;\">\n",
              "      <th></th>\n",
              "      <th>InvoiceNo</th>\n",
              "      <th>Quantity</th>\n",
              "      <th>InvoiceDate</th>\n",
              "      <th>UnitPrice</th>\n",
              "      <th>CustomerID</th>\n",
              "      <th>Total Sales</th>\n",
              "      <th>Date</th>\n",
              "    </tr>\n",
              "  </thead>\n",
              "  <tbody>\n",
              "    <tr>\n",
              "      <th>106282</th>\n",
              "      <td>545321</td>\n",
              "      <td>20</td>\n",
              "      <td>3/1/2011 14:53</td>\n",
              "      <td>1.95</td>\n",
              "      <td>12747.0</td>\n",
              "      <td>39.0</td>\n",
              "      <td>2011-03-01</td>\n",
              "    </tr>\n",
              "    <tr>\n",
              "      <th>106283</th>\n",
              "      <td>545321</td>\n",
              "      <td>10</td>\n",
              "      <td>3/1/2011 14:53</td>\n",
              "      <td>1.95</td>\n",
              "      <td>12747.0</td>\n",
              "      <td>19.5</td>\n",
              "      <td>2011-03-01</td>\n",
              "    </tr>\n",
              "    <tr>\n",
              "      <th>106284</th>\n",
              "      <td>545321</td>\n",
              "      <td>20</td>\n",
              "      <td>3/1/2011 14:53</td>\n",
              "      <td>1.95</td>\n",
              "      <td>12747.0</td>\n",
              "      <td>39.0</td>\n",
              "      <td>2011-03-01</td>\n",
              "    </tr>\n",
              "    <tr>\n",
              "      <th>106285</th>\n",
              "      <td>545321</td>\n",
              "      <td>20</td>\n",
              "      <td>3/1/2011 14:53</td>\n",
              "      <td>1.95</td>\n",
              "      <td>12747.0</td>\n",
              "      <td>39.0</td>\n",
              "      <td>2011-03-01</td>\n",
              "    </tr>\n",
              "    <tr>\n",
              "      <th>106286</th>\n",
              "      <td>545321</td>\n",
              "      <td>2</td>\n",
              "      <td>3/1/2011 14:53</td>\n",
              "      <td>7.95</td>\n",
              "      <td>12747.0</td>\n",
              "      <td>15.9</td>\n",
              "      <td>2011-03-01</td>\n",
              "    </tr>\n",
              "  </tbody>\n",
              "</table>\n",
              "</div>"
            ],
            "text/plain": [
              "       InvoiceNo  Quantity     InvoiceDate  UnitPrice  CustomerID  \\\n",
              "106282    545321        20  3/1/2011 14:53       1.95     12747.0   \n",
              "106283    545321        10  3/1/2011 14:53       1.95     12747.0   \n",
              "106284    545321        20  3/1/2011 14:53       1.95     12747.0   \n",
              "106285    545321        20  3/1/2011 14:53       1.95     12747.0   \n",
              "106286    545321         2  3/1/2011 14:53       7.95     12747.0   \n",
              "\n",
              "        Total Sales        Date  \n",
              "106282         39.0  2011-03-01  \n",
              "106283         19.5  2011-03-01  \n",
              "106284         39.0  2011-03-01  \n",
              "106285         39.0  2011-03-01  \n",
              "106286         15.9  2011-03-01  "
            ]
          },
          "execution_count": 30,
          "metadata": {},
          "output_type": "execute_result"
        }
      ],
      "source": [
        "rt[rt['CustomerID']==12747].head()"
      ]
    },
    {
      "cell_type": "code",
      "execution_count": null,
      "metadata": {
        "id": "vwgtHERnsGLC",
        "outputId": "3a94fa14-1835-41c7-8067-d626b1f7cb0a"
      },
      "outputs": [
        {
          "data": {
            "text/plain": [
              "255"
            ]
          },
          "execution_count": 31,
          "metadata": {},
          "output_type": "execute_result"
        }
      ],
      "source": [
        "(now-dt.date(2011,1,18)).days"
      ]
    },
    {
      "cell_type": "markdown",
      "metadata": {
        "id": "eKI_-2KusGLC"
      },
      "source": [
        "# Frequency\n",
        "Frequency helps us to know how many times a customer purchased from us. To do that we need to check how many invoices are registered by the same customer."
      ]
    },
    {
      "cell_type": "code",
      "execution_count": null,
      "metadata": {
        "id": "6zg83guosGLC"
      },
      "outputs": [],
      "source": [
        "rt1=rt.copy()\n",
        "rt1.drop_duplicates(subset=['InvoiceNo','CustomerID'],keep=\"first\", inplace=True)"
      ]
    },
    {
      "cell_type": "code",
      "execution_count": null,
      "metadata": {
        "id": "mBjkvUMcsGLD",
        "outputId": "ec4e1857-e35f-4553-c277-ce3134fd5e09"
      },
      "outputs": [
        {
          "data": {
            "text/html": [
              "<div>\n",
              "<style scoped>\n",
              "    .dataframe tbody tr th:only-of-type {\n",
              "        vertical-align: middle;\n",
              "    }\n",
              "\n",
              "    .dataframe tbody tr th {\n",
              "        vertical-align: top;\n",
              "    }\n",
              "\n",
              "    .dataframe thead th {\n",
              "        text-align: right;\n",
              "    }\n",
              "</style>\n",
              "<table border=\"1\" class=\"dataframe\">\n",
              "  <thead>\n",
              "    <tr style=\"text-align: right;\">\n",
              "      <th></th>\n",
              "      <th>CustomerID</th>\n",
              "      <th>Frequency</th>\n",
              "    </tr>\n",
              "  </thead>\n",
              "  <tbody>\n",
              "    <tr>\n",
              "      <th>0</th>\n",
              "      <td>12747.0</td>\n",
              "      <td>5</td>\n",
              "    </tr>\n",
              "    <tr>\n",
              "      <th>1</th>\n",
              "      <td>12748.0</td>\n",
              "      <td>104</td>\n",
              "    </tr>\n",
              "    <tr>\n",
              "      <th>2</th>\n",
              "      <td>12749.0</td>\n",
              "      <td>6</td>\n",
              "    </tr>\n",
              "    <tr>\n",
              "      <th>3</th>\n",
              "      <td>12820.0</td>\n",
              "      <td>1</td>\n",
              "    </tr>\n",
              "    <tr>\n",
              "      <th>4</th>\n",
              "      <td>12821.0</td>\n",
              "      <td>1</td>\n",
              "    </tr>\n",
              "  </tbody>\n",
              "</table>\n",
              "</div>"
            ],
            "text/plain": [
              "   CustomerID  Frequency\n",
              "0     12747.0          5\n",
              "1     12748.0        104\n",
              "2     12749.0          6\n",
              "3     12820.0          1\n",
              "4     12821.0          1"
            ]
          },
          "execution_count": 33,
          "metadata": {},
          "output_type": "execute_result"
        }
      ],
      "source": [
        "freq=rt1.groupby('CustomerID',as_index=False)['InvoiceNo'].count()\n",
        "freq.columns=['CustomerID','Frequency']\n",
        "freq.head()"
      ]
    },
    {
      "cell_type": "code",
      "execution_count": null,
      "metadata": {
        "id": "hyXETWMnsGLD"
      },
      "outputs": [],
      "source": []
    },
    {
      "cell_type": "markdown",
      "metadata": {
        "id": "Ib2z0rkMsGLD"
      },
      "source": [
        "# Monetary\n",
        "Monetary attribute answers the question: How much money did the customer spent over time?\n",
        "\n",
        "To do that, first, we will create a new column total cost to have the total price per invoice."
      ]
    },
    {
      "cell_type": "code",
      "execution_count": null,
      "metadata": {
        "id": "0w5tTjlfsGLD"
      },
      "outputs": [],
      "source": [
        "rt2=rt.copy()"
      ]
    },
    {
      "cell_type": "code",
      "execution_count": null,
      "metadata": {
        "id": "HWKAdrd2sGLD",
        "outputId": "0d17e315-4698-4558-acda-7fd9e2c7406c"
      },
      "outputs": [
        {
          "data": {
            "text/html": [
              "<div>\n",
              "<style scoped>\n",
              "    .dataframe tbody tr th:only-of-type {\n",
              "        vertical-align: middle;\n",
              "    }\n",
              "\n",
              "    .dataframe tbody tr th {\n",
              "        vertical-align: top;\n",
              "    }\n",
              "\n",
              "    .dataframe thead th {\n",
              "        text-align: right;\n",
              "    }\n",
              "</style>\n",
              "<table border=\"1\" class=\"dataframe\">\n",
              "  <thead>\n",
              "    <tr style=\"text-align: right;\">\n",
              "      <th></th>\n",
              "      <th>CustomerID</th>\n",
              "      <th>Monetary</th>\n",
              "    </tr>\n",
              "  </thead>\n",
              "  <tbody>\n",
              "    <tr>\n",
              "      <th>0</th>\n",
              "      <td>12747.0</td>\n",
              "      <td>1760.09</td>\n",
              "    </tr>\n",
              "    <tr>\n",
              "      <th>1</th>\n",
              "      <td>12748.0</td>\n",
              "      <td>12334.33</td>\n",
              "    </tr>\n",
              "    <tr>\n",
              "      <th>2</th>\n",
              "      <td>12749.0</td>\n",
              "      <td>2532.55</td>\n",
              "    </tr>\n",
              "    <tr>\n",
              "      <th>3</th>\n",
              "      <td>12820.0</td>\n",
              "      <td>217.77</td>\n",
              "    </tr>\n",
              "    <tr>\n",
              "      <th>4</th>\n",
              "      <td>12821.0</td>\n",
              "      <td>92.72</td>\n",
              "    </tr>\n",
              "  </tbody>\n",
              "</table>\n",
              "</div>"
            ],
            "text/plain": [
              "   CustomerID  Monetary\n",
              "0     12747.0   1760.09\n",
              "1     12748.0  12334.33\n",
              "2     12749.0   2532.55\n",
              "3     12820.0    217.77\n",
              "4     12821.0     92.72"
            ]
          },
          "execution_count": 35,
          "metadata": {},
          "output_type": "execute_result"
        }
      ],
      "source": [
        "mt=rt2.groupby('CustomerID',as_index=False)['Total Sales'].sum()\n",
        "mt.columns=['CustomerID','Monetary']\n",
        "mt.head()"
      ]
    },
    {
      "cell_type": "code",
      "execution_count": null,
      "metadata": {
        "id": "FivmaA7csGLE",
        "outputId": "b8143584-7fb3-4fc9-9358-cc5e4bf5cc5b"
      },
      "outputs": [
        {
          "data": {
            "text/html": [
              "<div>\n",
              "<style scoped>\n",
              "    .dataframe tbody tr th:only-of-type {\n",
              "        vertical-align: middle;\n",
              "    }\n",
              "\n",
              "    .dataframe tbody tr th {\n",
              "        vertical-align: top;\n",
              "    }\n",
              "\n",
              "    .dataframe thead th {\n",
              "        text-align: right;\n",
              "    }\n",
              "</style>\n",
              "<table border=\"1\" class=\"dataframe\">\n",
              "  <thead>\n",
              "    <tr style=\"text-align: right;\">\n",
              "      <th></th>\n",
              "      <th>InvoiceNo</th>\n",
              "      <th>Quantity</th>\n",
              "      <th>InvoiceDate</th>\n",
              "      <th>UnitPrice</th>\n",
              "      <th>CustomerID</th>\n",
              "      <th>Total Sales</th>\n",
              "      <th>Date</th>\n",
              "    </tr>\n",
              "  </thead>\n",
              "  <tbody>\n",
              "    <tr>\n",
              "      <th>106282</th>\n",
              "      <td>545321</td>\n",
              "      <td>20</td>\n",
              "      <td>3/1/2011 14:53</td>\n",
              "      <td>1.95</td>\n",
              "      <td>12747.0</td>\n",
              "      <td>39.0</td>\n",
              "      <td>2011-03-01</td>\n",
              "    </tr>\n",
              "    <tr>\n",
              "      <th>106283</th>\n",
              "      <td>545321</td>\n",
              "      <td>10</td>\n",
              "      <td>3/1/2011 14:53</td>\n",
              "      <td>1.95</td>\n",
              "      <td>12747.0</td>\n",
              "      <td>19.5</td>\n",
              "      <td>2011-03-01</td>\n",
              "    </tr>\n",
              "    <tr>\n",
              "      <th>106284</th>\n",
              "      <td>545321</td>\n",
              "      <td>20</td>\n",
              "      <td>3/1/2011 14:53</td>\n",
              "      <td>1.95</td>\n",
              "      <td>12747.0</td>\n",
              "      <td>39.0</td>\n",
              "      <td>2011-03-01</td>\n",
              "    </tr>\n",
              "    <tr>\n",
              "      <th>106285</th>\n",
              "      <td>545321</td>\n",
              "      <td>20</td>\n",
              "      <td>3/1/2011 14:53</td>\n",
              "      <td>1.95</td>\n",
              "      <td>12747.0</td>\n",
              "      <td>39.0</td>\n",
              "      <td>2011-03-01</td>\n",
              "    </tr>\n",
              "    <tr>\n",
              "      <th>106286</th>\n",
              "      <td>545321</td>\n",
              "      <td>2</td>\n",
              "      <td>3/1/2011 14:53</td>\n",
              "      <td>7.95</td>\n",
              "      <td>12747.0</td>\n",
              "      <td>15.9</td>\n",
              "      <td>2011-03-01</td>\n",
              "    </tr>\n",
              "  </tbody>\n",
              "</table>\n",
              "</div>"
            ],
            "text/plain": [
              "       InvoiceNo  Quantity     InvoiceDate  UnitPrice  CustomerID  \\\n",
              "106282    545321        20  3/1/2011 14:53       1.95     12747.0   \n",
              "106283    545321        10  3/1/2011 14:53       1.95     12747.0   \n",
              "106284    545321        20  3/1/2011 14:53       1.95     12747.0   \n",
              "106285    545321        20  3/1/2011 14:53       1.95     12747.0   \n",
              "106286    545321         2  3/1/2011 14:53       7.95     12747.0   \n",
              "\n",
              "        Total Sales        Date  \n",
              "106282         39.0  2011-03-01  \n",
              "106283         19.5  2011-03-01  \n",
              "106284         39.0  2011-03-01  \n",
              "106285         39.0  2011-03-01  \n",
              "106286         15.9  2011-03-01  "
            ]
          },
          "execution_count": 36,
          "metadata": {},
          "output_type": "execute_result"
        }
      ],
      "source": [
        "rt2[rt2.CustomerID==12747].head() # verification"
      ]
    },
    {
      "cell_type": "code",
      "execution_count": null,
      "metadata": {
        "id": "N4bvdp9gsGLE",
        "outputId": "8fb9b8ca-d904-44d4-945f-84a4b548fa9a"
      },
      "outputs": [
        {
          "data": {
            "text/html": [
              "<div>\n",
              "<style scoped>\n",
              "    .dataframe tbody tr th:only-of-type {\n",
              "        vertical-align: middle;\n",
              "    }\n",
              "\n",
              "    .dataframe tbody tr th {\n",
              "        vertical-align: top;\n",
              "    }\n",
              "\n",
              "    .dataframe thead th {\n",
              "        text-align: right;\n",
              "    }\n",
              "</style>\n",
              "<table border=\"1\" class=\"dataframe\">\n",
              "  <thead>\n",
              "    <tr style=\"text-align: right;\">\n",
              "      <th></th>\n",
              "      <th>CustomerID</th>\n",
              "      <th>Recency</th>\n",
              "      <th>Frequency</th>\n",
              "      <th>Monetary</th>\n",
              "    </tr>\n",
              "  </thead>\n",
              "  <tbody>\n",
              "    <tr>\n",
              "      <th>0</th>\n",
              "      <td>12747.0</td>\n",
              "      <td>39</td>\n",
              "      <td>5</td>\n",
              "      <td>1760.09</td>\n",
              "    </tr>\n",
              "    <tr>\n",
              "      <th>1</th>\n",
              "      <td>12748.0</td>\n",
              "      <td>0</td>\n",
              "      <td>104</td>\n",
              "      <td>12334.33</td>\n",
              "    </tr>\n",
              "    <tr>\n",
              "      <th>2</th>\n",
              "      <td>12749.0</td>\n",
              "      <td>43</td>\n",
              "      <td>6</td>\n",
              "      <td>2532.55</td>\n",
              "    </tr>\n",
              "    <tr>\n",
              "      <th>3</th>\n",
              "      <td>12820.0</td>\n",
              "      <td>4</td>\n",
              "      <td>1</td>\n",
              "      <td>217.77</td>\n",
              "    </tr>\n",
              "    <tr>\n",
              "      <th>4</th>\n",
              "      <td>12821.0</td>\n",
              "      <td>144</td>\n",
              "      <td>1</td>\n",
              "      <td>92.72</td>\n",
              "    </tr>\n",
              "  </tbody>\n",
              "</table>\n",
              "</div>"
            ],
            "text/plain": [
              "   CustomerID  Recency  Frequency  Monetary\n",
              "0     12747.0       39          5   1760.09\n",
              "1     12748.0        0        104  12334.33\n",
              "2     12749.0       43          6   2532.55\n",
              "3     12820.0        4          1    217.77\n",
              "4     12821.0      144          1     92.72"
            ]
          },
          "execution_count": 37,
          "metadata": {},
          "output_type": "execute_result"
        }
      ],
      "source": [
        "rf=ry.merge(freq, on='CustomerID')\n",
        "rfm=rf.merge(mt, on='CustomerID')\n",
        "rfm.head()"
      ]
    },
    {
      "cell_type": "markdown",
      "metadata": {
        "id": "RduR0AAqsGLE"
      },
      "source": [
        "https://github.com/joaolcorreia/RFM-analysis/blob/master/RFM%20Analysis.ipynb"
      ]
    },
    {
      "cell_type": "markdown",
      "metadata": {
        "id": "Y_UtjdkksGLF"
      },
      "source": [
        "# Customer segmentation with RFM Analysis\n",
        "\n",
        "To perform RFM analysis, we divide customers into four equal groups according to the distribution of values for recency, frequency, and monetary value.\n",
        "\n",
        "Four equal groups across three variables create 64 (4x4x4) different customer segments, which is a manageable number.\n",
        "\n",
        "Note that you can use quintiles (five equal groups) for increased granularity, but managing and acting on 125 segments (5x5x5) is significantly more challenging."
      ]
    },
    {
      "cell_type": "markdown",
      "metadata": {
        "id": "gsHsG9DzsGLF"
      },
      "source": [
        "For example, let’s look at a customer who:\n",
        "\n",
        "* is within the group who purchased most recently (R=1),\n",
        "* is within the group who purchased most quantity (F=1),\n",
        "* is within the group who spent the most (M=1)\n",
        "\n",
        "This customer belongs to RFM segment 1-1-1 (Best Customers), (R=1, F=1, M=1)"
      ]
    },
    {
      "cell_type": "code",
      "execution_count": null,
      "metadata": {
        "id": "fsYokK2bsGLF",
        "outputId": "fd9be827-22af-4ab8-b9cc-3b43eea21311"
      },
      "outputs": [
        {
          "data": {
            "text/html": [
              "<div>\n",
              "<style scoped>\n",
              "    .dataframe tbody tr th:only-of-type {\n",
              "        vertical-align: middle;\n",
              "    }\n",
              "\n",
              "    .dataframe tbody tr th {\n",
              "        vertical-align: top;\n",
              "    }\n",
              "\n",
              "    .dataframe thead th {\n",
              "        text-align: right;\n",
              "    }\n",
              "</style>\n",
              "<table border=\"1\" class=\"dataframe\">\n",
              "  <thead>\n",
              "    <tr style=\"text-align: right;\">\n",
              "      <th></th>\n",
              "      <th>CustomerID</th>\n",
              "      <th>Recency</th>\n",
              "      <th>Frequency</th>\n",
              "      <th>Monetary</th>\n",
              "    </tr>\n",
              "  </thead>\n",
              "  <tbody>\n",
              "    <tr>\n",
              "      <th>0.25</th>\n",
              "      <td>14149.75</td>\n",
              "      <td>14.0</td>\n",
              "      <td>1.0</td>\n",
              "      <td>244.8000</td>\n",
              "    </tr>\n",
              "    <tr>\n",
              "      <th>0.50</th>\n",
              "      <td>15519.50</td>\n",
              "      <td>46.0</td>\n",
              "      <td>2.0</td>\n",
              "      <td>499.3600</td>\n",
              "    </tr>\n",
              "    <tr>\n",
              "      <th>0.75</th>\n",
              "      <td>16872.75</td>\n",
              "      <td>112.0</td>\n",
              "      <td>4.0</td>\n",
              "      <td>1138.9175</td>\n",
              "    </tr>\n",
              "  </tbody>\n",
              "</table>\n",
              "</div>"
            ],
            "text/plain": [
              "      CustomerID  Recency  Frequency   Monetary\n",
              "0.25    14149.75     14.0        1.0   244.8000\n",
              "0.50    15519.50     46.0        2.0   499.3600\n",
              "0.75    16872.75    112.0        4.0  1138.9175"
            ]
          },
          "execution_count": 43,
          "metadata": {},
          "output_type": "execute_result"
        }
      ],
      "source": [
        "quantiles=rfm.quantile(q=[0.25,0.5,0.75])\n",
        "quantiles"
      ]
    },
    {
      "cell_type": "code",
      "execution_count": null,
      "metadata": {
        "id": "UaZ4HorvsGLF",
        "outputId": "455dc601-18ba-4459-bdb5-bae73c9f0386"
      },
      "outputs": [
        {
          "data": {
            "text/plain": [
              "{'CustomerID': {0.25: 14149.75, 0.5: 15519.5, 0.75: 16872.75},\n",
              " 'Recency': {0.25: 14.0, 0.5: 46.0, 0.75: 112.0},\n",
              " 'Frequency': {0.25: 1.0, 0.5: 2.0, 0.75: 4.0},\n",
              " 'Monetary': {0.25: 244.8, 0.5: 499.3600000000001, 0.75: 1138.9175}}"
            ]
          },
          "execution_count": 44,
          "metadata": {},
          "output_type": "execute_result"
        }
      ],
      "source": [
        "quantiles.to_dict()"
      ]
    },
    {
      "cell_type": "code",
      "execution_count": null,
      "metadata": {
        "id": "t5QRKJrusGLG"
      },
      "outputs": [],
      "source": []
    },
    {
      "cell_type": "markdown",
      "metadata": {
        "id": "r5zPto0NsGLG"
      },
      "source": [
        "**Computing Quantile of RFM values**\n",
        "\n",
        "Customers with the lowest recency, highest frequency and monetary amounts considered as top customers."
      ]
    },
    {
      "cell_type": "code",
      "execution_count": null,
      "metadata": {
        "id": "1zjl24RPsGLG"
      },
      "outputs": [],
      "source": [
        "# Arguments (x = value, p = recency, monetary_value, frequency, k = quartiles dict)\n",
        "def RScore(x,p,d):\n",
        "    if x <= d[p][0.25]:\n",
        "        return 1\n",
        "    elif x <= d[p][0.50]:\n",
        "        return 2\n",
        "    elif x <= d[p][0.75]: \n",
        "        return 3\n",
        "    else:\n",
        "        return 4\n",
        "    \n",
        "# Arguments (x = value, p = recency, monetary_value, frequency, k = quartiles dict)\n",
        "def FMScore(x,p,d):\n",
        "    if x <= d[p][0.25]:\n",
        "        return 4\n",
        "    elif x <= d[p][0.50]:\n",
        "        return 3\n",
        "    elif x <= d[p][0.75]: \n",
        "        return 2\n",
        "    else:\n",
        "        return 1"
      ]
    },
    {
      "cell_type": "code",
      "execution_count": null,
      "metadata": {
        "id": "djBdD5_esGLG",
        "outputId": "51fd0ed1-2807-4d1a-e7f9-ceaeaf979375"
      },
      "outputs": [
        {
          "data": {
            "text/html": [
              "<div>\n",
              "<style scoped>\n",
              "    .dataframe tbody tr th:only-of-type {\n",
              "        vertical-align: middle;\n",
              "    }\n",
              "\n",
              "    .dataframe tbody tr th {\n",
              "        vertical-align: top;\n",
              "    }\n",
              "\n",
              "    .dataframe thead th {\n",
              "        text-align: right;\n",
              "    }\n",
              "</style>\n",
              "<table border=\"1\" class=\"dataframe\">\n",
              "  <thead>\n",
              "    <tr style=\"text-align: right;\">\n",
              "      <th></th>\n",
              "      <th>CustomerID</th>\n",
              "      <th>Recency</th>\n",
              "      <th>Frequency</th>\n",
              "      <th>Monetary</th>\n",
              "      <th>R score</th>\n",
              "      <th>F score</th>\n",
              "      <th>M score</th>\n",
              "    </tr>\n",
              "  </thead>\n",
              "  <tbody>\n",
              "    <tr>\n",
              "      <th>0</th>\n",
              "      <td>12747.0</td>\n",
              "      <td>39</td>\n",
              "      <td>5</td>\n",
              "      <td>1760.09</td>\n",
              "      <td>2</td>\n",
              "      <td>1</td>\n",
              "      <td>1</td>\n",
              "    </tr>\n",
              "    <tr>\n",
              "      <th>1</th>\n",
              "      <td>12748.0</td>\n",
              "      <td>0</td>\n",
              "      <td>104</td>\n",
              "      <td>12334.33</td>\n",
              "      <td>1</td>\n",
              "      <td>1</td>\n",
              "      <td>1</td>\n",
              "    </tr>\n",
              "    <tr>\n",
              "      <th>2</th>\n",
              "      <td>12749.0</td>\n",
              "      <td>43</td>\n",
              "      <td>6</td>\n",
              "      <td>2532.55</td>\n",
              "      <td>2</td>\n",
              "      <td>1</td>\n",
              "      <td>1</td>\n",
              "    </tr>\n",
              "    <tr>\n",
              "      <th>3</th>\n",
              "      <td>12820.0</td>\n",
              "      <td>4</td>\n",
              "      <td>1</td>\n",
              "      <td>217.77</td>\n",
              "      <td>1</td>\n",
              "      <td>4</td>\n",
              "      <td>4</td>\n",
              "    </tr>\n",
              "    <tr>\n",
              "      <th>4</th>\n",
              "      <td>12821.0</td>\n",
              "      <td>144</td>\n",
              "      <td>1</td>\n",
              "      <td>92.72</td>\n",
              "      <td>4</td>\n",
              "      <td>4</td>\n",
              "      <td>4</td>\n",
              "    </tr>\n",
              "    <tr>\n",
              "      <th>...</th>\n",
              "      <td>...</td>\n",
              "      <td>...</td>\n",
              "      <td>...</td>\n",
              "      <td>...</td>\n",
              "      <td>...</td>\n",
              "      <td>...</td>\n",
              "      <td>...</td>\n",
              "    </tr>\n",
              "    <tr>\n",
              "      <th>2885</th>\n",
              "      <td>18280.0</td>\n",
              "      <td>207</td>\n",
              "      <td>1</td>\n",
              "      <td>180.60</td>\n",
              "      <td>4</td>\n",
              "      <td>4</td>\n",
              "      <td>4</td>\n",
              "    </tr>\n",
              "    <tr>\n",
              "      <th>2886</th>\n",
              "      <td>18281.0</td>\n",
              "      <td>110</td>\n",
              "      <td>1</td>\n",
              "      <td>80.82</td>\n",
              "      <td>3</td>\n",
              "      <td>4</td>\n",
              "      <td>4</td>\n",
              "    </tr>\n",
              "    <tr>\n",
              "      <th>2887</th>\n",
              "      <td>18282.0</td>\n",
              "      <td>52</td>\n",
              "      <td>2</td>\n",
              "      <td>98.76</td>\n",
              "      <td>3</td>\n",
              "      <td>3</td>\n",
              "      <td>4</td>\n",
              "    </tr>\n",
              "    <tr>\n",
              "      <th>2888</th>\n",
              "      <td>18283.0</td>\n",
              "      <td>25</td>\n",
              "      <td>7</td>\n",
              "      <td>802.77</td>\n",
              "      <td>2</td>\n",
              "      <td>1</td>\n",
              "      <td>2</td>\n",
              "    </tr>\n",
              "    <tr>\n",
              "      <th>2889</th>\n",
              "      <td>18287.0</td>\n",
              "      <td>131</td>\n",
              "      <td>1</td>\n",
              "      <td>765.28</td>\n",
              "      <td>4</td>\n",
              "      <td>4</td>\n",
              "      <td>2</td>\n",
              "    </tr>\n",
              "  </tbody>\n",
              "</table>\n",
              "<p>2890 rows × 7 columns</p>\n",
              "</div>"
            ],
            "text/plain": [
              "      CustomerID  Recency  Frequency  Monetary  R score  F score  M score\n",
              "0        12747.0       39          5   1760.09        2        1        1\n",
              "1        12748.0        0        104  12334.33        1        1        1\n",
              "2        12749.0       43          6   2532.55        2        1        1\n",
              "3        12820.0        4          1    217.77        1        4        4\n",
              "4        12821.0      144          1     92.72        4        4        4\n",
              "...          ...      ...        ...       ...      ...      ...      ...\n",
              "2885     18280.0      207          1    180.60        4        4        4\n",
              "2886     18281.0      110          1     80.82        3        4        4\n",
              "2887     18282.0       52          2     98.76        3        3        4\n",
              "2888     18283.0       25          7    802.77        2        1        2\n",
              "2889     18287.0      131          1    765.28        4        4        2\n",
              "\n",
              "[2890 rows x 7 columns]"
            ]
          },
          "execution_count": 49,
          "metadata": {},
          "output_type": "execute_result"
        }
      ],
      "source": [
        "rfm_seg=rfm.copy()\n",
        "rfm_seg['R score']=rfm_seg['Recency'].apply(RScore,args=('Recency',quantiles,))\n",
        "rfm_seg['F score']=rfm_seg['Frequency'].apply(FMScore,args=('Frequency',quantiles,))\n",
        "rfm_seg['M score']=rfm_seg['Monetary'].apply(FMScore,args=('Monetary',quantiles,))\n",
        "rfm_seg"
      ]
    },
    {
      "cell_type": "code",
      "execution_count": null,
      "metadata": {
        "id": "OB4EBK4GsGLG",
        "outputId": "446290ef-3b6a-4ccb-d0ff-15a733e06d69"
      },
      "outputs": [
        {
          "data": {
            "text/html": [
              "<div>\n",
              "<style scoped>\n",
              "    .dataframe tbody tr th:only-of-type {\n",
              "        vertical-align: middle;\n",
              "    }\n",
              "\n",
              "    .dataframe tbody tr th {\n",
              "        vertical-align: top;\n",
              "    }\n",
              "\n",
              "    .dataframe thead th {\n",
              "        text-align: right;\n",
              "    }\n",
              "</style>\n",
              "<table border=\"1\" class=\"dataframe\">\n",
              "  <thead>\n",
              "    <tr style=\"text-align: right;\">\n",
              "      <th></th>\n",
              "      <th>CustomerID</th>\n",
              "      <th>Recency</th>\n",
              "      <th>Frequency</th>\n",
              "      <th>Monetary</th>\n",
              "      <th>R score</th>\n",
              "      <th>F score</th>\n",
              "      <th>M score</th>\n",
              "      <th>RFM score</th>\n",
              "    </tr>\n",
              "  </thead>\n",
              "  <tbody>\n",
              "    <tr>\n",
              "      <th>0</th>\n",
              "      <td>12747.0</td>\n",
              "      <td>39</td>\n",
              "      <td>5</td>\n",
              "      <td>1760.09</td>\n",
              "      <td>2</td>\n",
              "      <td>1</td>\n",
              "      <td>1</td>\n",
              "      <td>211</td>\n",
              "    </tr>\n",
              "    <tr>\n",
              "      <th>1</th>\n",
              "      <td>12748.0</td>\n",
              "      <td>0</td>\n",
              "      <td>104</td>\n",
              "      <td>12334.33</td>\n",
              "      <td>1</td>\n",
              "      <td>1</td>\n",
              "      <td>1</td>\n",
              "      <td>111</td>\n",
              "    </tr>\n",
              "    <tr>\n",
              "      <th>2</th>\n",
              "      <td>12749.0</td>\n",
              "      <td>43</td>\n",
              "      <td>6</td>\n",
              "      <td>2532.55</td>\n",
              "      <td>2</td>\n",
              "      <td>1</td>\n",
              "      <td>1</td>\n",
              "      <td>211</td>\n",
              "    </tr>\n",
              "    <tr>\n",
              "      <th>3</th>\n",
              "      <td>12820.0</td>\n",
              "      <td>4</td>\n",
              "      <td>1</td>\n",
              "      <td>217.77</td>\n",
              "      <td>1</td>\n",
              "      <td>4</td>\n",
              "      <td>4</td>\n",
              "      <td>144</td>\n",
              "    </tr>\n",
              "    <tr>\n",
              "      <th>4</th>\n",
              "      <td>12821.0</td>\n",
              "      <td>144</td>\n",
              "      <td>1</td>\n",
              "      <td>92.72</td>\n",
              "      <td>4</td>\n",
              "      <td>4</td>\n",
              "      <td>4</td>\n",
              "      <td>444</td>\n",
              "    </tr>\n",
              "    <tr>\n",
              "      <th>...</th>\n",
              "      <td>...</td>\n",
              "      <td>...</td>\n",
              "      <td>...</td>\n",
              "      <td>...</td>\n",
              "      <td>...</td>\n",
              "      <td>...</td>\n",
              "      <td>...</td>\n",
              "      <td>...</td>\n",
              "    </tr>\n",
              "    <tr>\n",
              "      <th>2885</th>\n",
              "      <td>18280.0</td>\n",
              "      <td>207</td>\n",
              "      <td>1</td>\n",
              "      <td>180.60</td>\n",
              "      <td>4</td>\n",
              "      <td>4</td>\n",
              "      <td>4</td>\n",
              "      <td>444</td>\n",
              "    </tr>\n",
              "    <tr>\n",
              "      <th>2886</th>\n",
              "      <td>18281.0</td>\n",
              "      <td>110</td>\n",
              "      <td>1</td>\n",
              "      <td>80.82</td>\n",
              "      <td>3</td>\n",
              "      <td>4</td>\n",
              "      <td>4</td>\n",
              "      <td>344</td>\n",
              "    </tr>\n",
              "    <tr>\n",
              "      <th>2887</th>\n",
              "      <td>18282.0</td>\n",
              "      <td>52</td>\n",
              "      <td>2</td>\n",
              "      <td>98.76</td>\n",
              "      <td>3</td>\n",
              "      <td>3</td>\n",
              "      <td>4</td>\n",
              "      <td>334</td>\n",
              "    </tr>\n",
              "    <tr>\n",
              "      <th>2888</th>\n",
              "      <td>18283.0</td>\n",
              "      <td>25</td>\n",
              "      <td>7</td>\n",
              "      <td>802.77</td>\n",
              "      <td>2</td>\n",
              "      <td>1</td>\n",
              "      <td>2</td>\n",
              "      <td>212</td>\n",
              "    </tr>\n",
              "    <tr>\n",
              "      <th>2889</th>\n",
              "      <td>18287.0</td>\n",
              "      <td>131</td>\n",
              "      <td>1</td>\n",
              "      <td>765.28</td>\n",
              "      <td>4</td>\n",
              "      <td>4</td>\n",
              "      <td>2</td>\n",
              "      <td>442</td>\n",
              "    </tr>\n",
              "  </tbody>\n",
              "</table>\n",
              "<p>2890 rows × 8 columns</p>\n",
              "</div>"
            ],
            "text/plain": [
              "      CustomerID  Recency  Frequency  Monetary  R score  F score  M score  \\\n",
              "0        12747.0       39          5   1760.09        2        1        1   \n",
              "1        12748.0        0        104  12334.33        1        1        1   \n",
              "2        12749.0       43          6   2532.55        2        1        1   \n",
              "3        12820.0        4          1    217.77        1        4        4   \n",
              "4        12821.0      144          1     92.72        4        4        4   \n",
              "...          ...      ...        ...       ...      ...      ...      ...   \n",
              "2885     18280.0      207          1    180.60        4        4        4   \n",
              "2886     18281.0      110          1     80.82        3        4        4   \n",
              "2887     18282.0       52          2     98.76        3        3        4   \n",
              "2888     18283.0       25          7    802.77        2        1        2   \n",
              "2889     18287.0      131          1    765.28        4        4        2   \n",
              "\n",
              "     RFM score  \n",
              "0          211  \n",
              "1          111  \n",
              "2          211  \n",
              "3          144  \n",
              "4          444  \n",
              "...        ...  \n",
              "2885       444  \n",
              "2886       344  \n",
              "2887       334  \n",
              "2888       212  \n",
              "2889       442  \n",
              "\n",
              "[2890 rows x 8 columns]"
            ]
          },
          "execution_count": 60,
          "metadata": {},
          "output_type": "execute_result"
        }
      ],
      "source": [
        "rfm_seg['RFM score']=rfm_seg['R score'].astype(str)+rfm_seg['F score'].astype(str)+rfm_seg['M score'].astype(str)\n",
        "rfm_seg"
      ]
    },
    {
      "cell_type": "code",
      "execution_count": null,
      "metadata": {
        "id": "blHibuc9sGLH",
        "outputId": "b9fc4d56-98b2-4ba0-9cab-7d54d93f9944"
      },
      "outputs": [
        {
          "data": {
            "text/html": [
              "<div>\n",
              "<style scoped>\n",
              "    .dataframe tbody tr th:only-of-type {\n",
              "        vertical-align: middle;\n",
              "    }\n",
              "\n",
              "    .dataframe tbody tr th {\n",
              "        vertical-align: top;\n",
              "    }\n",
              "\n",
              "    .dataframe thead th {\n",
              "        text-align: right;\n",
              "    }\n",
              "</style>\n",
              "<table border=\"1\" class=\"dataframe\">\n",
              "  <thead>\n",
              "    <tr style=\"text-align: right;\">\n",
              "      <th></th>\n",
              "      <th>CustomerID</th>\n",
              "      <th>Recency</th>\n",
              "      <th>Frequency</th>\n",
              "      <th>Monetary</th>\n",
              "      <th>R score</th>\n",
              "      <th>F score</th>\n",
              "      <th>M score</th>\n",
              "      <th>RFM score</th>\n",
              "    </tr>\n",
              "  </thead>\n",
              "  <tbody>\n",
              "    <tr>\n",
              "      <th>2786</th>\n",
              "      <td>18102.0</td>\n",
              "      <td>2</td>\n",
              "      <td>36</td>\n",
              "      <td>138570.51</td>\n",
              "      <td>1</td>\n",
              "      <td>1</td>\n",
              "      <td>1</td>\n",
              "      <td>111</td>\n",
              "    </tr>\n",
              "    <tr>\n",
              "      <th>2456</th>\n",
              "      <td>17450.0</td>\n",
              "      <td>0</td>\n",
              "      <td>35</td>\n",
              "      <td>134629.40</td>\n",
              "      <td>1</td>\n",
              "      <td>1</td>\n",
              "      <td>1</td>\n",
              "      <td>111</td>\n",
              "    </tr>\n",
              "    <tr>\n",
              "      <th>2483</th>\n",
              "      <td>17511.0</td>\n",
              "      <td>3</td>\n",
              "      <td>25</td>\n",
              "      <td>45851.93</td>\n",
              "      <td>1</td>\n",
              "      <td>1</td>\n",
              "      <td>1</td>\n",
              "      <td>111</td>\n",
              "    </tr>\n",
              "    <tr>\n",
              "      <th>2718</th>\n",
              "      <td>17949.0</td>\n",
              "      <td>0</td>\n",
              "      <td>37</td>\n",
              "      <td>45305.82</td>\n",
              "      <td>1</td>\n",
              "      <td>1</td>\n",
              "      <td>1</td>\n",
              "      <td>111</td>\n",
              "    </tr>\n",
              "    <tr>\n",
              "      <th>478</th>\n",
              "      <td>13694.0</td>\n",
              "      <td>1</td>\n",
              "      <td>39</td>\n",
              "      <td>38589.38</td>\n",
              "      <td>1</td>\n",
              "      <td>1</td>\n",
              "      <td>1</td>\n",
              "      <td>111</td>\n",
              "    </tr>\n",
              "    <tr>\n",
              "      <th>...</th>\n",
              "      <td>...</td>\n",
              "      <td>...</td>\n",
              "      <td>...</td>\n",
              "      <td>...</td>\n",
              "      <td>...</td>\n",
              "      <td>...</td>\n",
              "      <td>...</td>\n",
              "      <td>...</td>\n",
              "    </tr>\n",
              "    <tr>\n",
              "      <th>2417</th>\n",
              "      <td>17377.0</td>\n",
              "      <td>4</td>\n",
              "      <td>6</td>\n",
              "      <td>1202.44</td>\n",
              "      <td>1</td>\n",
              "      <td>1</td>\n",
              "      <td>1</td>\n",
              "      <td>111</td>\n",
              "    </tr>\n",
              "    <tr>\n",
              "      <th>1017</th>\n",
              "      <td>14696.0</td>\n",
              "      <td>1</td>\n",
              "      <td>5</td>\n",
              "      <td>1183.43</td>\n",
              "      <td>1</td>\n",
              "      <td>1</td>\n",
              "      <td>1</td>\n",
              "      <td>111</td>\n",
              "    </tr>\n",
              "    <tr>\n",
              "      <th>1612</th>\n",
              "      <td>15827.0</td>\n",
              "      <td>3</td>\n",
              "      <td>13</td>\n",
              "      <td>1167.96</td>\n",
              "      <td>1</td>\n",
              "      <td>1</td>\n",
              "      <td>1</td>\n",
              "      <td>111</td>\n",
              "    </tr>\n",
              "    <tr>\n",
              "      <th>1756</th>\n",
              "      <td>16115.0</td>\n",
              "      <td>2</td>\n",
              "      <td>5</td>\n",
              "      <td>1154.19</td>\n",
              "      <td>1</td>\n",
              "      <td>1</td>\n",
              "      <td>1</td>\n",
              "      <td>111</td>\n",
              "    </tr>\n",
              "    <tr>\n",
              "      <th>1538</th>\n",
              "      <td>15696.0</td>\n",
              "      <td>2</td>\n",
              "      <td>8</td>\n",
              "      <td>1147.34</td>\n",
              "      <td>1</td>\n",
              "      <td>1</td>\n",
              "      <td>1</td>\n",
              "      <td>111</td>\n",
              "    </tr>\n",
              "  </tbody>\n",
              "</table>\n",
              "<p>246 rows × 8 columns</p>\n",
              "</div>"
            ],
            "text/plain": [
              "      CustomerID  Recency  Frequency   Monetary  R score  F score  M score  \\\n",
              "2786     18102.0        2         36  138570.51        1        1        1   \n",
              "2456     17450.0        0         35  134629.40        1        1        1   \n",
              "2483     17511.0        3         25   45851.93        1        1        1   \n",
              "2718     17949.0        0         37   45305.82        1        1        1   \n",
              "478      13694.0        1         39   38589.38        1        1        1   \n",
              "...          ...      ...        ...        ...      ...      ...      ...   \n",
              "2417     17377.0        4          6    1202.44        1        1        1   \n",
              "1017     14696.0        1          5    1183.43        1        1        1   \n",
              "1612     15827.0        3         13    1167.96        1        1        1   \n",
              "1756     16115.0        2          5    1154.19        1        1        1   \n",
              "1538     15696.0        2          8    1147.34        1        1        1   \n",
              "\n",
              "     RFM score  \n",
              "2786       111  \n",
              "2456       111  \n",
              "2483       111  \n",
              "2718       111  \n",
              "478        111  \n",
              "...        ...  \n",
              "2417       111  \n",
              "1017       111  \n",
              "1612       111  \n",
              "1756       111  \n",
              "1538       111  \n",
              "\n",
              "[246 rows x 8 columns]"
            ]
          },
          "execution_count": 71,
          "metadata": {},
          "output_type": "execute_result"
        }
      ],
      "source": [
        "# Filter out Top/Best cusotmers\n",
        "rfm_seg[rfm_seg['RFM score']=='111'].sort_values(by='Monetary', ascending=False)"
      ]
    },
    {
      "cell_type": "code",
      "execution_count": null,
      "metadata": {
        "id": "hWLeyxwhsGLH",
        "outputId": "73652a72-7a03-4f93-8589-31b29453cd1f"
      },
      "outputs": [
        {
          "name": "stdout",
          "output_type": "stream",
          "text": [
            "Best Customers:  246\n",
            "Loyal Customers:  622\n",
            "Big Spenders:  723\n",
            "Most Recent Customers 732\n",
            "Almost Lost Customers:  49\n",
            "Lost Customers:  3\n",
            "Lost Cheap Customers:  295\n"
          ]
        }
      ],
      "source": [
        "print(\"Best Customers: \",len(rfm_seg[rfm_seg['RFM score']=='111']))\n",
        "print('Loyal Customers: ',len(rfm_seg[rfm_seg['F score']==1]))\n",
        "print(\"Big Spenders: \",len(rfm_seg[rfm_seg['M score']==1]))\n",
        "print(\"Most Recent Customers\",len(rfm_seg[rfm_seg['R score']==1]))\n",
        "print('Almost Lost Customers: ',len(rfm_seg[rfm_seg['RFM score']=='311']))\n",
        "print('Lost Customers: ',len(rfm_seg[rfm_seg['RFM score']=='411']))\n",
        "print('Lost Cheap Customers: ',len(rfm_seg[rfm_seg['RFM score']=='444']))"
      ]
    },
    {
      "cell_type": "markdown",
      "metadata": {
        "id": "K35BJXUvsGLH"
      },
      "source": [
        "**Segment\tRFM\tDescription\tMarketing**\n",
        "\n",
        "* Best Customers\t111\tCustomers who bought most recently, most often and spend the most.\tNo price incentives, New products and loyalty programs\n",
        "* Loyal Customers\tX1X\tCustomers who bought most recently\tUse R and M to further segment.\n",
        "* Big Spenders\tXX1\tCustomers who spend the most\tMarket your most expensive products.\n",
        "* Almost Lost\t311\tHaven't purchased for some time, but purchased frequently and spend the most.\tAgressive price incentives\n",
        "* Lost Customers\t411\tHaven't purchased for some time, but purchased frequently and spend the most.\tAgressive price incentives.\n",
        "* Lost Cheap Customers\t444\tLast purchase long ago, purchased few and spend little.\tDon't spend too much trying to re-acquire."
      ]
    },
    {
      "cell_type": "code",
      "execution_count": null,
      "metadata": {
        "id": "FYf0G_8LsGLH"
      },
      "outputs": [],
      "source": []
    }
  ],
  "metadata": {
    "kernelspec": {
      "display_name": "Python 3",
      "language": "python",
      "name": "python3"
    },
    "language_info": {
      "codemirror_mode": {
        "name": "ipython",
        "version": 3
      },
      "file_extension": ".py",
      "mimetype": "text/x-python",
      "name": "python",
      "nbconvert_exporter": "python",
      "pygments_lexer": "ipython3",
      "version": "3.7.4"
    },
    "colab": {
      "provenance": [],
      "toc_visible": true,
      "include_colab_link": true
    }
  },
  "nbformat": 4,
  "nbformat_minor": 0
}